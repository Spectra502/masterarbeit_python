{
 "cells": [
  {
   "cell_type": "code",
   "execution_count": 1,
   "id": "e019071b-b915-4e05-93ac-b1d4ccc67773",
   "metadata": {},
   "outputs": [],
   "source": [
    "targetFolderHBK = r\"H:\\Extracted_Features\\HBK\\HBK_14285Hz_highpass_all_features\\features\"\n",
    "targetFolderSIZA = r\"H:\\Extracted_Features\\SIZA\\SIZA_highpass_all_features\\features\"\n",
    "targetFolderMCC5 = r\"H:\\Extracted_Features\\MCC5\\MCC5_12800Hz_highpass_all_features_motor_vibration_x\\features\"\n",
    "normalization_method = \"z_score\""
   ]
  },
  {
   "cell_type": "code",
   "execution_count": 2,
   "id": "7809eebb-5b11-4ee7-8389-bf902235c298",
   "metadata": {},
   "outputs": [],
   "source": [
    "domains_to_use = ['time']\n",
    "\n",
    "experiment_name = f\"{domains_to_use[0]}_highpass_data_analysis_binary\"\n",
    "project_name=f\"{domains_to_use[0]}_highpass_data_analysis_binary\",\n",
    "run_name=f\"{domains_to_use[0]}_highpass_data_analysis_binary\"\n",
    "domain=domains_to_use[0]"
   ]
  },
  {
   "cell_type": "code",
   "execution_count": 3,
   "id": "0e249f7c-b81e-4994-b36a-1aa44222e524",
   "metadata": {},
   "outputs": [],
   "source": [
    "binary_classification=True\n",
    "plot_histograms_choice=False\n",
    "include_augmentations=False"
   ]
  },
  {
   "cell_type": "markdown",
   "id": "9b24c9ea-6eb1-4abc-a4a4-735cf1178187",
   "metadata": {},
   "source": [
    "# Environment Setup & Imports"
   ]
  },
  {
   "cell_type": "code",
   "execution_count": 4,
   "id": "0eaba3c8-a35f-4004-b6a5-a62b3eec640f",
   "metadata": {},
   "outputs": [],
   "source": [
    "import os\n",
    "import pandas as pd\n",
    "import glob\n",
    "import seaborn as sns\n",
    "import matplotlib.pyplot as plt\n",
    "import matplotlib.patches as mpatches\n",
    "import pickle\n",
    "import numpy as np\n",
    "import mlflow\n",
    "from pytorch_lightning.loggers import MLFlowLogger\n",
    "from scipy import stats\n",
    "from sklearn.preprocessing import MinMaxScaler, StandardScaler, RobustScaler\n",
    "from sklearn.metrics import accuracy_score, balanced_accuracy_score, hamming_loss, hinge_loss, jaccard_score, log_loss, precision_score, recall_score, f1_score, make_scorer\n",
    "from pathlib import Path\n",
    "from pycaret.classification import * \n",
    "from torch import tensor\n",
    "from torchmetrics.classification import BinaryAccuracy, MulticlassAccuracy\n",
    "import optuna\n",
    "import torch\n",
    "from sklearn.model_selection import train_test_split\n",
    "from pytorch_tabular import TabularModel\n",
    "from pytorch_tabular.models import GANDALFConfig, CategoryEmbeddingModel,GatedAdditiveTreeEnsembleConfig, NodeConfig, FTTransformerConfig, TabNetModelConfig\n",
    "from pytorch_tabular.config import (\n",
    "    DataConfig,\n",
    "    OptimizerConfig,\n",
    "    ModelConfig,\n",
    "    TrainerConfig,\n",
    "    ExperimentConfig,\n",
    ")\n",
    "from collections import Counter\n",
    "from data_loader import load_feature_data"
   ]
  },
  {
   "cell_type": "markdown",
   "id": "44c07525-c8ce-4a2e-934f-0668742e7458",
   "metadata": {
    "jp-MarkdownHeadingCollapsed": true
   },
   "source": [
    "## Helper Functions"
   ]
  },
  {
   "cell_type": "code",
   "execution_count": 5,
   "id": "fc157dd0-a48e-49e6-8fb1-6d699efadd4c",
   "metadata": {},
   "outputs": [],
   "source": [
    "def select_features_by_domain(domains: list, available_features: dict = None) -> list:\n",
    "    \"\"\"\n",
    "    Selects a list of features based on the specified domains.\n",
    "\n",
    "    Args:\n",
    "        domains: A list of domain names (e.g., ['time', 'frequency']).\n",
    "        available_features: A dictionary mapping domain names (keys) to \n",
    "                            lists of features (values). If None, uses a \n",
    "                            default dictionary.\n",
    "\n",
    "    Returns:\n",
    "        A flat list of all selected features.\n",
    "    \"\"\"\n",
    "    # Define the complete feature set structure\n",
    "    if available_features is None:\n",
    "        available_features = {\n",
    "            'time': ['rms', 'std', 'crest', 'energy', 'entropy'],\n",
    "            'frequency': ['meanFreq', 'medianFreq', 'spectral_entropy', 'spectral_skewness'],\n",
    "            # Assuming 'Time-Frequency' is referred to by a simpler domain name, \n",
    "            # or you can keep the full name\n",
    "            'time-frequency': ['meanWavelet', 'varWavelet', 'entropyWavelet', 'entropySpectrogram']\n",
    "        }\n",
    "\n",
    "    selected_features = []\n",
    "    \n",
    "    # Iterate over the requested domains and extend the list\n",
    "    for domain in domains:\n",
    "        # Convert domain to lowercase for case-insensitive matching\n",
    "        domain_key = domain.lower().replace('_', '-').strip()\n",
    "        \n",
    "        if domain_key in available_features:\n",
    "            selected_features.extend(available_features[domain_key])\n",
    "        else:\n",
    "            print(f\"Warning: Domain '{domain}' not recognized in available features.\") # Optional warning\n",
    "\n",
    "    # Return only unique features in case of overlap (though unlikely here)\n",
    "    return list(set(selected_features))"
   ]
  },
  {
   "cell_type": "code",
   "execution_count": 6,
   "id": "97076d04-699a-4b1a-86af-2ac0fa868edf",
   "metadata": {},
   "outputs": [],
   "source": [
    "features_to_include = select_features_by_domain(domains=domains_to_use)"
   ]
  },
  {
   "cell_type": "code",
   "execution_count": 7,
   "id": "36142c5b-bcac-4fbc-a2a5-12301f68fa37",
   "metadata": {},
   "outputs": [],
   "source": [
    "def plotHistograms(dataframe, normalization):\n",
    "    for col in dataframe.columns:\n",
    "        if col == \"Label\":\n",
    "            continue\n",
    "        plt.figure(figsize=(8, 4))\n",
    "        sns.histplot(data = dataframe, x=col, hue='Label', kde=True, multiple='layer', element='step', alpha=0.5)\n",
    "        plt.title(f\"Distribution of {col} with {normalization}\")\n",
    "        plt.show()"
   ]
  },
  {
   "cell_type": "code",
   "execution_count": 8,
   "id": "2758484f-d1a4-477c-a32f-e760037badc2",
   "metadata": {},
   "outputs": [],
   "source": [
    "def normalizeDataframe(dataframe, normalization_method):\n",
    "    \"\"\"\n",
    "    Normalizes the features of a dataframe using a specified method.\n",
    "\n",
    "    Args:\n",
    "        dataframe (pd.DataFrame): The input dataframe with a 'Label' column.\n",
    "        normalization_method (str): The method to use (\"min_max\", \"z_score\", \"robust_scaling\").\n",
    "\n",
    "    Returns:\n",
    "        pd.DataFrame: The dataframe with scaled features.\n",
    "    \"\"\"\n",
    "    # Separate features (X) and the target variable (y)\n",
    "    y = dataframe['Label']\n",
    "    X = dataframe.drop(columns=['Label'])\n",
    "\n",
    "    # Select the scaler based on the chosen method\n",
    "    if normalization_method == \"min_max\":\n",
    "        scaler = MinMaxScaler()\n",
    "    elif normalization_method == \"z_score\":\n",
    "        scaler = StandardScaler()\n",
    "    elif normalization_method == \"robust_scaling\":\n",
    "        scaler = RobustScaler()\n",
    "    else:\n",
    "        # Raise an error for an invalid method name\n",
    "        raise ValueError(f\"Unknown normalization_method: '{normalization_method}'\")\n",
    "\n",
    "    # Fit the scaler to the data and transform it\n",
    "    X_scaled = pd.DataFrame(\n",
    "        scaler.fit_transform(X),\n",
    "        columns=X.columns,\n",
    "        index=X.index\n",
    "    )\n",
    "\n",
    "    # Rejoin the scaled features with the label column\n",
    "    df_scaled = X_scaled.join(y)\n",
    "    \n",
    "    return df_scaled"
   ]
  },
  {
   "cell_type": "code",
   "execution_count": 9,
   "id": "44aae2d5-3c4b-4bbb-bbbc-6621172653d9",
   "metadata": {},
   "outputs": [],
   "source": [
    "def plotPredictionHistograms(df, normalization):\n",
    "    # 1) mark correct vs incorrect\n",
    "    df = df.copy()\n",
    "    df['prediction_quality'] = np.where(\n",
    "        df['Label'] == df['prediction_label'],\n",
    "        'correct',\n",
    "        'incorrect'\n",
    "    )\n",
    "    \n",
    "    # 2) choose a palette (you can override these colors if you like)\n",
    "    pal = dict(zip(\n",
    "        ['correct','incorrect'],\n",
    "        sns.color_palette(n_colors=2)\n",
    "    ))\n",
    "    \n",
    "    skip = {'Label','prediction_label','prediction_score','prediction_quality'}\n",
    "    for col in df.columns:\n",
    "        if col in skip:\n",
    "            continue\n",
    "        \n",
    "        fig, ax = plt.subplots(figsize=(8,4))\n",
    "        sns.histplot(\n",
    "            data=df, x=col, hue='prediction_quality',\n",
    "            palette=pal,\n",
    "            kde=True, multiple='layer', element='step',\n",
    "            alpha=0.5,\n",
    "            ax=ax\n",
    "        )\n",
    "        \n",
    "        # 3) build a manual legend using the same palette\n",
    "        handles = [\n",
    "            mpatches.Patch(color=pal[k], label=k)\n",
    "            for k in ['correct','incorrect']\n",
    "        ]\n",
    "        ax.legend(\n",
    "            handles=handles,\n",
    "            title='Prediction Quality'\n",
    "        )\n",
    "        \n",
    "        ax.set_title(\n",
    "            f\"Distribution of {col}\\n\"\n",
    "            f\"(normalization = '{normalization}')\"\n",
    "        )\n",
    "        ax.set_xlabel(col)\n",
    "        ax.set_ylabel(\"Count\")\n",
    "        plt.tight_layout()\n",
    "        plt.show()"
   ]
  },
  {
   "cell_type": "code",
   "execution_count": 10,
   "id": "e7180ffc-82c3-4100-a659-90dfe8bdeff7",
   "metadata": {},
   "outputs": [],
   "source": [
    "def get_incorrect_predictions(df):\n",
    "    return df[\n",
    "        ((df['Label'] == 'damaged')   & (df['prediction_label'] == 'healthy'))\n",
    "      | ((df['Label'] == 'healthy')  & (df['prediction_label'] == 'damaged'))\n",
    "    ].copy()"
   ]
  },
  {
   "cell_type": "code",
   "execution_count": 11,
   "id": "a6effaf0-7730-46e4-9b29-a6133fc41f88",
   "metadata": {},
   "outputs": [],
   "source": [
    "def get_feature_importance_df(model, df):\n",
    "    importance = model.feature_importances_\n",
    "    n = len(importance)\n",
    "    features = df.columns[:n]\n",
    "    fi_df = pd.DataFrame({\n",
    "        'Features': features,\n",
    "        'importance': importance\n",
    "    })\n",
    "    return fi_df.sort_values(by='importance', ascending=False).reset_index(drop=True)"
   ]
  },
  {
   "cell_type": "code",
   "execution_count": 12,
   "id": "d896eca8-c332-4e1a-8643-647da5fb5650",
   "metadata": {},
   "outputs": [],
   "source": [
    "def get_svm_feature_importance_df(model, df):\n",
    "    if not hasattr(model, 'coef_'):\n",
    "        raise ValueError(\"This SVM model has no coefficients. Use a linear kernel.\")\n",
    "    \n",
    "    importance = model.coef_.ravel()  # Flatten in case of binary classification\n",
    "    n = len(importance)\n",
    "    features = df.columns[:n]\n",
    "    fi_df = pd.DataFrame({\n",
    "        'Features': features,\n",
    "        'importance': abs(importance)\n",
    "    })\n",
    "    return fi_df.sort_values(by='importance', ascending=False).reset_index(drop=True)\n"
   ]
  },
  {
   "cell_type": "code",
   "execution_count": 13,
   "id": "2f3ffb6f-eed8-4a5d-9b91-737370fc234a",
   "metadata": {},
   "outputs": [],
   "source": [
    "feature_counter = Counter()\n",
    "def add_top_features(feature_df: pd.DataFrame, top_n: int):\n",
    "    top_features = feature_df.nlargest(top_n, 'importance')['Features']\n",
    "    feature_counter.update(top_features)\n",
    "    \n",
    "def plot_feature_importance():\n",
    "    feature_freq = pd.DataFrame(feature_counter.items(), columns=['Feature', 'Count'])\n",
    "    plt.figure(figsize=(10, 5))\n",
    "    sns.barplot(data=feature_freq.sort_values(by='Count', ascending=False),\n",
    "                x='Feature', y='Count')\n",
    "    plt.xticks(rotation=45)\n",
    "    plt.title('Feature Frequency Across Experiments')\n",
    "    plt.tight_layout()\n",
    "    plt.show()"
   ]
  },
  {
   "cell_type": "code",
   "execution_count": 14,
   "id": "a832c8d9-b20a-4f3e-8541-aaa035289c3d",
   "metadata": {},
   "outputs": [],
   "source": [
    "def save_feature_counter(exp_name: str, folder: str = f\"top_features_{experiment_name}\"):\n",
    "    os.makedirs(folder, exist_ok=True)\n",
    "    filepath = os.path.join(folder, f\"{exp_name}_features.csv\")\n",
    "    df = pd.DataFrame(feature_counter.items(), columns=['Feature', 'Count'])\n",
    "    df.to_csv(filepath, index=False)"
   ]
  },
  {
   "cell_type": "markdown",
   "id": "bb7dc31c-45ef-49c4-9f58-7890b966ccd7",
   "metadata": {},
   "source": [
    "## Import Dataset"
   ]
  },
  {
   "cell_type": "code",
   "execution_count": 15,
   "id": "f13cd2ff-10b7-4db8-9fc8-f968e9c5324f",
   "metadata": {},
   "outputs": [
    {
     "name": "stdout",
     "output_type": "stream",
     "text": [
      "Applied binary classification: 'healthy' vs 'damaged'.\n",
      "Selected specific features: ['crest', 'rms', 'entropy', 'std', 'energy']\n",
      "Dropped 'Speed' and 'Torque' columns.\n"
     ]
    }
   ],
   "source": [
    "df_HBK = load_feature_data(\n",
    "    features_path=targetFolderHBK,\n",
    "    include_augmentations=include_augmentations,      # Only 'original' data\n",
    "    include_speed_torque=False,       # Drop operating conditions\n",
    "    binary_classification=binary_classification,       # 'healthy' vs 'damaged'\n",
    "    features_to_include=features_to_include\n",
    ")"
   ]
  },
  {
   "cell_type": "code",
   "execution_count": 16,
   "id": "e32a76ce-09d2-4591-a327-67f1ae355252",
   "metadata": {},
   "outputs": [
    {
     "name": "stdout",
     "output_type": "stream",
     "text": [
      "Applied binary classification: 'healthy' vs 'damaged'.\n",
      "Selected specific features: ['crest', 'rms', 'entropy', 'std', 'energy']\n",
      "Dropped 'Speed' and 'Torque' columns.\n"
     ]
    }
   ],
   "source": [
    "df_SIZA = load_feature_data(\n",
    "    features_path=targetFolderSIZA,\n",
    "    include_augmentations=include_augmentations,      # Only 'original' data\n",
    "    include_speed_torque=False,       # Drop operating conditions\n",
    "    binary_classification=binary_classification,       # 'healthy' vs 'damaged'\n",
    "    features_to_include=features_to_include\n",
    ")"
   ]
  },
  {
   "cell_type": "code",
   "execution_count": 17,
   "id": "116a4c18-7225-41a2-a4ef-b3de69bba1cb",
   "metadata": {},
   "outputs": [
    {
     "name": "stdout",
     "output_type": "stream",
     "text": [
      "Applied binary classification: 'healthy' vs 'damaged'.\n",
      "Selected specific features: ['crest', 'rms', 'entropy', 'std', 'energy']\n",
      "Dropped 'Speed' and 'Torque' columns.\n"
     ]
    }
   ],
   "source": [
    "df_MCC5 = load_feature_data(\n",
    "    features_path=targetFolderMCC5,\n",
    "    include_augmentations=include_augmentations,      # Only 'original' data\n",
    "    include_speed_torque=False,       # Drop operating conditions\n",
    "    binary_classification=binary_classification,       # 'healthy' vs 'damaged'\n",
    "    features_to_include=features_to_include\n",
    ")"
   ]
  },
  {
   "cell_type": "code",
   "execution_count": 18,
   "id": "92430be2-7f15-4497-b818-a622788d372e",
   "metadata": {},
   "outputs": [],
   "source": [
    "combined_df = pd.concat([df_HBK, df_SIZA, df_MCC5], ignore_index=True)"
   ]
  },
  {
   "cell_type": "code",
   "execution_count": 19,
   "id": "66fe057f-760e-4602-b86a-50acd2b3b61c",
   "metadata": {},
   "outputs": [],
   "source": [
    "normalized_df = normalizeDataframe(combined_df, normalization_method)"
   ]
  },
  {
   "cell_type": "code",
   "execution_count": 20,
   "id": "58f260b0-c566-4ceb-a763-7917858e5ebf",
   "metadata": {},
   "outputs": [],
   "source": [
    "features_df_training_normalized, features_df_testing_normalized = train_test_split(\n",
    "    normalized_df, \n",
    "    test_size=0.2,    # e.g., 20% for testing\n",
    "    random_state=42   # for reproducibility\n",
    ")"
   ]
  },
  {
   "cell_type": "markdown",
   "id": "d80a77c7-3b9b-4182-afaf-2dd32f4dc47f",
   "metadata": {
    "jp-MarkdownHeadingCollapsed": true
   },
   "source": [
    "# Histograms"
   ]
  },
  {
   "cell_type": "markdown",
   "id": "55dea7e8-0f3d-46ed-8cef-156cb29a2692",
   "metadata": {
    "jp-MarkdownHeadingCollapsed": true
   },
   "source": [
    "## Histograms Training and Testing [NO-Normalization]"
   ]
  },
  {
   "cell_type": "code",
   "execution_count": 21,
   "id": "8005317c-db72-46e5-b9ec-ff1e778b7144",
   "metadata": {
    "scrolled": true
   },
   "outputs": [],
   "source": [
    "if (plot_histograms_choice):\n",
    "    plotHistograms(combined_df, normalization_method)"
   ]
  },
  {
   "cell_type": "markdown",
   "id": "408ca08d-1169-43f1-b0ab-01b9db24bcbc",
   "metadata": {
    "jp-MarkdownHeadingCollapsed": true
   },
   "source": [
    "## Histograms Training and Testing [Z-Score Normalization]"
   ]
  },
  {
   "cell_type": "code",
   "execution_count": 22,
   "id": "2bdaa7c1-df2b-4dfd-936b-07237331b496",
   "metadata": {},
   "outputs": [],
   "source": [
    "if (plot_histograms_choice):\n",
    "    plotHistograms(normalized_df, normalization_method)"
   ]
  },
  {
   "cell_type": "markdown",
   "id": "fd27e3ca-e055-4837-9084-3b94820aec39",
   "metadata": {},
   "source": [
    "# Experiment Setup (ML)"
   ]
  },
  {
   "cell_type": "markdown",
   "id": "9cb3aea3-e600-4a35-92b7-ea5d9981ebe5",
   "metadata": {},
   "source": [
    "## Setup Hyperparameters"
   ]
  },
  {
   "cell_type": "code",
   "execution_count": 23,
   "id": "8b4ff813-0eb2-45b8-a876-ec6929d1b040",
   "metadata": {
    "scrolled": true
   },
   "outputs": [
    {
     "name": "stdout",
     "output_type": "stream",
     "text": [
      "[LightGBM] [Warning] There are no meaningful features which satisfy the provided configuration. Decreasing Dataset parameters min_data_in_bin or min_data_in_leaf and re-constructing Dataset might resolve this warning.\n",
      "[LightGBM] [Info] Number of positive: 1, number of negative: 1\n",
      "[LightGBM] [Info] This is the GPU trainer!!\n",
      "[LightGBM] [Info] Total Bins 0\n",
      "[LightGBM] [Info] Number of data points in the train set: 2, number of used features: 0\n",
      "[LightGBM] [Info] Using GPU Device: Quadro P620, Vendor: NVIDIA Corporation\n",
      "[LightGBM] [Info] Compiling OpenCL Kernel with 16 bins...\n",
      "[LightGBM] [Info] GPU programs have been built\n",
      "[LightGBM] [Warning] GPU acceleration is disabled because no non-trivial dense features can be found\n",
      "[LightGBM] [Info] [binary:BoostFromScore]: pavg=0.500000 -> initscore=0.000000\n",
      "[LightGBM] [Warning] Stopped training because there are no more leaves that meet the split requirements\n",
      "[LightGBM] [Warning] Stopped training because there are no more leaves that meet the split requirements\n",
      "[LightGBM] [Warning] Stopped training because there are no more leaves that meet the split requirements\n",
      "[LightGBM] [Warning] Stopped training because there are no more leaves that meet the split requirements\n",
      "[LightGBM] [Warning] Stopped training because there are no more leaves that meet the split requirements\n",
      "[LightGBM] [Warning] Stopped training because there are no more leaves that meet the split requirements\n",
      "[LightGBM] [Warning] Stopped training because there are no more leaves that meet the split requirements\n",
      "[LightGBM] [Warning] Stopped training because there are no more leaves that meet the split requirements\n",
      "[LightGBM] [Warning] Stopped training because there are no more leaves that meet the split requirements\n",
      "[LightGBM] [Warning] Stopped training because there are no more leaves that meet the split requirements\n",
      "[LightGBM] [Warning] Stopped training because there are no more leaves that meet the split requirements\n",
      "[LightGBM] [Warning] Stopped training because there are no more leaves that meet the split requirements\n",
      "[LightGBM] [Warning] Stopped training because there are no more leaves that meet the split requirements\n",
      "[LightGBM] [Warning] Stopped training because there are no more leaves that meet the split requirements\n",
      "[LightGBM] [Warning] Stopped training because there are no more leaves that meet the split requirements\n",
      "[LightGBM] [Warning] Stopped training because there are no more leaves that meet the split requirements\n",
      "[LightGBM] [Warning] Stopped training because there are no more leaves that meet the split requirements\n",
      "[LightGBM] [Warning] Stopped training because there are no more leaves that meet the split requirements\n",
      "[LightGBM] [Warning] Stopped training because there are no more leaves that meet the split requirements\n",
      "[LightGBM] [Warning] Stopped training because there are no more leaves that meet the split requirements\n",
      "[LightGBM] [Warning] Stopped training because there are no more leaves that meet the split requirements\n",
      "[LightGBM] [Warning] Stopped training because there are no more leaves that meet the split requirements\n",
      "[LightGBM] [Warning] Stopped training because there are no more leaves that meet the split requirements\n",
      "[LightGBM] [Warning] Stopped training because there are no more leaves that meet the split requirements\n",
      "[LightGBM] [Warning] Stopped training because there are no more leaves that meet the split requirements\n",
      "[LightGBM] [Warning] Stopped training because there are no more leaves that meet the split requirements\n",
      "[LightGBM] [Warning] Stopped training because there are no more leaves that meet the split requirements\n",
      "[LightGBM] [Warning] Stopped training because there are no more leaves that meet the split requirements\n",
      "[LightGBM] [Warning] Stopped training because there are no more leaves that meet the split requirements\n",
      "[LightGBM] [Warning] Stopped training because there are no more leaves that meet the split requirements\n",
      "[LightGBM] [Warning] Stopped training because there are no more leaves that meet the split requirements\n",
      "[LightGBM] [Warning] Stopped training because there are no more leaves that meet the split requirements\n",
      "[LightGBM] [Warning] Stopped training because there are no more leaves that meet the split requirements\n",
      "[LightGBM] [Warning] Stopped training because there are no more leaves that meet the split requirements\n",
      "[LightGBM] [Warning] Stopped training because there are no more leaves that meet the split requirements\n",
      "[LightGBM] [Warning] Stopped training because there are no more leaves that meet the split requirements\n",
      "[LightGBM] [Warning] Stopped training because there are no more leaves that meet the split requirements\n",
      "[LightGBM] [Warning] Stopped training because there are no more leaves that meet the split requirements\n",
      "[LightGBM] [Warning] Stopped training because there are no more leaves that meet the split requirements\n",
      "[LightGBM] [Warning] Stopped training because there are no more leaves that meet the split requirements\n",
      "[LightGBM] [Warning] Stopped training because there are no more leaves that meet the split requirements\n",
      "[LightGBM] [Warning] Stopped training because there are no more leaves that meet the split requirements\n",
      "[LightGBM] [Warning] Stopped training because there are no more leaves that meet the split requirements\n",
      "[LightGBM] [Warning] Stopped training because there are no more leaves that meet the split requirements\n",
      "[LightGBM] [Warning] Stopped training because there are no more leaves that meet the split requirements\n",
      "[LightGBM] [Warning] Stopped training because there are no more leaves that meet the split requirements\n",
      "[LightGBM] [Warning] Stopped training because there are no more leaves that meet the split requirements\n",
      "[LightGBM] [Warning] Stopped training because there are no more leaves that meet the split requirements\n",
      "[LightGBM] [Warning] Stopped training because there are no more leaves that meet the split requirements\n",
      "[LightGBM] [Warning] Stopped training because there are no more leaves that meet the split requirements\n",
      "[LightGBM] [Warning] Stopped training because there are no more leaves that meet the split requirements\n",
      "[LightGBM] [Warning] Stopped training because there are no more leaves that meet the split requirements\n",
      "[LightGBM] [Warning] Stopped training because there are no more leaves that meet the split requirements\n",
      "[LightGBM] [Warning] Stopped training because there are no more leaves that meet the split requirements\n",
      "[LightGBM] [Warning] Stopped training because there are no more leaves that meet the split requirements\n",
      "[LightGBM] [Warning] Stopped training because there are no more leaves that meet the split requirements\n",
      "[LightGBM] [Warning] Stopped training because there are no more leaves that meet the split requirements\n",
      "[LightGBM] [Warning] Stopped training because there are no more leaves that meet the split requirements\n",
      "[LightGBM] [Warning] Stopped training because there are no more leaves that meet the split requirements\n",
      "[LightGBM] [Warning] Stopped training because there are no more leaves that meet the split requirements\n",
      "[LightGBM] [Warning] Stopped training because there are no more leaves that meet the split requirements\n",
      "[LightGBM] [Warning] Stopped training because there are no more leaves that meet the split requirements\n",
      "[LightGBM] [Warning] Stopped training because there are no more leaves that meet the split requirements\n",
      "[LightGBM] [Warning] Stopped training because there are no more leaves that meet the split requirements\n",
      "[LightGBM] [Warning] Stopped training because there are no more leaves that meet the split requirements\n",
      "[LightGBM] [Warning] Stopped training because there are no more leaves that meet the split requirements\n",
      "[LightGBM] [Warning] Stopped training because there are no more leaves that meet the split requirements\n",
      "[LightGBM] [Warning] Stopped training because there are no more leaves that meet the split requirements\n",
      "[LightGBM] [Warning] Stopped training because there are no more leaves that meet the split requirements\n",
      "[LightGBM] [Warning] Stopped training because there are no more leaves that meet the split requirements\n",
      "[LightGBM] [Warning] Stopped training because there are no more leaves that meet the split requirements\n",
      "[LightGBM] [Warning] Stopped training because there are no more leaves that meet the split requirements\n",
      "[LightGBM] [Warning] Stopped training because there are no more leaves that meet the split requirements\n",
      "[LightGBM] [Warning] Stopped training because there are no more leaves that meet the split requirements\n",
      "[LightGBM] [Warning] Stopped training because there are no more leaves that meet the split requirements\n",
      "[LightGBM] [Warning] Stopped training because there are no more leaves that meet the split requirements\n",
      "[LightGBM] [Warning] Stopped training because there are no more leaves that meet the split requirements\n",
      "[LightGBM] [Warning] Stopped training because there are no more leaves that meet the split requirements\n",
      "[LightGBM] [Warning] Stopped training because there are no more leaves that meet the split requirements\n",
      "[LightGBM] [Warning] Stopped training because there are no more leaves that meet the split requirements\n",
      "[LightGBM] [Warning] Stopped training because there are no more leaves that meet the split requirements\n",
      "[LightGBM] [Warning] Stopped training because there are no more leaves that meet the split requirements\n",
      "[LightGBM] [Warning] Stopped training because there are no more leaves that meet the split requirements\n",
      "[LightGBM] [Warning] Stopped training because there are no more leaves that meet the split requirements\n",
      "[LightGBM] [Warning] Stopped training because there are no more leaves that meet the split requirements\n",
      "[LightGBM] [Warning] Stopped training because there are no more leaves that meet the split requirements\n",
      "[LightGBM] [Warning] Stopped training because there are no more leaves that meet the split requirements\n",
      "[LightGBM] [Warning] Stopped training because there are no more leaves that meet the split requirements\n",
      "[LightGBM] [Warning] Stopped training because there are no more leaves that meet the split requirements\n",
      "[LightGBM] [Warning] Stopped training because there are no more leaves that meet the split requirements\n",
      "[LightGBM] [Warning] Stopped training because there are no more leaves that meet the split requirements\n",
      "[LightGBM] [Warning] Stopped training because there are no more leaves that meet the split requirements\n",
      "[LightGBM] [Warning] Stopped training because there are no more leaves that meet the split requirements\n",
      "[LightGBM] [Warning] Stopped training because there are no more leaves that meet the split requirements\n",
      "[LightGBM] [Warning] Stopped training because there are no more leaves that meet the split requirements\n",
      "[LightGBM] [Warning] Stopped training because there are no more leaves that meet the split requirements\n",
      "[LightGBM] [Warning] Stopped training because there are no more leaves that meet the split requirements\n",
      "[LightGBM] [Warning] Stopped training because there are no more leaves that meet the split requirements\n",
      "[LightGBM] [Warning] Stopped training because there are no more leaves that meet the split requirements\n",
      "[LightGBM] [Warning] Stopped training because there are no more leaves that meet the split requirements\n",
      "[LightGBM] [Warning] There are no meaningful features which satisfy the provided configuration. Decreasing Dataset parameters min_data_in_bin or min_data_in_leaf and re-constructing Dataset might resolve this warning.\n",
      "[LightGBM] [Info] Number of positive: 1, number of negative: 1\n",
      "[LightGBM] [Info] This is the GPU trainer!!\n",
      "[LightGBM] [Info] Total Bins 0\n",
      "[LightGBM] [Info] Number of data points in the train set: 2, number of used features: 0\n",
      "[LightGBM] [Info] Using GPU Device: Quadro P620, Vendor: NVIDIA Corporation\n",
      "[LightGBM] [Info] Compiling OpenCL Kernel with 16 bins...\n",
      "[LightGBM] [Info] GPU programs have been built\n",
      "[LightGBM] [Warning] GPU acceleration is disabled because no non-trivial dense features can be found\n",
      "[LightGBM] [Info] [binary:BoostFromScore]: pavg=0.500000 -> initscore=0.000000\n",
      "[LightGBM] [Warning] Stopped training because there are no more leaves that meet the split requirements\n",
      "[LightGBM] [Warning] Stopped training because there are no more leaves that meet the split requirements\n",
      "[LightGBM] [Warning] Stopped training because there are no more leaves that meet the split requirements\n",
      "[LightGBM] [Warning] Stopped training because there are no more leaves that meet the split requirements\n",
      "[LightGBM] [Warning] Stopped training because there are no more leaves that meet the split requirements\n",
      "[LightGBM] [Warning] Stopped training because there are no more leaves that meet the split requirements\n",
      "[LightGBM] [Warning] Stopped training because there are no more leaves that meet the split requirements\n",
      "[LightGBM] [Warning] Stopped training because there are no more leaves that meet the split requirements\n",
      "[LightGBM] [Warning] Stopped training because there are no more leaves that meet the split requirements\n",
      "[LightGBM] [Warning] Stopped training because there are no more leaves that meet the split requirements\n",
      "[LightGBM] [Warning] Stopped training because there are no more leaves that meet the split requirements\n",
      "[LightGBM] [Warning] Stopped training because there are no more leaves that meet the split requirements\n",
      "[LightGBM] [Warning] Stopped training because there are no more leaves that meet the split requirements\n",
      "[LightGBM] [Warning] Stopped training because there are no more leaves that meet the split requirements\n",
      "[LightGBM] [Warning] Stopped training because there are no more leaves that meet the split requirements\n",
      "[LightGBM] [Warning] Stopped training because there are no more leaves that meet the split requirements\n",
      "[LightGBM] [Warning] Stopped training because there are no more leaves that meet the split requirements\n",
      "[LightGBM] [Warning] Stopped training because there are no more leaves that meet the split requirements\n",
      "[LightGBM] [Warning] Stopped training because there are no more leaves that meet the split requirements\n",
      "[LightGBM] [Warning] Stopped training because there are no more leaves that meet the split requirements\n",
      "[LightGBM] [Warning] Stopped training because there are no more leaves that meet the split requirements\n",
      "[LightGBM] [Warning] Stopped training because there are no more leaves that meet the split requirements\n",
      "[LightGBM] [Warning] Stopped training because there are no more leaves that meet the split requirements\n",
      "[LightGBM] [Warning] Stopped training because there are no more leaves that meet the split requirements\n",
      "[LightGBM] [Warning] Stopped training because there are no more leaves that meet the split requirements\n",
      "[LightGBM] [Warning] Stopped training because there are no more leaves that meet the split requirements\n",
      "[LightGBM] [Warning] Stopped training because there are no more leaves that meet the split requirements\n",
      "[LightGBM] [Warning] Stopped training because there are no more leaves that meet the split requirements\n",
      "[LightGBM] [Warning] Stopped training because there are no more leaves that meet the split requirements\n",
      "[LightGBM] [Warning] Stopped training because there are no more leaves that meet the split requirements\n",
      "[LightGBM] [Warning] Stopped training because there are no more leaves that meet the split requirements\n",
      "[LightGBM] [Warning] Stopped training because there are no more leaves that meet the split requirements\n",
      "[LightGBM] [Warning] Stopped training because there are no more leaves that meet the split requirements\n",
      "[LightGBM] [Warning] Stopped training because there are no more leaves that meet the split requirements\n",
      "[LightGBM] [Warning] Stopped training because there are no more leaves that meet the split requirements\n",
      "[LightGBM] [Warning] Stopped training because there are no more leaves that meet the split requirements\n",
      "[LightGBM] [Warning] Stopped training because there are no more leaves that meet the split requirements\n",
      "[LightGBM] [Warning] Stopped training because there are no more leaves that meet the split requirements\n",
      "[LightGBM] [Warning] Stopped training because there are no more leaves that meet the split requirements\n",
      "[LightGBM] [Warning] Stopped training because there are no more leaves that meet the split requirements\n",
      "[LightGBM] [Warning] Stopped training because there are no more leaves that meet the split requirements\n",
      "[LightGBM] [Warning] Stopped training because there are no more leaves that meet the split requirements\n",
      "[LightGBM] [Warning] Stopped training because there are no more leaves that meet the split requirements\n",
      "[LightGBM] [Warning] Stopped training because there are no more leaves that meet the split requirements\n",
      "[LightGBM] [Warning] Stopped training because there are no more leaves that meet the split requirements\n",
      "[LightGBM] [Warning] Stopped training because there are no more leaves that meet the split requirements\n",
      "[LightGBM] [Warning] Stopped training because there are no more leaves that meet the split requirements\n",
      "[LightGBM] [Warning] Stopped training because there are no more leaves that meet the split requirements\n",
      "[LightGBM] [Warning] Stopped training because there are no more leaves that meet the split requirements\n",
      "[LightGBM] [Warning] Stopped training because there are no more leaves that meet the split requirements\n",
      "[LightGBM] [Warning] Stopped training because there are no more leaves that meet the split requirements\n",
      "[LightGBM] [Warning] Stopped training because there are no more leaves that meet the split requirements\n",
      "[LightGBM] [Warning] Stopped training because there are no more leaves that meet the split requirements\n",
      "[LightGBM] [Warning] Stopped training because there are no more leaves that meet the split requirements\n",
      "[LightGBM] [Warning] Stopped training because there are no more leaves that meet the split requirements\n",
      "[LightGBM] [Warning] Stopped training because there are no more leaves that meet the split requirements\n",
      "[LightGBM] [Warning] Stopped training because there are no more leaves that meet the split requirements\n",
      "[LightGBM] [Warning] Stopped training because there are no more leaves that meet the split requirements\n",
      "[LightGBM] [Warning] Stopped training because there are no more leaves that meet the split requirements\n",
      "[LightGBM] [Warning] Stopped training because there are no more leaves that meet the split requirements\n",
      "[LightGBM] [Warning] Stopped training because there are no more leaves that meet the split requirements\n",
      "[LightGBM] [Warning] Stopped training because there are no more leaves that meet the split requirements\n",
      "[LightGBM] [Warning] Stopped training because there are no more leaves that meet the split requirements\n",
      "[LightGBM] [Warning] Stopped training because there are no more leaves that meet the split requirements\n",
      "[LightGBM] [Warning] Stopped training because there are no more leaves that meet the split requirements\n",
      "[LightGBM] [Warning] Stopped training because there are no more leaves that meet the split requirements\n",
      "[LightGBM] [Warning] Stopped training because there are no more leaves that meet the split requirements\n",
      "[LightGBM] [Warning] Stopped training because there are no more leaves that meet the split requirements\n",
      "[LightGBM] [Warning] Stopped training because there are no more leaves that meet the split requirements\n",
      "[LightGBM] [Warning] Stopped training because there are no more leaves that meet the split requirements\n",
      "[LightGBM] [Warning] Stopped training because there are no more leaves that meet the split requirements\n",
      "[LightGBM] [Warning] Stopped training because there are no more leaves that meet the split requirements\n",
      "[LightGBM] [Warning] Stopped training because there are no more leaves that meet the split requirements\n",
      "[LightGBM] [Warning] Stopped training because there are no more leaves that meet the split requirements\n",
      "[LightGBM] [Warning] Stopped training because there are no more leaves that meet the split requirements\n",
      "[LightGBM] [Warning] Stopped training because there are no more leaves that meet the split requirements\n",
      "[LightGBM] [Warning] Stopped training because there are no more leaves that meet the split requirements\n",
      "[LightGBM] [Warning] Stopped training because there are no more leaves that meet the split requirements\n",
      "[LightGBM] [Warning] Stopped training because there are no more leaves that meet the split requirements\n",
      "[LightGBM] [Warning] Stopped training because there are no more leaves that meet the split requirements\n",
      "[LightGBM] [Warning] Stopped training because there are no more leaves that meet the split requirements\n",
      "[LightGBM] [Warning] Stopped training because there are no more leaves that meet the split requirements\n",
      "[LightGBM] [Warning] Stopped training because there are no more leaves that meet the split requirements\n",
      "[LightGBM] [Warning] Stopped training because there are no more leaves that meet the split requirements\n",
      "[LightGBM] [Warning] Stopped training because there are no more leaves that meet the split requirements\n",
      "[LightGBM] [Warning] Stopped training because there are no more leaves that meet the split requirements\n",
      "[LightGBM] [Warning] Stopped training because there are no more leaves that meet the split requirements\n",
      "[LightGBM] [Warning] Stopped training because there are no more leaves that meet the split requirements\n",
      "[LightGBM] [Warning] Stopped training because there are no more leaves that meet the split requirements\n",
      "[LightGBM] [Warning] Stopped training because there are no more leaves that meet the split requirements\n",
      "[LightGBM] [Warning] Stopped training because there are no more leaves that meet the split requirements\n",
      "[LightGBM] [Warning] Stopped training because there are no more leaves that meet the split requirements\n",
      "[LightGBM] [Warning] Stopped training because there are no more leaves that meet the split requirements\n",
      "[LightGBM] [Warning] Stopped training because there are no more leaves that meet the split requirements\n",
      "[LightGBM] [Warning] Stopped training because there are no more leaves that meet the split requirements\n",
      "[LightGBM] [Warning] Stopped training because there are no more leaves that meet the split requirements\n",
      "[LightGBM] [Warning] Stopped training because there are no more leaves that meet the split requirements\n",
      "[LightGBM] [Warning] Stopped training because there are no more leaves that meet the split requirements\n",
      "[LightGBM] [Warning] Stopped training because there are no more leaves that meet the split requirements\n",
      "[LightGBM] [Warning] Stopped training because there are no more leaves that meet the split requirements\n",
      "[LightGBM] [Warning] There are no meaningful features which satisfy the provided configuration. Decreasing Dataset parameters min_data_in_bin or min_data_in_leaf and re-constructing Dataset might resolve this warning.\n",
      "[LightGBM] [Info] Number of positive: 1, number of negative: 1\n",
      "[LightGBM] [Info] This is the GPU trainer!!\n",
      "[LightGBM] [Info] Total Bins 0\n",
      "[LightGBM] [Info] Number of data points in the train set: 2, number of used features: 0\n",
      "[LightGBM] [Info] Using GPU Device: Quadro P620, Vendor: NVIDIA Corporation\n",
      "[LightGBM] [Info] Compiling OpenCL Kernel with 16 bins...\n",
      "[LightGBM] [Info] GPU programs have been built\n",
      "[LightGBM] [Warning] GPU acceleration is disabled because no non-trivial dense features can be found\n",
      "[LightGBM] [Info] [binary:BoostFromScore]: pavg=0.500000 -> initscore=0.000000\n",
      "[LightGBM] [Warning] Stopped training because there are no more leaves that meet the split requirements\n",
      "[LightGBM] [Warning] Stopped training because there are no more leaves that meet the split requirements\n",
      "[LightGBM] [Warning] Stopped training because there are no more leaves that meet the split requirements\n",
      "[LightGBM] [Warning] Stopped training because there are no more leaves that meet the split requirements\n",
      "[LightGBM] [Warning] Stopped training because there are no more leaves that meet the split requirements\n",
      "[LightGBM] [Warning] Stopped training because there are no more leaves that meet the split requirements\n",
      "[LightGBM] [Warning] Stopped training because there are no more leaves that meet the split requirements\n",
      "[LightGBM] [Warning] Stopped training because there are no more leaves that meet the split requirements\n",
      "[LightGBM] [Warning] Stopped training because there are no more leaves that meet the split requirements\n",
      "[LightGBM] [Warning] Stopped training because there are no more leaves that meet the split requirements\n",
      "[LightGBM] [Warning] Stopped training because there are no more leaves that meet the split requirements\n",
      "[LightGBM] [Warning] Stopped training because there are no more leaves that meet the split requirements\n",
      "[LightGBM] [Warning] Stopped training because there are no more leaves that meet the split requirements\n",
      "[LightGBM] [Warning] Stopped training because there are no more leaves that meet the split requirements\n",
      "[LightGBM] [Warning] Stopped training because there are no more leaves that meet the split requirements\n",
      "[LightGBM] [Warning] Stopped training because there are no more leaves that meet the split requirements\n",
      "[LightGBM] [Warning] Stopped training because there are no more leaves that meet the split requirements\n",
      "[LightGBM] [Warning] Stopped training because there are no more leaves that meet the split requirements\n",
      "[LightGBM] [Warning] Stopped training because there are no more leaves that meet the split requirements\n",
      "[LightGBM] [Warning] Stopped training because there are no more leaves that meet the split requirements\n",
      "[LightGBM] [Warning] Stopped training because there are no more leaves that meet the split requirements\n",
      "[LightGBM] [Warning] Stopped training because there are no more leaves that meet the split requirements\n",
      "[LightGBM] [Warning] Stopped training because there are no more leaves that meet the split requirements\n",
      "[LightGBM] [Warning] Stopped training because there are no more leaves that meet the split requirements\n",
      "[LightGBM] [Warning] Stopped training because there are no more leaves that meet the split requirements\n",
      "[LightGBM] [Warning] Stopped training because there are no more leaves that meet the split requirements\n",
      "[LightGBM] [Warning] Stopped training because there are no more leaves that meet the split requirements\n",
      "[LightGBM] [Warning] Stopped training because there are no more leaves that meet the split requirements\n",
      "[LightGBM] [Warning] Stopped training because there are no more leaves that meet the split requirements\n",
      "[LightGBM] [Warning] Stopped training because there are no more leaves that meet the split requirements\n",
      "[LightGBM] [Warning] Stopped training because there are no more leaves that meet the split requirements\n",
      "[LightGBM] [Warning] Stopped training because there are no more leaves that meet the split requirements\n",
      "[LightGBM] [Warning] Stopped training because there are no more leaves that meet the split requirements\n",
      "[LightGBM] [Warning] Stopped training because there are no more leaves that meet the split requirements\n",
      "[LightGBM] [Warning] Stopped training because there are no more leaves that meet the split requirements\n",
      "[LightGBM] [Warning] Stopped training because there are no more leaves that meet the split requirements\n",
      "[LightGBM] [Warning] Stopped training because there are no more leaves that meet the split requirements\n",
      "[LightGBM] [Warning] Stopped training because there are no more leaves that meet the split requirements\n",
      "[LightGBM] [Warning] Stopped training because there are no more leaves that meet the split requirements\n",
      "[LightGBM] [Warning] Stopped training because there are no more leaves that meet the split requirements\n",
      "[LightGBM] [Warning] Stopped training because there are no more leaves that meet the split requirements\n",
      "[LightGBM] [Warning] Stopped training because there are no more leaves that meet the split requirements\n",
      "[LightGBM] [Warning] Stopped training because there are no more leaves that meet the split requirements\n",
      "[LightGBM] [Warning] Stopped training because there are no more leaves that meet the split requirements\n",
      "[LightGBM] [Warning] Stopped training because there are no more leaves that meet the split requirements\n",
      "[LightGBM] [Warning] Stopped training because there are no more leaves that meet the split requirements\n",
      "[LightGBM] [Warning] Stopped training because there are no more leaves that meet the split requirements\n",
      "[LightGBM] [Warning] Stopped training because there are no more leaves that meet the split requirements\n",
      "[LightGBM] [Warning] Stopped training because there are no more leaves that meet the split requirements\n",
      "[LightGBM] [Warning] Stopped training because there are no more leaves that meet the split requirements\n",
      "[LightGBM] [Warning] Stopped training because there are no more leaves that meet the split requirements\n",
      "[LightGBM] [Warning] Stopped training because there are no more leaves that meet the split requirements\n",
      "[LightGBM] [Warning] Stopped training because there are no more leaves that meet the split requirements\n",
      "[LightGBM] [Warning] Stopped training because there are no more leaves that meet the split requirements\n",
      "[LightGBM] [Warning] Stopped training because there are no more leaves that meet the split requirements\n",
      "[LightGBM] [Warning] Stopped training because there are no more leaves that meet the split requirements\n",
      "[LightGBM] [Warning] Stopped training because there are no more leaves that meet the split requirements\n",
      "[LightGBM] [Warning] Stopped training because there are no more leaves that meet the split requirements\n",
      "[LightGBM] [Warning] Stopped training because there are no more leaves that meet the split requirements\n",
      "[LightGBM] [Warning] Stopped training because there are no more leaves that meet the split requirements\n",
      "[LightGBM] [Warning] Stopped training because there are no more leaves that meet the split requirements\n",
      "[LightGBM] [Warning] Stopped training because there are no more leaves that meet the split requirements\n",
      "[LightGBM] [Warning] Stopped training because there are no more leaves that meet the split requirements\n",
      "[LightGBM] [Warning] Stopped training because there are no more leaves that meet the split requirements\n",
      "[LightGBM] [Warning] Stopped training because there are no more leaves that meet the split requirements\n",
      "[LightGBM] [Warning] Stopped training because there are no more leaves that meet the split requirements\n",
      "[LightGBM] [Warning] Stopped training because there are no more leaves that meet the split requirements\n",
      "[LightGBM] [Warning] Stopped training because there are no more leaves that meet the split requirements\n",
      "[LightGBM] [Warning] Stopped training because there are no more leaves that meet the split requirements\n",
      "[LightGBM] [Warning] Stopped training because there are no more leaves that meet the split requirements\n",
      "[LightGBM] [Warning] Stopped training because there are no more leaves that meet the split requirements\n",
      "[LightGBM] [Warning] Stopped training because there are no more leaves that meet the split requirements\n",
      "[LightGBM] [Warning] Stopped training because there are no more leaves that meet the split requirements\n",
      "[LightGBM] [Warning] Stopped training because there are no more leaves that meet the split requirements\n",
      "[LightGBM] [Warning] Stopped training because there are no more leaves that meet the split requirements\n",
      "[LightGBM] [Warning] Stopped training because there are no more leaves that meet the split requirements\n",
      "[LightGBM] [Warning] Stopped training because there are no more leaves that meet the split requirements\n",
      "[LightGBM] [Warning] Stopped training because there are no more leaves that meet the split requirements\n",
      "[LightGBM] [Warning] Stopped training because there are no more leaves that meet the split requirements\n",
      "[LightGBM] [Warning] Stopped training because there are no more leaves that meet the split requirements\n",
      "[LightGBM] [Warning] Stopped training because there are no more leaves that meet the split requirements\n",
      "[LightGBM] [Warning] Stopped training because there are no more leaves that meet the split requirements\n",
      "[LightGBM] [Warning] Stopped training because there are no more leaves that meet the split requirements\n",
      "[LightGBM] [Warning] Stopped training because there are no more leaves that meet the split requirements\n",
      "[LightGBM] [Warning] Stopped training because there are no more leaves that meet the split requirements\n",
      "[LightGBM] [Warning] Stopped training because there are no more leaves that meet the split requirements\n",
      "[LightGBM] [Warning] Stopped training because there are no more leaves that meet the split requirements\n",
      "[LightGBM] [Warning] Stopped training because there are no more leaves that meet the split requirements\n",
      "[LightGBM] [Warning] Stopped training because there are no more leaves that meet the split requirements\n",
      "[LightGBM] [Warning] Stopped training because there are no more leaves that meet the split requirements\n",
      "[LightGBM] [Warning] Stopped training because there are no more leaves that meet the split requirements\n",
      "[LightGBM] [Warning] Stopped training because there are no more leaves that meet the split requirements\n",
      "[LightGBM] [Warning] Stopped training because there are no more leaves that meet the split requirements\n",
      "[LightGBM] [Warning] Stopped training because there are no more leaves that meet the split requirements\n",
      "[LightGBM] [Warning] Stopped training because there are no more leaves that meet the split requirements\n",
      "[LightGBM] [Warning] Stopped training because there are no more leaves that meet the split requirements\n",
      "[LightGBM] [Warning] Stopped training because there are no more leaves that meet the split requirements\n",
      "[LightGBM] [Warning] Stopped training because there are no more leaves that meet the split requirements\n",
      "[LightGBM] [Warning] Stopped training because there are no more leaves that meet the split requirements\n",
      "[LightGBM] [Warning] Stopped training because there are no more leaves that meet the split requirements\n",
      "[LightGBM] [Warning] There are no meaningful features which satisfy the provided configuration. Decreasing Dataset parameters min_data_in_bin or min_data_in_leaf and re-constructing Dataset might resolve this warning.\n",
      "[LightGBM] [Info] Number of positive: 1, number of negative: 1\n",
      "[LightGBM] [Info] This is the GPU trainer!!\n",
      "[LightGBM] [Info] Total Bins 0\n",
      "[LightGBM] [Info] Number of data points in the train set: 2, number of used features: 0\n",
      "[LightGBM] [Info] Using GPU Device: Quadro P620, Vendor: NVIDIA Corporation\n",
      "[LightGBM] [Info] Compiling OpenCL Kernel with 16 bins...\n",
      "[LightGBM] [Info] GPU programs have been built\n",
      "[LightGBM] [Warning] GPU acceleration is disabled because no non-trivial dense features can be found\n",
      "[LightGBM] [Info] [binary:BoostFromScore]: pavg=0.500000 -> initscore=0.000000\n",
      "[LightGBM] [Warning] Stopped training because there are no more leaves that meet the split requirements\n",
      "[LightGBM] [Warning] Stopped training because there are no more leaves that meet the split requirements\n",
      "[LightGBM] [Warning] Stopped training because there are no more leaves that meet the split requirements\n",
      "[LightGBM] [Warning] Stopped training because there are no more leaves that meet the split requirements\n",
      "[LightGBM] [Warning] Stopped training because there are no more leaves that meet the split requirements\n",
      "[LightGBM] [Warning] Stopped training because there are no more leaves that meet the split requirements\n",
      "[LightGBM] [Warning] Stopped training because there are no more leaves that meet the split requirements\n",
      "[LightGBM] [Warning] Stopped training because there are no more leaves that meet the split requirements\n",
      "[LightGBM] [Warning] Stopped training because there are no more leaves that meet the split requirements\n",
      "[LightGBM] [Warning] Stopped training because there are no more leaves that meet the split requirements\n",
      "[LightGBM] [Warning] Stopped training because there are no more leaves that meet the split requirements\n",
      "[LightGBM] [Warning] Stopped training because there are no more leaves that meet the split requirements\n",
      "[LightGBM] [Warning] Stopped training because there are no more leaves that meet the split requirements\n",
      "[LightGBM] [Warning] Stopped training because there are no more leaves that meet the split requirements\n",
      "[LightGBM] [Warning] Stopped training because there are no more leaves that meet the split requirements\n",
      "[LightGBM] [Warning] Stopped training because there are no more leaves that meet the split requirements\n",
      "[LightGBM] [Warning] Stopped training because there are no more leaves that meet the split requirements\n",
      "[LightGBM] [Warning] Stopped training because there are no more leaves that meet the split requirements\n",
      "[LightGBM] [Warning] Stopped training because there are no more leaves that meet the split requirements\n",
      "[LightGBM] [Warning] Stopped training because there are no more leaves that meet the split requirements\n",
      "[LightGBM] [Warning] Stopped training because there are no more leaves that meet the split requirements\n",
      "[LightGBM] [Warning] Stopped training because there are no more leaves that meet the split requirements\n",
      "[LightGBM] [Warning] Stopped training because there are no more leaves that meet the split requirements\n",
      "[LightGBM] [Warning] Stopped training because there are no more leaves that meet the split requirements\n",
      "[LightGBM] [Warning] Stopped training because there are no more leaves that meet the split requirements\n",
      "[LightGBM] [Warning] Stopped training because there are no more leaves that meet the split requirements\n",
      "[LightGBM] [Warning] Stopped training because there are no more leaves that meet the split requirements\n",
      "[LightGBM] [Warning] Stopped training because there are no more leaves that meet the split requirements\n",
      "[LightGBM] [Warning] Stopped training because there are no more leaves that meet the split requirements\n",
      "[LightGBM] [Warning] Stopped training because there are no more leaves that meet the split requirements\n",
      "[LightGBM] [Warning] Stopped training because there are no more leaves that meet the split requirements\n",
      "[LightGBM] [Warning] Stopped training because there are no more leaves that meet the split requirements\n",
      "[LightGBM] [Warning] Stopped training because there are no more leaves that meet the split requirements\n",
      "[LightGBM] [Warning] Stopped training because there are no more leaves that meet the split requirements\n",
      "[LightGBM] [Warning] Stopped training because there are no more leaves that meet the split requirements\n",
      "[LightGBM] [Warning] Stopped training because there are no more leaves that meet the split requirements\n",
      "[LightGBM] [Warning] Stopped training because there are no more leaves that meet the split requirements\n",
      "[LightGBM] [Warning] Stopped training because there are no more leaves that meet the split requirements\n",
      "[LightGBM] [Warning] Stopped training because there are no more leaves that meet the split requirements\n",
      "[LightGBM] [Warning] Stopped training because there are no more leaves that meet the split requirements\n",
      "[LightGBM] [Warning] Stopped training because there are no more leaves that meet the split requirements\n",
      "[LightGBM] [Warning] Stopped training because there are no more leaves that meet the split requirements\n",
      "[LightGBM] [Warning] Stopped training because there are no more leaves that meet the split requirements\n",
      "[LightGBM] [Warning] Stopped training because there are no more leaves that meet the split requirements\n",
      "[LightGBM] [Warning] Stopped training because there are no more leaves that meet the split requirements\n",
      "[LightGBM] [Warning] Stopped training because there are no more leaves that meet the split requirements\n",
      "[LightGBM] [Warning] Stopped training because there are no more leaves that meet the split requirements\n",
      "[LightGBM] [Warning] Stopped training because there are no more leaves that meet the split requirements\n",
      "[LightGBM] [Warning] Stopped training because there are no more leaves that meet the split requirements\n",
      "[LightGBM] [Warning] Stopped training because there are no more leaves that meet the split requirements\n",
      "[LightGBM] [Warning] Stopped training because there are no more leaves that meet the split requirements\n",
      "[LightGBM] [Warning] Stopped training because there are no more leaves that meet the split requirements\n",
      "[LightGBM] [Warning] Stopped training because there are no more leaves that meet the split requirements\n",
      "[LightGBM] [Warning] Stopped training because there are no more leaves that meet the split requirements\n",
      "[LightGBM] [Warning] Stopped training because there are no more leaves that meet the split requirements\n",
      "[LightGBM] [Warning] Stopped training because there are no more leaves that meet the split requirements\n",
      "[LightGBM] [Warning] Stopped training because there are no more leaves that meet the split requirements\n",
      "[LightGBM] [Warning] Stopped training because there are no more leaves that meet the split requirements\n",
      "[LightGBM] [Warning] Stopped training because there are no more leaves that meet the split requirements\n",
      "[LightGBM] [Warning] Stopped training because there are no more leaves that meet the split requirements\n",
      "[LightGBM] [Warning] Stopped training because there are no more leaves that meet the split requirements\n",
      "[LightGBM] [Warning] Stopped training because there are no more leaves that meet the split requirements\n",
      "[LightGBM] [Warning] Stopped training because there are no more leaves that meet the split requirements\n",
      "[LightGBM] [Warning] Stopped training because there are no more leaves that meet the split requirements\n",
      "[LightGBM] [Warning] Stopped training because there are no more leaves that meet the split requirements\n",
      "[LightGBM] [Warning] Stopped training because there are no more leaves that meet the split requirements\n",
      "[LightGBM] [Warning] Stopped training because there are no more leaves that meet the split requirements\n",
      "[LightGBM] [Warning] Stopped training because there are no more leaves that meet the split requirements\n",
      "[LightGBM] [Warning] Stopped training because there are no more leaves that meet the split requirements\n",
      "[LightGBM] [Warning] Stopped training because there are no more leaves that meet the split requirements\n",
      "[LightGBM] [Warning] Stopped training because there are no more leaves that meet the split requirements\n",
      "[LightGBM] [Warning] Stopped training because there are no more leaves that meet the split requirements\n",
      "[LightGBM] [Warning] Stopped training because there are no more leaves that meet the split requirements\n",
      "[LightGBM] [Warning] Stopped training because there are no more leaves that meet the split requirements\n",
      "[LightGBM] [Warning] Stopped training because there are no more leaves that meet the split requirements\n",
      "[LightGBM] [Warning] Stopped training because there are no more leaves that meet the split requirements\n",
      "[LightGBM] [Warning] Stopped training because there are no more leaves that meet the split requirements\n",
      "[LightGBM] [Warning] Stopped training because there are no more leaves that meet the split requirements\n",
      "[LightGBM] [Warning] Stopped training because there are no more leaves that meet the split requirements\n",
      "[LightGBM] [Warning] Stopped training because there are no more leaves that meet the split requirements\n",
      "[LightGBM] [Warning] Stopped training because there are no more leaves that meet the split requirements\n",
      "[LightGBM] [Warning] Stopped training because there are no more leaves that meet the split requirements\n",
      "[LightGBM] [Warning] Stopped training because there are no more leaves that meet the split requirements\n",
      "[LightGBM] [Warning] Stopped training because there are no more leaves that meet the split requirements\n",
      "[LightGBM] [Warning] Stopped training because there are no more leaves that meet the split requirements\n",
      "[LightGBM] [Warning] Stopped training because there are no more leaves that meet the split requirements\n",
      "[LightGBM] [Warning] Stopped training because there are no more leaves that meet the split requirements\n",
      "[LightGBM] [Warning] Stopped training because there are no more leaves that meet the split requirements\n",
      "[LightGBM] [Warning] Stopped training because there are no more leaves that meet the split requirements\n",
      "[LightGBM] [Warning] Stopped training because there are no more leaves that meet the split requirements\n",
      "[LightGBM] [Warning] Stopped training because there are no more leaves that meet the split requirements\n",
      "[LightGBM] [Warning] Stopped training because there are no more leaves that meet the split requirements\n",
      "[LightGBM] [Warning] Stopped training because there are no more leaves that meet the split requirements\n",
      "[LightGBM] [Warning] Stopped training because there are no more leaves that meet the split requirements\n",
      "[LightGBM] [Warning] Stopped training because there are no more leaves that meet the split requirements\n",
      "[LightGBM] [Warning] Stopped training because there are no more leaves that meet the split requirements\n",
      "[LightGBM] [Warning] Stopped training because there are no more leaves that meet the split requirements\n",
      "[LightGBM] [Warning] Stopped training because there are no more leaves that meet the split requirements\n",
      "[LightGBM] [Warning] Stopped training because there are no more leaves that meet the split requirements\n",
      "[LightGBM] [Warning] Stopped training because there are no more leaves that meet the split requirements\n",
      "[LightGBM] [Warning] There are no meaningful features which satisfy the provided configuration. Decreasing Dataset parameters min_data_in_bin or min_data_in_leaf and re-constructing Dataset might resolve this warning.\n",
      "[LightGBM] [Info] Number of positive: 1, number of negative: 1\n",
      "[LightGBM] [Info] This is the GPU trainer!!\n",
      "[LightGBM] [Info] Total Bins 0\n",
      "[LightGBM] [Info] Number of data points in the train set: 2, number of used features: 0\n",
      "[LightGBM] [Info] Using GPU Device: Quadro P620, Vendor: NVIDIA Corporation\n",
      "[LightGBM] [Info] Compiling OpenCL Kernel with 16 bins...\n",
      "[LightGBM] [Info] GPU programs have been built\n",
      "[LightGBM] [Warning] GPU acceleration is disabled because no non-trivial dense features can be found\n",
      "[LightGBM] [Info] [binary:BoostFromScore]: pavg=0.500000 -> initscore=0.000000\n",
      "[LightGBM] [Warning] Stopped training because there are no more leaves that meet the split requirements\n",
      "[LightGBM] [Warning] Stopped training because there are no more leaves that meet the split requirements\n",
      "[LightGBM] [Warning] Stopped training because there are no more leaves that meet the split requirements\n",
      "[LightGBM] [Warning] Stopped training because there are no more leaves that meet the split requirements\n",
      "[LightGBM] [Warning] Stopped training because there are no more leaves that meet the split requirements\n",
      "[LightGBM] [Warning] Stopped training because there are no more leaves that meet the split requirements\n",
      "[LightGBM] [Warning] Stopped training because there are no more leaves that meet the split requirements\n",
      "[LightGBM] [Warning] Stopped training because there are no more leaves that meet the split requirements\n",
      "[LightGBM] [Warning] Stopped training because there are no more leaves that meet the split requirements\n",
      "[LightGBM] [Warning] Stopped training because there are no more leaves that meet the split requirements\n",
      "[LightGBM] [Warning] Stopped training because there are no more leaves that meet the split requirements\n",
      "[LightGBM] [Warning] Stopped training because there are no more leaves that meet the split requirements\n",
      "[LightGBM] [Warning] Stopped training because there are no more leaves that meet the split requirements\n",
      "[LightGBM] [Warning] Stopped training because there are no more leaves that meet the split requirements\n",
      "[LightGBM] [Warning] Stopped training because there are no more leaves that meet the split requirements\n",
      "[LightGBM] [Warning] Stopped training because there are no more leaves that meet the split requirements\n",
      "[LightGBM] [Warning] Stopped training because there are no more leaves that meet the split requirements\n",
      "[LightGBM] [Warning] Stopped training because there are no more leaves that meet the split requirements\n",
      "[LightGBM] [Warning] Stopped training because there are no more leaves that meet the split requirements\n",
      "[LightGBM] [Warning] Stopped training because there are no more leaves that meet the split requirements\n",
      "[LightGBM] [Warning] Stopped training because there are no more leaves that meet the split requirements\n",
      "[LightGBM] [Warning] Stopped training because there are no more leaves that meet the split requirements\n",
      "[LightGBM] [Warning] Stopped training because there are no more leaves that meet the split requirements\n",
      "[LightGBM] [Warning] Stopped training because there are no more leaves that meet the split requirements\n",
      "[LightGBM] [Warning] Stopped training because there are no more leaves that meet the split requirements\n",
      "[LightGBM] [Warning] Stopped training because there are no more leaves that meet the split requirements\n",
      "[LightGBM] [Warning] Stopped training because there are no more leaves that meet the split requirements\n",
      "[LightGBM] [Warning] Stopped training because there are no more leaves that meet the split requirements\n",
      "[LightGBM] [Warning] Stopped training because there are no more leaves that meet the split requirements\n",
      "[LightGBM] [Warning] Stopped training because there are no more leaves that meet the split requirements\n",
      "[LightGBM] [Warning] Stopped training because there are no more leaves that meet the split requirements\n",
      "[LightGBM] [Warning] Stopped training because there are no more leaves that meet the split requirements\n",
      "[LightGBM] [Warning] Stopped training because there are no more leaves that meet the split requirements\n",
      "[LightGBM] [Warning] Stopped training because there are no more leaves that meet the split requirements\n",
      "[LightGBM] [Warning] Stopped training because there are no more leaves that meet the split requirements\n",
      "[LightGBM] [Warning] Stopped training because there are no more leaves that meet the split requirements\n",
      "[LightGBM] [Warning] Stopped training because there are no more leaves that meet the split requirements\n",
      "[LightGBM] [Warning] Stopped training because there are no more leaves that meet the split requirements\n",
      "[LightGBM] [Warning] Stopped training because there are no more leaves that meet the split requirements\n",
      "[LightGBM] [Warning] Stopped training because there are no more leaves that meet the split requirements\n",
      "[LightGBM] [Warning] Stopped training because there are no more leaves that meet the split requirements\n",
      "[LightGBM] [Warning] Stopped training because there are no more leaves that meet the split requirements\n",
      "[LightGBM] [Warning] Stopped training because there are no more leaves that meet the split requirements\n",
      "[LightGBM] [Warning] Stopped training because there are no more leaves that meet the split requirements\n",
      "[LightGBM] [Warning] Stopped training because there are no more leaves that meet the split requirements\n",
      "[LightGBM] [Warning] Stopped training because there are no more leaves that meet the split requirements\n",
      "[LightGBM] [Warning] Stopped training because there are no more leaves that meet the split requirements\n",
      "[LightGBM] [Warning] Stopped training because there are no more leaves that meet the split requirements\n",
      "[LightGBM] [Warning] Stopped training because there are no more leaves that meet the split requirements\n",
      "[LightGBM] [Warning] Stopped training because there are no more leaves that meet the split requirements\n",
      "[LightGBM] [Warning] Stopped training because there are no more leaves that meet the split requirements\n",
      "[LightGBM] [Warning] Stopped training because there are no more leaves that meet the split requirements\n",
      "[LightGBM] [Warning] Stopped training because there are no more leaves that meet the split requirements\n",
      "[LightGBM] [Warning] Stopped training because there are no more leaves that meet the split requirements\n",
      "[LightGBM] [Warning] Stopped training because there are no more leaves that meet the split requirements\n",
      "[LightGBM] [Warning] Stopped training because there are no more leaves that meet the split requirements\n",
      "[LightGBM] [Warning] Stopped training because there are no more leaves that meet the split requirements\n",
      "[LightGBM] [Warning] Stopped training because there are no more leaves that meet the split requirements\n",
      "[LightGBM] [Warning] Stopped training because there are no more leaves that meet the split requirements\n",
      "[LightGBM] [Warning] Stopped training because there are no more leaves that meet the split requirements\n",
      "[LightGBM] [Warning] Stopped training because there are no more leaves that meet the split requirements\n",
      "[LightGBM] [Warning] Stopped training because there are no more leaves that meet the split requirements\n",
      "[LightGBM] [Warning] Stopped training because there are no more leaves that meet the split requirements\n",
      "[LightGBM] [Warning] Stopped training because there are no more leaves that meet the split requirements\n",
      "[LightGBM] [Warning] Stopped training because there are no more leaves that meet the split requirements\n",
      "[LightGBM] [Warning] Stopped training because there are no more leaves that meet the split requirements\n",
      "[LightGBM] [Warning] Stopped training because there are no more leaves that meet the split requirements\n",
      "[LightGBM] [Warning] Stopped training because there are no more leaves that meet the split requirements\n",
      "[LightGBM] [Warning] Stopped training because there are no more leaves that meet the split requirements\n",
      "[LightGBM] [Warning] Stopped training because there are no more leaves that meet the split requirements\n",
      "[LightGBM] [Warning] Stopped training because there are no more leaves that meet the split requirements\n",
      "[LightGBM] [Warning] Stopped training because there are no more leaves that meet the split requirements\n",
      "[LightGBM] [Warning] Stopped training because there are no more leaves that meet the split requirements\n",
      "[LightGBM] [Warning] Stopped training because there are no more leaves that meet the split requirements\n",
      "[LightGBM] [Warning] Stopped training because there are no more leaves that meet the split requirements\n",
      "[LightGBM] [Warning] Stopped training because there are no more leaves that meet the split requirements\n",
      "[LightGBM] [Warning] Stopped training because there are no more leaves that meet the split requirements\n",
      "[LightGBM] [Warning] Stopped training because there are no more leaves that meet the split requirements\n",
      "[LightGBM] [Warning] Stopped training because there are no more leaves that meet the split requirements\n",
      "[LightGBM] [Warning] Stopped training because there are no more leaves that meet the split requirements\n",
      "[LightGBM] [Warning] Stopped training because there are no more leaves that meet the split requirements\n",
      "[LightGBM] [Warning] Stopped training because there are no more leaves that meet the split requirements\n",
      "[LightGBM] [Warning] Stopped training because there are no more leaves that meet the split requirements\n",
      "[LightGBM] [Warning] Stopped training because there are no more leaves that meet the split requirements\n",
      "[LightGBM] [Warning] Stopped training because there are no more leaves that meet the split requirements\n",
      "[LightGBM] [Warning] Stopped training because there are no more leaves that meet the split requirements\n",
      "[LightGBM] [Warning] Stopped training because there are no more leaves that meet the split requirements\n",
      "[LightGBM] [Warning] Stopped training because there are no more leaves that meet the split requirements\n",
      "[LightGBM] [Warning] Stopped training because there are no more leaves that meet the split requirements\n",
      "[LightGBM] [Warning] Stopped training because there are no more leaves that meet the split requirements\n",
      "[LightGBM] [Warning] Stopped training because there are no more leaves that meet the split requirements\n",
      "[LightGBM] [Warning] Stopped training because there are no more leaves that meet the split requirements\n",
      "[LightGBM] [Warning] Stopped training because there are no more leaves that meet the split requirements\n",
      "[LightGBM] [Warning] Stopped training because there are no more leaves that meet the split requirements\n",
      "[LightGBM] [Warning] Stopped training because there are no more leaves that meet the split requirements\n",
      "[LightGBM] [Warning] Stopped training because there are no more leaves that meet the split requirements\n",
      "[LightGBM] [Warning] Stopped training because there are no more leaves that meet the split requirements\n",
      "[LightGBM] [Warning] Stopped training because there are no more leaves that meet the split requirements\n",
      "[LightGBM] [Warning] Stopped training because there are no more leaves that meet the split requirements\n",
      "[LightGBM] [Warning] Stopped training because there are no more leaves that meet the split requirements\n",
      "[LightGBM] [Warning] There are no meaningful features which satisfy the provided configuration. Decreasing Dataset parameters min_data_in_bin or min_data_in_leaf and re-constructing Dataset might resolve this warning.\n",
      "[LightGBM] [Info] Number of positive: 1, number of negative: 1\n",
      "[LightGBM] [Info] This is the GPU trainer!!\n",
      "[LightGBM] [Info] Total Bins 0\n",
      "[LightGBM] [Info] Number of data points in the train set: 2, number of used features: 0\n",
      "[LightGBM] [Info] Using GPU Device: Quadro P620, Vendor: NVIDIA Corporation\n",
      "[LightGBM] [Info] Compiling OpenCL Kernel with 16 bins...\n",
      "[LightGBM] [Info] GPU programs have been built\n",
      "[LightGBM] [Warning] GPU acceleration is disabled because no non-trivial dense features can be found\n",
      "[LightGBM] [Info] [binary:BoostFromScore]: pavg=0.500000 -> initscore=0.000000\n",
      "[LightGBM] [Warning] Stopped training because there are no more leaves that meet the split requirements\n",
      "[LightGBM] [Warning] Stopped training because there are no more leaves that meet the split requirements\n",
      "[LightGBM] [Warning] Stopped training because there are no more leaves that meet the split requirements\n",
      "[LightGBM] [Warning] Stopped training because there are no more leaves that meet the split requirements\n",
      "[LightGBM] [Warning] Stopped training because there are no more leaves that meet the split requirements\n",
      "[LightGBM] [Warning] Stopped training because there are no more leaves that meet the split requirements\n",
      "[LightGBM] [Warning] Stopped training because there are no more leaves that meet the split requirements\n",
      "[LightGBM] [Warning] Stopped training because there are no more leaves that meet the split requirements\n",
      "[LightGBM] [Warning] Stopped training because there are no more leaves that meet the split requirements\n",
      "[LightGBM] [Warning] Stopped training because there are no more leaves that meet the split requirements\n",
      "[LightGBM] [Warning] Stopped training because there are no more leaves that meet the split requirements\n",
      "[LightGBM] [Warning] Stopped training because there are no more leaves that meet the split requirements\n",
      "[LightGBM] [Warning] Stopped training because there are no more leaves that meet the split requirements\n",
      "[LightGBM] [Warning] Stopped training because there are no more leaves that meet the split requirements\n",
      "[LightGBM] [Warning] Stopped training because there are no more leaves that meet the split requirements\n",
      "[LightGBM] [Warning] Stopped training because there are no more leaves that meet the split requirements\n",
      "[LightGBM] [Warning] Stopped training because there are no more leaves that meet the split requirements\n",
      "[LightGBM] [Warning] Stopped training because there are no more leaves that meet the split requirements\n",
      "[LightGBM] [Warning] Stopped training because there are no more leaves that meet the split requirements\n",
      "[LightGBM] [Warning] Stopped training because there are no more leaves that meet the split requirements\n",
      "[LightGBM] [Warning] Stopped training because there are no more leaves that meet the split requirements\n",
      "[LightGBM] [Warning] Stopped training because there are no more leaves that meet the split requirements\n",
      "[LightGBM] [Warning] Stopped training because there are no more leaves that meet the split requirements\n",
      "[LightGBM] [Warning] Stopped training because there are no more leaves that meet the split requirements\n",
      "[LightGBM] [Warning] Stopped training because there are no more leaves that meet the split requirements\n",
      "[LightGBM] [Warning] Stopped training because there are no more leaves that meet the split requirements\n",
      "[LightGBM] [Warning] Stopped training because there are no more leaves that meet the split requirements\n",
      "[LightGBM] [Warning] Stopped training because there are no more leaves that meet the split requirements\n",
      "[LightGBM] [Warning] Stopped training because there are no more leaves that meet the split requirements\n",
      "[LightGBM] [Warning] Stopped training because there are no more leaves that meet the split requirements\n",
      "[LightGBM] [Warning] Stopped training because there are no more leaves that meet the split requirements\n",
      "[LightGBM] [Warning] Stopped training because there are no more leaves that meet the split requirements\n",
      "[LightGBM] [Warning] Stopped training because there are no more leaves that meet the split requirements\n",
      "[LightGBM] [Warning] Stopped training because there are no more leaves that meet the split requirements\n",
      "[LightGBM] [Warning] Stopped training because there are no more leaves that meet the split requirements\n",
      "[LightGBM] [Warning] Stopped training because there are no more leaves that meet the split requirements\n",
      "[LightGBM] [Warning] Stopped training because there are no more leaves that meet the split requirements\n",
      "[LightGBM] [Warning] Stopped training because there are no more leaves that meet the split requirements\n",
      "[LightGBM] [Warning] Stopped training because there are no more leaves that meet the split requirements\n",
      "[LightGBM] [Warning] Stopped training because there are no more leaves that meet the split requirements\n",
      "[LightGBM] [Warning] Stopped training because there are no more leaves that meet the split requirements\n",
      "[LightGBM] [Warning] Stopped training because there are no more leaves that meet the split requirements\n",
      "[LightGBM] [Warning] Stopped training because there are no more leaves that meet the split requirements\n",
      "[LightGBM] [Warning] Stopped training because there are no more leaves that meet the split requirements\n",
      "[LightGBM] [Warning] Stopped training because there are no more leaves that meet the split requirements\n",
      "[LightGBM] [Warning] Stopped training because there are no more leaves that meet the split requirements\n",
      "[LightGBM] [Warning] Stopped training because there are no more leaves that meet the split requirements\n",
      "[LightGBM] [Warning] Stopped training because there are no more leaves that meet the split requirements\n",
      "[LightGBM] [Warning] Stopped training because there are no more leaves that meet the split requirements\n",
      "[LightGBM] [Warning] Stopped training because there are no more leaves that meet the split requirements\n",
      "[LightGBM] [Warning] Stopped training because there are no more leaves that meet the split requirements\n",
      "[LightGBM] [Warning] Stopped training because there are no more leaves that meet the split requirements\n",
      "[LightGBM] [Warning] Stopped training because there are no more leaves that meet the split requirements\n",
      "[LightGBM] [Warning] Stopped training because there are no more leaves that meet the split requirements\n",
      "[LightGBM] [Warning] Stopped training because there are no more leaves that meet the split requirements\n",
      "[LightGBM] [Warning] Stopped training because there are no more leaves that meet the split requirements\n",
      "[LightGBM] [Warning] Stopped training because there are no more leaves that meet the split requirements\n",
      "[LightGBM] [Warning] Stopped training because there are no more leaves that meet the split requirements\n",
      "[LightGBM] [Warning] Stopped training because there are no more leaves that meet the split requirements\n",
      "[LightGBM] [Warning] Stopped training because there are no more leaves that meet the split requirements\n",
      "[LightGBM] [Warning] Stopped training because there are no more leaves that meet the split requirements\n",
      "[LightGBM] [Warning] Stopped training because there are no more leaves that meet the split requirements\n",
      "[LightGBM] [Warning] Stopped training because there are no more leaves that meet the split requirements\n",
      "[LightGBM] [Warning] Stopped training because there are no more leaves that meet the split requirements\n",
      "[LightGBM] [Warning] Stopped training because there are no more leaves that meet the split requirements\n",
      "[LightGBM] [Warning] Stopped training because there are no more leaves that meet the split requirements\n",
      "[LightGBM] [Warning] Stopped training because there are no more leaves that meet the split requirements\n",
      "[LightGBM] [Warning] Stopped training because there are no more leaves that meet the split requirements\n",
      "[LightGBM] [Warning] Stopped training because there are no more leaves that meet the split requirements\n",
      "[LightGBM] [Warning] Stopped training because there are no more leaves that meet the split requirements\n",
      "[LightGBM] [Warning] Stopped training because there are no more leaves that meet the split requirements\n",
      "[LightGBM] [Warning] Stopped training because there are no more leaves that meet the split requirements\n",
      "[LightGBM] [Warning] Stopped training because there are no more leaves that meet the split requirements\n",
      "[LightGBM] [Warning] Stopped training because there are no more leaves that meet the split requirements\n",
      "[LightGBM] [Warning] Stopped training because there are no more leaves that meet the split requirements\n",
      "[LightGBM] [Warning] Stopped training because there are no more leaves that meet the split requirements\n",
      "[LightGBM] [Warning] Stopped training because there are no more leaves that meet the split requirements\n",
      "[LightGBM] [Warning] Stopped training because there are no more leaves that meet the split requirements\n",
      "[LightGBM] [Warning] Stopped training because there are no more leaves that meet the split requirements\n",
      "[LightGBM] [Warning] Stopped training because there are no more leaves that meet the split requirements\n",
      "[LightGBM] [Warning] Stopped training because there are no more leaves that meet the split requirements\n",
      "[LightGBM] [Warning] Stopped training because there are no more leaves that meet the split requirements\n",
      "[LightGBM] [Warning] Stopped training because there are no more leaves that meet the split requirements\n",
      "[LightGBM] [Warning] Stopped training because there are no more leaves that meet the split requirements\n",
      "[LightGBM] [Warning] Stopped training because there are no more leaves that meet the split requirements\n",
      "[LightGBM] [Warning] Stopped training because there are no more leaves that meet the split requirements\n",
      "[LightGBM] [Warning] Stopped training because there are no more leaves that meet the split requirements\n",
      "[LightGBM] [Warning] Stopped training because there are no more leaves that meet the split requirements\n",
      "[LightGBM] [Warning] Stopped training because there are no more leaves that meet the split requirements\n",
      "[LightGBM] [Warning] Stopped training because there are no more leaves that meet the split requirements\n",
      "[LightGBM] [Warning] Stopped training because there are no more leaves that meet the split requirements\n",
      "[LightGBM] [Warning] Stopped training because there are no more leaves that meet the split requirements\n",
      "[LightGBM] [Warning] Stopped training because there are no more leaves that meet the split requirements\n",
      "[LightGBM] [Warning] Stopped training because there are no more leaves that meet the split requirements\n",
      "[LightGBM] [Warning] Stopped training because there are no more leaves that meet the split requirements\n",
      "[LightGBM] [Warning] Stopped training because there are no more leaves that meet the split requirements\n",
      "[LightGBM] [Warning] Stopped training because there are no more leaves that meet the split requirements\n",
      "[LightGBM] [Warning] Stopped training because there are no more leaves that meet the split requirements\n",
      "[LightGBM] [Warning] Stopped training because there are no more leaves that meet the split requirements\n",
      "[LightGBM] [Warning] Stopped training because there are no more leaves that meet the split requirements\n"
     ]
    },
    {
     "data": {
      "text/html": [
       "<style type=\"text/css\">\n",
       "#T_18101_row9_col1, #T_18101_row16_col1 {\n",
       "  background-color: lightgreen;\n",
       "}\n",
       "</style>\n",
       "<table id=\"T_18101\">\n",
       "  <thead>\n",
       "    <tr>\n",
       "      <th class=\"blank level0\" >&nbsp;</th>\n",
       "      <th id=\"T_18101_level0_col0\" class=\"col_heading level0 col0\" >Description</th>\n",
       "      <th id=\"T_18101_level0_col1\" class=\"col_heading level0 col1\" >Value</th>\n",
       "    </tr>\n",
       "  </thead>\n",
       "  <tbody>\n",
       "    <tr>\n",
       "      <th id=\"T_18101_level0_row0\" class=\"row_heading level0 row0\" >0</th>\n",
       "      <td id=\"T_18101_row0_col0\" class=\"data row0 col0\" >Session id</td>\n",
       "      <td id=\"T_18101_row0_col1\" class=\"data row0 col1\" >5722</td>\n",
       "    </tr>\n",
       "    <tr>\n",
       "      <th id=\"T_18101_level0_row1\" class=\"row_heading level0 row1\" >1</th>\n",
       "      <td id=\"T_18101_row1_col0\" class=\"data row1 col0\" >Target</td>\n",
       "      <td id=\"T_18101_row1_col1\" class=\"data row1 col1\" >Label</td>\n",
       "    </tr>\n",
       "    <tr>\n",
       "      <th id=\"T_18101_level0_row2\" class=\"row_heading level0 row2\" >2</th>\n",
       "      <td id=\"T_18101_row2_col0\" class=\"data row2 col0\" >Target type</td>\n",
       "      <td id=\"T_18101_row2_col1\" class=\"data row2 col1\" >Binary</td>\n",
       "    </tr>\n",
       "    <tr>\n",
       "      <th id=\"T_18101_level0_row3\" class=\"row_heading level0 row3\" >3</th>\n",
       "      <td id=\"T_18101_row3_col0\" class=\"data row3 col0\" >Target mapping</td>\n",
       "      <td id=\"T_18101_row3_col1\" class=\"data row3 col1\" >damaged: 0, healthy: 1</td>\n",
       "    </tr>\n",
       "    <tr>\n",
       "      <th id=\"T_18101_level0_row4\" class=\"row_heading level0 row4\" >4</th>\n",
       "      <td id=\"T_18101_row4_col0\" class=\"data row4 col0\" >Original data shape</td>\n",
       "      <td id=\"T_18101_row4_col1\" class=\"data row4 col1\" >(337002, 6)</td>\n",
       "    </tr>\n",
       "    <tr>\n",
       "      <th id=\"T_18101_level0_row5\" class=\"row_heading level0 row5\" >5</th>\n",
       "      <td id=\"T_18101_row5_col0\" class=\"data row5 col0\" >Transformed data shape</td>\n",
       "      <td id=\"T_18101_row5_col1\" class=\"data row5 col1\" >(337002, 6)</td>\n",
       "    </tr>\n",
       "    <tr>\n",
       "      <th id=\"T_18101_level0_row6\" class=\"row_heading level0 row6\" >6</th>\n",
       "      <td id=\"T_18101_row6_col0\" class=\"data row6 col0\" >Transformed train set shape</td>\n",
       "      <td id=\"T_18101_row6_col1\" class=\"data row6 col1\" >(235901, 6)</td>\n",
       "    </tr>\n",
       "    <tr>\n",
       "      <th id=\"T_18101_level0_row7\" class=\"row_heading level0 row7\" >7</th>\n",
       "      <td id=\"T_18101_row7_col0\" class=\"data row7 col0\" >Transformed test set shape</td>\n",
       "      <td id=\"T_18101_row7_col1\" class=\"data row7 col1\" >(101101, 6)</td>\n",
       "    </tr>\n",
       "    <tr>\n",
       "      <th id=\"T_18101_level0_row8\" class=\"row_heading level0 row8\" >8</th>\n",
       "      <td id=\"T_18101_row8_col0\" class=\"data row8 col0\" >Numeric features</td>\n",
       "      <td id=\"T_18101_row8_col1\" class=\"data row8 col1\" >5</td>\n",
       "    </tr>\n",
       "    <tr>\n",
       "      <th id=\"T_18101_level0_row9\" class=\"row_heading level0 row9\" >9</th>\n",
       "      <td id=\"T_18101_row9_col0\" class=\"data row9 col0\" >Preprocess</td>\n",
       "      <td id=\"T_18101_row9_col1\" class=\"data row9 col1\" >True</td>\n",
       "    </tr>\n",
       "    <tr>\n",
       "      <th id=\"T_18101_level0_row10\" class=\"row_heading level0 row10\" >10</th>\n",
       "      <td id=\"T_18101_row10_col0\" class=\"data row10 col0\" >Imputation type</td>\n",
       "      <td id=\"T_18101_row10_col1\" class=\"data row10 col1\" >simple</td>\n",
       "    </tr>\n",
       "    <tr>\n",
       "      <th id=\"T_18101_level0_row11\" class=\"row_heading level0 row11\" >11</th>\n",
       "      <td id=\"T_18101_row11_col0\" class=\"data row11 col0\" >Numeric imputation</td>\n",
       "      <td id=\"T_18101_row11_col1\" class=\"data row11 col1\" >mean</td>\n",
       "    </tr>\n",
       "    <tr>\n",
       "      <th id=\"T_18101_level0_row12\" class=\"row_heading level0 row12\" >12</th>\n",
       "      <td id=\"T_18101_row12_col0\" class=\"data row12 col0\" >Categorical imputation</td>\n",
       "      <td id=\"T_18101_row12_col1\" class=\"data row12 col1\" >mode</td>\n",
       "    </tr>\n",
       "    <tr>\n",
       "      <th id=\"T_18101_level0_row13\" class=\"row_heading level0 row13\" >13</th>\n",
       "      <td id=\"T_18101_row13_col0\" class=\"data row13 col0\" >Fold Generator</td>\n",
       "      <td id=\"T_18101_row13_col1\" class=\"data row13 col1\" >StratifiedKFold</td>\n",
       "    </tr>\n",
       "    <tr>\n",
       "      <th id=\"T_18101_level0_row14\" class=\"row_heading level0 row14\" >14</th>\n",
       "      <td id=\"T_18101_row14_col0\" class=\"data row14 col0\" >Fold Number</td>\n",
       "      <td id=\"T_18101_row14_col1\" class=\"data row14 col1\" >10</td>\n",
       "    </tr>\n",
       "    <tr>\n",
       "      <th id=\"T_18101_level0_row15\" class=\"row_heading level0 row15\" >15</th>\n",
       "      <td id=\"T_18101_row15_col0\" class=\"data row15 col0\" >CPU Jobs</td>\n",
       "      <td id=\"T_18101_row15_col1\" class=\"data row15 col1\" >-1</td>\n",
       "    </tr>\n",
       "    <tr>\n",
       "      <th id=\"T_18101_level0_row16\" class=\"row_heading level0 row16\" >16</th>\n",
       "      <td id=\"T_18101_row16_col0\" class=\"data row16 col0\" >Use GPU</td>\n",
       "      <td id=\"T_18101_row16_col1\" class=\"data row16 col1\" >True</td>\n",
       "    </tr>\n",
       "    <tr>\n",
       "      <th id=\"T_18101_level0_row17\" class=\"row_heading level0 row17\" >17</th>\n",
       "      <td id=\"T_18101_row17_col0\" class=\"data row17 col0\" >Log Experiment</td>\n",
       "      <td id=\"T_18101_row17_col1\" class=\"data row17 col1\" >MlflowLogger</td>\n",
       "    </tr>\n",
       "    <tr>\n",
       "      <th id=\"T_18101_level0_row18\" class=\"row_heading level0 row18\" >18</th>\n",
       "      <td id=\"T_18101_row18_col0\" class=\"data row18 col0\" >Experiment Name</td>\n",
       "      <td id=\"T_18101_row18_col1\" class=\"data row18 col1\" >time_highpass_data_analysis_binary</td>\n",
       "    </tr>\n",
       "    <tr>\n",
       "      <th id=\"T_18101_level0_row19\" class=\"row_heading level0 row19\" >19</th>\n",
       "      <td id=\"T_18101_row19_col0\" class=\"data row19 col0\" >USI</td>\n",
       "      <td id=\"T_18101_row19_col1\" class=\"data row19 col1\" >9841</td>\n",
       "    </tr>\n",
       "  </tbody>\n",
       "</table>\n"
      ],
      "text/plain": [
       "<pandas.io.formats.style.Styler at 0x1b1e8b5f2d0>"
      ]
     },
     "metadata": {},
     "output_type": "display_data"
    },
    {
     "name": "stdout",
     "output_type": "stream",
     "text": [
      "[LightGBM] [Warning] There are no meaningful features which satisfy the provided configuration. Decreasing Dataset parameters min_data_in_bin or min_data_in_leaf and re-constructing Dataset might resolve this warning.\n",
      "[LightGBM] [Info] Number of positive: 1, number of negative: 1\n",
      "[LightGBM] [Info] This is the GPU trainer!!\n",
      "[LightGBM] [Info] Total Bins 0\n",
      "[LightGBM] [Info] Number of data points in the train set: 2, number of used features: 0\n",
      "[LightGBM] [Info] Using GPU Device: Quadro P620, Vendor: NVIDIA Corporation\n",
      "[LightGBM] [Info] Compiling OpenCL Kernel with 16 bins...\n",
      "[LightGBM] [Info] GPU programs have been built\n",
      "[LightGBM] [Warning] GPU acceleration is disabled because no non-trivial dense features can be found\n",
      "[LightGBM] [Info] [binary:BoostFromScore]: pavg=0.500000 -> initscore=0.000000\n",
      "[LightGBM] [Warning] Stopped training because there are no more leaves that meet the split requirements\n",
      "[LightGBM] [Warning] Stopped training because there are no more leaves that meet the split requirements\n",
      "[LightGBM] [Warning] Stopped training because there are no more leaves that meet the split requirements\n",
      "[LightGBM] [Warning] Stopped training because there are no more leaves that meet the split requirements\n",
      "[LightGBM] [Warning] Stopped training because there are no more leaves that meet the split requirements\n",
      "[LightGBM] [Warning] Stopped training because there are no more leaves that meet the split requirements\n",
      "[LightGBM] [Warning] Stopped training because there are no more leaves that meet the split requirements\n",
      "[LightGBM] [Warning] Stopped training because there are no more leaves that meet the split requirements\n",
      "[LightGBM] [Warning] Stopped training because there are no more leaves that meet the split requirements\n",
      "[LightGBM] [Warning] Stopped training because there are no more leaves that meet the split requirements\n",
      "[LightGBM] [Warning] Stopped training because there are no more leaves that meet the split requirements\n",
      "[LightGBM] [Warning] Stopped training because there are no more leaves that meet the split requirements\n",
      "[LightGBM] [Warning] Stopped training because there are no more leaves that meet the split requirements\n",
      "[LightGBM] [Warning] Stopped training because there are no more leaves that meet the split requirements\n",
      "[LightGBM] [Warning] Stopped training because there are no more leaves that meet the split requirements\n",
      "[LightGBM] [Warning] Stopped training because there are no more leaves that meet the split requirements\n",
      "[LightGBM] [Warning] Stopped training because there are no more leaves that meet the split requirements\n",
      "[LightGBM] [Warning] Stopped training because there are no more leaves that meet the split requirements\n",
      "[LightGBM] [Warning] Stopped training because there are no more leaves that meet the split requirements\n",
      "[LightGBM] [Warning] Stopped training because there are no more leaves that meet the split requirements\n",
      "[LightGBM] [Warning] Stopped training because there are no more leaves that meet the split requirements\n",
      "[LightGBM] [Warning] Stopped training because there are no more leaves that meet the split requirements\n",
      "[LightGBM] [Warning] Stopped training because there are no more leaves that meet the split requirements\n",
      "[LightGBM] [Warning] Stopped training because there are no more leaves that meet the split requirements\n",
      "[LightGBM] [Warning] Stopped training because there are no more leaves that meet the split requirements\n",
      "[LightGBM] [Warning] Stopped training because there are no more leaves that meet the split requirements\n",
      "[LightGBM] [Warning] Stopped training because there are no more leaves that meet the split requirements\n",
      "[LightGBM] [Warning] Stopped training because there are no more leaves that meet the split requirements\n",
      "[LightGBM] [Warning] Stopped training because there are no more leaves that meet the split requirements\n",
      "[LightGBM] [Warning] Stopped training because there are no more leaves that meet the split requirements\n",
      "[LightGBM] [Warning] Stopped training because there are no more leaves that meet the split requirements\n",
      "[LightGBM] [Warning] Stopped training because there are no more leaves that meet the split requirements\n",
      "[LightGBM] [Warning] Stopped training because there are no more leaves that meet the split requirements\n",
      "[LightGBM] [Warning] Stopped training because there are no more leaves that meet the split requirements\n",
      "[LightGBM] [Warning] Stopped training because there are no more leaves that meet the split requirements\n",
      "[LightGBM] [Warning] Stopped training because there are no more leaves that meet the split requirements\n",
      "[LightGBM] [Warning] Stopped training because there are no more leaves that meet the split requirements\n",
      "[LightGBM] [Warning] Stopped training because there are no more leaves that meet the split requirements\n",
      "[LightGBM] [Warning] Stopped training because there are no more leaves that meet the split requirements\n",
      "[LightGBM] [Warning] Stopped training because there are no more leaves that meet the split requirements\n",
      "[LightGBM] [Warning] Stopped training because there are no more leaves that meet the split requirements\n",
      "[LightGBM] [Warning] Stopped training because there are no more leaves that meet the split requirements\n",
      "[LightGBM] [Warning] Stopped training because there are no more leaves that meet the split requirements\n",
      "[LightGBM] [Warning] Stopped training because there are no more leaves that meet the split requirements\n",
      "[LightGBM] [Warning] Stopped training because there are no more leaves that meet the split requirements\n",
      "[LightGBM] [Warning] Stopped training because there are no more leaves that meet the split requirements\n",
      "[LightGBM] [Warning] Stopped training because there are no more leaves that meet the split requirements\n",
      "[LightGBM] [Warning] Stopped training because there are no more leaves that meet the split requirements\n",
      "[LightGBM] [Warning] Stopped training because there are no more leaves that meet the split requirements\n",
      "[LightGBM] [Warning] Stopped training because there are no more leaves that meet the split requirements\n",
      "[LightGBM] [Warning] Stopped training because there are no more leaves that meet the split requirements\n",
      "[LightGBM] [Warning] Stopped training because there are no more leaves that meet the split requirements\n",
      "[LightGBM] [Warning] Stopped training because there are no more leaves that meet the split requirements\n",
      "[LightGBM] [Warning] Stopped training because there are no more leaves that meet the split requirements\n",
      "[LightGBM] [Warning] Stopped training because there are no more leaves that meet the split requirements\n",
      "[LightGBM] [Warning] Stopped training because there are no more leaves that meet the split requirements\n",
      "[LightGBM] [Warning] Stopped training because there are no more leaves that meet the split requirements\n",
      "[LightGBM] [Warning] Stopped training because there are no more leaves that meet the split requirements\n",
      "[LightGBM] [Warning] Stopped training because there are no more leaves that meet the split requirements\n",
      "[LightGBM] [Warning] Stopped training because there are no more leaves that meet the split requirements\n",
      "[LightGBM] [Warning] Stopped training because there are no more leaves that meet the split requirements\n",
      "[LightGBM] [Warning] Stopped training because there are no more leaves that meet the split requirements\n",
      "[LightGBM] [Warning] Stopped training because there are no more leaves that meet the split requirements\n",
      "[LightGBM] [Warning] Stopped training because there are no more leaves that meet the split requirements\n",
      "[LightGBM] [Warning] Stopped training because there are no more leaves that meet the split requirements\n",
      "[LightGBM] [Warning] Stopped training because there are no more leaves that meet the split requirements\n",
      "[LightGBM] [Warning] Stopped training because there are no more leaves that meet the split requirements\n",
      "[LightGBM] [Warning] Stopped training because there are no more leaves that meet the split requirements\n",
      "[LightGBM] [Warning] Stopped training because there are no more leaves that meet the split requirements\n",
      "[LightGBM] [Warning] Stopped training because there are no more leaves that meet the split requirements\n",
      "[LightGBM] [Warning] Stopped training because there are no more leaves that meet the split requirements\n",
      "[LightGBM] [Warning] Stopped training because there are no more leaves that meet the split requirements\n",
      "[LightGBM] [Warning] Stopped training because there are no more leaves that meet the split requirements\n",
      "[LightGBM] [Warning] Stopped training because there are no more leaves that meet the split requirements\n",
      "[LightGBM] [Warning] Stopped training because there are no more leaves that meet the split requirements\n",
      "[LightGBM] [Warning] Stopped training because there are no more leaves that meet the split requirements\n",
      "[LightGBM] [Warning] Stopped training because there are no more leaves that meet the split requirements\n",
      "[LightGBM] [Warning] Stopped training because there are no more leaves that meet the split requirements\n",
      "[LightGBM] [Warning] Stopped training because there are no more leaves that meet the split requirements\n",
      "[LightGBM] [Warning] Stopped training because there are no more leaves that meet the split requirements\n",
      "[LightGBM] [Warning] Stopped training because there are no more leaves that meet the split requirements\n",
      "[LightGBM] [Warning] Stopped training because there are no more leaves that meet the split requirements\n",
      "[LightGBM] [Warning] Stopped training because there are no more leaves that meet the split requirements\n",
      "[LightGBM] [Warning] Stopped training because there are no more leaves that meet the split requirements\n",
      "[LightGBM] [Warning] Stopped training because there are no more leaves that meet the split requirements\n",
      "[LightGBM] [Warning] Stopped training because there are no more leaves that meet the split requirements\n",
      "[LightGBM] [Warning] Stopped training because there are no more leaves that meet the split requirements\n",
      "[LightGBM] [Warning] Stopped training because there are no more leaves that meet the split requirements\n",
      "[LightGBM] [Warning] Stopped training because there are no more leaves that meet the split requirements\n",
      "[LightGBM] [Warning] Stopped training because there are no more leaves that meet the split requirements\n",
      "[LightGBM] [Warning] Stopped training because there are no more leaves that meet the split requirements\n",
      "[LightGBM] [Warning] Stopped training because there are no more leaves that meet the split requirements\n",
      "[LightGBM] [Warning] Stopped training because there are no more leaves that meet the split requirements\n",
      "[LightGBM] [Warning] Stopped training because there are no more leaves that meet the split requirements\n",
      "[LightGBM] [Warning] Stopped training because there are no more leaves that meet the split requirements\n",
      "[LightGBM] [Warning] Stopped training because there are no more leaves that meet the split requirements\n",
      "[LightGBM] [Warning] Stopped training because there are no more leaves that meet the split requirements\n",
      "[LightGBM] [Warning] Stopped training because there are no more leaves that meet the split requirements\n",
      "[LightGBM] [Warning] Stopped training because there are no more leaves that meet the split requirements\n",
      "[LightGBM] [Warning] Stopped training because there are no more leaves that meet the split requirements\n",
      "[LightGBM] [Warning] There are no meaningful features which satisfy the provided configuration. Decreasing Dataset parameters min_data_in_bin or min_data_in_leaf and re-constructing Dataset might resolve this warning.\n",
      "[LightGBM] [Info] Number of positive: 1, number of negative: 1\n",
      "[LightGBM] [Info] This is the GPU trainer!!\n",
      "[LightGBM] [Info] Total Bins 0\n",
      "[LightGBM] [Info] Number of data points in the train set: 2, number of used features: 0\n",
      "[LightGBM] [Info] Using GPU Device: Quadro P620, Vendor: NVIDIA Corporation\n",
      "[LightGBM] [Info] Compiling OpenCL Kernel with 16 bins...\n",
      "[LightGBM] [Info] GPU programs have been built\n",
      "[LightGBM] [Warning] GPU acceleration is disabled because no non-trivial dense features can be found\n",
      "[LightGBM] [Info] [binary:BoostFromScore]: pavg=0.500000 -> initscore=0.000000\n",
      "[LightGBM] [Warning] Stopped training because there are no more leaves that meet the split requirements\n",
      "[LightGBM] [Warning] Stopped training because there are no more leaves that meet the split requirements\n",
      "[LightGBM] [Warning] Stopped training because there are no more leaves that meet the split requirements\n",
      "[LightGBM] [Warning] Stopped training because there are no more leaves that meet the split requirements\n",
      "[LightGBM] [Warning] Stopped training because there are no more leaves that meet the split requirements\n",
      "[LightGBM] [Warning] Stopped training because there are no more leaves that meet the split requirements\n",
      "[LightGBM] [Warning] Stopped training because there are no more leaves that meet the split requirements\n",
      "[LightGBM] [Warning] Stopped training because there are no more leaves that meet the split requirements\n",
      "[LightGBM] [Warning] Stopped training because there are no more leaves that meet the split requirements\n",
      "[LightGBM] [Warning] Stopped training because there are no more leaves that meet the split requirements\n",
      "[LightGBM] [Warning] Stopped training because there are no more leaves that meet the split requirements\n",
      "[LightGBM] [Warning] Stopped training because there are no more leaves that meet the split requirements\n",
      "[LightGBM] [Warning] Stopped training because there are no more leaves that meet the split requirements\n",
      "[LightGBM] [Warning] Stopped training because there are no more leaves that meet the split requirements\n",
      "[LightGBM] [Warning] Stopped training because there are no more leaves that meet the split requirements\n",
      "[LightGBM] [Warning] Stopped training because there are no more leaves that meet the split requirements\n",
      "[LightGBM] [Warning] Stopped training because there are no more leaves that meet the split requirements\n",
      "[LightGBM] [Warning] Stopped training because there are no more leaves that meet the split requirements\n",
      "[LightGBM] [Warning] Stopped training because there are no more leaves that meet the split requirements\n",
      "[LightGBM] [Warning] Stopped training because there are no more leaves that meet the split requirements\n",
      "[LightGBM] [Warning] Stopped training because there are no more leaves that meet the split requirements\n",
      "[LightGBM] [Warning] Stopped training because there are no more leaves that meet the split requirements\n",
      "[LightGBM] [Warning] Stopped training because there are no more leaves that meet the split requirements\n",
      "[LightGBM] [Warning] Stopped training because there are no more leaves that meet the split requirements\n",
      "[LightGBM] [Warning] Stopped training because there are no more leaves that meet the split requirements\n",
      "[LightGBM] [Warning] Stopped training because there are no more leaves that meet the split requirements\n",
      "[LightGBM] [Warning] Stopped training because there are no more leaves that meet the split requirements\n",
      "[LightGBM] [Warning] Stopped training because there are no more leaves that meet the split requirements\n",
      "[LightGBM] [Warning] Stopped training because there are no more leaves that meet the split requirements\n",
      "[LightGBM] [Warning] Stopped training because there are no more leaves that meet the split requirements\n",
      "[LightGBM] [Warning] Stopped training because there are no more leaves that meet the split requirements\n",
      "[LightGBM] [Warning] Stopped training because there are no more leaves that meet the split requirements\n",
      "[LightGBM] [Warning] Stopped training because there are no more leaves that meet the split requirements\n",
      "[LightGBM] [Warning] Stopped training because there are no more leaves that meet the split requirements\n",
      "[LightGBM] [Warning] Stopped training because there are no more leaves that meet the split requirements\n",
      "[LightGBM] [Warning] Stopped training because there are no more leaves that meet the split requirements\n",
      "[LightGBM] [Warning] Stopped training because there are no more leaves that meet the split requirements\n",
      "[LightGBM] [Warning] Stopped training because there are no more leaves that meet the split requirements\n",
      "[LightGBM] [Warning] Stopped training because there are no more leaves that meet the split requirements\n",
      "[LightGBM] [Warning] Stopped training because there are no more leaves that meet the split requirements\n",
      "[LightGBM] [Warning] Stopped training because there are no more leaves that meet the split requirements\n",
      "[LightGBM] [Warning] Stopped training because there are no more leaves that meet the split requirements\n",
      "[LightGBM] [Warning] Stopped training because there are no more leaves that meet the split requirements\n",
      "[LightGBM] [Warning] Stopped training because there are no more leaves that meet the split requirements\n",
      "[LightGBM] [Warning] Stopped training because there are no more leaves that meet the split requirements\n",
      "[LightGBM] [Warning] Stopped training because there are no more leaves that meet the split requirements\n",
      "[LightGBM] [Warning] Stopped training because there are no more leaves that meet the split requirements\n",
      "[LightGBM] [Warning] Stopped training because there are no more leaves that meet the split requirements\n",
      "[LightGBM] [Warning] Stopped training because there are no more leaves that meet the split requirements\n",
      "[LightGBM] [Warning] Stopped training because there are no more leaves that meet the split requirements\n",
      "[LightGBM] [Warning] Stopped training because there are no more leaves that meet the split requirements\n",
      "[LightGBM] [Warning] Stopped training because there are no more leaves that meet the split requirements\n",
      "[LightGBM] [Warning] Stopped training because there are no more leaves that meet the split requirements\n",
      "[LightGBM] [Warning] Stopped training because there are no more leaves that meet the split requirements\n",
      "[LightGBM] [Warning] Stopped training because there are no more leaves that meet the split requirements\n",
      "[LightGBM] [Warning] Stopped training because there are no more leaves that meet the split requirements\n",
      "[LightGBM] [Warning] Stopped training because there are no more leaves that meet the split requirements\n",
      "[LightGBM] [Warning] Stopped training because there are no more leaves that meet the split requirements\n",
      "[LightGBM] [Warning] Stopped training because there are no more leaves that meet the split requirements\n",
      "[LightGBM] [Warning] Stopped training because there are no more leaves that meet the split requirements\n",
      "[LightGBM] [Warning] Stopped training because there are no more leaves that meet the split requirements\n",
      "[LightGBM] [Warning] Stopped training because there are no more leaves that meet the split requirements\n",
      "[LightGBM] [Warning] Stopped training because there are no more leaves that meet the split requirements\n",
      "[LightGBM] [Warning] Stopped training because there are no more leaves that meet the split requirements\n",
      "[LightGBM] [Warning] Stopped training because there are no more leaves that meet the split requirements\n",
      "[LightGBM] [Warning] Stopped training because there are no more leaves that meet the split requirements\n",
      "[LightGBM] [Warning] Stopped training because there are no more leaves that meet the split requirements\n",
      "[LightGBM] [Warning] Stopped training because there are no more leaves that meet the split requirements\n",
      "[LightGBM] [Warning] Stopped training because there are no more leaves that meet the split requirements\n",
      "[LightGBM] [Warning] Stopped training because there are no more leaves that meet the split requirements\n",
      "[LightGBM] [Warning] Stopped training because there are no more leaves that meet the split requirements\n",
      "[LightGBM] [Warning] Stopped training because there are no more leaves that meet the split requirements\n",
      "[LightGBM] [Warning] Stopped training because there are no more leaves that meet the split requirements\n",
      "[LightGBM] [Warning] Stopped training because there are no more leaves that meet the split requirements\n",
      "[LightGBM] [Warning] Stopped training because there are no more leaves that meet the split requirements\n",
      "[LightGBM] [Warning] Stopped training because there are no more leaves that meet the split requirements\n",
      "[LightGBM] [Warning] Stopped training because there are no more leaves that meet the split requirements\n",
      "[LightGBM] [Warning] Stopped training because there are no more leaves that meet the split requirements\n",
      "[LightGBM] [Warning] Stopped training because there are no more leaves that meet the split requirements\n",
      "[LightGBM] [Warning] Stopped training because there are no more leaves that meet the split requirements\n",
      "[LightGBM] [Warning] Stopped training because there are no more leaves that meet the split requirements\n",
      "[LightGBM] [Warning] Stopped training because there are no more leaves that meet the split requirements\n",
      "[LightGBM] [Warning] Stopped training because there are no more leaves that meet the split requirements\n",
      "[LightGBM] [Warning] Stopped training because there are no more leaves that meet the split requirements\n",
      "[LightGBM] [Warning] Stopped training because there are no more leaves that meet the split requirements\n",
      "[LightGBM] [Warning] Stopped training because there are no more leaves that meet the split requirements\n",
      "[LightGBM] [Warning] Stopped training because there are no more leaves that meet the split requirements\n",
      "[LightGBM] [Warning] Stopped training because there are no more leaves that meet the split requirements\n",
      "[LightGBM] [Warning] Stopped training because there are no more leaves that meet the split requirements\n",
      "[LightGBM] [Warning] Stopped training because there are no more leaves that meet the split requirements\n",
      "[LightGBM] [Warning] Stopped training because there are no more leaves that meet the split requirements\n",
      "[LightGBM] [Warning] Stopped training because there are no more leaves that meet the split requirements\n",
      "[LightGBM] [Warning] Stopped training because there are no more leaves that meet the split requirements\n",
      "[LightGBM] [Warning] Stopped training because there are no more leaves that meet the split requirements\n",
      "[LightGBM] [Warning] Stopped training because there are no more leaves that meet the split requirements\n",
      "[LightGBM] [Warning] Stopped training because there are no more leaves that meet the split requirements\n",
      "[LightGBM] [Warning] Stopped training because there are no more leaves that meet the split requirements\n",
      "[LightGBM] [Warning] Stopped training because there are no more leaves that meet the split requirements\n",
      "[LightGBM] [Warning] Stopped training because there are no more leaves that meet the split requirements\n",
      "[LightGBM] [Warning] Stopped training because there are no more leaves that meet the split requirements\n"
     ]
    },
    {
     "name": "stderr",
     "output_type": "stream",
     "text": [
      "WARNING:root:Malformed experiment '819906245614309265'. Detailed error Yaml file 'H:\\masterarbeit_python\\mlruns\\819906245614309265\\meta.yaml' does not exist.\n",
      "Traceback (most recent call last):\n",
      "  File \"C:\\Users\\ge35yay\\.conda\\envs\\venv_masterarbeit_RMT\\Lib\\site-packages\\mlflow\\store\\tracking\\file_store.py\", line 317, in search_experiments\n",
      "    exp = self._get_experiment(exp_id, view_type)\n",
      "          ^^^^^^^^^^^^^^^^^^^^^^^^^^^^^^^^^^^^^^^\n",
      "  File \"C:\\Users\\ge35yay\\.conda\\envs\\venv_masterarbeit_RMT\\Lib\\site-packages\\mlflow\\store\\tracking\\file_store.py\", line 410, in _get_experiment\n",
      "    meta = FileStore._read_yaml(experiment_dir, FileStore.META_DATA_FILE_NAME)\n",
      "           ^^^^^^^^^^^^^^^^^^^^^^^^^^^^^^^^^^^^^^^^^^^^^^^^^^^^^^^^^^^^^^^^^^^\n",
      "  File \"C:\\Users\\ge35yay\\.conda\\envs\\venv_masterarbeit_RMT\\Lib\\site-packages\\mlflow\\store\\tracking\\file_store.py\", line 1341, in _read_yaml\n",
      "    return _read_helper(root, file_name, attempts_remaining=retries)\n",
      "           ^^^^^^^^^^^^^^^^^^^^^^^^^^^^^^^^^^^^^^^^^^^^^^^^^^^^^^^^^\n",
      "  File \"C:\\Users\\ge35yay\\.conda\\envs\\venv_masterarbeit_RMT\\Lib\\site-packages\\mlflow\\store\\tracking\\file_store.py\", line 1334, in _read_helper\n",
      "    result = read_yaml(root, file_name)\n",
      "             ^^^^^^^^^^^^^^^^^^^^^^^^^^\n",
      "  File \"C:\\Users\\ge35yay\\.conda\\envs\\venv_masterarbeit_RMT\\Lib\\site-packages\\mlflow\\utils\\file_utils.py\", line 309, in read_yaml\n",
      "    raise MissingConfigException(f\"Yaml file '{file_path}' does not exist.\")\n",
      "mlflow.exceptions.MissingConfigException: Yaml file 'H:\\masterarbeit_python\\mlruns\\819906245614309265\\meta.yaml' does not exist.\n",
      "2025/10/08 14:43:53 INFO mlflow.tracking.fluent: Experiment with name 'time_highpass_data_analysis_binary' does not exist. Creating a new experiment.\n",
      "WARNING:root:Malformed experiment '819906245614309265'. Detailed error Yaml file 'H:\\masterarbeit_python\\mlruns\\819906245614309265\\meta.yaml' does not exist.\n",
      "Traceback (most recent call last):\n",
      "  File \"C:\\Users\\ge35yay\\.conda\\envs\\venv_masterarbeit_RMT\\Lib\\site-packages\\mlflow\\store\\tracking\\file_store.py\", line 317, in search_experiments\n",
      "    exp = self._get_experiment(exp_id, view_type)\n",
      "          ^^^^^^^^^^^^^^^^^^^^^^^^^^^^^^^^^^^^^^^\n",
      "  File \"C:\\Users\\ge35yay\\.conda\\envs\\venv_masterarbeit_RMT\\Lib\\site-packages\\mlflow\\store\\tracking\\file_store.py\", line 410, in _get_experiment\n",
      "    meta = FileStore._read_yaml(experiment_dir, FileStore.META_DATA_FILE_NAME)\n",
      "           ^^^^^^^^^^^^^^^^^^^^^^^^^^^^^^^^^^^^^^^^^^^^^^^^^^^^^^^^^^^^^^^^^^^\n",
      "  File \"C:\\Users\\ge35yay\\.conda\\envs\\venv_masterarbeit_RMT\\Lib\\site-packages\\mlflow\\store\\tracking\\file_store.py\", line 1341, in _read_yaml\n",
      "    return _read_helper(root, file_name, attempts_remaining=retries)\n",
      "           ^^^^^^^^^^^^^^^^^^^^^^^^^^^^^^^^^^^^^^^^^^^^^^^^^^^^^^^^^\n",
      "  File \"C:\\Users\\ge35yay\\.conda\\envs\\venv_masterarbeit_RMT\\Lib\\site-packages\\mlflow\\store\\tracking\\file_store.py\", line 1334, in _read_helper\n",
      "    result = read_yaml(root, file_name)\n",
      "             ^^^^^^^^^^^^^^^^^^^^^^^^^^\n",
      "  File \"C:\\Users\\ge35yay\\.conda\\envs\\venv_masterarbeit_RMT\\Lib\\site-packages\\mlflow\\utils\\file_utils.py\", line 309, in read_yaml\n",
      "    raise MissingConfigException(f\"Yaml file '{file_path}' does not exist.\")\n",
      "mlflow.exceptions.MissingConfigException: Yaml file 'H:\\masterarbeit_python\\mlruns\\819906245614309265\\meta.yaml' does not exist.\n"
     ]
    }
   ],
   "source": [
    "experiment = setup(features_df_training_normalized, target='Label', log_experiment = True, experiment_name = experiment_name, use_gpu = True)"
   ]
  },
  {
   "cell_type": "code",
   "execution_count": 24,
   "id": "f80bef15-a376-490d-803c-05e8b586a9cd",
   "metadata": {},
   "outputs": [
    {
     "data": {
      "text/plain": [
       "5063      healthy\n",
       "320305    damaged\n",
       "178401    damaged\n",
       "180002    damaged\n",
       "245582    damaged\n",
       "           ...   \n",
       "32247     damaged\n",
       "351528    damaged\n",
       "105424    healthy\n",
       "161338    damaged\n",
       "205823    healthy\n",
       "Name: Label, Length: 101101, dtype: category\n",
       "Categories (2, object): ['damaged', 'healthy']"
      ]
     },
     "execution_count": 24,
     "metadata": {},
     "output_type": "execute_result"
    }
   ],
   "source": [
    "experiment.y_test"
   ]
  },
  {
   "cell_type": "markdown",
   "id": "b7d6300a-a54c-480c-8735-026fdbb0fd45",
   "metadata": {
    "jp-MarkdownHeadingCollapsed": true
   },
   "source": [
    "## Add aditional metrics"
   ]
  },
  {
   "cell_type": "code",
   "execution_count": 25,
   "id": "cdb3d97b-cb84-42ed-b00b-ec01fcc7bfaa",
   "metadata": {},
   "outputs": [
    {
     "data": {
      "text/plain": [
       "Name                                                          Log Loss\n",
       "Display Name                                                  Log Loss\n",
       "Score Function       <pycaret.internal.metrics.EncodedDecodedLabels...\n",
       "Scorer               make_scorer(log_loss, greater_is_better=False,...\n",
       "Target                                                      pred_proba\n",
       "Args                                                                {}\n",
       "Greater is Better                                                False\n",
       "Multiclass                                                        True\n",
       "Custom                                                            True\n",
       "Name: log_loss, dtype: object"
      ]
     },
     "execution_count": 25,
     "metadata": {},
     "output_type": "execute_result"
    }
   ],
   "source": [
    "# Binary classification metrics\n",
    "add_metric('balanced_acc', 'Balance Acc', balanced_accuracy_score, target='pred', greater_is_better=True)\n",
    "add_metric('hamming_loss', 'Hamming Loss', hamming_loss, target='pred', greater_is_better=False)\n",
    "add_metric('jaccard_score', 'Jaccard Score', jaccard_score, target='pred', greater_is_better=True)\n",
    "add_metric('log_loss', 'Log Loss', log_loss, target='pred_proba', greater_is_better=False)"
   ]
  },
  {
   "cell_type": "raw",
   "id": "fe742ef7-ec02-4e73-b2a5-f2b36eee0066",
   "metadata": {},
   "source": [
    "# Macro\n",
    "add_metric('precision_macro', 'Precision Macro', \n",
    "           lambda y, y_pred: precision_score(y, y_pred, average='macro'), \n",
    "           greater_is_better=True)\n",
    "\n",
    "add_metric('recall_macro', 'Recall Macro', \n",
    "           lambda y, y_pred: recall_score(y, y_pred, average='macro'), \n",
    "           greater_is_better=True)\n",
    "\n",
    "add_metric('f1_macro', 'F1 Macro', \n",
    "           lambda y, y_pred: f1_score(y, y_pred, average='macro'), \n",
    "           greater_is_better=True)\n",
    "\n",
    "# Micro\n",
    "add_metric('precision_micro', 'Precision Micro', \n",
    "           lambda y, y_pred: precision_score(y, y_pred, average='micro'), \n",
    "           greater_is_better=True)\n",
    "\n",
    "add_metric('recall_micro', 'Recall Micro', \n",
    "           lambda y, y_pred: recall_score(y, y_pred, average='micro'), \n",
    "           greater_is_better=True)\n",
    "\n",
    "add_metric('f1_micro', 'F1 Micro', \n",
    "           lambda y, y_pred: f1_score(y, y_pred, average='micro'), \n",
    "           greater_is_better=True)\n",
    "\n",
    "# Weighted\n",
    "add_metric('precision_weighted', 'Precision Weighted', \n",
    "           lambda y, y_pred: precision_score(y, y_pred, average='weighted'), \n",
    "           greater_is_better=True)\n",
    "\n",
    "add_metric('recall_weighted', 'Recall Weighted', \n",
    "           lambda y, y_pred: recall_score(y, y_pred, average='weighted'), \n",
    "           greater_is_better=True)\n",
    "\n",
    "add_metric('f1_weighted', 'F1 Weighted', \n",
    "           lambda y, y_pred: f1_score(y, y_pred, average='weighted'), \n",
    "           greater_is_better=True)"
   ]
  },
  {
   "cell_type": "code",
   "execution_count": 26,
   "id": "c9faa1a3-cf7b-46ea-84b4-6b15167e1e68",
   "metadata": {},
   "outputs": [
    {
     "data": {
      "text/html": [
       "<div>\n",
       "<style scoped>\n",
       "    .dataframe tbody tr th:only-of-type {\n",
       "        vertical-align: middle;\n",
       "    }\n",
       "\n",
       "    .dataframe tbody tr th {\n",
       "        vertical-align: top;\n",
       "    }\n",
       "\n",
       "    .dataframe thead th {\n",
       "        text-align: right;\n",
       "    }\n",
       "</style>\n",
       "<table border=\"1\" class=\"dataframe\">\n",
       "  <thead>\n",
       "    <tr style=\"text-align: right;\">\n",
       "      <th></th>\n",
       "      <th>Name</th>\n",
       "      <th>Display Name</th>\n",
       "      <th>Score Function</th>\n",
       "      <th>Scorer</th>\n",
       "      <th>Target</th>\n",
       "      <th>Args</th>\n",
       "      <th>Greater is Better</th>\n",
       "      <th>Multiclass</th>\n",
       "      <th>Custom</th>\n",
       "    </tr>\n",
       "    <tr>\n",
       "      <th>ID</th>\n",
       "      <th></th>\n",
       "      <th></th>\n",
       "      <th></th>\n",
       "      <th></th>\n",
       "      <th></th>\n",
       "      <th></th>\n",
       "      <th></th>\n",
       "      <th></th>\n",
       "      <th></th>\n",
       "    </tr>\n",
       "  </thead>\n",
       "  <tbody>\n",
       "    <tr>\n",
       "      <th>acc</th>\n",
       "      <td>Accuracy</td>\n",
       "      <td>Accuracy</td>\n",
       "      <td>&lt;function accuracy_score at 0x000001B1E1DEF2E0&gt;</td>\n",
       "      <td>accuracy</td>\n",
       "      <td>pred</td>\n",
       "      <td>{}</td>\n",
       "      <td>True</td>\n",
       "      <td>True</td>\n",
       "      <td>False</td>\n",
       "    </tr>\n",
       "    <tr>\n",
       "      <th>auc</th>\n",
       "      <td>AUC</td>\n",
       "      <td>AUC</td>\n",
       "      <td>&lt;pycaret.internal.metrics.BinaryMulticlassScor...</td>\n",
       "      <td>make_scorer(roc_auc_score, response_method=('d...</td>\n",
       "      <td>pred_proba</td>\n",
       "      <td>{'average': 'weighted', 'multi_class': 'ovr'}</td>\n",
       "      <td>True</td>\n",
       "      <td>True</td>\n",
       "      <td>False</td>\n",
       "    </tr>\n",
       "    <tr>\n",
       "      <th>recall</th>\n",
       "      <td>Recall</td>\n",
       "      <td>Recall</td>\n",
       "      <td>&lt;pycaret.internal.metrics.BinaryMulticlassScor...</td>\n",
       "      <td>make_scorer(recall_score, response_method='pre...</td>\n",
       "      <td>pred</td>\n",
       "      <td>{'average': 'weighted'}</td>\n",
       "      <td>True</td>\n",
       "      <td>True</td>\n",
       "      <td>False</td>\n",
       "    </tr>\n",
       "    <tr>\n",
       "      <th>precision</th>\n",
       "      <td>Precision</td>\n",
       "      <td>Prec.</td>\n",
       "      <td>&lt;pycaret.internal.metrics.BinaryMulticlassScor...</td>\n",
       "      <td>make_scorer(precision_score, response_method='...</td>\n",
       "      <td>pred</td>\n",
       "      <td>{'average': 'weighted'}</td>\n",
       "      <td>True</td>\n",
       "      <td>True</td>\n",
       "      <td>False</td>\n",
       "    </tr>\n",
       "    <tr>\n",
       "      <th>f1</th>\n",
       "      <td>F1</td>\n",
       "      <td>F1</td>\n",
       "      <td>&lt;pycaret.internal.metrics.BinaryMulticlassScor...</td>\n",
       "      <td>make_scorer(f1_score, response_method='predict...</td>\n",
       "      <td>pred</td>\n",
       "      <td>{'average': 'weighted'}</td>\n",
       "      <td>True</td>\n",
       "      <td>True</td>\n",
       "      <td>False</td>\n",
       "    </tr>\n",
       "    <tr>\n",
       "      <th>kappa</th>\n",
       "      <td>Kappa</td>\n",
       "      <td>Kappa</td>\n",
       "      <td>&lt;function cohen_kappa_score at 0x000001B1E1DEF...</td>\n",
       "      <td>make_scorer(cohen_kappa_score, response_method...</td>\n",
       "      <td>pred</td>\n",
       "      <td>{}</td>\n",
       "      <td>True</td>\n",
       "      <td>True</td>\n",
       "      <td>False</td>\n",
       "    </tr>\n",
       "    <tr>\n",
       "      <th>mcc</th>\n",
       "      <td>MCC</td>\n",
       "      <td>MCC</td>\n",
       "      <td>&lt;function matthews_corrcoef at 0x000001B1E1DEF...</td>\n",
       "      <td>make_scorer(matthews_corrcoef, response_method...</td>\n",
       "      <td>pred</td>\n",
       "      <td>{}</td>\n",
       "      <td>True</td>\n",
       "      <td>True</td>\n",
       "      <td>False</td>\n",
       "    </tr>\n",
       "    <tr>\n",
       "      <th>balanced_acc</th>\n",
       "      <td>Balance Acc</td>\n",
       "      <td>Balance Acc</td>\n",
       "      <td>&lt;pycaret.internal.metrics.EncodedDecodedLabels...</td>\n",
       "      <td>make_scorer(balanced_accuracy_score, response_...</td>\n",
       "      <td>pred</td>\n",
       "      <td>{}</td>\n",
       "      <td>True</td>\n",
       "      <td>True</td>\n",
       "      <td>True</td>\n",
       "    </tr>\n",
       "    <tr>\n",
       "      <th>hamming_loss</th>\n",
       "      <td>Hamming Loss</td>\n",
       "      <td>Hamming Loss</td>\n",
       "      <td>&lt;pycaret.internal.metrics.EncodedDecodedLabels...</td>\n",
       "      <td>make_scorer(hamming_loss, greater_is_better=Fa...</td>\n",
       "      <td>pred</td>\n",
       "      <td>{}</td>\n",
       "      <td>False</td>\n",
       "      <td>True</td>\n",
       "      <td>True</td>\n",
       "    </tr>\n",
       "    <tr>\n",
       "      <th>jaccard_score</th>\n",
       "      <td>Jaccard Score</td>\n",
       "      <td>Jaccard Score</td>\n",
       "      <td>&lt;pycaret.internal.metrics.EncodedDecodedLabels...</td>\n",
       "      <td>make_scorer(jaccard_score, response_method='pr...</td>\n",
       "      <td>pred</td>\n",
       "      <td>{}</td>\n",
       "      <td>True</td>\n",
       "      <td>True</td>\n",
       "      <td>True</td>\n",
       "    </tr>\n",
       "    <tr>\n",
       "      <th>log_loss</th>\n",
       "      <td>Log Loss</td>\n",
       "      <td>Log Loss</td>\n",
       "      <td>&lt;pycaret.internal.metrics.EncodedDecodedLabels...</td>\n",
       "      <td>make_scorer(log_loss, greater_is_better=False,...</td>\n",
       "      <td>pred_proba</td>\n",
       "      <td>{}</td>\n",
       "      <td>False</td>\n",
       "      <td>True</td>\n",
       "      <td>True</td>\n",
       "    </tr>\n",
       "  </tbody>\n",
       "</table>\n",
       "</div>"
      ],
      "text/plain": [
       "                        Name   Display Name  \\\n",
       "ID                                            \n",
       "acc                 Accuracy       Accuracy   \n",
       "auc                      AUC            AUC   \n",
       "recall                Recall         Recall   \n",
       "precision          Precision          Prec.   \n",
       "f1                        F1             F1   \n",
       "kappa                  Kappa          Kappa   \n",
       "mcc                      MCC            MCC   \n",
       "balanced_acc     Balance Acc    Balance Acc   \n",
       "hamming_loss    Hamming Loss   Hamming Loss   \n",
       "jaccard_score  Jaccard Score  Jaccard Score   \n",
       "log_loss            Log Loss       Log Loss   \n",
       "\n",
       "                                                  Score Function  \\\n",
       "ID                                                                 \n",
       "acc              <function accuracy_score at 0x000001B1E1DEF2E0>   \n",
       "auc            <pycaret.internal.metrics.BinaryMulticlassScor...   \n",
       "recall         <pycaret.internal.metrics.BinaryMulticlassScor...   \n",
       "precision      <pycaret.internal.metrics.BinaryMulticlassScor...   \n",
       "f1             <pycaret.internal.metrics.BinaryMulticlassScor...   \n",
       "kappa          <function cohen_kappa_score at 0x000001B1E1DEF...   \n",
       "mcc            <function matthews_corrcoef at 0x000001B1E1DEF...   \n",
       "balanced_acc   <pycaret.internal.metrics.EncodedDecodedLabels...   \n",
       "hamming_loss   <pycaret.internal.metrics.EncodedDecodedLabels...   \n",
       "jaccard_score  <pycaret.internal.metrics.EncodedDecodedLabels...   \n",
       "log_loss       <pycaret.internal.metrics.EncodedDecodedLabels...   \n",
       "\n",
       "                                                          Scorer      Target  \\\n",
       "ID                                                                             \n",
       "acc                                                     accuracy        pred   \n",
       "auc            make_scorer(roc_auc_score, response_method=('d...  pred_proba   \n",
       "recall         make_scorer(recall_score, response_method='pre...        pred   \n",
       "precision      make_scorer(precision_score, response_method='...        pred   \n",
       "f1             make_scorer(f1_score, response_method='predict...        pred   \n",
       "kappa          make_scorer(cohen_kappa_score, response_method...        pred   \n",
       "mcc            make_scorer(matthews_corrcoef, response_method...        pred   \n",
       "balanced_acc   make_scorer(balanced_accuracy_score, response_...        pred   \n",
       "hamming_loss   make_scorer(hamming_loss, greater_is_better=Fa...        pred   \n",
       "jaccard_score  make_scorer(jaccard_score, response_method='pr...        pred   \n",
       "log_loss       make_scorer(log_loss, greater_is_better=False,...  pred_proba   \n",
       "\n",
       "                                                        Args  \\\n",
       "ID                                                             \n",
       "acc                                                       {}   \n",
       "auc            {'average': 'weighted', 'multi_class': 'ovr'}   \n",
       "recall                               {'average': 'weighted'}   \n",
       "precision                            {'average': 'weighted'}   \n",
       "f1                                   {'average': 'weighted'}   \n",
       "kappa                                                     {}   \n",
       "mcc                                                       {}   \n",
       "balanced_acc                                              {}   \n",
       "hamming_loss                                              {}   \n",
       "jaccard_score                                             {}   \n",
       "log_loss                                                  {}   \n",
       "\n",
       "               Greater is Better  Multiclass  Custom  \n",
       "ID                                                    \n",
       "acc                         True        True   False  \n",
       "auc                         True        True   False  \n",
       "recall                      True        True   False  \n",
       "precision                   True        True   False  \n",
       "f1                          True        True   False  \n",
       "kappa                       True        True   False  \n",
       "mcc                         True        True   False  \n",
       "balanced_acc                True        True    True  \n",
       "hamming_loss               False        True    True  \n",
       "jaccard_score               True        True    True  \n",
       "log_loss                   False        True    True  "
      ]
     },
     "execution_count": 26,
     "metadata": {},
     "output_type": "execute_result"
    }
   ],
   "source": [
    "all_metrics = get_metrics()\n",
    "all_metrics"
   ]
  },
  {
   "cell_type": "markdown",
   "id": "81de3f05-6198-4ae2-adba-d294aee48b08",
   "metadata": {},
   "source": [
    "## Light Gradient Boosting Machine"
   ]
  },
  {
   "cell_type": "code",
   "execution_count": 27,
   "id": "d4dae2f0-2275-46d5-9ad2-aee53bf72681",
   "metadata": {},
   "outputs": [],
   "source": [
    "bestParamsLIGHTGBM = {\n",
    "    'bagging_fraction': 0.8455104741417432,\n",
    "    'bagging_freq': 0,\n",
    "    'boosting_type': 'gbdt',\n",
    "    'class_weight': None,\n",
    "    'colsample_bytree': 1.0,\n",
    "    'device': 'gpu',\n",
    "    'feature_fraction': 0.42947671039481,\n",
    "    'importance_type': 'split',\n",
    "    'learning_rate': 0.47910287588557177,\n",
    "    'max_depth': -1,\n",
    "    'min_child_samples': 41,\n",
    "    'min_child_weight': 0.001,\n",
    "    'min_split_gain': 0.23016472358397666,\n",
    "    'n_estimators': 245,\n",
    "    'n_jobs': -1,\n",
    "    'num_leaves': 250,\n",
    "    'objective': None,\n",
    "    'random_state': 1768,\n",
    "    'reg_alpha': 0.00039695268896179983,\n",
    "    'reg_lambda': 3.6071600095045767e-06,\n",
    "    'subsample': 1.0,\n",
    "    'subsample_for_bin': 200000,\n",
    "    'subsample_freq': 0\n",
    "}\n"
   ]
  },
  {
   "cell_type": "code",
   "execution_count": 28,
   "id": "ca0ce27b-40e1-468f-945e-ee949316a92d",
   "metadata": {},
   "outputs": [
    {
     "data": {
      "text/html": [],
      "text/plain": [
       "<IPython.core.display.HTML object>"
      ]
     },
     "metadata": {},
     "output_type": "display_data"
    },
    {
     "data": {
      "text/html": [
       "<style type=\"text/css\">\n",
       "#T_6db8c_row10_col0, #T_6db8c_row10_col1, #T_6db8c_row10_col2, #T_6db8c_row10_col3, #T_6db8c_row10_col4, #T_6db8c_row10_col5, #T_6db8c_row10_col6, #T_6db8c_row10_col7, #T_6db8c_row10_col8, #T_6db8c_row10_col9, #T_6db8c_row10_col10 {\n",
       "  background: yellow;\n",
       "}\n",
       "</style>\n",
       "<table id=\"T_6db8c\">\n",
       "  <thead>\n",
       "    <tr>\n",
       "      <th class=\"blank level0\" >&nbsp;</th>\n",
       "      <th id=\"T_6db8c_level0_col0\" class=\"col_heading level0 col0\" >Accuracy</th>\n",
       "      <th id=\"T_6db8c_level0_col1\" class=\"col_heading level0 col1\" >AUC</th>\n",
       "      <th id=\"T_6db8c_level0_col2\" class=\"col_heading level0 col2\" >Recall</th>\n",
       "      <th id=\"T_6db8c_level0_col3\" class=\"col_heading level0 col3\" >Prec.</th>\n",
       "      <th id=\"T_6db8c_level0_col4\" class=\"col_heading level0 col4\" >F1</th>\n",
       "      <th id=\"T_6db8c_level0_col5\" class=\"col_heading level0 col5\" >Kappa</th>\n",
       "      <th id=\"T_6db8c_level0_col6\" class=\"col_heading level0 col6\" >MCC</th>\n",
       "      <th id=\"T_6db8c_level0_col7\" class=\"col_heading level0 col7\" >Balance Acc</th>\n",
       "      <th id=\"T_6db8c_level0_col8\" class=\"col_heading level0 col8\" >Hamming Loss</th>\n",
       "      <th id=\"T_6db8c_level0_col9\" class=\"col_heading level0 col9\" >Jaccard Score</th>\n",
       "      <th id=\"T_6db8c_level0_col10\" class=\"col_heading level0 col10\" >Log Loss</th>\n",
       "    </tr>\n",
       "    <tr>\n",
       "      <th class=\"index_name level0\" >Fold</th>\n",
       "      <th class=\"blank col0\" >&nbsp;</th>\n",
       "      <th class=\"blank col1\" >&nbsp;</th>\n",
       "      <th class=\"blank col2\" >&nbsp;</th>\n",
       "      <th class=\"blank col3\" >&nbsp;</th>\n",
       "      <th class=\"blank col4\" >&nbsp;</th>\n",
       "      <th class=\"blank col5\" >&nbsp;</th>\n",
       "      <th class=\"blank col6\" >&nbsp;</th>\n",
       "      <th class=\"blank col7\" >&nbsp;</th>\n",
       "      <th class=\"blank col8\" >&nbsp;</th>\n",
       "      <th class=\"blank col9\" >&nbsp;</th>\n",
       "      <th class=\"blank col10\" >&nbsp;</th>\n",
       "    </tr>\n",
       "  </thead>\n",
       "  <tbody>\n",
       "    <tr>\n",
       "      <th id=\"T_6db8c_level0_row0\" class=\"row_heading level0 row0\" >0</th>\n",
       "      <td id=\"T_6db8c_row0_col0\" class=\"data row0 col0\" >0.8669</td>\n",
       "      <td id=\"T_6db8c_row0_col1\" class=\"data row0 col1\" >0.9003</td>\n",
       "      <td id=\"T_6db8c_row0_col2\" class=\"data row0 col2\" >0.8669</td>\n",
       "      <td id=\"T_6db8c_row0_col3\" class=\"data row0 col3\" >0.8625</td>\n",
       "      <td id=\"T_6db8c_row0_col4\" class=\"data row0 col4\" >0.8560</td>\n",
       "      <td id=\"T_6db8c_row0_col5\" class=\"data row0 col5\" >0.5692</td>\n",
       "      <td id=\"T_6db8c_row0_col6\" class=\"data row0 col6\" >0.5893</td>\n",
       "      <td id=\"T_6db8c_row0_col7\" class=\"data row0 col7\" >0.7495</td>\n",
       "      <td id=\"T_6db8c_row0_col8\" class=\"data row0 col8\" >0.1331</td>\n",
       "      <td id=\"T_6db8c_row0_col9\" class=\"data row0 col9\" >0.4779</td>\n",
       "      <td id=\"T_6db8c_row0_col10\" class=\"data row0 col10\" >0.3035</td>\n",
       "    </tr>\n",
       "    <tr>\n",
       "      <th id=\"T_6db8c_level0_row1\" class=\"row_heading level0 row1\" >1</th>\n",
       "      <td id=\"T_6db8c_row1_col0\" class=\"data row1 col0\" >0.8527</td>\n",
       "      <td id=\"T_6db8c_row1_col1\" class=\"data row1 col1\" >0.8602</td>\n",
       "      <td id=\"T_6db8c_row1_col2\" class=\"data row1 col2\" >0.8527</td>\n",
       "      <td id=\"T_6db8c_row1_col3\" class=\"data row1 col3\" >0.8446</td>\n",
       "      <td id=\"T_6db8c_row1_col4\" class=\"data row1 col4\" >0.8429</td>\n",
       "      <td id=\"T_6db8c_row1_col5\" class=\"data row1 col5\" >0.5330</td>\n",
       "      <td id=\"T_6db8c_row1_col6\" class=\"data row1 col6\" >0.5459</td>\n",
       "      <td id=\"T_6db8c_row1_col7\" class=\"data row1 col7\" >0.7385</td>\n",
       "      <td id=\"T_6db8c_row1_col8\" class=\"data row1 col8\" >0.1473</td>\n",
       "      <td id=\"T_6db8c_row1_col9\" class=\"data row1 col9\" >0.4502</td>\n",
       "      <td id=\"T_6db8c_row1_col10\" class=\"data row1 col10\" >0.9197</td>\n",
       "    </tr>\n",
       "    <tr>\n",
       "      <th id=\"T_6db8c_level0_row2\" class=\"row_heading level0 row2\" >2</th>\n",
       "      <td id=\"T_6db8c_row2_col0\" class=\"data row2 col0\" >0.8676</td>\n",
       "      <td id=\"T_6db8c_row2_col1\" class=\"data row2 col1\" >0.9014</td>\n",
       "      <td id=\"T_6db8c_row2_col2\" class=\"data row2 col2\" >0.8676</td>\n",
       "      <td id=\"T_6db8c_row2_col3\" class=\"data row2 col3\" >0.8636</td>\n",
       "      <td id=\"T_6db8c_row2_col4\" class=\"data row2 col4\" >0.8567</td>\n",
       "      <td id=\"T_6db8c_row2_col5\" class=\"data row2 col5\" >0.5711</td>\n",
       "      <td id=\"T_6db8c_row2_col6\" class=\"data row2 col6\" >0.5916</td>\n",
       "      <td id=\"T_6db8c_row2_col7\" class=\"data row2 col7\" >0.7500</td>\n",
       "      <td id=\"T_6db8c_row2_col8\" class=\"data row2 col8\" >0.1324</td>\n",
       "      <td id=\"T_6db8c_row2_col9\" class=\"data row2 col9\" >0.4793</td>\n",
       "      <td id=\"T_6db8c_row2_col10\" class=\"data row2 col10\" >0.3023</td>\n",
       "    </tr>\n",
       "    <tr>\n",
       "      <th id=\"T_6db8c_level0_row3\" class=\"row_heading level0 row3\" >3</th>\n",
       "      <td id=\"T_6db8c_row3_col0\" class=\"data row3 col0\" >0.8712</td>\n",
       "      <td id=\"T_6db8c_row3_col1\" class=\"data row3 col1\" >0.9020</td>\n",
       "      <td id=\"T_6db8c_row3_col2\" class=\"data row3 col2\" >0.8712</td>\n",
       "      <td id=\"T_6db8c_row3_col3\" class=\"data row3 col3\" >0.8676</td>\n",
       "      <td id=\"T_6db8c_row3_col4\" class=\"data row3 col4\" >0.8610</td>\n",
       "      <td id=\"T_6db8c_row3_col5\" class=\"data row3 col5\" >0.5844</td>\n",
       "      <td id=\"T_6db8c_row3_col6\" class=\"data row3 col6\" >0.6041</td>\n",
       "      <td id=\"T_6db8c_row3_col7\" class=\"data row3 col7\" >0.7569</td>\n",
       "      <td id=\"T_6db8c_row3_col8\" class=\"data row3 col8\" >0.1288</td>\n",
       "      <td id=\"T_6db8c_row3_col9\" class=\"data row3 col9\" >0.4921</td>\n",
       "      <td id=\"T_6db8c_row3_col10\" class=\"data row3 col10\" >0.3061</td>\n",
       "    </tr>\n",
       "    <tr>\n",
       "      <th id=\"T_6db8c_level0_row4\" class=\"row_heading level0 row4\" >4</th>\n",
       "      <td id=\"T_6db8c_row4_col0\" class=\"data row4 col0\" >0.8681</td>\n",
       "      <td id=\"T_6db8c_row4_col1\" class=\"data row4 col1\" >0.8995</td>\n",
       "      <td id=\"T_6db8c_row4_col2\" class=\"data row4 col2\" >0.8681</td>\n",
       "      <td id=\"T_6db8c_row4_col3\" class=\"data row4 col3\" >0.8637</td>\n",
       "      <td id=\"T_6db8c_row4_col4\" class=\"data row4 col4\" >0.8577</td>\n",
       "      <td id=\"T_6db8c_row4_col5\" class=\"data row4 col5\" >0.5746</td>\n",
       "      <td id=\"T_6db8c_row4_col6\" class=\"data row4 col6\" >0.5937</td>\n",
       "      <td id=\"T_6db8c_row4_col7\" class=\"data row4 col7\" >0.7528</td>\n",
       "      <td id=\"T_6db8c_row4_col8\" class=\"data row4 col8\" >0.1319</td>\n",
       "      <td id=\"T_6db8c_row4_col9\" class=\"data row4 col9\" >0.4834</td>\n",
       "      <td id=\"T_6db8c_row4_col10\" class=\"data row4 col10\" >0.3039</td>\n",
       "    </tr>\n",
       "    <tr>\n",
       "      <th id=\"T_6db8c_level0_row5\" class=\"row_heading level0 row5\" >5</th>\n",
       "      <td id=\"T_6db8c_row5_col0\" class=\"data row5 col0\" >0.8686</td>\n",
       "      <td id=\"T_6db8c_row5_col1\" class=\"data row5 col1\" >0.8989</td>\n",
       "      <td id=\"T_6db8c_row5_col2\" class=\"data row5 col2\" >0.8686</td>\n",
       "      <td id=\"T_6db8c_row5_col3\" class=\"data row5 col3\" >0.8652</td>\n",
       "      <td id=\"T_6db8c_row5_col4\" class=\"data row5 col4\" >0.8574</td>\n",
       "      <td id=\"T_6db8c_row5_col5\" class=\"data row5 col5\" >0.5728</td>\n",
       "      <td id=\"T_6db8c_row5_col6\" class=\"data row5 col6\" >0.5947</td>\n",
       "      <td id=\"T_6db8c_row5_col7\" class=\"data row5 col7\" >0.7499</td>\n",
       "      <td id=\"T_6db8c_row5_col8\" class=\"data row5 col8\" >0.1314</td>\n",
       "      <td id=\"T_6db8c_row5_col9\" class=\"data row5 col9\" >0.4801</td>\n",
       "      <td id=\"T_6db8c_row5_col10\" class=\"data row5 col10\" >0.3040</td>\n",
       "    </tr>\n",
       "    <tr>\n",
       "      <th id=\"T_6db8c_level0_row6\" class=\"row_heading level0 row6\" >6</th>\n",
       "      <td id=\"T_6db8c_row6_col0\" class=\"data row6 col0\" >0.8648</td>\n",
       "      <td id=\"T_6db8c_row6_col1\" class=\"data row6 col1\" >0.8956</td>\n",
       "      <td id=\"T_6db8c_row6_col2\" class=\"data row6 col2\" >0.8648</td>\n",
       "      <td id=\"T_6db8c_row6_col3\" class=\"data row6 col3\" >0.8604</td>\n",
       "      <td id=\"T_6db8c_row6_col4\" class=\"data row6 col4\" >0.8533</td>\n",
       "      <td id=\"T_6db8c_row6_col5\" class=\"data row6 col5\" >0.5606</td>\n",
       "      <td id=\"T_6db8c_row6_col6\" class=\"data row6 col6\" >0.5818</td>\n",
       "      <td id=\"T_6db8c_row6_col7\" class=\"data row6 col7\" >0.7447</td>\n",
       "      <td id=\"T_6db8c_row6_col8\" class=\"data row6 col8\" >0.1352</td>\n",
       "      <td id=\"T_6db8c_row6_col9\" class=\"data row6 col9\" >0.4694</td>\n",
       "      <td id=\"T_6db8c_row6_col10\" class=\"data row6 col10\" >0.3096</td>\n",
       "    </tr>\n",
       "    <tr>\n",
       "      <th id=\"T_6db8c_level0_row7\" class=\"row_heading level0 row7\" >7</th>\n",
       "      <td id=\"T_6db8c_row7_col0\" class=\"data row7 col0\" >0.8684</td>\n",
       "      <td id=\"T_6db8c_row7_col1\" class=\"data row7 col1\" >0.9014</td>\n",
       "      <td id=\"T_6db8c_row7_col2\" class=\"data row7 col2\" >0.8684</td>\n",
       "      <td id=\"T_6db8c_row7_col3\" class=\"data row7 col3\" >0.8643</td>\n",
       "      <td id=\"T_6db8c_row7_col4\" class=\"data row7 col4\" >0.8578</td>\n",
       "      <td id=\"T_6db8c_row7_col5\" class=\"data row7 col5\" >0.5747</td>\n",
       "      <td id=\"T_6db8c_row7_col6\" class=\"data row7 col6\" >0.5945</td>\n",
       "      <td id=\"T_6db8c_row7_col7\" class=\"data row7 col7\" >0.7523</td>\n",
       "      <td id=\"T_6db8c_row7_col8\" class=\"data row7 col8\" >0.1316</td>\n",
       "      <td id=\"T_6db8c_row7_col9\" class=\"data row7 col9\" >0.4831</td>\n",
       "      <td id=\"T_6db8c_row7_col10\" class=\"data row7 col10\" >0.3033</td>\n",
       "    </tr>\n",
       "    <tr>\n",
       "      <th id=\"T_6db8c_level0_row8\" class=\"row_heading level0 row8\" >8</th>\n",
       "      <td id=\"T_6db8c_row8_col0\" class=\"data row8 col0\" >0.8674</td>\n",
       "      <td id=\"T_6db8c_row8_col1\" class=\"data row8 col1\" >0.8946</td>\n",
       "      <td id=\"T_6db8c_row8_col2\" class=\"data row8 col2\" >0.8674</td>\n",
       "      <td id=\"T_6db8c_row8_col3\" class=\"data row8 col3\" >0.8629</td>\n",
       "      <td id=\"T_6db8c_row8_col4\" class=\"data row8 col4\" >0.8569</td>\n",
       "      <td id=\"T_6db8c_row8_col5\" class=\"data row8 col5\" >0.5724</td>\n",
       "      <td id=\"T_6db8c_row8_col6\" class=\"data row8 col6\" >0.5915</td>\n",
       "      <td id=\"T_6db8c_row8_col7\" class=\"data row8 col7\" >0.7518</td>\n",
       "      <td id=\"T_6db8c_row8_col8\" class=\"data row8 col8\" >0.1326</td>\n",
       "      <td id=\"T_6db8c_row8_col9\" class=\"data row8 col9\" >0.4814</td>\n",
       "      <td id=\"T_6db8c_row8_col10\" class=\"data row8 col10\" >0.3095</td>\n",
       "    </tr>\n",
       "    <tr>\n",
       "      <th id=\"T_6db8c_level0_row9\" class=\"row_heading level0 row9\" >9</th>\n",
       "      <td id=\"T_6db8c_row9_col0\" class=\"data row9 col0\" >0.8680</td>\n",
       "      <td id=\"T_6db8c_row9_col1\" class=\"data row9 col1\" >0.9015</td>\n",
       "      <td id=\"T_6db8c_row9_col2\" class=\"data row9 col2\" >0.8680</td>\n",
       "      <td id=\"T_6db8c_row9_col3\" class=\"data row9 col3\" >0.8640</td>\n",
       "      <td id=\"T_6db8c_row9_col4\" class=\"data row9 col4\" >0.8571</td>\n",
       "      <td id=\"T_6db8c_row9_col5\" class=\"data row9 col5\" >0.5725</td>\n",
       "      <td id=\"T_6db8c_row9_col6\" class=\"data row9 col6\" >0.5930</td>\n",
       "      <td id=\"T_6db8c_row9_col7\" class=\"data row9 col7\" >0.7507</td>\n",
       "      <td id=\"T_6db8c_row9_col8\" class=\"data row9 col8\" >0.1320</td>\n",
       "      <td id=\"T_6db8c_row9_col9\" class=\"data row9 col9\" >0.4807</td>\n",
       "      <td id=\"T_6db8c_row9_col10\" class=\"data row9 col10\" >0.3011</td>\n",
       "    </tr>\n",
       "    <tr>\n",
       "      <th id=\"T_6db8c_level0_row10\" class=\"row_heading level0 row10\" >Mean</th>\n",
       "      <td id=\"T_6db8c_row10_col0\" class=\"data row10 col0\" >0.8664</td>\n",
       "      <td id=\"T_6db8c_row10_col1\" class=\"data row10 col1\" >0.8955</td>\n",
       "      <td id=\"T_6db8c_row10_col2\" class=\"data row10 col2\" >0.8664</td>\n",
       "      <td id=\"T_6db8c_row10_col3\" class=\"data row10 col3\" >0.8619</td>\n",
       "      <td id=\"T_6db8c_row10_col4\" class=\"data row10 col4\" >0.8557</td>\n",
       "      <td id=\"T_6db8c_row10_col5\" class=\"data row10 col5\" >0.5685</td>\n",
       "      <td id=\"T_6db8c_row10_col6\" class=\"data row10 col6\" >0.5880</td>\n",
       "      <td id=\"T_6db8c_row10_col7\" class=\"data row10 col7\" >0.7497</td>\n",
       "      <td id=\"T_6db8c_row10_col8\" class=\"data row10 col8\" >0.1336</td>\n",
       "      <td id=\"T_6db8c_row10_col9\" class=\"data row10 col9\" >0.4778</td>\n",
       "      <td id=\"T_6db8c_row10_col10\" class=\"data row10 col10\" >0.3663</td>\n",
       "    </tr>\n",
       "    <tr>\n",
       "      <th id=\"T_6db8c_level0_row11\" class=\"row_heading level0 row11\" >Std</th>\n",
       "      <td id=\"T_6db8c_row11_col0\" class=\"data row11 col0\" >0.0048</td>\n",
       "      <td id=\"T_6db8c_row11_col1\" class=\"data row11 col1\" >0.0120</td>\n",
       "      <td id=\"T_6db8c_row11_col2\" class=\"data row11 col2\" >0.0048</td>\n",
       "      <td id=\"T_6db8c_row11_col3\" class=\"data row11 col3\" >0.0060</td>\n",
       "      <td id=\"T_6db8c_row11_col4\" class=\"data row11 col4\" >0.0046</td>\n",
       "      <td id=\"T_6db8c_row11_col5\" class=\"data row11 col5\" >0.0131</td>\n",
       "      <td id=\"T_6db8c_row11_col6\" class=\"data row11 col6\" >0.0150</td>\n",
       "      <td id=\"T_6db8c_row11_col7\" class=\"data row11 col7\" >0.0047</td>\n",
       "      <td id=\"T_6db8c_row11_col8\" class=\"data row11 col8\" >0.0048</td>\n",
       "      <td id=\"T_6db8c_row11_col9\" class=\"data row11 col9\" >0.0106</td>\n",
       "      <td id=\"T_6db8c_row11_col10\" class=\"data row11 col10\" >0.1845</td>\n",
       "    </tr>\n",
       "  </tbody>\n",
       "</table>\n"
      ],
      "text/plain": [
       "<pandas.io.formats.style.Styler at 0x1b1e5986f10>"
      ]
     },
     "metadata": {},
     "output_type": "display_data"
    },
    {
     "data": {
      "text/html": [],
      "text/plain": [
       "<IPython.core.display.HTML object>"
      ]
     },
     "metadata": {},
     "output_type": "display_data"
    },
    {
     "name": "stderr",
     "output_type": "stream",
     "text": [
      "WARNING:root:Malformed experiment '819906245614309265'. Detailed error Yaml file 'H:\\masterarbeit_python\\mlruns\\819906245614309265\\meta.yaml' does not exist.\n",
      "Traceback (most recent call last):\n",
      "  File \"C:\\Users\\ge35yay\\.conda\\envs\\venv_masterarbeit_RMT\\Lib\\site-packages\\mlflow\\store\\tracking\\file_store.py\", line 317, in search_experiments\n",
      "    exp = self._get_experiment(exp_id, view_type)\n",
      "          ^^^^^^^^^^^^^^^^^^^^^^^^^^^^^^^^^^^^^^^\n",
      "  File \"C:\\Users\\ge35yay\\.conda\\envs\\venv_masterarbeit_RMT\\Lib\\site-packages\\mlflow\\store\\tracking\\file_store.py\", line 410, in _get_experiment\n",
      "    meta = FileStore._read_yaml(experiment_dir, FileStore.META_DATA_FILE_NAME)\n",
      "           ^^^^^^^^^^^^^^^^^^^^^^^^^^^^^^^^^^^^^^^^^^^^^^^^^^^^^^^^^^^^^^^^^^^\n",
      "  File \"C:\\Users\\ge35yay\\.conda\\envs\\venv_masterarbeit_RMT\\Lib\\site-packages\\mlflow\\store\\tracking\\file_store.py\", line 1341, in _read_yaml\n",
      "    return _read_helper(root, file_name, attempts_remaining=retries)\n",
      "           ^^^^^^^^^^^^^^^^^^^^^^^^^^^^^^^^^^^^^^^^^^^^^^^^^^^^^^^^^\n",
      "  File \"C:\\Users\\ge35yay\\.conda\\envs\\venv_masterarbeit_RMT\\Lib\\site-packages\\mlflow\\store\\tracking\\file_store.py\", line 1334, in _read_helper\n",
      "    result = read_yaml(root, file_name)\n",
      "             ^^^^^^^^^^^^^^^^^^^^^^^^^^\n",
      "  File \"C:\\Users\\ge35yay\\.conda\\envs\\venv_masterarbeit_RMT\\Lib\\site-packages\\mlflow\\utils\\file_utils.py\", line 309, in read_yaml\n",
      "    raise MissingConfigException(f\"Yaml file '{file_path}' does not exist.\")\n",
      "mlflow.exceptions.MissingConfigException: Yaml file 'H:\\masterarbeit_python\\mlruns\\819906245614309265\\meta.yaml' does not exist.\n"
     ]
    },
    {
     "name": "stdout",
     "output_type": "stream",
     "text": [
      "[LightGBM] [Warning] feature_fraction is set=0.42947671039481, colsample_bytree=1.0 will be ignored. Current value: feature_fraction=0.42947671039481\n",
      "[LightGBM] [Warning] bagging_fraction is set=0.8455104741417432, subsample=1.0 will be ignored. Current value: bagging_fraction=0.8455104741417432\n",
      "[LightGBM] [Warning] bagging_freq is set=0, subsample_freq=0 will be ignored. Current value: bagging_freq=0\n",
      "[LightGBM] [Warning] feature_fraction is set=0.42947671039481, colsample_bytree=1.0 will be ignored. Current value: feature_fraction=0.42947671039481\n",
      "[LightGBM] [Warning] bagging_fraction is set=0.8455104741417432, subsample=1.0 will be ignored. Current value: bagging_fraction=0.8455104741417432\n",
      "[LightGBM] [Warning] bagging_freq is set=0, subsample_freq=0 will be ignored. Current value: bagging_freq=0\n"
     ]
    },
    {
     "name": "stderr",
     "output_type": "stream",
     "text": [
      "2025/10/08 14:45:10 WARNING mlflow.models.model: Input example should be provided to infer model signature if the model signature is not provided when logging the model.\n"
     ]
    }
   ],
   "source": [
    "lightgbm = create_model('lightgbm', **bestParamsLIGHTGBM)"
   ]
  },
  {
   "cell_type": "code",
   "execution_count": 29,
   "id": "c6de13ba-59cf-4048-8b12-75912f3fd0a6",
   "metadata": {},
   "outputs": [
    {
     "data": {
      "application/vnd.jupyter.widget-view+json": {
       "model_id": "0e39bd29c98d428d8d7ccd6671af8b7c",
       "version_major": 2,
       "version_minor": 0
      },
      "text/plain": [
       "interactive(children=(ToggleButtons(description='Plot Type:', icons=('',), options=(('Pipeline Plot', 'pipelin…"
      ]
     },
     "metadata": {},
     "output_type": "display_data"
    }
   ],
   "source": [
    "evaluate_model(lightgbm)"
   ]
  },
  {
   "cell_type": "code",
   "execution_count": 30,
   "id": "31cadee3-f0e3-4f9d-89ba-517d8944a485",
   "metadata": {},
   "outputs": [
    {
     "data": {
      "text/html": [
       "<div>\n",
       "<style scoped>\n",
       "    .dataframe tbody tr th:only-of-type {\n",
       "        vertical-align: middle;\n",
       "    }\n",
       "\n",
       "    .dataframe tbody tr th {\n",
       "        vertical-align: top;\n",
       "    }\n",
       "\n",
       "    .dataframe thead th {\n",
       "        text-align: right;\n",
       "    }\n",
       "</style>\n",
       "<table border=\"1\" class=\"dataframe\">\n",
       "  <thead>\n",
       "    <tr style=\"text-align: right;\">\n",
       "      <th></th>\n",
       "      <th>Features</th>\n",
       "      <th>importance</th>\n",
       "    </tr>\n",
       "  </thead>\n",
       "  <tbody>\n",
       "    <tr>\n",
       "      <th>0</th>\n",
       "      <td>crest</td>\n",
       "      <td>2081</td>\n",
       "    </tr>\n",
       "    <tr>\n",
       "      <th>1</th>\n",
       "      <td>rms</td>\n",
       "      <td>978</td>\n",
       "    </tr>\n",
       "    <tr>\n",
       "      <th>2</th>\n",
       "      <td>entropy</td>\n",
       "      <td>906</td>\n",
       "    </tr>\n",
       "    <tr>\n",
       "      <th>3</th>\n",
       "      <td>energy</td>\n",
       "      <td>878</td>\n",
       "    </tr>\n",
       "    <tr>\n",
       "      <th>4</th>\n",
       "      <td>std</td>\n",
       "      <td>677</td>\n",
       "    </tr>\n",
       "  </tbody>\n",
       "</table>\n",
       "</div>"
      ],
      "text/plain": [
       "  Features  importance\n",
       "0    crest        2081\n",
       "1      rms         978\n",
       "2  entropy         906\n",
       "3   energy         878\n",
       "4      std         677"
      ]
     },
     "execution_count": 30,
     "metadata": {},
     "output_type": "execute_result"
    }
   ],
   "source": [
    "lightgbm_top_features = get_feature_importance_df(lightgbm, features_df_training_normalized)\n",
    "lightgbm_top_features"
   ]
  },
  {
   "cell_type": "code",
   "execution_count": 31,
   "id": "eee55d0a-02ac-486d-a6cb-e2980c0f38b7",
   "metadata": {},
   "outputs": [],
   "source": [
    "add_top_features(lightgbm_top_features, top_n=3)"
   ]
  },
  {
   "cell_type": "code",
   "execution_count": 32,
   "id": "c54ed055-24cb-496f-870d-36ce06d05d93",
   "metadata": {},
   "outputs": [
    {
     "data": {
      "text/html": [],
      "text/plain": [
       "<IPython.core.display.HTML object>"
      ]
     },
     "metadata": {},
     "output_type": "display_data"
    },
    {
     "data": {
      "image/png": "[encoded data removed]",
      "text/plain": [
       "<Figure size 800x500 with 1 Axes>"
      ]
     },
     "metadata": {},
     "output_type": "display_data"
    }
   ],
   "source": [
    "plot_model(lightgbm, plot='feature')"
   ]
  },
  {
   "cell_type": "code",
   "execution_count": 33,
   "id": "2771a77a-d02a-46f3-8a51-155e5ed3e8e9",
   "metadata": {},
   "outputs": [
    {
     "data": {
      "text/html": [],
      "text/plain": [
       "<IPython.core.display.HTML object>"
      ]
     },
     "metadata": {},
     "output_type": "display_data"
    },
    {
     "data": {
      "image/png": "[encoded data removed]",
      "text/plain": [
       "<Figure size 800x550 with 1 Axes>"
      ]
     },
     "metadata": {},
     "output_type": "display_data"
    }
   ],
   "source": [
    "plot_model(lightgbm, plot='confusion_matrix')"
   ]
  },
  {
   "cell_type": "code",
   "execution_count": 34,
   "id": "0ba6b509-625a-40ed-be97-3ff2178817cf",
   "metadata": {},
   "outputs": [
    {
     "data": {
      "text/html": [
       "<style type=\"text/css\">\n",
       "</style>\n",
       "<table id=\"T_8243f\">\n",
       "  <thead>\n",
       "    <tr>\n",
       "      <th class=\"blank level0\" >&nbsp;</th>\n",
       "      <th id=\"T_8243f_level0_col0\" class=\"col_heading level0 col0\" >Model</th>\n",
       "      <th id=\"T_8243f_level0_col1\" class=\"col_heading level0 col1\" >Accuracy</th>\n",
       "      <th id=\"T_8243f_level0_col2\" class=\"col_heading level0 col2\" >AUC</th>\n",
       "      <th id=\"T_8243f_level0_col3\" class=\"col_heading level0 col3\" >Recall</th>\n",
       "      <th id=\"T_8243f_level0_col4\" class=\"col_heading level0 col4\" >Prec.</th>\n",
       "      <th id=\"T_8243f_level0_col5\" class=\"col_heading level0 col5\" >F1</th>\n",
       "      <th id=\"T_8243f_level0_col6\" class=\"col_heading level0 col6\" >Kappa</th>\n",
       "      <th id=\"T_8243f_level0_col7\" class=\"col_heading level0 col7\" >MCC</th>\n",
       "      <th id=\"T_8243f_level0_col8\" class=\"col_heading level0 col8\" >Balance Acc</th>\n",
       "      <th id=\"T_8243f_level0_col9\" class=\"col_heading level0 col9\" >Hamming Loss</th>\n",
       "      <th id=\"T_8243f_level0_col10\" class=\"col_heading level0 col10\" >Jaccard Score</th>\n",
       "      <th id=\"T_8243f_level0_col11\" class=\"col_heading level0 col11\" >Log Loss</th>\n",
       "    </tr>\n",
       "  </thead>\n",
       "  <tbody>\n",
       "    <tr>\n",
       "      <th id=\"T_8243f_level0_row0\" class=\"row_heading level0 row0\" >0</th>\n",
       "      <td id=\"T_8243f_row0_col0\" class=\"data row0 col0\" >Light Gradient Boosting Machine</td>\n",
       "      <td id=\"T_8243f_row0_col1\" class=\"data row0 col1\" >0.8681</td>\n",
       "      <td id=\"T_8243f_row0_col2\" class=\"data row0 col2\" >0.9020</td>\n",
       "      <td id=\"T_8243f_row0_col3\" class=\"data row0 col3\" >0.8681</td>\n",
       "      <td id=\"T_8243f_row0_col4\" class=\"data row0 col4\" >0.8640</td>\n",
       "      <td id=\"T_8243f_row0_col5\" class=\"data row0 col5\" >0.8575</td>\n",
       "      <td id=\"T_8243f_row0_col6\" class=\"data row0 col6\" >0.5742</td>\n",
       "      <td id=\"T_8243f_row0_col7\" class=\"data row0 col7\" >0.5941</td>\n",
       "      <td id=\"T_8243f_row0_col8\" class=\"data row0 col8\" >0.7520</td>\n",
       "      <td id=\"T_8243f_row0_col9\" class=\"data row0 col9\" >0.1319</td>\n",
       "      <td id=\"T_8243f_row0_col10\" class=\"data row0 col10\" >0.4827</td>\n",
       "      <td id=\"T_8243f_row0_col11\" class=\"data row0 col11\" >0.3011</td>\n",
       "    </tr>\n",
       "  </tbody>\n",
       "</table>\n"
      ],
      "text/plain": [
       "<pandas.io.formats.style.Styler at 0x1b1e5963f10>"
      ]
     },
     "metadata": {},
     "output_type": "display_data"
    },
    {
     "name": "stdout",
     "output_type": "stream",
     "text": [
      "[LightGBM] [Warning] feature_fraction is set=0.42947671039481, colsample_bytree=1.0 will be ignored. Current value: feature_fraction=0.42947671039481\n",
      "[LightGBM] [Warning] bagging_fraction is set=0.8455104741417432, subsample=1.0 will be ignored. Current value: bagging_fraction=0.8455104741417432\n",
      "[LightGBM] [Warning] bagging_freq is set=0, subsample_freq=0 will be ignored. Current value: bagging_freq=0\n",
      "[LightGBM] [Warning] feature_fraction is set=0.42947671039481, colsample_bytree=1.0 will be ignored. Current value: feature_fraction=0.42947671039481\n",
      "[LightGBM] [Warning] bagging_fraction is set=0.8455104741417432, subsample=1.0 will be ignored. Current value: bagging_fraction=0.8455104741417432\n",
      "[LightGBM] [Warning] bagging_freq is set=0, subsample_freq=0 will be ignored. Current value: bagging_freq=0\n"
     ]
    }
   ],
   "source": [
    "predictions_lightgbm = predict_model(lightgbm, data = features_df_testing_normalized)"
   ]
  },
  {
   "cell_type": "code",
   "execution_count": 35,
   "id": "34173f0e-3b07-47ec-9bc1-6a932d4a3f32",
   "metadata": {},
   "outputs": [
    {
     "data": {
      "text/html": [
       "<div>\n",
       "<style scoped>\n",
       "    .dataframe tbody tr th:only-of-type {\n",
       "        vertical-align: middle;\n",
       "    }\n",
       "\n",
       "    .dataframe tbody tr th {\n",
       "        vertical-align: top;\n",
       "    }\n",
       "\n",
       "    .dataframe thead th {\n",
       "        text-align: right;\n",
       "    }\n",
       "</style>\n",
       "<table border=\"1\" class=\"dataframe\">\n",
       "  <thead>\n",
       "    <tr style=\"text-align: right;\">\n",
       "      <th></th>\n",
       "      <th>crest</th>\n",
       "      <th>rms</th>\n",
       "      <th>entropy</th>\n",
       "      <th>std</th>\n",
       "      <th>energy</th>\n",
       "      <th>Label</th>\n",
       "      <th>prediction_label</th>\n",
       "      <th>prediction_score</th>\n",
       "    </tr>\n",
       "  </thead>\n",
       "  <tbody>\n",
       "    <tr>\n",
       "      <th>218615</th>\n",
       "      <td>-0.010554</td>\n",
       "      <td>-0.039899</td>\n",
       "      <td>0.002184</td>\n",
       "      <td>-0.039799</td>\n",
       "      <td>-0.002195</td>\n",
       "      <td>healthy</td>\n",
       "      <td>damaged</td>\n",
       "      <td>0.6668</td>\n",
       "    </tr>\n",
       "    <tr>\n",
       "      <th>228778</th>\n",
       "      <td>-0.425526</td>\n",
       "      <td>-0.031495</td>\n",
       "      <td>0.002184</td>\n",
       "      <td>-0.031392</td>\n",
       "      <td>-0.002195</td>\n",
       "      <td>healthy</td>\n",
       "      <td>damaged</td>\n",
       "      <td>0.5912</td>\n",
       "    </tr>\n",
       "    <tr>\n",
       "      <th>274192</th>\n",
       "      <td>-0.685261</td>\n",
       "      <td>0.069589</td>\n",
       "      <td>0.002176</td>\n",
       "      <td>0.069731</td>\n",
       "      <td>-0.002167</td>\n",
       "      <td>damaged</td>\n",
       "      <td>damaged</td>\n",
       "      <td>0.7999</td>\n",
       "    </tr>\n",
       "    <tr>\n",
       "      <th>292634</th>\n",
       "      <td>-0.359115</td>\n",
       "      <td>0.128790</td>\n",
       "      <td>0.002163</td>\n",
       "      <td>0.128955</td>\n",
       "      <td>-0.002130</td>\n",
       "      <td>damaged</td>\n",
       "      <td>damaged</td>\n",
       "      <td>0.8657</td>\n",
       "    </tr>\n",
       "    <tr>\n",
       "      <th>8722</th>\n",
       "      <td>0.227862</td>\n",
       "      <td>-0.044579</td>\n",
       "      <td>0.002184</td>\n",
       "      <td>-0.044480</td>\n",
       "      <td>-0.002195</td>\n",
       "      <td>healthy</td>\n",
       "      <td>healthy</td>\n",
       "      <td>0.7570</td>\n",
       "    </tr>\n",
       "    <tr>\n",
       "      <th>...</th>\n",
       "      <td>...</td>\n",
       "      <td>...</td>\n",
       "      <td>...</td>\n",
       "      <td>...</td>\n",
       "      <td>...</td>\n",
       "      <td>...</td>\n",
       "      <td>...</td>\n",
       "      <td>...</td>\n",
       "    </tr>\n",
       "    <tr>\n",
       "      <th>358827</th>\n",
       "      <td>-0.569105</td>\n",
       "      <td>0.276164</td>\n",
       "      <td>0.002104</td>\n",
       "      <td>0.276385</td>\n",
       "      <td>-0.001970</td>\n",
       "      <td>damaged</td>\n",
       "      <td>damaged</td>\n",
       "      <td>0.6268</td>\n",
       "    </tr>\n",
       "    <tr>\n",
       "      <th>304048</th>\n",
       "      <td>-0.138169</td>\n",
       "      <td>0.110139</td>\n",
       "      <td>0.002168</td>\n",
       "      <td>0.110297</td>\n",
       "      <td>-0.002143</td>\n",
       "      <td>damaged</td>\n",
       "      <td>damaged</td>\n",
       "      <td>0.7311</td>\n",
       "    </tr>\n",
       "    <tr>\n",
       "      <th>83490</th>\n",
       "      <td>-0.929088</td>\n",
       "      <td>-0.044346</td>\n",
       "      <td>0.002184</td>\n",
       "      <td>-0.044247</td>\n",
       "      <td>-0.002195</td>\n",
       "      <td>damaged</td>\n",
       "      <td>damaged</td>\n",
       "      <td>0.9979</td>\n",
       "    </tr>\n",
       "    <tr>\n",
       "      <th>246866</th>\n",
       "      <td>-0.296492</td>\n",
       "      <td>-0.001570</td>\n",
       "      <td>0.002183</td>\n",
       "      <td>-0.001455</td>\n",
       "      <td>-0.002191</td>\n",
       "      <td>damaged</td>\n",
       "      <td>damaged</td>\n",
       "      <td>0.6263</td>\n",
       "    </tr>\n",
       "    <tr>\n",
       "      <th>158572</th>\n",
       "      <td>1.101987</td>\n",
       "      <td>-0.044276</td>\n",
       "      <td>0.002184</td>\n",
       "      <td>-0.044178</td>\n",
       "      <td>-0.002195</td>\n",
       "      <td>damaged</td>\n",
       "      <td>damaged</td>\n",
       "      <td>0.9693</td>\n",
       "    </tr>\n",
       "  </tbody>\n",
       "</table>\n",
       "<p>84251 rows × 8 columns</p>\n",
       "</div>"
      ],
      "text/plain": [
       "           crest       rms   entropy       std    energy    Label  \\\n",
       "218615 -0.010554 -0.039899  0.002184 -0.039799 -0.002195  healthy   \n",
       "228778 -0.425526 -0.031495  0.002184 -0.031392 -0.002195  healthy   \n",
       "274192 -0.685261  0.069589  0.002176  0.069731 -0.002167  damaged   \n",
       "292634 -0.359115  0.128790  0.002163  0.128955 -0.002130  damaged   \n",
       "8722    0.227862 -0.044579  0.002184 -0.044480 -0.002195  healthy   \n",
       "...          ...       ...       ...       ...       ...      ...   \n",
       "358827 -0.569105  0.276164  0.002104  0.276385 -0.001970  damaged   \n",
       "304048 -0.138169  0.110139  0.002168  0.110297 -0.002143  damaged   \n",
       "83490  -0.929088 -0.044346  0.002184 -0.044247 -0.002195  damaged   \n",
       "246866 -0.296492 -0.001570  0.002183 -0.001455 -0.002191  damaged   \n",
       "158572  1.101987 -0.044276  0.002184 -0.044178 -0.002195  damaged   \n",
       "\n",
       "       prediction_label  prediction_score  \n",
       "218615          damaged            0.6668  \n",
       "228778          damaged            0.5912  \n",
       "274192          damaged            0.7999  \n",
       "292634          damaged            0.8657  \n",
       "8722            healthy            0.7570  \n",
       "...                 ...               ...  \n",
       "358827          damaged            0.6268  \n",
       "304048          damaged            0.7311  \n",
       "83490           damaged            0.9979  \n",
       "246866          damaged            0.6263  \n",
       "158572          damaged            0.9693  \n",
       "\n",
       "[84251 rows x 8 columns]"
      ]
     },
     "execution_count": 35,
     "metadata": {},
     "output_type": "execute_result"
    }
   ],
   "source": [
    "predictions_lightgbm"
   ]
  },
  {
   "cell_type": "code",
   "execution_count": 36,
   "id": "789da63d-eb26-4f36-9559-4f8dc35b2c6e",
   "metadata": {},
   "outputs": [
    {
     "data": {
      "text/html": [
       "<div>\n",
       "<style scoped>\n",
       "    .dataframe tbody tr th:only-of-type {\n",
       "        vertical-align: middle;\n",
       "    }\n",
       "\n",
       "    .dataframe tbody tr th {\n",
       "        vertical-align: top;\n",
       "    }\n",
       "\n",
       "    .dataframe thead th {\n",
       "        text-align: right;\n",
       "    }\n",
       "</style>\n",
       "<table border=\"1\" class=\"dataframe\">\n",
       "  <thead>\n",
       "    <tr style=\"text-align: right;\">\n",
       "      <th></th>\n",
       "      <th>crest</th>\n",
       "      <th>rms</th>\n",
       "      <th>entropy</th>\n",
       "      <th>std</th>\n",
       "      <th>energy</th>\n",
       "      <th>Label</th>\n",
       "      <th>prediction_label</th>\n",
       "      <th>prediction_score</th>\n",
       "    </tr>\n",
       "  </thead>\n",
       "  <tbody>\n",
       "    <tr>\n",
       "      <th>218615</th>\n",
       "      <td>-0.010554</td>\n",
       "      <td>-0.039899</td>\n",
       "      <td>0.002184</td>\n",
       "      <td>-0.039799</td>\n",
       "      <td>-0.002195</td>\n",
       "      <td>healthy</td>\n",
       "      <td>damaged</td>\n",
       "      <td>0.6668</td>\n",
       "    </tr>\n",
       "    <tr>\n",
       "      <th>228778</th>\n",
       "      <td>-0.425526</td>\n",
       "      <td>-0.031495</td>\n",
       "      <td>0.002184</td>\n",
       "      <td>-0.031392</td>\n",
       "      <td>-0.002195</td>\n",
       "      <td>healthy</td>\n",
       "      <td>damaged</td>\n",
       "      <td>0.5912</td>\n",
       "    </tr>\n",
       "    <tr>\n",
       "      <th>205173</th>\n",
       "      <td>-0.482941</td>\n",
       "      <td>0.056086</td>\n",
       "      <td>0.002178</td>\n",
       "      <td>0.056141</td>\n",
       "      <td>-0.002173</td>\n",
       "      <td>healthy</td>\n",
       "      <td>damaged</td>\n",
       "      <td>0.7686</td>\n",
       "    </tr>\n",
       "    <tr>\n",
       "      <th>369958</th>\n",
       "      <td>0.365890</td>\n",
       "      <td>-0.044072</td>\n",
       "      <td>0.002184</td>\n",
       "      <td>-0.043974</td>\n",
       "      <td>-0.002195</td>\n",
       "      <td>healthy</td>\n",
       "      <td>damaged</td>\n",
       "      <td>0.8764</td>\n",
       "    </tr>\n",
       "    <tr>\n",
       "      <th>215300</th>\n",
       "      <td>-0.259117</td>\n",
       "      <td>-0.031290</td>\n",
       "      <td>0.002184</td>\n",
       "      <td>-0.031186</td>\n",
       "      <td>-0.002195</td>\n",
       "      <td>healthy</td>\n",
       "      <td>damaged</td>\n",
       "      <td>0.5277</td>\n",
       "    </tr>\n",
       "    <tr>\n",
       "      <th>...</th>\n",
       "      <td>...</td>\n",
       "      <td>...</td>\n",
       "      <td>...</td>\n",
       "      <td>...</td>\n",
       "      <td>...</td>\n",
       "      <td>...</td>\n",
       "      <td>...</td>\n",
       "      <td>...</td>\n",
       "    </tr>\n",
       "    <tr>\n",
       "      <th>301422</th>\n",
       "      <td>-0.208692</td>\n",
       "      <td>0.053780</td>\n",
       "      <td>0.002178</td>\n",
       "      <td>0.053916</td>\n",
       "      <td>-0.002174</td>\n",
       "      <td>damaged</td>\n",
       "      <td>healthy</td>\n",
       "      <td>0.5051</td>\n",
       "    </tr>\n",
       "    <tr>\n",
       "      <th>226751</th>\n",
       "      <td>-0.270289</td>\n",
       "      <td>0.095822</td>\n",
       "      <td>0.002171</td>\n",
       "      <td>0.095974</td>\n",
       "      <td>-0.002152</td>\n",
       "      <td>healthy</td>\n",
       "      <td>damaged</td>\n",
       "      <td>0.7714</td>\n",
       "    </tr>\n",
       "    <tr>\n",
       "      <th>218688</th>\n",
       "      <td>0.320293</td>\n",
       "      <td>-0.040932</td>\n",
       "      <td>0.002184</td>\n",
       "      <td>-0.040832</td>\n",
       "      <td>-0.002195</td>\n",
       "      <td>healthy</td>\n",
       "      <td>damaged</td>\n",
       "      <td>0.7762</td>\n",
       "    </tr>\n",
       "    <tr>\n",
       "      <th>235734</th>\n",
       "      <td>-0.066563</td>\n",
       "      <td>0.098440</td>\n",
       "      <td>0.002171</td>\n",
       "      <td>0.098593</td>\n",
       "      <td>-0.002151</td>\n",
       "      <td>healthy</td>\n",
       "      <td>damaged</td>\n",
       "      <td>0.7317</td>\n",
       "    </tr>\n",
       "    <tr>\n",
       "      <th>373452</th>\n",
       "      <td>0.204772</td>\n",
       "      <td>-0.044103</td>\n",
       "      <td>0.002184</td>\n",
       "      <td>-0.044004</td>\n",
       "      <td>-0.002195</td>\n",
       "      <td>healthy</td>\n",
       "      <td>damaged</td>\n",
       "      <td>0.9273</td>\n",
       "    </tr>\n",
       "  </tbody>\n",
       "</table>\n",
       "<p>11111 rows × 8 columns</p>\n",
       "</div>"
      ],
      "text/plain": [
       "           crest       rms   entropy       std    energy    Label  \\\n",
       "218615 -0.010554 -0.039899  0.002184 -0.039799 -0.002195  healthy   \n",
       "228778 -0.425526 -0.031495  0.002184 -0.031392 -0.002195  healthy   \n",
       "205173 -0.482941  0.056086  0.002178  0.056141 -0.002173  healthy   \n",
       "369958  0.365890 -0.044072  0.002184 -0.043974 -0.002195  healthy   \n",
       "215300 -0.259117 -0.031290  0.002184 -0.031186 -0.002195  healthy   \n",
       "...          ...       ...       ...       ...       ...      ...   \n",
       "301422 -0.208692  0.053780  0.002178  0.053916 -0.002174  damaged   \n",
       "226751 -0.270289  0.095822  0.002171  0.095974 -0.002152  healthy   \n",
       "218688  0.320293 -0.040932  0.002184 -0.040832 -0.002195  healthy   \n",
       "235734 -0.066563  0.098440  0.002171  0.098593 -0.002151  healthy   \n",
       "373452  0.204772 -0.044103  0.002184 -0.044004 -0.002195  healthy   \n",
       "\n",
       "       prediction_label  prediction_score  \n",
       "218615          damaged            0.6668  \n",
       "228778          damaged            0.5912  \n",
       "205173          damaged            0.7686  \n",
       "369958          damaged            0.8764  \n",
       "215300          damaged            0.5277  \n",
       "...                 ...               ...  \n",
       "301422          healthy            0.5051  \n",
       "226751          damaged            0.7714  \n",
       "218688          damaged            0.7762  \n",
       "235734          damaged            0.7317  \n",
       "373452          damaged            0.9273  \n",
       "\n",
       "[11111 rows x 8 columns]"
      ]
     },
     "execution_count": 36,
     "metadata": {},
     "output_type": "execute_result"
    }
   ],
   "source": [
    "get_incorrect_predictions(predictions_lightgbm)"
   ]
  },
  {
   "cell_type": "code",
   "execution_count": 37,
   "id": "fc1c6b85-d9d7-4701-97ff-5630773cd328",
   "metadata": {
    "scrolled": true
   },
   "outputs": [
    {
     "data": {
      "image/png": "[encoded data removed]",
      "text/plain": [
       "<Figure size 800x400 with 1 Axes>"
      ]
     },
     "metadata": {},
     "output_type": "display_data"
    },
    {
     "data": {
      "image/png": "[encoded data removed]",
      "text/plain": [
       "<Figure size 800x400 with 1 Axes>"
      ]
     },
     "metadata": {},
     "output_type": "display_data"
    },
    {
     "data": {
      "image/png": "[encoded data removed]",
      "text/plain": [
       "<Figure size 800x400 with 1 Axes>"
      ]
     },
     "metadata": {},
     "output_type": "display_data"
    },
    {
     "data": {
      "image/png": "[encoded data removed]",
      "text/plain": [
       "<Figure size 800x400 with 1 Axes>"
      ]
     },
     "metadata": {},
     "output_type": "display_data"
    },
    {
     "data": {
      "image/png": "[encoded data removed]",
      "text/plain": [
       "<Figure size 800x400 with 1 Axes>"
      ]
     },
     "metadata": {},
     "output_type": "display_data"
    }
   ],
   "source": [
    "plotPredictionHistograms(predictions_lightgbm, normalization_method)"
   ]
  },
  {
   "cell_type": "markdown",
   "id": "f08d3df1-3151-4046-8abc-d66039145875",
   "metadata": {},
   "source": [
    "## Random Forest Classifier"
   ]
  },
  {
   "cell_type": "code",
   "execution_count": 38,
   "id": "b8ebfcd8-f2e3-4e11-b42b-6a9382895bfe",
   "metadata": {},
   "outputs": [],
   "source": [
    "bestParamsRF = {\n",
    "    'bootstrap':True, \n",
    "    'ccp_alpha':0.0, \n",
    "    'class_weight':None,\n",
    "    'criterion':'gini', \n",
    "    'max_depth':None, \n",
    "    'max_features':'sqrt',\n",
    "    'max_leaf_nodes':None, \n",
    "    'max_samples':None,\n",
    "    'min_impurity_decrease':0.0, \n",
    "    'min_samples_leaf':1,\n",
    "    'min_samples_split':2, \n",
    "    'min_weight_fraction_leaf':0.0,\n",
    "    'monotonic_cst':None, \n",
    "    'n_estimators':100, \n",
    "    'n_jobs':-1,\n",
    "    'oob_score':False, \n",
    "    'random_state':1768, \n",
    "    'verbose':False,\n",
    "    'warm_start':False\n",
    "}"
   ]
  },
  {
   "cell_type": "code",
   "execution_count": 39,
   "id": "e6aa747c-a901-435f-b4ae-0e0cf24659a9",
   "metadata": {},
   "outputs": [
    {
     "name": "stderr",
     "output_type": "stream",
     "text": [
      "WARNING:root:Malformed experiment '819906245614309265'. Detailed error Yaml file 'H:\\masterarbeit_python\\mlruns\\819906245614309265\\meta.yaml' does not exist.\n",
      "Traceback (most recent call last):\n",
      "  File \"C:\\Users\\ge35yay\\.conda\\envs\\venv_masterarbeit_RMT\\Lib\\site-packages\\mlflow\\store\\tracking\\file_store.py\", line 317, in search_experiments\n",
      "    exp = self._get_experiment(exp_id, view_type)\n",
      "          ^^^^^^^^^^^^^^^^^^^^^^^^^^^^^^^^^^^^^^^\n",
      "  File \"C:\\Users\\ge35yay\\.conda\\envs\\venv_masterarbeit_RMT\\Lib\\site-packages\\mlflow\\store\\tracking\\file_store.py\", line 410, in _get_experiment\n",
      "    meta = FileStore._read_yaml(experiment_dir, FileStore.META_DATA_FILE_NAME)\n",
      "           ^^^^^^^^^^^^^^^^^^^^^^^^^^^^^^^^^^^^^^^^^^^^^^^^^^^^^^^^^^^^^^^^^^^\n",
      "  File \"C:\\Users\\ge35yay\\.conda\\envs\\venv_masterarbeit_RMT\\Lib\\site-packages\\mlflow\\store\\tracking\\file_store.py\", line 1341, in _read_yaml\n",
      "    return _read_helper(root, file_name, attempts_remaining=retries)\n",
      "           ^^^^^^^^^^^^^^^^^^^^^^^^^^^^^^^^^^^^^^^^^^^^^^^^^^^^^^^^^\n",
      "  File \"C:\\Users\\ge35yay\\.conda\\envs\\venv_masterarbeit_RMT\\Lib\\site-packages\\mlflow\\store\\tracking\\file_store.py\", line 1334, in _read_helper\n",
      "    result = read_yaml(root, file_name)\n",
      "             ^^^^^^^^^^^^^^^^^^^^^^^^^^\n",
      "  File \"C:\\Users\\ge35yay\\.conda\\envs\\venv_masterarbeit_RMT\\Lib\\site-packages\\mlflow\\utils\\file_utils.py\", line 309, in read_yaml\n",
      "    raise MissingConfigException(f\"Yaml file '{file_path}' does not exist.\")\n",
      "mlflow.exceptions.MissingConfigException: Yaml file 'H:\\masterarbeit_python\\mlruns\\819906245614309265\\meta.yaml' does not exist.\n",
      "2025/10/08 14:47:44 WARNING mlflow.models.model: Input example should be provided to infer model signature if the model signature is not provided when logging the model.\n"
     ]
    }
   ],
   "source": [
    "rf = create_model('rf', **bestParamsRF)"
   ]
  },
  {
   "cell_type": "code",
   "execution_count": 40,
   "id": "50123496-3039-4e57-9520-b92cc6865e85",
   "metadata": {},
   "outputs": [
    {
     "data": {
      "application/vnd.jupyter.widget-view+json": {
       "model_id": "b2946b69d18d41759111db497a237dca",
       "version_major": 2,
       "version_minor": 0
      },
      "text/plain": [
       "interactive(children=(ToggleButtons(description='Plot Type:', icons=('',), options=(('Pipeline Plot', 'pipelin…"
      ]
     },
     "metadata": {},
     "output_type": "display_data"
    }
   ],
   "source": [
    "evaluate_model(rf)"
   ]
  },
  {
   "cell_type": "code",
   "execution_count": 41,
   "id": "7a31be2f-b8c2-46e9-92bc-4ba605a72cc2",
   "metadata": {},
   "outputs": [
    {
     "data": {
      "text/html": [
       "<div>\n",
       "<style scoped>\n",
       "    .dataframe tbody tr th:only-of-type {\n",
       "        vertical-align: middle;\n",
       "    }\n",
       "\n",
       "    .dataframe tbody tr th {\n",
       "        vertical-align: top;\n",
       "    }\n",
       "\n",
       "    .dataframe thead th {\n",
       "        text-align: right;\n",
       "    }\n",
       "</style>\n",
       "<table border=\"1\" class=\"dataframe\">\n",
       "  <thead>\n",
       "    <tr style=\"text-align: right;\">\n",
       "      <th></th>\n",
       "      <th>Features</th>\n",
       "      <th>importance</th>\n",
       "    </tr>\n",
       "  </thead>\n",
       "  <tbody>\n",
       "    <tr>\n",
       "      <th>0</th>\n",
       "      <td>std</td>\n",
       "      <td>0.363300</td>\n",
       "    </tr>\n",
       "    <tr>\n",
       "      <th>1</th>\n",
       "      <td>rms</td>\n",
       "      <td>0.354836</td>\n",
       "    </tr>\n",
       "    <tr>\n",
       "      <th>2</th>\n",
       "      <td>crest</td>\n",
       "      <td>0.256456</td>\n",
       "    </tr>\n",
       "    <tr>\n",
       "      <th>3</th>\n",
       "      <td>energy</td>\n",
       "      <td>0.015599</td>\n",
       "    </tr>\n",
       "    <tr>\n",
       "      <th>4</th>\n",
       "      <td>entropy</td>\n",
       "      <td>0.009810</td>\n",
       "    </tr>\n",
       "  </tbody>\n",
       "</table>\n",
       "</div>"
      ],
      "text/plain": [
       "  Features  importance\n",
       "0      std    0.363300\n",
       "1      rms    0.354836\n",
       "2    crest    0.256456\n",
       "3   energy    0.015599\n",
       "4  entropy    0.009810"
      ]
     },
     "execution_count": 41,
     "metadata": {},
     "output_type": "execute_result"
    }
   ],
   "source": [
    "rf_top_features = get_feature_importance_df(rf, features_df_training_normalized)\n",
    "rf_top_features"
   ]
  },
  {
   "cell_type": "code",
   "execution_count": 42,
   "id": "8a0b1e76-db8c-45e1-8a59-362754fa933f",
   "metadata": {},
   "outputs": [],
   "source": [
    "add_top_features(rf_top_features, top_n=3)"
   ]
  },
  {
   "cell_type": "code",
   "execution_count": 43,
   "id": "060184ac-0592-45f2-a49c-396cbc9bbfb1",
   "metadata": {},
   "outputs": [
    {
     "data": {
      "text/html": [],
      "text/plain": [
       "<IPython.core.display.HTML object>"
      ]
     },
     "metadata": {},
     "output_type": "display_data"
    },
    {
     "data": {
      "image/png": "[encoded data removed]",
      "text/plain": [
       "<Figure size 800x500 with 1 Axes>"
      ]
     },
     "metadata": {},
     "output_type": "display_data"
    }
   ],
   "source": [
    "plot_model(rf, plot='feature')"
   ]
  },
  {
   "cell_type": "code",
   "execution_count": 44,
   "id": "411317bd-bd93-44f1-819e-00c4a2c06aa8",
   "metadata": {},
   "outputs": [
    {
     "data": {
      "text/html": [],
      "text/plain": [
       "<IPython.core.display.HTML object>"
      ]
     },
     "metadata": {},
     "output_type": "display_data"
    },
    {
     "data": {
      "image/png": "[encoded data removed]",
      "text/plain": [
       "<Figure size 800x550 with 1 Axes>"
      ]
     },
     "metadata": {},
     "output_type": "display_data"
    }
   ],
   "source": [
    "plot_model(rf, plot='confusion_matrix')"
   ]
  },
  {
   "cell_type": "code",
   "execution_count": 45,
   "id": "b3e8fcdb-1e5a-4ef1-9c0f-538581f3f210",
   "metadata": {},
   "outputs": [
    {
     "data": {
      "text/html": [
       "<style type=\"text/css\">\n",
       "</style>\n",
       "<table id=\"T_b6905\">\n",
       "  <thead>\n",
       "    <tr>\n",
       "      <th class=\"blank level0\" >&nbsp;</th>\n",
       "      <th id=\"T_b6905_level0_col0\" class=\"col_heading level0 col0\" >Model</th>\n",
       "      <th id=\"T_b6905_level0_col1\" class=\"col_heading level0 col1\" >Accuracy</th>\n",
       "      <th id=\"T_b6905_level0_col2\" class=\"col_heading level0 col2\" >AUC</th>\n",
       "      <th id=\"T_b6905_level0_col3\" class=\"col_heading level0 col3\" >Recall</th>\n",
       "      <th id=\"T_b6905_level0_col4\" class=\"col_heading level0 col4\" >Prec.</th>\n",
       "      <th id=\"T_b6905_level0_col5\" class=\"col_heading level0 col5\" >F1</th>\n",
       "      <th id=\"T_b6905_level0_col6\" class=\"col_heading level0 col6\" >Kappa</th>\n",
       "      <th id=\"T_b6905_level0_col7\" class=\"col_heading level0 col7\" >MCC</th>\n",
       "      <th id=\"T_b6905_level0_col8\" class=\"col_heading level0 col8\" >Balance Acc</th>\n",
       "      <th id=\"T_b6905_level0_col9\" class=\"col_heading level0 col9\" >Hamming Loss</th>\n",
       "      <th id=\"T_b6905_level0_col10\" class=\"col_heading level0 col10\" >Jaccard Score</th>\n",
       "      <th id=\"T_b6905_level0_col11\" class=\"col_heading level0 col11\" >Log Loss</th>\n",
       "    </tr>\n",
       "  </thead>\n",
       "  <tbody>\n",
       "    <tr>\n",
       "      <th id=\"T_b6905_level0_row0\" class=\"row_heading level0 row0\" >0</th>\n",
       "      <td id=\"T_b6905_row0_col0\" class=\"data row0 col0\" >Random Forest Classifier</td>\n",
       "      <td id=\"T_b6905_row0_col1\" class=\"data row0 col1\" >0.8687</td>\n",
       "      <td id=\"T_b6905_row0_col2\" class=\"data row0 col2\" >0.8904</td>\n",
       "      <td id=\"T_b6905_row0_col3\" class=\"data row0 col3\" >0.8687</td>\n",
       "      <td id=\"T_b6905_row0_col4\" class=\"data row0 col4\" >0.8651</td>\n",
       "      <td id=\"T_b6905_row0_col5\" class=\"data row0 col5\" >0.8577</td>\n",
       "      <td id=\"T_b6905_row0_col6\" class=\"data row0 col6\" >0.5744</td>\n",
       "      <td id=\"T_b6905_row0_col7\" class=\"data row0 col7\" >0.5957</td>\n",
       "      <td id=\"T_b6905_row0_col8\" class=\"data row0 col8\" >0.7511</td>\n",
       "      <td id=\"T_b6905_row0_col9\" class=\"data row0 col9\" >0.1313</td>\n",
       "      <td id=\"T_b6905_row0_col10\" class=\"data row0 col10\" >0.4821</td>\n",
       "      <td id=\"T_b6905_row0_col11\" class=\"data row0 col11\" >0.3232</td>\n",
       "    </tr>\n",
       "  </tbody>\n",
       "</table>\n"
      ],
      "text/plain": [
       "<pandas.io.formats.style.Styler at 0x1b1e6a77950>"
      ]
     },
     "metadata": {},
     "output_type": "display_data"
    }
   ],
   "source": [
    "predictions_rf = predict_model(rf, data = features_df_testing_normalized)"
   ]
  },
  {
   "cell_type": "code",
   "execution_count": 46,
   "id": "fc2f4d83-272f-4b78-a3fa-f351cddf7020",
   "metadata": {},
   "outputs": [
    {
     "data": {
      "text/html": [
       "<div>\n",
       "<style scoped>\n",
       "    .dataframe tbody tr th:only-of-type {\n",
       "        vertical-align: middle;\n",
       "    }\n",
       "\n",
       "    .dataframe tbody tr th {\n",
       "        vertical-align: top;\n",
       "    }\n",
       "\n",
       "    .dataframe thead th {\n",
       "        text-align: right;\n",
       "    }\n",
       "</style>\n",
       "<table border=\"1\" class=\"dataframe\">\n",
       "  <thead>\n",
       "    <tr style=\"text-align: right;\">\n",
       "      <th></th>\n",
       "      <th>crest</th>\n",
       "      <th>rms</th>\n",
       "      <th>entropy</th>\n",
       "      <th>std</th>\n",
       "      <th>energy</th>\n",
       "      <th>Label</th>\n",
       "      <th>prediction_label</th>\n",
       "      <th>prediction_score</th>\n",
       "    </tr>\n",
       "  </thead>\n",
       "  <tbody>\n",
       "    <tr>\n",
       "      <th>218615</th>\n",
       "      <td>-0.010554</td>\n",
       "      <td>-0.039899</td>\n",
       "      <td>0.002184</td>\n",
       "      <td>-0.039799</td>\n",
       "      <td>-0.002195</td>\n",
       "      <td>healthy</td>\n",
       "      <td>damaged</td>\n",
       "      <td>0.7508</td>\n",
       "    </tr>\n",
       "    <tr>\n",
       "      <th>228778</th>\n",
       "      <td>-0.425526</td>\n",
       "      <td>-0.031495</td>\n",
       "      <td>0.002184</td>\n",
       "      <td>-0.031392</td>\n",
       "      <td>-0.002195</td>\n",
       "      <td>healthy</td>\n",
       "      <td>damaged</td>\n",
       "      <td>0.6992</td>\n",
       "    </tr>\n",
       "    <tr>\n",
       "      <th>8722</th>\n",
       "      <td>0.227862</td>\n",
       "      <td>-0.044579</td>\n",
       "      <td>0.002184</td>\n",
       "      <td>-0.044480</td>\n",
       "      <td>-0.002195</td>\n",
       "      <td>healthy</td>\n",
       "      <td>damaged</td>\n",
       "      <td>0.5362</td>\n",
       "    </tr>\n",
       "    <tr>\n",
       "      <th>205173</th>\n",
       "      <td>-0.482941</td>\n",
       "      <td>0.056086</td>\n",
       "      <td>0.002178</td>\n",
       "      <td>0.056141</td>\n",
       "      <td>-0.002173</td>\n",
       "      <td>healthy</td>\n",
       "      <td>damaged</td>\n",
       "      <td>0.5687</td>\n",
       "    </tr>\n",
       "    <tr>\n",
       "      <th>369958</th>\n",
       "      <td>0.365890</td>\n",
       "      <td>-0.044072</td>\n",
       "      <td>0.002184</td>\n",
       "      <td>-0.043974</td>\n",
       "      <td>-0.002195</td>\n",
       "      <td>healthy</td>\n",
       "      <td>damaged</td>\n",
       "      <td>0.8797</td>\n",
       "    </tr>\n",
       "    <tr>\n",
       "      <th>...</th>\n",
       "      <td>...</td>\n",
       "      <td>...</td>\n",
       "      <td>...</td>\n",
       "      <td>...</td>\n",
       "      <td>...</td>\n",
       "      <td>...</td>\n",
       "      <td>...</td>\n",
       "      <td>...</td>\n",
       "    </tr>\n",
       "    <tr>\n",
       "      <th>226751</th>\n",
       "      <td>-0.270289</td>\n",
       "      <td>0.095822</td>\n",
       "      <td>0.002171</td>\n",
       "      <td>0.095974</td>\n",
       "      <td>-0.002152</td>\n",
       "      <td>healthy</td>\n",
       "      <td>damaged</td>\n",
       "      <td>0.7570</td>\n",
       "    </tr>\n",
       "    <tr>\n",
       "      <th>218688</th>\n",
       "      <td>0.320293</td>\n",
       "      <td>-0.040932</td>\n",
       "      <td>0.002184</td>\n",
       "      <td>-0.040832</td>\n",
       "      <td>-0.002195</td>\n",
       "      <td>healthy</td>\n",
       "      <td>damaged</td>\n",
       "      <td>0.9136</td>\n",
       "    </tr>\n",
       "    <tr>\n",
       "      <th>1793</th>\n",
       "      <td>-0.394176</td>\n",
       "      <td>-0.044506</td>\n",
       "      <td>0.002184</td>\n",
       "      <td>-0.044408</td>\n",
       "      <td>-0.002195</td>\n",
       "      <td>healthy</td>\n",
       "      <td>damaged</td>\n",
       "      <td>0.5060</td>\n",
       "    </tr>\n",
       "    <tr>\n",
       "      <th>235734</th>\n",
       "      <td>-0.066563</td>\n",
       "      <td>0.098440</td>\n",
       "      <td>0.002171</td>\n",
       "      <td>0.098593</td>\n",
       "      <td>-0.002151</td>\n",
       "      <td>healthy</td>\n",
       "      <td>damaged</td>\n",
       "      <td>0.7505</td>\n",
       "    </tr>\n",
       "    <tr>\n",
       "      <th>373452</th>\n",
       "      <td>0.204772</td>\n",
       "      <td>-0.044103</td>\n",
       "      <td>0.002184</td>\n",
       "      <td>-0.044004</td>\n",
       "      <td>-0.002195</td>\n",
       "      <td>healthy</td>\n",
       "      <td>damaged</td>\n",
       "      <td>0.9178</td>\n",
       "    </tr>\n",
       "  </tbody>\n",
       "</table>\n",
       "<p>11062 rows × 8 columns</p>\n",
       "</div>"
      ],
      "text/plain": [
       "           crest       rms   entropy       std    energy    Label  \\\n",
       "218615 -0.010554 -0.039899  0.002184 -0.039799 -0.002195  healthy   \n",
       "228778 -0.425526 -0.031495  0.002184 -0.031392 -0.002195  healthy   \n",
       "8722    0.227862 -0.044579  0.002184 -0.044480 -0.002195  healthy   \n",
       "205173 -0.482941  0.056086  0.002178  0.056141 -0.002173  healthy   \n",
       "369958  0.365890 -0.044072  0.002184 -0.043974 -0.002195  healthy   \n",
       "...          ...       ...       ...       ...       ...      ...   \n",
       "226751 -0.270289  0.095822  0.002171  0.095974 -0.002152  healthy   \n",
       "218688  0.320293 -0.040932  0.002184 -0.040832 -0.002195  healthy   \n",
       "1793   -0.394176 -0.044506  0.002184 -0.044408 -0.002195  healthy   \n",
       "235734 -0.066563  0.098440  0.002171  0.098593 -0.002151  healthy   \n",
       "373452  0.204772 -0.044103  0.002184 -0.044004 -0.002195  healthy   \n",
       "\n",
       "       prediction_label  prediction_score  \n",
       "218615          damaged            0.7508  \n",
       "228778          damaged            0.6992  \n",
       "8722            damaged            0.5362  \n",
       "205173          damaged            0.5687  \n",
       "369958          damaged            0.8797  \n",
       "...                 ...               ...  \n",
       "226751          damaged            0.7570  \n",
       "218688          damaged            0.9136  \n",
       "1793            damaged            0.5060  \n",
       "235734          damaged            0.7505  \n",
       "373452          damaged            0.9178  \n",
       "\n",
       "[11062 rows x 8 columns]"
      ]
     },
     "execution_count": 46,
     "metadata": {},
     "output_type": "execute_result"
    }
   ],
   "source": [
    "get_incorrect_predictions(predictions_rf)"
   ]
  },
  {
   "cell_type": "code",
   "execution_count": 47,
   "id": "4f14fe8e-27de-410a-8a3e-e2529224f3c1",
   "metadata": {
    "scrolled": true
   },
   "outputs": [
    {
     "data": {
      "image/png": "[encoded data removed]",
      "text/plain": [
       "<Figure size 800x400 with 1 Axes>"
      ]
     },
     "metadata": {},
     "output_type": "display_data"
    },
    {
     "data": {
      "image/png": "[encoded data removed]",
      "text/plain": [
       "<Figure size 800x400 with 1 Axes>"
      ]
     },
     "metadata": {},
     "output_type": "display_data"
    },
    {
     "data": {
      "image/png": "[encoded data removed]",
      "text/plain": [
       "<Figure size 800x400 with 1 Axes>"
      ]
     },
     "metadata": {},
     "output_type": "display_data"
    },
    {
     "data": {
      "image/png": "[encoded data removed]",
      "text/plain": [
       "<Figure size 800x400 with 1 Axes>"
      ]
     },
     "metadata": {},
     "output_type": "display_data"
    },
    {
     "data": {
      "image/png": "[encoded data removed]",
      "text/plain": [
       "<Figure size 800x400 with 1 Axes>"
      ]
     },
     "metadata": {},
     "output_type": "display_data"
    }
   ],
   "source": [
    "plotPredictionHistograms(predictions_rf, normalization_method)"
   ]
  },
  {
   "cell_type": "markdown",
   "id": "ecdc359a-4de6-48f8-a573-41c6d084a7ca",
   "metadata": {},
   "source": [
    "## SVM"
   ]
  },
  {
   "cell_type": "code",
   "execution_count": 48,
   "id": "4cc4f7da-ad52-47e9-92d0-fb7ac7d29c44",
   "metadata": {},
   "outputs": [],
   "source": [
    "bestParamsSVM = {\n",
    "    'alpha':1.983570694577895e-06, \n",
    "    'average':False, \n",
    "    'class_weight':None,\n",
    "    'early_stopping':False, \n",
    "    'epsilon':0.1, \n",
    "    'eta0':0.050879465480455605,\n",
    "    'fit_intercept':True, \n",
    "    'l1_ratio':0.3264919553269943,\n",
    "    'learning_rate':'adaptive', \n",
    "    'loss':'hinge', \n",
    "    'max_iter':1000,\n",
    "    'n_iter_no_change':5, \n",
    "    'n_jobs':-1, \n",
    "    'penalty':'l2', \n",
    "    'power_t':0.5,\n",
    "    'random_state':1768, \n",
    "    'shuffle':True, \n",
    "    'tol':0.001,\n",
    "    'validation_fraction':0.1, \n",
    "    'verbose':False, \n",
    "    'warm_start':False\n",
    "}"
   ]
  },
  {
   "cell_type": "code",
   "execution_count": 49,
   "id": "811f8d9f-491d-4f38-9ce9-e06344b3ac41",
   "metadata": {},
   "outputs": [
    {
     "name": "stderr",
     "output_type": "stream",
     "text": [
      "WARNING:root:Malformed experiment '819906245614309265'. Detailed error Yaml file 'H:\\masterarbeit_python\\mlruns\\819906245614309265\\meta.yaml' does not exist.\n",
      "Traceback (most recent call last):\n",
      "  File \"C:\\Users\\ge35yay\\.conda\\envs\\venv_masterarbeit_RMT\\Lib\\site-packages\\mlflow\\store\\tracking\\file_store.py\", line 317, in search_experiments\n",
      "    exp = self._get_experiment(exp_id, view_type)\n",
      "          ^^^^^^^^^^^^^^^^^^^^^^^^^^^^^^^^^^^^^^^\n",
      "  File \"C:\\Users\\ge35yay\\.conda\\envs\\venv_masterarbeit_RMT\\Lib\\site-packages\\mlflow\\store\\tracking\\file_store.py\", line 410, in _get_experiment\n",
      "    meta = FileStore._read_yaml(experiment_dir, FileStore.META_DATA_FILE_NAME)\n",
      "           ^^^^^^^^^^^^^^^^^^^^^^^^^^^^^^^^^^^^^^^^^^^^^^^^^^^^^^^^^^^^^^^^^^^\n",
      "  File \"C:\\Users\\ge35yay\\.conda\\envs\\venv_masterarbeit_RMT\\Lib\\site-packages\\mlflow\\store\\tracking\\file_store.py\", line 1341, in _read_yaml\n",
      "    return _read_helper(root, file_name, attempts_remaining=retries)\n",
      "           ^^^^^^^^^^^^^^^^^^^^^^^^^^^^^^^^^^^^^^^^^^^^^^^^^^^^^^^^^\n",
      "  File \"C:\\Users\\ge35yay\\.conda\\envs\\venv_masterarbeit_RMT\\Lib\\site-packages\\mlflow\\store\\tracking\\file_store.py\", line 1334, in _read_helper\n",
      "    result = read_yaml(root, file_name)\n",
      "             ^^^^^^^^^^^^^^^^^^^^^^^^^^\n",
      "  File \"C:\\Users\\ge35yay\\.conda\\envs\\venv_masterarbeit_RMT\\Lib\\site-packages\\mlflow\\utils\\file_utils.py\", line 309, in read_yaml\n",
      "    raise MissingConfigException(f\"Yaml file '{file_path}' does not exist.\")\n",
      "mlflow.exceptions.MissingConfigException: Yaml file 'H:\\masterarbeit_python\\mlruns\\819906245614309265\\meta.yaml' does not exist.\n",
      "2025/10/08 14:48:16 WARNING mlflow.models.model: Input example should be provided to infer model signature if the model signature is not provided when logging the model.\n"
     ]
    }
   ],
   "source": [
    "svm = create_model('svm', **bestParamsSVM)"
   ]
  },
  {
   "cell_type": "code",
   "execution_count": 50,
   "id": "2d6dd58a-03ef-438f-9194-e28dc7e12d6c",
   "metadata": {},
   "outputs": [
    {
     "data": {
      "application/vnd.jupyter.widget-view+json": {
       "model_id": "fa763bb3617e41abaac7c8b6d5a57717",
       "version_major": 2,
       "version_minor": 0
      },
      "text/plain": [
       "interactive(children=(ToggleButtons(description='Plot Type:', icons=('',), options=(('Pipeline Plot', 'pipelin…"
      ]
     },
     "metadata": {},
     "output_type": "display_data"
    }
   ],
   "source": [
    "evaluate_model(svm)"
   ]
  },
  {
   "cell_type": "code",
   "execution_count": 51,
   "id": "d9398024-1520-47e6-b08f-0317be58ede0",
   "metadata": {},
   "outputs": [
    {
     "data": {
      "text/html": [],
      "text/plain": [
       "<IPython.core.display.HTML object>"
      ]
     },
     "metadata": {},
     "output_type": "display_data"
    },
    {
     "data": {
      "image/png": "[encoded data removed]",
      "text/plain": [
       "<Figure size 800x500 with 1 Axes>"
      ]
     },
     "metadata": {},
     "output_type": "display_data"
    }
   ],
   "source": [
    "plot_model(svm, plot='feature')"
   ]
  },
  {
   "cell_type": "code",
   "execution_count": 52,
   "id": "72c8ad8f-abb7-454c-9901-05ecc9e1457e",
   "metadata": {},
   "outputs": [
    {
     "data": {
      "text/html": [],
      "text/plain": [
       "<IPython.core.display.HTML object>"
      ]
     },
     "metadata": {},
     "output_type": "display_data"
    },
    {
     "data": {
      "image/png": "[encoded data removed]",
      "text/plain": [
       "<Figure size 800x550 with 1 Axes>"
      ]
     },
     "metadata": {},
     "output_type": "display_data"
    }
   ],
   "source": [
    "plot_model(svm, plot='confusion_matrix')"
   ]
  },
  {
   "cell_type": "code",
   "execution_count": 53,
   "id": "049dda80-ba01-474f-b66d-250dcb0e8d63",
   "metadata": {},
   "outputs": [
    {
     "data": {
      "text/html": [
       "<style type=\"text/css\">\n",
       "</style>\n",
       "<table id=\"T_b64cc\">\n",
       "  <thead>\n",
       "    <tr>\n",
       "      <th class=\"blank level0\" >&nbsp;</th>\n",
       "      <th id=\"T_b64cc_level0_col0\" class=\"col_heading level0 col0\" >Model</th>\n",
       "      <th id=\"T_b64cc_level0_col1\" class=\"col_heading level0 col1\" >Accuracy</th>\n",
       "      <th id=\"T_b64cc_level0_col2\" class=\"col_heading level0 col2\" >AUC</th>\n",
       "      <th id=\"T_b64cc_level0_col3\" class=\"col_heading level0 col3\" >Recall</th>\n",
       "      <th id=\"T_b64cc_level0_col4\" class=\"col_heading level0 col4\" >Prec.</th>\n",
       "      <th id=\"T_b64cc_level0_col5\" class=\"col_heading level0 col5\" >F1</th>\n",
       "      <th id=\"T_b64cc_level0_col6\" class=\"col_heading level0 col6\" >Kappa</th>\n",
       "      <th id=\"T_b64cc_level0_col7\" class=\"col_heading level0 col7\" >MCC</th>\n",
       "      <th id=\"T_b64cc_level0_col8\" class=\"col_heading level0 col8\" >Balance Acc</th>\n",
       "      <th id=\"T_b64cc_level0_col9\" class=\"col_heading level0 col9\" >Hamming Loss</th>\n",
       "      <th id=\"T_b64cc_level0_col10\" class=\"col_heading level0 col10\" >Jaccard Score</th>\n",
       "      <th id=\"T_b64cc_level0_col11\" class=\"col_heading level0 col11\" >Log Loss</th>\n",
       "    </tr>\n",
       "  </thead>\n",
       "  <tbody>\n",
       "    <tr>\n",
       "      <th id=\"T_b64cc_level0_row0\" class=\"row_heading level0 row0\" >0</th>\n",
       "      <td id=\"T_b64cc_row0_col0\" class=\"data row0 col0\" >SVM - Linear Kernel</td>\n",
       "      <td id=\"T_b64cc_row0_col1\" class=\"data row0 col1\" >0.7712</td>\n",
       "      <td id=\"T_b64cc_row0_col2\" class=\"data row0 col2\" >0</td>\n",
       "      <td id=\"T_b64cc_row0_col3\" class=\"data row0 col3\" >0.7712</td>\n",
       "      <td id=\"T_b64cc_row0_col4\" class=\"data row0 col4\" >0.5948</td>\n",
       "      <td id=\"T_b64cc_row0_col5\" class=\"data row0 col5\" >0.6716</td>\n",
       "      <td id=\"T_b64cc_row0_col6\" class=\"data row0 col6\" >0.0000</td>\n",
       "      <td id=\"T_b64cc_row0_col7\" class=\"data row0 col7\" >0.0000</td>\n",
       "      <td id=\"T_b64cc_row0_col8\" class=\"data row0 col8\" >0.5000</td>\n",
       "      <td id=\"T_b64cc_row0_col9\" class=\"data row0 col9\" >0.2288</td>\n",
       "      <td id=\"T_b64cc_row0_col10\" class=\"data row0 col10\" >0.0000</td>\n",
       "      <td id=\"T_b64cc_row0_col11\" class=\"data row0 col11\" >0</td>\n",
       "    </tr>\n",
       "  </tbody>\n",
       "</table>\n"
      ],
      "text/plain": [
       "<pandas.io.formats.style.Styler at 0x1b182361fd0>"
      ]
     },
     "metadata": {},
     "output_type": "display_data"
    }
   ],
   "source": [
    "predictions_svm = predict_model(svm, data=features_df_testing_normalized)"
   ]
  },
  {
   "cell_type": "code",
   "execution_count": 54,
   "id": "8d4e08c3-a8c6-4423-a289-1be18b4402e6",
   "metadata": {},
   "outputs": [
    {
     "data": {
      "text/html": [
       "<div>\n",
       "<style scoped>\n",
       "    .dataframe tbody tr th:only-of-type {\n",
       "        vertical-align: middle;\n",
       "    }\n",
       "\n",
       "    .dataframe tbody tr th {\n",
       "        vertical-align: top;\n",
       "    }\n",
       "\n",
       "    .dataframe thead th {\n",
       "        text-align: right;\n",
       "    }\n",
       "</style>\n",
       "<table border=\"1\" class=\"dataframe\">\n",
       "  <thead>\n",
       "    <tr style=\"text-align: right;\">\n",
       "      <th></th>\n",
       "      <th>crest</th>\n",
       "      <th>rms</th>\n",
       "      <th>entropy</th>\n",
       "      <th>std</th>\n",
       "      <th>energy</th>\n",
       "      <th>Label</th>\n",
       "      <th>prediction_label</th>\n",
       "    </tr>\n",
       "  </thead>\n",
       "  <tbody>\n",
       "    <tr>\n",
       "      <th>218615</th>\n",
       "      <td>-0.010554</td>\n",
       "      <td>-0.039899</td>\n",
       "      <td>0.002184</td>\n",
       "      <td>-0.039799</td>\n",
       "      <td>-0.002195</td>\n",
       "      <td>healthy</td>\n",
       "      <td>damaged</td>\n",
       "    </tr>\n",
       "    <tr>\n",
       "      <th>228778</th>\n",
       "      <td>-0.425526</td>\n",
       "      <td>-0.031495</td>\n",
       "      <td>0.002184</td>\n",
       "      <td>-0.031392</td>\n",
       "      <td>-0.002195</td>\n",
       "      <td>healthy</td>\n",
       "      <td>damaged</td>\n",
       "    </tr>\n",
       "    <tr>\n",
       "      <th>8722</th>\n",
       "      <td>0.227862</td>\n",
       "      <td>-0.044579</td>\n",
       "      <td>0.002184</td>\n",
       "      <td>-0.044480</td>\n",
       "      <td>-0.002195</td>\n",
       "      <td>healthy</td>\n",
       "      <td>damaged</td>\n",
       "    </tr>\n",
       "    <tr>\n",
       "      <th>205173</th>\n",
       "      <td>-0.482941</td>\n",
       "      <td>0.056086</td>\n",
       "      <td>0.002178</td>\n",
       "      <td>0.056141</td>\n",
       "      <td>-0.002173</td>\n",
       "      <td>healthy</td>\n",
       "      <td>damaged</td>\n",
       "    </tr>\n",
       "    <tr>\n",
       "      <th>369958</th>\n",
       "      <td>0.365890</td>\n",
       "      <td>-0.044072</td>\n",
       "      <td>0.002184</td>\n",
       "      <td>-0.043974</td>\n",
       "      <td>-0.002195</td>\n",
       "      <td>healthy</td>\n",
       "      <td>damaged</td>\n",
       "    </tr>\n",
       "    <tr>\n",
       "      <th>...</th>\n",
       "      <td>...</td>\n",
       "      <td>...</td>\n",
       "      <td>...</td>\n",
       "      <td>...</td>\n",
       "      <td>...</td>\n",
       "      <td>...</td>\n",
       "      <td>...</td>\n",
       "    </tr>\n",
       "    <tr>\n",
       "      <th>109907</th>\n",
       "      <td>0.124668</td>\n",
       "      <td>-0.044625</td>\n",
       "      <td>0.002184</td>\n",
       "      <td>-0.044526</td>\n",
       "      <td>-0.002195</td>\n",
       "      <td>healthy</td>\n",
       "      <td>damaged</td>\n",
       "    </tr>\n",
       "    <tr>\n",
       "      <th>7944</th>\n",
       "      <td>-0.211877</td>\n",
       "      <td>-0.044577</td>\n",
       "      <td>0.002184</td>\n",
       "      <td>-0.044479</td>\n",
       "      <td>-0.002195</td>\n",
       "      <td>healthy</td>\n",
       "      <td>damaged</td>\n",
       "    </tr>\n",
       "    <tr>\n",
       "      <th>235734</th>\n",
       "      <td>-0.066563</td>\n",
       "      <td>0.098440</td>\n",
       "      <td>0.002171</td>\n",
       "      <td>0.098593</td>\n",
       "      <td>-0.002151</td>\n",
       "      <td>healthy</td>\n",
       "      <td>damaged</td>\n",
       "    </tr>\n",
       "    <tr>\n",
       "      <th>373452</th>\n",
       "      <td>0.204772</td>\n",
       "      <td>-0.044103</td>\n",
       "      <td>0.002184</td>\n",
       "      <td>-0.044004</td>\n",
       "      <td>-0.002195</td>\n",
       "      <td>healthy</td>\n",
       "      <td>damaged</td>\n",
       "    </tr>\n",
       "    <tr>\n",
       "      <th>30366</th>\n",
       "      <td>-0.427688</td>\n",
       "      <td>-0.044555</td>\n",
       "      <td>0.002184</td>\n",
       "      <td>-0.044456</td>\n",
       "      <td>-0.002195</td>\n",
       "      <td>healthy</td>\n",
       "      <td>damaged</td>\n",
       "    </tr>\n",
       "  </tbody>\n",
       "</table>\n",
       "<p>19273 rows × 7 columns</p>\n",
       "</div>"
      ],
      "text/plain": [
       "           crest       rms   entropy       std    energy    Label  \\\n",
       "218615 -0.010554 -0.039899  0.002184 -0.039799 -0.002195  healthy   \n",
       "228778 -0.425526 -0.031495  0.002184 -0.031392 -0.002195  healthy   \n",
       "8722    0.227862 -0.044579  0.002184 -0.044480 -0.002195  healthy   \n",
       "205173 -0.482941  0.056086  0.002178  0.056141 -0.002173  healthy   \n",
       "369958  0.365890 -0.044072  0.002184 -0.043974 -0.002195  healthy   \n",
       "...          ...       ...       ...       ...       ...      ...   \n",
       "109907  0.124668 -0.044625  0.002184 -0.044526 -0.002195  healthy   \n",
       "7944   -0.211877 -0.044577  0.002184 -0.044479 -0.002195  healthy   \n",
       "235734 -0.066563  0.098440  0.002171  0.098593 -0.002151  healthy   \n",
       "373452  0.204772 -0.044103  0.002184 -0.044004 -0.002195  healthy   \n",
       "30366  -0.427688 -0.044555  0.002184 -0.044456 -0.002195  healthy   \n",
       "\n",
       "       prediction_label  \n",
       "218615          damaged  \n",
       "228778          damaged  \n",
       "8722            damaged  \n",
       "205173          damaged  \n",
       "369958          damaged  \n",
       "...                 ...  \n",
       "109907          damaged  \n",
       "7944            damaged  \n",
       "235734          damaged  \n",
       "373452          damaged  \n",
       "30366           damaged  \n",
       "\n",
       "[19273 rows x 7 columns]"
      ]
     },
     "execution_count": 54,
     "metadata": {},
     "output_type": "execute_result"
    }
   ],
   "source": [
    "get_incorrect_predictions(predictions_svm)"
   ]
  },
  {
   "cell_type": "code",
   "execution_count": 55,
   "id": "9b4f976e-c841-4383-ab4d-8fb6e602bd94",
   "metadata": {
    "scrolled": true
   },
   "outputs": [
    {
     "data": {
      "image/png": "[encoded data removed]",
      "text/plain": [
       "<Figure size 800x400 with 1 Axes>"
      ]
     },
     "metadata": {},
     "output_type": "display_data"
    },
    {
     "data": {
      "image/png": "[encoded data removed]",
      "text/plain": [
       "<Figure size 800x400 with 1 Axes>"
      ]
     },
     "metadata": {},
     "output_type": "display_data"
    },
    {
     "data": {
      "image/png": "[encoded data removed]",
      "text/plain": [
       "<Figure size 800x400 with 1 Axes>"
      ]
     },
     "metadata": {},
     "output_type": "display_data"
    },
    {
     "data": {
      "image/png": "[encoded data removed]",
      "text/plain": [
       "<Figure size 800x400 with 1 Axes>"
      ]
     },
     "metadata": {},
     "output_type": "display_data"
    },
    {
     "data": {
      "image/png": "[encoded data removed]",
      "text/plain": [
       "<Figure size 800x400 with 1 Axes>"
      ]
     },
     "metadata": {},
     "output_type": "display_data"
    }
   ],
   "source": [
    "plotPredictionHistograms(predictions_svm, normalization_method)"
   ]
  },
  {
   "cell_type": "markdown",
   "id": "378342ee-8ffa-4f37-9937-a2051463887a",
   "metadata": {},
   "source": [
    "# Experiment Setup (DL)"
   ]
  },
  {
   "cell_type": "markdown",
   "id": "4c085121-3acd-4d2e-9fb4-5c19183fe186",
   "metadata": {},
   "source": [
    "## Configure Data"
   ]
  },
  {
   "cell_type": "code",
   "execution_count": 56,
   "id": "fee3568a-b1fa-4505-bd7f-88819ba246fb",
   "metadata": {},
   "outputs": [
    {
     "name": "stdout",
     "output_type": "stream",
     "text": [
      "Train Shape: (269601, 6) | Val Shape: (67401, 6) | Test Shape: (84251, 6)\n"
     ]
    }
   ],
   "source": [
    "train, test = train_test_split(normalized_df, test_size=0.2, random_state=42)\n",
    "train, val = train_test_split(train, test_size=0.2, random_state=42)\n",
    "print(f\"Train Shape: {train.shape} | Val Shape: {val.shape} | Test Shape: {test.shape}\")"
   ]
  },
  {
   "cell_type": "code",
   "execution_count": 57,
   "id": "41773c3d-7a5e-43b7-8682-2aea065f0bb0",
   "metadata": {},
   "outputs": [],
   "source": [
    "target = \"Label\"\n",
    "num_labels = normalized_df['Label'].nunique()\n",
    "\n",
    "categorical_cols = [\n",
    "    col\n",
    "    for col in features_df_training_normalized.select_dtypes(include=[\"object\",\"category\"]).columns\n",
    "    if col != target\n",
    "]\n",
    "\n",
    "continuous_cols = features_df_training_normalized.select_dtypes(include=[\"number\"]).columns.tolist()"
   ]
  },
  {
   "cell_type": "code",
   "execution_count": 58,
   "id": "a28e6e44-1bea-4842-8482-9708cc2c1367",
   "metadata": {},
   "outputs": [
    {
     "name": "stdout",
     "output_type": "stream",
     "text": [
      "Target: Label\n",
      "Categorical inputs: []\n",
      "Continuous inputs: ['crest', 'rms', 'entropy', 'std', 'energy']\n"
     ]
    }
   ],
   "source": [
    "print(\"Target:\", target)\n",
    "print(\"Categorical inputs:\", categorical_cols)  \n",
    "print(\"Continuous inputs:\", continuous_cols)    "
   ]
  },
  {
   "cell_type": "code",
   "execution_count": 59,
   "id": "7f339072-98d8-491e-a93c-cdcce0517bd0",
   "metadata": {},
   "outputs": [],
   "source": [
    "data_config = DataConfig(\n",
    "    target=[target],\n",
    "    continuous_cols=continuous_cols,\n",
    "    categorical_cols=categorical_cols,\n",
    ")"
   ]
  },
  {
   "cell_type": "code",
   "execution_count": 60,
   "id": "1c70fc27-0191-47e7-b183-e78605871c8e",
   "metadata": {},
   "outputs": [
    {
     "name": "stdout",
     "output_type": "stream",
     "text": [
      "Available GPU: Yes\n"
     ]
    }
   ],
   "source": [
    "available_gpu=1 if torch.cuda.is_available() else 0\n",
    "print(f\"Available GPU: {'Yes' if available_gpu else 'No'}\")"
   ]
  },
  {
   "cell_type": "code",
   "execution_count": 61,
   "id": "19a562ad-72cd-4216-8f77-36c195d0f974",
   "metadata": {},
   "outputs": [],
   "source": [
    "trainer_config = TrainerConfig(\n",
    "    auto_lr_find=False,\n",
    "    max_epochs=10,\n",
    "    accelerator='gpu' if torch.cuda.is_available() else 'cpu',\n",
    "    batch_size=256,\n",
    ")\n",
    "\n",
    "optimizer_config = OptimizerConfig()\n",
    "\n",
    "experiment_config = ExperimentConfig(\n",
    "        project_name=experiment_name,\n",
    "        run_name=f\"{experiment_name}_run\",\n",
    "        log_target=\"tensorboard\",\n",
    "    )"
   ]
  },
  {
   "cell_type": "code",
   "execution_count": 62,
   "id": "35ebedda-b066-4b7c-bf1e-64911d6451f5",
   "metadata": {},
   "outputs": [],
   "source": [
    "tabnet_config = TabNetModelConfig(\n",
    "        task=\"classification\",\n",
    "        n_d=33,\n",
    "        n_a=46,\n",
    "        n_steps=3,\n",
    "        gamma=1.2864230491528987,\n",
    "        embedding_dropout=0.1825276618254278,\n",
    "        learning_rate=0.00468046516266798,\n",
    "        metrics=[\n",
    "            \"accuracy\", \n",
    "            \"auroc\",\n",
    "            \"recall\",\n",
    "            \"precision\",\n",
    "            \"f1_score\",\n",
    "            \"cohen_kappa\",\n",
    "            \"matthews_corrcoef\",\n",
    "            \"hamming_distance\",\n",
    "            \"jaccard_index\",\n",
    "        ],\n",
    "        metrics_prob_input=[\n",
    "            False,  #acc\n",
    "            True,   # auroc\n",
    "            False,  # recall\n",
    "            False,  # precision\n",
    "            False,  # f1_score\n",
    "            False,  # cohen_kappa\n",
    "            False,  # matthews_corrcoef\n",
    "            False,  # hamming_distance\n",
    "            False,  # jaccard_index\n",
    "        ],\n",
    "        metrics_params=[\n",
    "            {\"average\": \"macro\"},\n",
    "            {\"average\": \"macro\", \"num_classes\": normalized_df['Label'].nunique()},  # auroc\n",
    "            {\"average\": \"macro\", \"num_classes\": normalized_df['Label'].nunique()},  # recall\n",
    "            {\"average\": \"macro\", \"num_classes\": normalized_df['Label'].nunique()},  # precision\n",
    "            {\"average\": \"macro\", \"num_classes\": normalized_df['Label'].nunique()},  # f1_score\n",
    "            {\"num_classes\": normalized_df['Label'].nunique()},                      # cohen_kappa\n",
    "            {},                                      # matthews_corrcoef\n",
    "            {},                                      # hamming_distance\n",
    "            {\"average\": \"macro\", \"num_classes\": normalized_df['Label'].nunique()},  # jaccard_index\n",
    "        ]\n",
    "    )"
   ]
  },
  {
   "cell_type": "code",
   "execution_count": 63,
   "id": "b8f55063-d2dd-465c-ac37-d79189c06ba9",
   "metadata": {},
   "outputs": [
    {
     "data": {
      "text/html": [
       "<pre style=\"white-space:pre;overflow-x:auto;line-height:normal;font-family:Menlo,'DejaVu Sans Mono',consolas,'Courier New',monospace\"><span style=\"color: #008080; text-decoration-color: #008080; font-weight: bold\">2025</span>-<span style=\"color: #008080; text-decoration-color: #008080; font-weight: bold\">10</span>-<span style=\"color: #008080; text-decoration-color: #008080; font-weight: bold\">08</span> <span style=\"color: #00ff00; text-decoration-color: #00ff00; font-weight: bold\">14:48:24</span>,<span style=\"color: #008080; text-decoration-color: #008080; font-weight: bold\">281</span> - <span style=\"font-weight: bold\">{</span>pytorch_tabular.tabular_model:<span style=\"color: #008080; text-decoration-color: #008080; font-weight: bold\">146</span><span style=\"font-weight: bold\">}</span> - INFO - Experiment Tracking is turned off           \n",
       "</pre>\n"
      ],
      "text/plain": [
       "\u001b[1;36m2025\u001b[0m-\u001b[1;36m10\u001b[0m-\u001b[1;36m08\u001b[0m \u001b[1;92m14:48:24\u001b[0m,\u001b[1;36m281\u001b[0m - \u001b[1m{\u001b[0mpytorch_tabular.tabular_model:\u001b[1;36m146\u001b[0m\u001b[1m}\u001b[0m - INFO - Experiment Tracking is turned off           \n"
      ]
     },
     "metadata": {},
     "output_type": "display_data"
    }
   ],
   "source": [
    "tabnet_model = TabularModel(\n",
    "        data_config=data_config,\n",
    "        model_config=tabnet_config,\n",
    "        optimizer_config=optimizer_config,\n",
    "        trainer_config=trainer_config,\n",
    "        verbose=True\n",
    "    )"
   ]
  },
  {
   "cell_type": "code",
   "execution_count": 64,
   "id": "b5525f2a-f36a-407e-96ff-f590ffd1e38a",
   "metadata": {
    "scrolled": true
   },
   "outputs": [
    {
     "name": "stderr",
     "output_type": "stream",
     "text": [
      "Seed set to 42\n"
     ]
    },
    {
     "data": {
      "text/html": [
       "<pre style=\"white-space:pre;overflow-x:auto;line-height:normal;font-family:Menlo,'DejaVu Sans Mono',consolas,'Courier New',monospace\"><span style=\"color: #008080; text-decoration-color: #008080; font-weight: bold\">2025</span>-<span style=\"color: #008080; text-decoration-color: #008080; font-weight: bold\">10</span>-<span style=\"color: #008080; text-decoration-color: #008080; font-weight: bold\">08</span> <span style=\"color: #00ff00; text-decoration-color: #00ff00; font-weight: bold\">14:48:24</span>,<span style=\"color: #008080; text-decoration-color: #008080; font-weight: bold\">329</span> - <span style=\"font-weight: bold\">{</span>pytorch_tabular.tabular_model:<span style=\"color: #008080; text-decoration-color: #008080; font-weight: bold\">548</span><span style=\"font-weight: bold\">}</span> - INFO - Preparing the DataLoaders                   \n",
       "</pre>\n"
      ],
      "text/plain": [
       "\u001b[1;36m2025\u001b[0m-\u001b[1;36m10\u001b[0m-\u001b[1;36m08\u001b[0m \u001b[1;92m14:48:24\u001b[0m,\u001b[1;36m329\u001b[0m - \u001b[1m{\u001b[0mpytorch_tabular.tabular_model:\u001b[1;36m548\u001b[0m\u001b[1m}\u001b[0m - INFO - Preparing the DataLoaders                   \n"
      ]
     },
     "metadata": {},
     "output_type": "display_data"
    },
    {
     "data": {
      "text/html": [
       "<pre style=\"white-space:pre;overflow-x:auto;line-height:normal;font-family:Menlo,'DejaVu Sans Mono',consolas,'Courier New',monospace\"><span style=\"color: #008080; text-decoration-color: #008080; font-weight: bold\">2025</span>-<span style=\"color: #008080; text-decoration-color: #008080; font-weight: bold\">10</span>-<span style=\"color: #008080; text-decoration-color: #008080; font-weight: bold\">08</span> <span style=\"color: #00ff00; text-decoration-color: #00ff00; font-weight: bold\">14:48:24</span>,<span style=\"color: #008080; text-decoration-color: #008080; font-weight: bold\">359</span> - <span style=\"font-weight: bold\">{</span>pytorch_tabular.tabular_datamodul<span style=\"color: #00ff00; text-decoration-color: #00ff00; font-weight: bold\">e:522</span><span style=\"font-weight: bold\">}</span> - INFO - Setting up the datamodule for          \n",
       "classification task                                                                                                \n",
       "</pre>\n"
      ],
      "text/plain": [
       "\u001b[1;36m2025\u001b[0m-\u001b[1;36m10\u001b[0m-\u001b[1;36m08\u001b[0m \u001b[1;92m14:48:24\u001b[0m,\u001b[1;36m359\u001b[0m - \u001b[1m{\u001b[0mpytorch_tabular.tabular_datamodul\u001b[1;92me:522\u001b[0m\u001b[1m}\u001b[0m - INFO - Setting up the datamodule for          \n",
       "classification task                                                                                                \n"
      ]
     },
     "metadata": {},
     "output_type": "display_data"
    },
    {
     "data": {
      "text/html": [
       "<pre style=\"white-space:pre;overflow-x:auto;line-height:normal;font-family:Menlo,'DejaVu Sans Mono',consolas,'Courier New',monospace\"><span style=\"color: #008080; text-decoration-color: #008080; font-weight: bold\">2025</span>-<span style=\"color: #008080; text-decoration-color: #008080; font-weight: bold\">10</span>-<span style=\"color: #008080; text-decoration-color: #008080; font-weight: bold\">08</span> <span style=\"color: #00ff00; text-decoration-color: #00ff00; font-weight: bold\">14:48:24</span>,<span style=\"color: #008080; text-decoration-color: #008080; font-weight: bold\">473</span> - <span style=\"font-weight: bold\">{</span>pytorch_tabular.tabular_model:<span style=\"color: #008080; text-decoration-color: #008080; font-weight: bold\">599</span><span style=\"font-weight: bold\">}</span> - INFO - Preparing the Model: TabNetModel            \n",
       "</pre>\n"
      ],
      "text/plain": [
       "\u001b[1;36m2025\u001b[0m-\u001b[1;36m10\u001b[0m-\u001b[1;36m08\u001b[0m \u001b[1;92m14:48:24\u001b[0m,\u001b[1;36m473\u001b[0m - \u001b[1m{\u001b[0mpytorch_tabular.tabular_model:\u001b[1;36m599\u001b[0m\u001b[1m}\u001b[0m - INFO - Preparing the Model: TabNetModel            \n"
      ]
     },
     "metadata": {},
     "output_type": "display_data"
    },
    {
     "data": {
      "text/html": [
       "<pre style=\"white-space:pre;overflow-x:auto;line-height:normal;font-family:Menlo,'DejaVu Sans Mono',consolas,'Courier New',monospace\"><span style=\"color: #008080; text-decoration-color: #008080; font-weight: bold\">2025</span>-<span style=\"color: #008080; text-decoration-color: #008080; font-weight: bold\">10</span>-<span style=\"color: #008080; text-decoration-color: #008080; font-weight: bold\">08</span> <span style=\"color: #00ff00; text-decoration-color: #00ff00; font-weight: bold\">14:48:24</span>,<span style=\"color: #008080; text-decoration-color: #008080; font-weight: bold\">529</span> - <span style=\"font-weight: bold\">{</span>pytorch_tabular.tabular_model:<span style=\"color: #008080; text-decoration-color: #008080; font-weight: bold\">342</span><span style=\"font-weight: bold\">}</span> - INFO - Preparing the Trainer                       \n",
       "</pre>\n"
      ],
      "text/plain": [
       "\u001b[1;36m2025\u001b[0m-\u001b[1;36m10\u001b[0m-\u001b[1;36m08\u001b[0m \u001b[1;92m14:48:24\u001b[0m,\u001b[1;36m529\u001b[0m - \u001b[1m{\u001b[0mpytorch_tabular.tabular_model:\u001b[1;36m342\u001b[0m\u001b[1m}\u001b[0m - INFO - Preparing the Trainer                       \n"
      ]
     },
     "metadata": {},
     "output_type": "display_data"
    },
    {
     "name": "stderr",
     "output_type": "stream",
     "text": [
      "GPU available: True (cuda), used: True\n",
      "TPU available: False, using: 0 TPU cores\n",
      "HPU available: False, using: 0 HPUs\n"
     ]
    },
    {
     "data": {
      "text/html": [
       "<pre style=\"white-space:pre;overflow-x:auto;line-height:normal;font-family:Menlo,'DejaVu Sans Mono',consolas,'Courier New',monospace\"><span style=\"color: #008080; text-decoration-color: #008080; font-weight: bold\">2025</span>-<span style=\"color: #008080; text-decoration-color: #008080; font-weight: bold\">10</span>-<span style=\"color: #008080; text-decoration-color: #008080; font-weight: bold\">08</span> <span style=\"color: #00ff00; text-decoration-color: #00ff00; font-weight: bold\">14:48:24</span>,<span style=\"color: #008080; text-decoration-color: #008080; font-weight: bold\">572</span> - <span style=\"font-weight: bold\">{</span>pytorch_tabular.tabular_model:<span style=\"color: #008080; text-decoration-color: #008080; font-weight: bold\">678</span><span style=\"font-weight: bold\">}</span> - INFO - Training Started                            \n",
       "</pre>\n"
      ],
      "text/plain": [
       "\u001b[1;36m2025\u001b[0m-\u001b[1;36m10\u001b[0m-\u001b[1;36m08\u001b[0m \u001b[1;92m14:48:24\u001b[0m,\u001b[1;36m572\u001b[0m - \u001b[1m{\u001b[0mpytorch_tabular.tabular_model:\u001b[1;36m678\u001b[0m\u001b[1m}\u001b[0m - INFO - Training Started                            \n"
      ]
     },
     "metadata": {},
     "output_type": "display_data"
    },
    {
     "name": "stderr",
     "output_type": "stream",
     "text": [
      "LOCAL_RANK: 0 - CUDA_VISIBLE_DEVICES: [0]\n"
     ]
    },
    {
     "data": {
      "text/html": [
       "<pre style=\"white-space:pre;overflow-x:auto;line-height:normal;font-family:Menlo,'DejaVu Sans Mono',consolas,'Courier New',monospace\">┏━━━┳━━━━━━━━━━━━━━━━━━┳━━━━━━━━━━━━━━━━━━┳━━━━━━━━┳━━━━━━━┓\n",
       "┃<span style=\"color: #800080; text-decoration-color: #800080; font-weight: bold\">   </span>┃<span style=\"color: #800080; text-decoration-color: #800080; font-weight: bold\"> Name             </span>┃<span style=\"color: #800080; text-decoration-color: #800080; font-weight: bold\"> Type             </span>┃<span style=\"color: #800080; text-decoration-color: #800080; font-weight: bold\"> Params </span>┃<span style=\"color: #800080; text-decoration-color: #800080; font-weight: bold\"> Mode  </span>┃\n",
       "┡━━━╇━━━━━━━━━━━━━━━━━━╇━━━━━━━━━━━━━━━━━━╇━━━━━━━━╇━━━━━━━┩\n",
       "│<span style=\"color: #7f7f7f; text-decoration-color: #7f7f7f\"> 0 </span>│ _embedding_layer │ Identity         │      0 │ train │\n",
       "│<span style=\"color: #7f7f7f; text-decoration-color: #7f7f7f\"> 1 </span>│ _backbone        │ TabNetBackbone   │  118 K │ train │\n",
       "│<span style=\"color: #7f7f7f; text-decoration-color: #7f7f7f\"> 2 </span>│ _head            │ Identity         │      0 │ train │\n",
       "│<span style=\"color: #7f7f7f; text-decoration-color: #7f7f7f\"> 3 </span>│ loss             │ CrossEntropyLoss │      0 │ train │\n",
       "└───┴──────────────────┴──────────────────┴────────┴───────┘\n",
       "</pre>\n"
      ],
      "text/plain": [
       "┏━━━┳━━━━━━━━━━━━━━━━━━┳━━━━━━━━━━━━━━━━━━┳━━━━━━━━┳━━━━━━━┓\n",
       "┃\u001b[1;35m \u001b[0m\u001b[1;35m \u001b[0m\u001b[1;35m \u001b[0m┃\u001b[1;35m \u001b[0m\u001b[1;35mName            \u001b[0m\u001b[1;35m \u001b[0m┃\u001b[1;35m \u001b[0m\u001b[1;35mType            \u001b[0m\u001b[1;35m \u001b[0m┃\u001b[1;35m \u001b[0m\u001b[1;35mParams\u001b[0m\u001b[1;35m \u001b[0m┃\u001b[1;35m \u001b[0m\u001b[1;35mMode \u001b[0m\u001b[1;35m \u001b[0m┃\n",
       "┡━━━╇━━━━━━━━━━━━━━━━━━╇━━━━━━━━━━━━━━━━━━╇━━━━━━━━╇━━━━━━━┩\n",
       "│\u001b[2m \u001b[0m\u001b[2m0\u001b[0m\u001b[2m \u001b[0m│ _embedding_layer │ Identity         │      0 │ train │\n",
       "│\u001b[2m \u001b[0m\u001b[2m1\u001b[0m\u001b[2m \u001b[0m│ _backbone        │ TabNetBackbone   │  118 K │ train │\n",
       "│\u001b[2m \u001b[0m\u001b[2m2\u001b[0m\u001b[2m \u001b[0m│ _head            │ Identity         │      0 │ train │\n",
       "│\u001b[2m \u001b[0m\u001b[2m3\u001b[0m\u001b[2m \u001b[0m│ loss             │ CrossEntropyLoss │      0 │ train │\n",
       "└───┴──────────────────┴──────────────────┴────────┴───────┘\n"
      ]
     },
     "metadata": {},
     "output_type": "display_data"
    },
    {
     "data": {
      "text/html": [
       "<pre style=\"white-space:pre;overflow-x:auto;line-height:normal;font-family:Menlo,'DejaVu Sans Mono',consolas,'Courier New',monospace\"><span style=\"font-weight: bold\">Trainable params</span>: 118 K                                                                                            \n",
       "<span style=\"font-weight: bold\">Non-trainable params</span>: 0                                                                                            \n",
       "<span style=\"font-weight: bold\">Total params</span>: 118 K                                                                                                \n",
       "<span style=\"font-weight: bold\">Total estimated model params size (MB)</span>: 0                                                                          \n",
       "<span style=\"font-weight: bold\">Modules in train mode</span>: 107                                                                                         \n",
       "<span style=\"font-weight: bold\">Modules in eval mode</span>: 0                                                                                            \n",
       "</pre>\n"
      ],
      "text/plain": [
       "\u001b[1mTrainable params\u001b[0m: 118 K                                                                                            \n",
       "\u001b[1mNon-trainable params\u001b[0m: 0                                                                                            \n",
       "\u001b[1mTotal params\u001b[0m: 118 K                                                                                                \n",
       "\u001b[1mTotal estimated model params size (MB)\u001b[0m: 0                                                                          \n",
       "\u001b[1mModules in train mode\u001b[0m: 107                                                                                         \n",
       "\u001b[1mModules in eval mode\u001b[0m: 0                                                                                            \n"
      ]
     },
     "metadata": {},
     "output_type": "display_data"
    },
    {
     "data": {
      "application/vnd.jupyter.widget-view+json": {
       "model_id": "63c9c0e2985b43598d5ddb8413e2f138",
       "version_major": 2,
       "version_minor": 0
      },
      "text/plain": [
       "Output()"
      ]
     },
     "metadata": {},
     "output_type": "display_data"
    },
    {
     "data": {
      "text/html": [
       "<pre style=\"white-space:pre;overflow-x:auto;line-height:normal;font-family:Menlo,'DejaVu Sans Mono',consolas,'Courier New',monospace\"></pre>\n"
      ],
      "text/plain": []
     },
     "metadata": {},
     "output_type": "display_data"
    },
    {
     "data": {
      "text/html": [
       "<pre style=\"white-space:pre;overflow-x:auto;line-height:normal;font-family:Menlo,'DejaVu Sans Mono',consolas,'Courier New',monospace\"><span style=\"color: #008080; text-decoration-color: #008080; font-weight: bold\">2025</span>-<span style=\"color: #008080; text-decoration-color: #008080; font-weight: bold\">10</span>-<span style=\"color: #008080; text-decoration-color: #008080; font-weight: bold\">08</span> <span style=\"color: #00ff00; text-decoration-color: #00ff00; font-weight: bold\">14:54:27</span>,<span style=\"color: #008080; text-decoration-color: #008080; font-weight: bold\">708</span> - <span style=\"font-weight: bold\">{</span>pytorch_tabular.tabular_model:<span style=\"color: #008080; text-decoration-color: #008080; font-weight: bold\">689</span><span style=\"font-weight: bold\">}</span> - INFO - Training the model completed                \n",
       "</pre>\n"
      ],
      "text/plain": [
       "\u001b[1;36m2025\u001b[0m-\u001b[1;36m10\u001b[0m-\u001b[1;36m08\u001b[0m \u001b[1;92m14:54:27\u001b[0m,\u001b[1;36m708\u001b[0m - \u001b[1m{\u001b[0mpytorch_tabular.tabular_model:\u001b[1;36m689\u001b[0m\u001b[1m}\u001b[0m - INFO - Training the model completed                \n"
      ]
     },
     "metadata": {},
     "output_type": "display_data"
    },
    {
     "data": {
      "text/html": [
       "<pre style=\"white-space:pre;overflow-x:auto;line-height:normal;font-family:Menlo,'DejaVu Sans Mono',consolas,'Courier New',monospace\"><span style=\"color: #008080; text-decoration-color: #008080; font-weight: bold\">2025</span>-<span style=\"color: #008080; text-decoration-color: #008080; font-weight: bold\">10</span>-<span style=\"color: #008080; text-decoration-color: #008080; font-weight: bold\">08</span> <span style=\"color: #00ff00; text-decoration-color: #00ff00; font-weight: bold\">14:54:27</span>,<span style=\"color: #008080; text-decoration-color: #008080; font-weight: bold\">708</span> - <span style=\"font-weight: bold\">{</span>pytorch_tabular.tabular_model:<span style=\"color: #008080; text-decoration-color: #008080; font-weight: bold\">1529</span><span style=\"font-weight: bold\">}</span> - INFO - Loading the best model                     \n",
       "</pre>\n"
      ],
      "text/plain": [
       "\u001b[1;36m2025\u001b[0m-\u001b[1;36m10\u001b[0m-\u001b[1;36m08\u001b[0m \u001b[1;92m14:54:27\u001b[0m,\u001b[1;36m708\u001b[0m - \u001b[1m{\u001b[0mpytorch_tabular.tabular_model:\u001b[1;36m1529\u001b[0m\u001b[1m}\u001b[0m - INFO - Loading the best model                     \n"
      ]
     },
     "metadata": {},
     "output_type": "display_data"
    },
    {
     "data": {
      "text/plain": [
       "<pytorch_lightning.trainer.trainer.Trainer at 0x1b182470190>"
      ]
     },
     "execution_count": 64,
     "metadata": {},
     "output_type": "execute_result"
    }
   ],
   "source": [
    "tabnet_model.fit(train=train, validation=val)"
   ]
  },
  {
   "cell_type": "code",
   "execution_count": 65,
   "id": "f907c7e1-d8ef-4b99-a9f9-2f7fd0b8f1bc",
   "metadata": {},
   "outputs": [
    {
     "name": "stderr",
     "output_type": "stream",
     "text": [
      "LOCAL_RANK: 0 - CUDA_VISIBLE_DEVICES: [0]\n"
     ]
    },
    {
     "data": {
      "application/vnd.jupyter.widget-view+json": {
       "model_id": "9a715c5fcb244dc9a100f79774c8b285",
       "version_major": 2,
       "version_minor": 0
      },
      "text/plain": [
       "Output()"
      ]
     },
     "metadata": {},
     "output_type": "display_data"
    },
    {
     "data": {
      "text/html": [
       "<pre style=\"white-space:pre;overflow-x:auto;line-height:normal;font-family:Menlo,'DejaVu Sans Mono',consolas,'Courier New',monospace\">┏━━━━━━━━━━━━━━━━━━━━━━━━━━━┳━━━━━━━━━━━━━━━━━━━━━━━━━━━┓\n",
       "┃<span style=\"font-weight: bold\">        Test metric        </span>┃<span style=\"font-weight: bold\">       DataLoader 0        </span>┃\n",
       "┡━━━━━━━━━━━━━━━━━━━━━━━━━━━╇━━━━━━━━━━━━━━━━━━━━━━━━━━━┩\n",
       "│<span style=\"color: #008080; text-decoration-color: #008080\">       test_accuracy       </span>│<span style=\"color: #800080; text-decoration-color: #800080\">    0.7712430953979492     </span>│\n",
       "│<span style=\"color: #008080; text-decoration-color: #008080\">        test_auroc         </span>│<span style=\"color: #800080; text-decoration-color: #800080\">     0.575955867767334     </span>│\n",
       "│<span style=\"color: #008080; text-decoration-color: #008080\">     test_cohen_kappa      </span>│<span style=\"color: #800080; text-decoration-color: #800080\">            0.0            </span>│\n",
       "│<span style=\"color: #008080; text-decoration-color: #008080\">       test_f1_score       </span>│<span style=\"color: #800080; text-decoration-color: #800080\">    0.7712430953979492     </span>│\n",
       "│<span style=\"color: #008080; text-decoration-color: #008080\">   test_hamming_distance   </span>│<span style=\"color: #800080; text-decoration-color: #800080\">    0.22875693440437317    </span>│\n",
       "│<span style=\"color: #008080; text-decoration-color: #008080\">    test_jaccard_index     </span>│<span style=\"color: #800080; text-decoration-color: #800080\">    0.3856215476989746     </span>│\n",
       "│<span style=\"color: #008080; text-decoration-color: #008080\">         test_loss         </span>│<span style=\"color: #800080; text-decoration-color: #800080\">    0.5514245629310608     </span>│\n",
       "│<span style=\"color: #008080; text-decoration-color: #008080\">        test_loss_0        </span>│<span style=\"color: #800080; text-decoration-color: #800080\">    0.5514245629310608     </span>│\n",
       "│<span style=\"color: #008080; text-decoration-color: #008080\">  test_matthews_corrcoef   </span>│<span style=\"color: #800080; text-decoration-color: #800080\">    0.08157535642385483    </span>│\n",
       "│<span style=\"color: #008080; text-decoration-color: #008080\">      test_precision       </span>│<span style=\"color: #800080; text-decoration-color: #800080\">    0.7712430953979492     </span>│\n",
       "│<span style=\"color: #008080; text-decoration-color: #008080\">        test_recall        </span>│<span style=\"color: #800080; text-decoration-color: #800080\">    0.7712430953979492     </span>│\n",
       "└───────────────────────────┴───────────────────────────┘\n",
       "</pre>\n"
      ],
      "text/plain": [
       "┏━━━━━━━━━━━━━━━━━━━━━━━━━━━┳━━━━━━━━━━━━━━━━━━━━━━━━━━━┓\n",
       "┃\u001b[1m \u001b[0m\u001b[1m       Test metric       \u001b[0m\u001b[1m \u001b[0m┃\u001b[1m \u001b[0m\u001b[1m      DataLoader 0       \u001b[0m\u001b[1m \u001b[0m┃\n",
       "┡━━━━━━━━━━━━━━━━━━━━━━━━━━━╇━━━━━━━━━━━━━━━━━━━━━━━━━━━┩\n",
       "│\u001b[36m \u001b[0m\u001b[36m      test_accuracy      \u001b[0m\u001b[36m \u001b[0m│\u001b[35m \u001b[0m\u001b[35m   0.7712430953979492    \u001b[0m\u001b[35m \u001b[0m│\n",
       "│\u001b[36m \u001b[0m\u001b[36m       test_auroc        \u001b[0m\u001b[36m \u001b[0m│\u001b[35m \u001b[0m\u001b[35m    0.575955867767334    \u001b[0m\u001b[35m \u001b[0m│\n",
       "│\u001b[36m \u001b[0m\u001b[36m    test_cohen_kappa     \u001b[0m\u001b[36m \u001b[0m│\u001b[35m \u001b[0m\u001b[35m           0.0           \u001b[0m\u001b[35m \u001b[0m│\n",
       "│\u001b[36m \u001b[0m\u001b[36m      test_f1_score      \u001b[0m\u001b[36m \u001b[0m│\u001b[35m \u001b[0m\u001b[35m   0.7712430953979492    \u001b[0m\u001b[35m \u001b[0m│\n",
       "│\u001b[36m \u001b[0m\u001b[36m  test_hamming_distance  \u001b[0m\u001b[36m \u001b[0m│\u001b[35m \u001b[0m\u001b[35m   0.22875693440437317   \u001b[0m\u001b[35m \u001b[0m│\n",
       "│\u001b[36m \u001b[0m\u001b[36m   test_jaccard_index    \u001b[0m\u001b[36m \u001b[0m│\u001b[35m \u001b[0m\u001b[35m   0.3856215476989746    \u001b[0m\u001b[35m \u001b[0m│\n",
       "│\u001b[36m \u001b[0m\u001b[36m        test_loss        \u001b[0m\u001b[36m \u001b[0m│\u001b[35m \u001b[0m\u001b[35m   0.5514245629310608    \u001b[0m\u001b[35m \u001b[0m│\n",
       "│\u001b[36m \u001b[0m\u001b[36m       test_loss_0       \u001b[0m\u001b[36m \u001b[0m│\u001b[35m \u001b[0m\u001b[35m   0.5514245629310608    \u001b[0m\u001b[35m \u001b[0m│\n",
       "│\u001b[36m \u001b[0m\u001b[36m test_matthews_corrcoef  \u001b[0m\u001b[36m \u001b[0m│\u001b[35m \u001b[0m\u001b[35m   0.08157535642385483   \u001b[0m\u001b[35m \u001b[0m│\n",
       "│\u001b[36m \u001b[0m\u001b[36m     test_precision      \u001b[0m\u001b[36m \u001b[0m│\u001b[35m \u001b[0m\u001b[35m   0.7712430953979492    \u001b[0m\u001b[35m \u001b[0m│\n",
       "│\u001b[36m \u001b[0m\u001b[36m       test_recall       \u001b[0m\u001b[36m \u001b[0m│\u001b[35m \u001b[0m\u001b[35m   0.7712430953979492    \u001b[0m\u001b[35m \u001b[0m│\n",
       "└───────────────────────────┴───────────────────────────┘\n"
      ]
     },
     "metadata": {},
     "output_type": "display_data"
    },
    {
     "data": {
      "text/html": [
       "<pre style=\"white-space:pre;overflow-x:auto;line-height:normal;font-family:Menlo,'DejaVu Sans Mono',consolas,'Courier New',monospace\"></pre>\n"
      ],
      "text/plain": []
     },
     "metadata": {},
     "output_type": "display_data"
    }
   ],
   "source": [
    "tabnet_pred_df = tabnet_model.predict(test)\n",
    "tabnet_pred_df.head(10)\n",
    "tabnet_result = tabnet_model.evaluate(test)"
   ]
  },
  {
   "cell_type": "markdown",
   "id": "1f0a4748-8644-48c4-9cd9-0d63bc5cde54",
   "metadata": {},
   "source": [
    "## GANDALF"
   ]
  },
  {
   "cell_type": "code",
   "execution_count": 66,
   "id": "c2bc93c3-afa6-4647-946e-9ac5fc170f3a",
   "metadata": {},
   "outputs": [],
   "source": [
    "gandalf_config = GANDALFConfig(\n",
    "        task=\"classification\",\n",
    "        gflu_stages=8,\n",
    "        gflu_dropout=0.20621973444441227,\n",
    "        gflu_feature_init_sparsity=0.5069371167197942,\n",
    "        learnable_sparsity=False,\n",
    "        embedding_dropout= 0.06647823724375934,\n",
    "        batch_norm_continuous_input=False,\n",
    "        learning_rate=2.6124262014312122e-05,\n",
    "        metrics=[\n",
    "            \"accuracy\", \n",
    "            \"auroc\",\n",
    "            \"recall\",\n",
    "            \"precision\",\n",
    "            \"f1_score\",\n",
    "            \"cohen_kappa\",\n",
    "            \"matthews_corrcoef\",\n",
    "            \"hamming_distance\",\n",
    "            \"jaccard_index\",\n",
    "        ],\n",
    "        metrics_prob_input=[\n",
    "            False,  #acc\n",
    "            True,   # auroc\n",
    "            False,  # recall\n",
    "            False,  # precision\n",
    "            False,  # f1_score\n",
    "            False,  # cohen_kappa\n",
    "            False,  # matthews_corrcoef\n",
    "            False,  # hamming_distance\n",
    "            False,  # jaccard_index\n",
    "        ],\n",
    "        metrics_params=[\n",
    "            {\"average\": \"macro\"},\n",
    "            {\"average\": \"macro\", \"num_classes\": normalized_df['Label'].nunique()},  # auroc\n",
    "            {\"average\": \"macro\", \"num_classes\": normalized_df['Label'].nunique()},  # recall\n",
    "            {\"average\": \"macro\", \"num_classes\": normalized_df['Label'].nunique()},  # precision\n",
    "            {\"average\": \"macro\", \"num_classes\": normalized_df['Label'].nunique()},  # f1_score\n",
    "            {\"num_classes\": normalized_df['Label'].nunique()},                      # cohen_kappa\n",
    "            {},                                      # matthews_corrcoef\n",
    "            {},                                      # hamming_distance\n",
    "            {\"average\": \"macro\", \"num_classes\": normalized_df['Label'].nunique()},  # jaccard_index\n",
    "        ]\n",
    "    )"
   ]
  },
  {
   "cell_type": "code",
   "execution_count": 67,
   "id": "2408f5e3-04a9-420b-a382-5b6db124f4c2",
   "metadata": {},
   "outputs": [
    {
     "data": {
      "text/html": [
       "<pre style=\"white-space:pre;overflow-x:auto;line-height:normal;font-family:Menlo,'DejaVu Sans Mono',consolas,'Courier New',monospace\"><span style=\"color: #008080; text-decoration-color: #008080; font-weight: bold\">2025</span>-<span style=\"color: #008080; text-decoration-color: #008080; font-weight: bold\">10</span>-<span style=\"color: #008080; text-decoration-color: #008080; font-weight: bold\">08</span> <span style=\"color: #00ff00; text-decoration-color: #00ff00; font-weight: bold\">14:54:52</span>,<span style=\"color: #008080; text-decoration-color: #008080; font-weight: bold\">301</span> - <span style=\"font-weight: bold\">{</span>pytorch_tabular.tabular_model:<span style=\"color: #008080; text-decoration-color: #008080; font-weight: bold\">146</span><span style=\"font-weight: bold\">}</span> - INFO - Experiment Tracking is turned off           \n",
       "</pre>\n"
      ],
      "text/plain": [
       "\u001b[1;36m2025\u001b[0m-\u001b[1;36m10\u001b[0m-\u001b[1;36m08\u001b[0m \u001b[1;92m14:54:52\u001b[0m,\u001b[1;36m301\u001b[0m - \u001b[1m{\u001b[0mpytorch_tabular.tabular_model:\u001b[1;36m146\u001b[0m\u001b[1m}\u001b[0m - INFO - Experiment Tracking is turned off           \n"
      ]
     },
     "metadata": {},
     "output_type": "display_data"
    }
   ],
   "source": [
    "gandalf_model = TabularModel(\n",
    "    data_config=data_config,\n",
    "    model_config=gandalf_config,\n",
    "    optimizer_config=optimizer_config,\n",
    "    trainer_config=trainer_config,\n",
    "    verbose=True\n",
    ")"
   ]
  },
  {
   "cell_type": "code",
   "execution_count": 68,
   "id": "2e69f977-f32f-4bec-a5e2-49c0d4375ff7",
   "metadata": {},
   "outputs": [
    {
     "name": "stderr",
     "output_type": "stream",
     "text": [
      "Seed set to 42\n"
     ]
    },
    {
     "data": {
      "text/html": [
       "<pre style=\"white-space:pre;overflow-x:auto;line-height:normal;font-family:Menlo,'DejaVu Sans Mono',consolas,'Courier New',monospace\"><span style=\"color: #008080; text-decoration-color: #008080; font-weight: bold\">2025</span>-<span style=\"color: #008080; text-decoration-color: #008080; font-weight: bold\">10</span>-<span style=\"color: #008080; text-decoration-color: #008080; font-weight: bold\">08</span> <span style=\"color: #00ff00; text-decoration-color: #00ff00; font-weight: bold\">14:54:52</span>,<span style=\"color: #008080; text-decoration-color: #008080; font-weight: bold\">346</span> - <span style=\"font-weight: bold\">{</span>pytorch_tabular.tabular_model:<span style=\"color: #008080; text-decoration-color: #008080; font-weight: bold\">548</span><span style=\"font-weight: bold\">}</span> - INFO - Preparing the DataLoaders                   \n",
       "</pre>\n"
      ],
      "text/plain": [
       "\u001b[1;36m2025\u001b[0m-\u001b[1;36m10\u001b[0m-\u001b[1;36m08\u001b[0m \u001b[1;92m14:54:52\u001b[0m,\u001b[1;36m346\u001b[0m - \u001b[1m{\u001b[0mpytorch_tabular.tabular_model:\u001b[1;36m548\u001b[0m\u001b[1m}\u001b[0m - INFO - Preparing the DataLoaders                   \n"
      ]
     },
     "metadata": {},
     "output_type": "display_data"
    },
    {
     "data": {
      "text/html": [
       "<pre style=\"white-space:pre;overflow-x:auto;line-height:normal;font-family:Menlo,'DejaVu Sans Mono',consolas,'Courier New',monospace\"><span style=\"color: #008080; text-decoration-color: #008080; font-weight: bold\">2025</span>-<span style=\"color: #008080; text-decoration-color: #008080; font-weight: bold\">10</span>-<span style=\"color: #008080; text-decoration-color: #008080; font-weight: bold\">08</span> <span style=\"color: #00ff00; text-decoration-color: #00ff00; font-weight: bold\">14:54:52</span>,<span style=\"color: #008080; text-decoration-color: #008080; font-weight: bold\">384</span> - <span style=\"font-weight: bold\">{</span>pytorch_tabular.tabular_datamodul<span style=\"color: #00ff00; text-decoration-color: #00ff00; font-weight: bold\">e:522</span><span style=\"font-weight: bold\">}</span> - INFO - Setting up the datamodule for          \n",
       "classification task                                                                                                \n",
       "</pre>\n"
      ],
      "text/plain": [
       "\u001b[1;36m2025\u001b[0m-\u001b[1;36m10\u001b[0m-\u001b[1;36m08\u001b[0m \u001b[1;92m14:54:52\u001b[0m,\u001b[1;36m384\u001b[0m - \u001b[1m{\u001b[0mpytorch_tabular.tabular_datamodul\u001b[1;92me:522\u001b[0m\u001b[1m}\u001b[0m - INFO - Setting up the datamodule for          \n",
       "classification task                                                                                                \n"
      ]
     },
     "metadata": {},
     "output_type": "display_data"
    },
    {
     "data": {
      "text/html": [
       "<pre style=\"white-space:pre;overflow-x:auto;line-height:normal;font-family:Menlo,'DejaVu Sans Mono',consolas,'Courier New',monospace\"><span style=\"color: #008080; text-decoration-color: #008080; font-weight: bold\">2025</span>-<span style=\"color: #008080; text-decoration-color: #008080; font-weight: bold\">10</span>-<span style=\"color: #008080; text-decoration-color: #008080; font-weight: bold\">08</span> <span style=\"color: #00ff00; text-decoration-color: #00ff00; font-weight: bold\">14:54:52</span>,<span style=\"color: #008080; text-decoration-color: #008080; font-weight: bold\">507</span> - <span style=\"font-weight: bold\">{</span>pytorch_tabular.tabular_model:<span style=\"color: #008080; text-decoration-color: #008080; font-weight: bold\">599</span><span style=\"font-weight: bold\">}</span> - INFO - Preparing the Model: GANDALFModel           \n",
       "</pre>\n"
      ],
      "text/plain": [
       "\u001b[1;36m2025\u001b[0m-\u001b[1;36m10\u001b[0m-\u001b[1;36m08\u001b[0m \u001b[1;92m14:54:52\u001b[0m,\u001b[1;36m507\u001b[0m - \u001b[1m{\u001b[0mpytorch_tabular.tabular_model:\u001b[1;36m599\u001b[0m\u001b[1m}\u001b[0m - INFO - Preparing the Model: GANDALFModel           \n"
      ]
     },
     "metadata": {},
     "output_type": "display_data"
    },
    {
     "data": {
      "text/html": [
       "<pre style=\"white-space:pre;overflow-x:auto;line-height:normal;font-family:Menlo,'DejaVu Sans Mono',consolas,'Courier New',monospace\"><span style=\"color: #008080; text-decoration-color: #008080; font-weight: bold\">2025</span>-<span style=\"color: #008080; text-decoration-color: #008080; font-weight: bold\">10</span>-<span style=\"color: #008080; text-decoration-color: #008080; font-weight: bold\">08</span> <span style=\"color: #00ff00; text-decoration-color: #00ff00; font-weight: bold\">14:54:52</span>,<span style=\"color: #008080; text-decoration-color: #008080; font-weight: bold\">564</span> - <span style=\"font-weight: bold\">{</span>pytorch_tabular.tabular_model:<span style=\"color: #008080; text-decoration-color: #008080; font-weight: bold\">342</span><span style=\"font-weight: bold\">}</span> - INFO - Preparing the Trainer                       \n",
       "</pre>\n"
      ],
      "text/plain": [
       "\u001b[1;36m2025\u001b[0m-\u001b[1;36m10\u001b[0m-\u001b[1;36m08\u001b[0m \u001b[1;92m14:54:52\u001b[0m,\u001b[1;36m564\u001b[0m - \u001b[1m{\u001b[0mpytorch_tabular.tabular_model:\u001b[1;36m342\u001b[0m\u001b[1m}\u001b[0m - INFO - Preparing the Trainer                       \n"
      ]
     },
     "metadata": {},
     "output_type": "display_data"
    },
    {
     "name": "stderr",
     "output_type": "stream",
     "text": [
      "GPU available: True (cuda), used: True\n",
      "TPU available: False, using: 0 TPU cores\n",
      "HPU available: False, using: 0 HPUs\n"
     ]
    },
    {
     "data": {
      "text/html": [
       "<pre style=\"white-space:pre;overflow-x:auto;line-height:normal;font-family:Menlo,'DejaVu Sans Mono',consolas,'Courier New',monospace\"><span style=\"color: #008080; text-decoration-color: #008080; font-weight: bold\">2025</span>-<span style=\"color: #008080; text-decoration-color: #008080; font-weight: bold\">10</span>-<span style=\"color: #008080; text-decoration-color: #008080; font-weight: bold\">08</span> <span style=\"color: #00ff00; text-decoration-color: #00ff00; font-weight: bold\">14:54:52</span>,<span style=\"color: #008080; text-decoration-color: #008080; font-weight: bold\">623</span> - <span style=\"font-weight: bold\">{</span>pytorch_tabular.tabular_model:<span style=\"color: #008080; text-decoration-color: #008080; font-weight: bold\">678</span><span style=\"font-weight: bold\">}</span> - INFO - Training Started                            \n",
       "</pre>\n"
      ],
      "text/plain": [
       "\u001b[1;36m2025\u001b[0m-\u001b[1;36m10\u001b[0m-\u001b[1;36m08\u001b[0m \u001b[1;92m14:54:52\u001b[0m,\u001b[1;36m623\u001b[0m - \u001b[1m{\u001b[0mpytorch_tabular.tabular_model:\u001b[1;36m678\u001b[0m\u001b[1m}\u001b[0m - INFO - Training Started                            \n"
      ]
     },
     "metadata": {},
     "output_type": "display_data"
    },
    {
     "name": "stderr",
     "output_type": "stream",
     "text": [
      "LOCAL_RANK: 0 - CUDA_VISIBLE_DEVICES: [0]\n"
     ]
    },
    {
     "data": {
      "text/html": [
       "<pre style=\"white-space:pre;overflow-x:auto;line-height:normal;font-family:Menlo,'DejaVu Sans Mono',consolas,'Courier New',monospace\">┏━━━┳━━━━━━━━━━━━━━━━━━┳━━━━━━━━━━━━━━━━━━┳━━━━━━━━┳━━━━━━━┓\n",
       "┃<span style=\"color: #800080; text-decoration-color: #800080; font-weight: bold\">   </span>┃<span style=\"color: #800080; text-decoration-color: #800080; font-weight: bold\"> Name             </span>┃<span style=\"color: #800080; text-decoration-color: #800080; font-weight: bold\"> Type             </span>┃<span style=\"color: #800080; text-decoration-color: #800080; font-weight: bold\"> Params </span>┃<span style=\"color: #800080; text-decoration-color: #800080; font-weight: bold\"> Mode  </span>┃\n",
       "┡━━━╇━━━━━━━━━━━━━━━━━━╇━━━━━━━━━━━━━━━━━━╇━━━━━━━━╇━━━━━━━┩\n",
       "│<span style=\"color: #7f7f7f; text-decoration-color: #7f7f7f\"> 0 </span>│ _backbone        │ GANDALFBackbone  │  1.4 K │ train │\n",
       "│<span style=\"color: #7f7f7f; text-decoration-color: #7f7f7f\"> 1 </span>│ _embedding_layer │ Embedding1dLayer │      0 │ train │\n",
       "│<span style=\"color: #7f7f7f; text-decoration-color: #7f7f7f\"> 2 </span>│ _head            │ Sequential       │     14 │ train │\n",
       "│<span style=\"color: #7f7f7f; text-decoration-color: #7f7f7f\"> 3 </span>│ loss             │ CrossEntropyLoss │      0 │ train │\n",
       "└───┴──────────────────┴──────────────────┴────────┴───────┘\n",
       "</pre>\n"
      ],
      "text/plain": [
       "┏━━━┳━━━━━━━━━━━━━━━━━━┳━━━━━━━━━━━━━━━━━━┳━━━━━━━━┳━━━━━━━┓\n",
       "┃\u001b[1;35m \u001b[0m\u001b[1;35m \u001b[0m\u001b[1;35m \u001b[0m┃\u001b[1;35m \u001b[0m\u001b[1;35mName            \u001b[0m\u001b[1;35m \u001b[0m┃\u001b[1;35m \u001b[0m\u001b[1;35mType            \u001b[0m\u001b[1;35m \u001b[0m┃\u001b[1;35m \u001b[0m\u001b[1;35mParams\u001b[0m\u001b[1;35m \u001b[0m┃\u001b[1;35m \u001b[0m\u001b[1;35mMode \u001b[0m\u001b[1;35m \u001b[0m┃\n",
       "┡━━━╇━━━━━━━━━━━━━━━━━━╇━━━━━━━━━━━━━━━━━━╇━━━━━━━━╇━━━━━━━┩\n",
       "│\u001b[2m \u001b[0m\u001b[2m0\u001b[0m\u001b[2m \u001b[0m│ _backbone        │ GANDALFBackbone  │  1.4 K │ train │\n",
       "│\u001b[2m \u001b[0m\u001b[2m1\u001b[0m\u001b[2m \u001b[0m│ _embedding_layer │ Embedding1dLayer │      0 │ train │\n",
       "│\u001b[2m \u001b[0m\u001b[2m2\u001b[0m\u001b[2m \u001b[0m│ _head            │ Sequential       │     14 │ train │\n",
       "│\u001b[2m \u001b[0m\u001b[2m3\u001b[0m\u001b[2m \u001b[0m│ loss             │ CrossEntropyLoss │      0 │ train │\n",
       "└───┴──────────────────┴──────────────────┴────────┴───────┘\n"
      ]
     },
     "metadata": {},
     "output_type": "display_data"
    },
    {
     "data": {
      "text/html": [
       "<pre style=\"white-space:pre;overflow-x:auto;line-height:normal;font-family:Menlo,'DejaVu Sans Mono',consolas,'Courier New',monospace\"><span style=\"font-weight: bold\">Trainable params</span>: 1.4 K                                                                                            \n",
       "<span style=\"font-weight: bold\">Non-trainable params</span>: 8                                                                                            \n",
       "<span style=\"font-weight: bold\">Total params</span>: 1.4 K                                                                                                \n",
       "<span style=\"font-weight: bold\">Total estimated model params size (MB)</span>: 0                                                                          \n",
       "<span style=\"font-weight: bold\">Modules in train mode</span>: 30                                                                                          \n",
       "<span style=\"font-weight: bold\">Modules in eval mode</span>: 0                                                                                            \n",
       "</pre>\n"
      ],
      "text/plain": [
       "\u001b[1mTrainable params\u001b[0m: 1.4 K                                                                                            \n",
       "\u001b[1mNon-trainable params\u001b[0m: 8                                                                                            \n",
       "\u001b[1mTotal params\u001b[0m: 1.4 K                                                                                                \n",
       "\u001b[1mTotal estimated model params size (MB)\u001b[0m: 0                                                                          \n",
       "\u001b[1mModules in train mode\u001b[0m: 30                                                                                          \n",
       "\u001b[1mModules in eval mode\u001b[0m: 0                                                                                            \n"
      ]
     },
     "metadata": {},
     "output_type": "display_data"
    },
    {
     "data": {
      "application/vnd.jupyter.widget-view+json": {
       "model_id": "f962ca8a2f974e3980609dc003ecb35d",
       "version_major": 2,
       "version_minor": 0
      },
      "text/plain": [
       "Output()"
      ]
     },
     "metadata": {},
     "output_type": "display_data"
    },
    {
     "name": "stderr",
     "output_type": "stream",
     "text": [
      "`Trainer.fit` stopped: `max_epochs=10` reached.\n"
     ]
    },
    {
     "data": {
      "text/html": [
       "<pre style=\"white-space:pre;overflow-x:auto;line-height:normal;font-family:Menlo,'DejaVu Sans Mono',consolas,'Courier New',monospace\"></pre>\n"
      ],
      "text/plain": []
     },
     "metadata": {},
     "output_type": "display_data"
    },
    {
     "data": {
      "text/html": [
       "<pre style=\"white-space:pre;overflow-x:auto;line-height:normal;font-family:Menlo,'DejaVu Sans Mono',consolas,'Courier New',monospace\"><span style=\"color: #008080; text-decoration-color: #008080; font-weight: bold\">2025</span>-<span style=\"color: #008080; text-decoration-color: #008080; font-weight: bold\">10</span>-<span style=\"color: #008080; text-decoration-color: #008080; font-weight: bold\">08</span> <span style=\"color: #00ff00; text-decoration-color: #00ff00; font-weight: bold\">15:08:23</span>,<span style=\"color: #008080; text-decoration-color: #008080; font-weight: bold\">696</span> - <span style=\"font-weight: bold\">{</span>pytorch_tabular.tabular_model:<span style=\"color: #008080; text-decoration-color: #008080; font-weight: bold\">689</span><span style=\"font-weight: bold\">}</span> - INFO - Training the model completed                \n",
       "</pre>\n"
      ],
      "text/plain": [
       "\u001b[1;36m2025\u001b[0m-\u001b[1;36m10\u001b[0m-\u001b[1;36m08\u001b[0m \u001b[1;92m15:08:23\u001b[0m,\u001b[1;36m696\u001b[0m - \u001b[1m{\u001b[0mpytorch_tabular.tabular_model:\u001b[1;36m689\u001b[0m\u001b[1m}\u001b[0m - INFO - Training the model completed                \n"
      ]
     },
     "metadata": {},
     "output_type": "display_data"
    },
    {
     "data": {
      "text/html": [
       "<pre style=\"white-space:pre;overflow-x:auto;line-height:normal;font-family:Menlo,'DejaVu Sans Mono',consolas,'Courier New',monospace\"><span style=\"color: #008080; text-decoration-color: #008080; font-weight: bold\">2025</span>-<span style=\"color: #008080; text-decoration-color: #008080; font-weight: bold\">10</span>-<span style=\"color: #008080; text-decoration-color: #008080; font-weight: bold\">08</span> <span style=\"color: #00ff00; text-decoration-color: #00ff00; font-weight: bold\">15:08:23</span>,<span style=\"color: #008080; text-decoration-color: #008080; font-weight: bold\">698</span> - <span style=\"font-weight: bold\">{</span>pytorch_tabular.tabular_model:<span style=\"color: #008080; text-decoration-color: #008080; font-weight: bold\">1529</span><span style=\"font-weight: bold\">}</span> - INFO - Loading the best model                     \n",
       "</pre>\n"
      ],
      "text/plain": [
       "\u001b[1;36m2025\u001b[0m-\u001b[1;36m10\u001b[0m-\u001b[1;36m08\u001b[0m \u001b[1;92m15:08:23\u001b[0m,\u001b[1;36m698\u001b[0m - \u001b[1m{\u001b[0mpytorch_tabular.tabular_model:\u001b[1;36m1529\u001b[0m\u001b[1m}\u001b[0m - INFO - Loading the best model                     \n"
      ]
     },
     "metadata": {},
     "output_type": "display_data"
    },
    {
     "data": {
      "text/plain": [
       "<pytorch_lightning.trainer.trainer.Trainer at 0x1b18004c590>"
      ]
     },
     "execution_count": 68,
     "metadata": {},
     "output_type": "execute_result"
    }
   ],
   "source": [
    "gandalf_model.fit(train=train, validation=val)"
   ]
  },
  {
   "cell_type": "code",
   "execution_count": 69,
   "id": "f6f8f567-07db-49b3-a9de-d7ea1613ff14",
   "metadata": {},
   "outputs": [
    {
     "data": {
      "text/html": [
       "<div>\n",
       "<style scoped>\n",
       "    .dataframe tbody tr th:only-of-type {\n",
       "        vertical-align: middle;\n",
       "    }\n",
       "\n",
       "    .dataframe tbody tr th {\n",
       "        vertical-align: top;\n",
       "    }\n",
       "\n",
       "    .dataframe thead th {\n",
       "        text-align: right;\n",
       "    }\n",
       "</style>\n",
       "<table border=\"1\" class=\"dataframe\">\n",
       "  <thead>\n",
       "    <tr style=\"text-align: right;\">\n",
       "      <th></th>\n",
       "      <th>Label_damaged_probability</th>\n",
       "      <th>Label_healthy_probability</th>\n",
       "      <th>Label_prediction</th>\n",
       "    </tr>\n",
       "  </thead>\n",
       "  <tbody>\n",
       "    <tr>\n",
       "      <th>218615</th>\n",
       "      <td>0.759678</td>\n",
       "      <td>0.240322</td>\n",
       "      <td>damaged</td>\n",
       "    </tr>\n",
       "    <tr>\n",
       "      <th>228778</th>\n",
       "      <td>0.735085</td>\n",
       "      <td>0.264915</td>\n",
       "      <td>damaged</td>\n",
       "    </tr>\n",
       "    <tr>\n",
       "      <th>274192</th>\n",
       "      <td>0.737245</td>\n",
       "      <td>0.262755</td>\n",
       "      <td>damaged</td>\n",
       "    </tr>\n",
       "    <tr>\n",
       "      <th>292634</th>\n",
       "      <td>0.765027</td>\n",
       "      <td>0.234973</td>\n",
       "      <td>damaged</td>\n",
       "    </tr>\n",
       "    <tr>\n",
       "      <th>8722</th>\n",
       "      <td>0.774334</td>\n",
       "      <td>0.225666</td>\n",
       "      <td>damaged</td>\n",
       "    </tr>\n",
       "    <tr>\n",
       "      <th>313942</th>\n",
       "      <td>0.741898</td>\n",
       "      <td>0.258102</td>\n",
       "      <td>damaged</td>\n",
       "    </tr>\n",
       "    <tr>\n",
       "      <th>205173</th>\n",
       "      <td>0.746322</td>\n",
       "      <td>0.253678</td>\n",
       "      <td>damaged</td>\n",
       "    </tr>\n",
       "    <tr>\n",
       "      <th>266867</th>\n",
       "      <td>0.723795</td>\n",
       "      <td>0.276205</td>\n",
       "      <td>damaged</td>\n",
       "    </tr>\n",
       "    <tr>\n",
       "      <th>42613</th>\n",
       "      <td>0.703261</td>\n",
       "      <td>0.296739</td>\n",
       "      <td>damaged</td>\n",
       "    </tr>\n",
       "    <tr>\n",
       "      <th>155912</th>\n",
       "      <td>0.760877</td>\n",
       "      <td>0.239123</td>\n",
       "      <td>damaged</td>\n",
       "    </tr>\n",
       "  </tbody>\n",
       "</table>\n",
       "</div>"
      ],
      "text/plain": [
       "        Label_damaged_probability  Label_healthy_probability Label_prediction\n",
       "218615                   0.759678                   0.240322          damaged\n",
       "228778                   0.735085                   0.264915          damaged\n",
       "274192                   0.737245                   0.262755          damaged\n",
       "292634                   0.765027                   0.234973          damaged\n",
       "8722                     0.774334                   0.225666          damaged\n",
       "313942                   0.741898                   0.258102          damaged\n",
       "205173                   0.746322                   0.253678          damaged\n",
       "266867                   0.723795                   0.276205          damaged\n",
       "42613                    0.703261                   0.296739          damaged\n",
       "155912                   0.760877                   0.239123          damaged"
      ]
     },
     "execution_count": 69,
     "metadata": {},
     "output_type": "execute_result"
    }
   ],
   "source": [
    "gandalf_pred_df = gandalf_model.predict(test)\n",
    "gandalf_pred_df.head(10)"
   ]
  },
  {
   "cell_type": "code",
   "execution_count": 70,
   "id": "3764cad1-615d-4a22-bda6-a393dbb8424c",
   "metadata": {},
   "outputs": [
    {
     "name": "stderr",
     "output_type": "stream",
     "text": [
      "LOCAL_RANK: 0 - CUDA_VISIBLE_DEVICES: [0]\n"
     ]
    },
    {
     "data": {
      "application/vnd.jupyter.widget-view+json": {
       "model_id": "affeb47fc6e74672931d53066b5992ff",
       "version_major": 2,
       "version_minor": 0
      },
      "text/plain": [
       "Output()"
      ]
     },
     "metadata": {},
     "output_type": "display_data"
    },
    {
     "data": {
      "text/html": [
       "<pre style=\"white-space:pre;overflow-x:auto;line-height:normal;font-family:Menlo,'DejaVu Sans Mono',consolas,'Courier New',monospace\">┏━━━━━━━━━━━━━━━━━━━━━━━━━━━┳━━━━━━━━━━━━━━━━━━━━━━━━━━━┓\n",
       "┃<span style=\"font-weight: bold\">        Test metric        </span>┃<span style=\"font-weight: bold\">       DataLoader 0        </span>┃\n",
       "┡━━━━━━━━━━━━━━━━━━━━━━━━━━━╇━━━━━━━━━━━━━━━━━━━━━━━━━━━┩\n",
       "│<span style=\"color: #008080; text-decoration-color: #008080\">       test_accuracy       </span>│<span style=\"color: #800080; text-decoration-color: #800080\">    0.7712430953979492     </span>│\n",
       "│<span style=\"color: #008080; text-decoration-color: #008080\">        test_auroc         </span>│<span style=\"color: #800080; text-decoration-color: #800080\">    0.5856543183326721     </span>│\n",
       "│<span style=\"color: #008080; text-decoration-color: #008080\">     test_cohen_kappa      </span>│<span style=\"color: #800080; text-decoration-color: #800080\">            0.0            </span>│\n",
       "│<span style=\"color: #008080; text-decoration-color: #008080\">       test_f1_score       </span>│<span style=\"color: #800080; text-decoration-color: #800080\">    0.7712430953979492     </span>│\n",
       "│<span style=\"color: #008080; text-decoration-color: #008080\">   test_hamming_distance   </span>│<span style=\"color: #800080; text-decoration-color: #800080\">    0.22875693440437317    </span>│\n",
       "│<span style=\"color: #008080; text-decoration-color: #008080\">    test_jaccard_index     </span>│<span style=\"color: #800080; text-decoration-color: #800080\">    0.3856215476989746     </span>│\n",
       "│<span style=\"color: #008080; text-decoration-color: #008080\">         test_loss         </span>│<span style=\"color: #800080; text-decoration-color: #800080\">    0.5303479433059692     </span>│\n",
       "│<span style=\"color: #008080; text-decoration-color: #008080\">        test_loss_0        </span>│<span style=\"color: #800080; text-decoration-color: #800080\">    0.5303479433059692     </span>│\n",
       "│<span style=\"color: #008080; text-decoration-color: #008080\">  test_matthews_corrcoef   </span>│<span style=\"color: #800080; text-decoration-color: #800080\">    0.08157535642385483    </span>│\n",
       "│<span style=\"color: #008080; text-decoration-color: #008080\">      test_precision       </span>│<span style=\"color: #800080; text-decoration-color: #800080\">    0.7712430953979492     </span>│\n",
       "│<span style=\"color: #008080; text-decoration-color: #008080\">        test_recall        </span>│<span style=\"color: #800080; text-decoration-color: #800080\">    0.7712430953979492     </span>│\n",
       "└───────────────────────────┴───────────────────────────┘\n",
       "</pre>\n"
      ],
      "text/plain": [
       "┏━━━━━━━━━━━━━━━━━━━━━━━━━━━┳━━━━━━━━━━━━━━━━━━━━━━━━━━━┓\n",
       "┃\u001b[1m \u001b[0m\u001b[1m       Test metric       \u001b[0m\u001b[1m \u001b[0m┃\u001b[1m \u001b[0m\u001b[1m      DataLoader 0       \u001b[0m\u001b[1m \u001b[0m┃\n",
       "┡━━━━━━━━━━━━━━━━━━━━━━━━━━━╇━━━━━━━━━━━━━━━━━━━━━━━━━━━┩\n",
       "│\u001b[36m \u001b[0m\u001b[36m      test_accuracy      \u001b[0m\u001b[36m \u001b[0m│\u001b[35m \u001b[0m\u001b[35m   0.7712430953979492    \u001b[0m\u001b[35m \u001b[0m│\n",
       "│\u001b[36m \u001b[0m\u001b[36m       test_auroc        \u001b[0m\u001b[36m \u001b[0m│\u001b[35m \u001b[0m\u001b[35m   0.5856543183326721    \u001b[0m\u001b[35m \u001b[0m│\n",
       "│\u001b[36m \u001b[0m\u001b[36m    test_cohen_kappa     \u001b[0m\u001b[36m \u001b[0m│\u001b[35m \u001b[0m\u001b[35m           0.0           \u001b[0m\u001b[35m \u001b[0m│\n",
       "│\u001b[36m \u001b[0m\u001b[36m      test_f1_score      \u001b[0m\u001b[36m \u001b[0m│\u001b[35m \u001b[0m\u001b[35m   0.7712430953979492    \u001b[0m\u001b[35m \u001b[0m│\n",
       "│\u001b[36m \u001b[0m\u001b[36m  test_hamming_distance  \u001b[0m\u001b[36m \u001b[0m│\u001b[35m \u001b[0m\u001b[35m   0.22875693440437317   \u001b[0m\u001b[35m \u001b[0m│\n",
       "│\u001b[36m \u001b[0m\u001b[36m   test_jaccard_index    \u001b[0m\u001b[36m \u001b[0m│\u001b[35m \u001b[0m\u001b[35m   0.3856215476989746    \u001b[0m\u001b[35m \u001b[0m│\n",
       "│\u001b[36m \u001b[0m\u001b[36m        test_loss        \u001b[0m\u001b[36m \u001b[0m│\u001b[35m \u001b[0m\u001b[35m   0.5303479433059692    \u001b[0m\u001b[35m \u001b[0m│\n",
       "│\u001b[36m \u001b[0m\u001b[36m       test_loss_0       \u001b[0m\u001b[36m \u001b[0m│\u001b[35m \u001b[0m\u001b[35m   0.5303479433059692    \u001b[0m\u001b[35m \u001b[0m│\n",
       "│\u001b[36m \u001b[0m\u001b[36m test_matthews_corrcoef  \u001b[0m\u001b[36m \u001b[0m│\u001b[35m \u001b[0m\u001b[35m   0.08157535642385483   \u001b[0m\u001b[35m \u001b[0m│\n",
       "│\u001b[36m \u001b[0m\u001b[36m     test_precision      \u001b[0m\u001b[36m \u001b[0m│\u001b[35m \u001b[0m\u001b[35m   0.7712430953979492    \u001b[0m\u001b[35m \u001b[0m│\n",
       "│\u001b[36m \u001b[0m\u001b[36m       test_recall       \u001b[0m\u001b[36m \u001b[0m│\u001b[35m \u001b[0m\u001b[35m   0.7712430953979492    \u001b[0m\u001b[35m \u001b[0m│\n",
       "└───────────────────────────┴───────────────────────────┘\n"
      ]
     },
     "metadata": {},
     "output_type": "display_data"
    },
    {
     "data": {
      "text/html": [
       "<pre style=\"white-space:pre;overflow-x:auto;line-height:normal;font-family:Menlo,'DejaVu Sans Mono',consolas,'Courier New',monospace\"></pre>\n"
      ],
      "text/plain": []
     },
     "metadata": {},
     "output_type": "display_data"
    }
   ],
   "source": [
    "gandalf_result = gandalf_model.evaluate(test)"
   ]
  },
  {
   "cell_type": "code",
   "execution_count": 71,
   "id": "fad1038a-651e-4774-8b6d-3810c2bfbc00",
   "metadata": {},
   "outputs": [
    {
     "data": {
      "text/html": [
       "<div>\n",
       "<style scoped>\n",
       "    .dataframe tbody tr th:only-of-type {\n",
       "        vertical-align: middle;\n",
       "    }\n",
       "\n",
       "    .dataframe tbody tr th {\n",
       "        vertical-align: top;\n",
       "    }\n",
       "\n",
       "    .dataframe thead th {\n",
       "        text-align: right;\n",
       "    }\n",
       "</style>\n",
       "<table border=\"1\" class=\"dataframe\">\n",
       "  <thead>\n",
       "    <tr style=\"text-align: right;\">\n",
       "      <th></th>\n",
       "      <th>Features</th>\n",
       "      <th>importance</th>\n",
       "    </tr>\n",
       "  </thead>\n",
       "  <tbody>\n",
       "    <tr>\n",
       "      <th>1</th>\n",
       "      <td>rms</td>\n",
       "      <td>2.068235</td>\n",
       "    </tr>\n",
       "    <tr>\n",
       "      <th>0</th>\n",
       "      <td>crest</td>\n",
       "      <td>2.008689</td>\n",
       "    </tr>\n",
       "    <tr>\n",
       "      <th>4</th>\n",
       "      <td>energy</td>\n",
       "      <td>1.527488</td>\n",
       "    </tr>\n",
       "    <tr>\n",
       "      <th>2</th>\n",
       "      <td>entropy</td>\n",
       "      <td>1.458224</td>\n",
       "    </tr>\n",
       "    <tr>\n",
       "      <th>3</th>\n",
       "      <td>std</td>\n",
       "      <td>0.937364</td>\n",
       "    </tr>\n",
       "  </tbody>\n",
       "</table>\n",
       "</div>"
      ],
      "text/plain": [
       "  Features  importance\n",
       "1      rms    2.068235\n",
       "0    crest    2.008689\n",
       "4   energy    1.527488\n",
       "2  entropy    1.458224\n",
       "3      std    0.937364"
      ]
     },
     "execution_count": 71,
     "metadata": {},
     "output_type": "execute_result"
    }
   ],
   "source": [
    "gandalf_top_features = gandalf_model.feature_importance().sort_values(\"importance\", ascending=False)\n",
    "gandalf_top_features"
   ]
  },
  {
   "cell_type": "code",
   "execution_count": 72,
   "id": "193aaf3f-a3c8-4a38-90ec-e8a646ec4396",
   "metadata": {},
   "outputs": [],
   "source": [
    "add_top_features(gandalf_top_features, top_n=3)"
   ]
  },
  {
   "cell_type": "code",
   "execution_count": 73,
   "id": "198ee9fb-eb14-407a-ad98-f436f87e2db3",
   "metadata": {},
   "outputs": [
    {
     "data": {
      "image/png": "[encoded data removed]",
      "text/plain": [
       "<Figure size 1000x500 with 1 Axes>"
      ]
     },
     "metadata": {},
     "output_type": "display_data"
    }
   ],
   "source": [
    "plot_feature_importance()"
   ]
  }
 ],
 "metadata": {
  "kernelspec": {
   "display_name": "Python 3 (ipykernel)",
   "language": "python",
   "name": "python3"
  },
  "language_info": {
   "codemirror_mode": {
    "name": "ipython",
    "version": 3
   },
   "file_extension": ".py",
   "mimetype": "text/x-python",
   "name": "python",
   "nbconvert_exporter": "python",
   "pygments_lexer": "ipython3",
   "version": "3.11.13"
  }
 },
 "nbformat": 4,
 "nbformat_minor": 5
}
