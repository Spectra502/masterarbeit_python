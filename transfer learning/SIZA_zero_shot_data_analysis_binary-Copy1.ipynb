{
 "cells": [
  {
   "cell_type": "code",
   "execution_count": 1,
   "id": "e019071b-b915-4e05-93ac-b1d4ccc67773",
   "metadata": {},
   "outputs": [],
   "source": [
    "targetFolderHBK = r\"H:\\Extracted_Features\\HBK\\HBK_14285Hz_highpass_all_features\\features\"\n",
    "targetFolderSIZA = r\"H:\\Extracted_Features\\SIZA\\SIZA_highpass_all_features\\features\"\n",
    "targetFolderMCC5 = r\"H:\\Extracted_Features\\MCC5\\MCC5_12800Hz_highpass_all_features_motor_vibration_x\\features\"\n",
    "normalization_method = \"z_score\""
   ]
  },
  {
   "cell_type": "code",
   "execution_count": 2,
   "id": "7809eebb-5b11-4ee7-8389-bf902235c298",
   "metadata": {},
   "outputs": [],
   "source": [
    "experiment_name = \"SIZA_zero_shot_data_analysis_binary\"\n",
    "project_name=\"SIZA_zero_shot_highpass_data_analysis_binary\",\n",
    "run_name=\"SIZA_zero_shot_highpass_data_analysis_binary\"\n",
    "domain=\"frequency\"\n",
    "\n",
    "domains_to_use = ['frequency']"
   ]
  },
  {
   "cell_type": "code",
   "execution_count": 3,
   "id": "0e249f7c-b81e-4994-b36a-1aa44222e524",
   "metadata": {},
   "outputs": [],
   "source": [
    "binary_classification=True\n",
    "plot_histograms_choice=False\n",
    "include_augmentations=True"
   ]
  },
  {
   "cell_type": "markdown",
   "id": "9b24c9ea-6eb1-4abc-a4a4-735cf1178187",
   "metadata": {},
   "source": [
    "# Environment Setup & Imports"
   ]
  },
  {
   "cell_type": "code",
   "execution_count": 4,
   "id": "0eaba3c8-a35f-4004-b6a5-a62b3eec640f",
   "metadata": {},
   "outputs": [],
   "source": [
    "import os\n",
    "import pandas as pd\n",
    "import glob\n",
    "import seaborn as sns\n",
    "import matplotlib.pyplot as plt\n",
    "import matplotlib.patches as mpatches\n",
    "import pickle\n",
    "import numpy as np\n",
    "import mlflow\n",
    "from pytorch_lightning.loggers import MLFlowLogger\n",
    "from scipy import stats\n",
    "from sklearn.preprocessing import MinMaxScaler, StandardScaler, RobustScaler\n",
    "from sklearn.metrics import accuracy_score, balanced_accuracy_score, hamming_loss, hinge_loss, jaccard_score, log_loss, precision_score, recall_score, f1_score, make_scorer\n",
    "from pathlib import Path\n",
    "from pycaret.classification import * \n",
    "from torch import tensor\n",
    "from torchmetrics.classification import BinaryAccuracy, MulticlassAccuracy\n",
    "import optuna\n",
    "import torch\n",
    "from sklearn.model_selection import train_test_split\n",
    "from pytorch_tabular import TabularModel\n",
    "from pytorch_tabular.models import GANDALFConfig, CategoryEmbeddingModel,GatedAdditiveTreeEnsembleConfig, NodeConfig, FTTransformerConfig, TabNetModelConfig\n",
    "from pytorch_tabular.config import (\n",
    "    DataConfig,\n",
    "    OptimizerConfig,\n",
    "    ModelConfig,\n",
    "    TrainerConfig,\n",
    "    ExperimentConfig,\n",
    ")\n",
    "from collections import Counter\n",
    "from data_loader import load_feature_data"
   ]
  },
  {
   "cell_type": "markdown",
   "id": "44c07525-c8ce-4a2e-934f-0668742e7458",
   "metadata": {
    "jp-MarkdownHeadingCollapsed": true
   },
   "source": [
    "## Helper Functions"
   ]
  },
  {
   "cell_type": "code",
   "execution_count": 5,
   "id": "fc157dd0-a48e-49e6-8fb1-6d699efadd4c",
   "metadata": {},
   "outputs": [],
   "source": [
    "def select_features_by_domain(domains: list, available_features: dict = None) -> list:\n",
    "    \"\"\"\n",
    "    Selects a list of features based on the specified domains.\n",
    "\n",
    "    Args:\n",
    "        domains: A list of domain names (e.g., ['time', 'frequency']).\n",
    "        available_features: A dictionary mapping domain names (keys) to \n",
    "                            lists of features (values). If None, uses a \n",
    "                            default dictionary.\n",
    "\n",
    "    Returns:\n",
    "        A flat list of all selected features.\n",
    "    \"\"\"\n",
    "    # Define the complete feature set structure\n",
    "    if available_features is None:\n",
    "        available_features = {\n",
    "            'time': ['rms', 'std', 'crest', 'energy', 'entropy'],\n",
    "            'frequency': ['meanFreq', 'medianFreq', 'spectral_entropy', 'spectral_skewness'],\n",
    "            # Assuming 'Time-Frequency' is referred to by a simpler domain name, \n",
    "            # or you can keep the full name\n",
    "            'time-frequency': ['meanWavelet', 'varWavelet', 'entropyWavelet', 'entropySpectrogram']\n",
    "        }\n",
    "\n",
    "    selected_features = []\n",
    "    \n",
    "    # Iterate over the requested domains and extend the list\n",
    "    for domain in domains:\n",
    "        # Convert domain to lowercase for case-insensitive matching\n",
    "        domain_key = domain.lower().replace('_', '-').strip()\n",
    "        \n",
    "        if domain_key in available_features:\n",
    "            selected_features.extend(available_features[domain_key])\n",
    "        else:\n",
    "            print(f\"Warning: Domain '{domain}' not recognized in available features.\") # Optional warning\n",
    "\n",
    "    # Return only unique features in case of overlap (though unlikely here)\n",
    "    return list(set(selected_features))"
   ]
  },
  {
   "cell_type": "code",
   "execution_count": 6,
   "id": "97076d04-699a-4b1a-86af-2ac0fa868edf",
   "metadata": {},
   "outputs": [],
   "source": [
    "features_to_include = select_features_by_domain(domains=domains_to_use)"
   ]
  },
  {
   "cell_type": "code",
   "execution_count": 7,
   "id": "36142c5b-bcac-4fbc-a2a5-12301f68fa37",
   "metadata": {},
   "outputs": [],
   "source": [
    "def plotHistograms(dataframe, normalization):\n",
    "    for col in dataframe.columns:\n",
    "        if col == \"Label\":\n",
    "            continue\n",
    "        plt.figure(figsize=(8, 4))\n",
    "        sns.histplot(data = dataframe, x=col, hue='Label', kde=True, multiple='layer', element='step', alpha=0.5)\n",
    "        plt.title(f\"Distribution of {col} with {normalization}\")\n",
    "        plt.show()"
   ]
  },
  {
   "cell_type": "code",
   "execution_count": 8,
   "id": "2758484f-d1a4-477c-a32f-e760037badc2",
   "metadata": {},
   "outputs": [],
   "source": [
    "def normalizeDataframe(dataframe, normalization_method):\n",
    "    \"\"\"\n",
    "    Normalizes the features of a dataframe using a specified method.\n",
    "\n",
    "    Args:\n",
    "        dataframe (pd.DataFrame): The input dataframe with a 'Label' column.\n",
    "        normalization_method (str): The method to use (\"min_max\", \"z_score\", \"robust_scaling\").\n",
    "\n",
    "    Returns:\n",
    "        pd.DataFrame: The dataframe with scaled features.\n",
    "    \"\"\"\n",
    "    # Separate features (X) and the target variable (y)\n",
    "    y = dataframe['Label']\n",
    "    X = dataframe.drop(columns=['Label'])\n",
    "\n",
    "    # Select the scaler based on the chosen method\n",
    "    if normalization_method == \"min_max\":\n",
    "        scaler = MinMaxScaler()\n",
    "    elif normalization_method == \"z_score\":\n",
    "        scaler = StandardScaler()\n",
    "    elif normalization_method == \"robust_scaling\":\n",
    "        scaler = RobustScaler()\n",
    "    else:\n",
    "        # Raise an error for an invalid method name\n",
    "        raise ValueError(f\"Unknown normalization_method: '{normalization_method}'\")\n",
    "\n",
    "    # Fit the scaler to the data and transform it\n",
    "    X_scaled = pd.DataFrame(\n",
    "        scaler.fit_transform(X),\n",
    "        columns=X.columns,\n",
    "        index=X.index\n",
    "    )\n",
    "\n",
    "    # Rejoin the scaled features with the label column\n",
    "    df_scaled = X_scaled.join(y)\n",
    "    \n",
    "    return df_scaled"
   ]
  },
  {
   "cell_type": "code",
   "execution_count": 9,
   "id": "44aae2d5-3c4b-4bbb-bbbc-6621172653d9",
   "metadata": {},
   "outputs": [],
   "source": [
    "def plotPredictionHistograms(df, normalization):\n",
    "    # 1) mark correct vs incorrect\n",
    "    df = df.copy()\n",
    "    df['prediction_quality'] = np.where(\n",
    "        df['Label'] == df['prediction_label'],\n",
    "        'correct',\n",
    "        'incorrect'\n",
    "    )\n",
    "    \n",
    "    # 2) choose a palette (you can override these colors if you like)\n",
    "    pal = dict(zip(\n",
    "        ['correct','incorrect'],\n",
    "        sns.color_palette(n_colors=2)\n",
    "    ))\n",
    "    \n",
    "    skip = {'Label','prediction_label','prediction_score','prediction_quality'}\n",
    "    for col in df.columns:\n",
    "        if col in skip:\n",
    "            continue\n",
    "        \n",
    "        fig, ax = plt.subplots(figsize=(8,4))\n",
    "        sns.histplot(\n",
    "            data=df, x=col, hue='prediction_quality',\n",
    "            palette=pal,\n",
    "            kde=True, multiple='layer', element='step',\n",
    "            alpha=0.5,\n",
    "            ax=ax\n",
    "        )\n",
    "        \n",
    "        # 3) build a manual legend using the same palette\n",
    "        handles = [\n",
    "            mpatches.Patch(color=pal[k], label=k)\n",
    "            for k in ['correct','incorrect']\n",
    "        ]\n",
    "        ax.legend(\n",
    "            handles=handles,\n",
    "            title='Prediction Quality'\n",
    "        )\n",
    "        \n",
    "        ax.set_title(\n",
    "            f\"Distribution of {col}\\n\"\n",
    "            f\"(normalization = '{normalization}')\"\n",
    "        )\n",
    "        ax.set_xlabel(col)\n",
    "        ax.set_ylabel(\"Count\")\n",
    "        plt.tight_layout()\n",
    "        plt.show()"
   ]
  },
  {
   "cell_type": "code",
   "execution_count": 10,
   "id": "e7180ffc-82c3-4100-a659-90dfe8bdeff7",
   "metadata": {},
   "outputs": [],
   "source": [
    "def get_incorrect_predictions(df):\n",
    "    return df[\n",
    "        ((df['Label'] == 'damaged')   & (df['prediction_label'] == 'healthy'))\n",
    "      | ((df['Label'] == 'healthy')  & (df['prediction_label'] == 'damaged'))\n",
    "    ].copy()"
   ]
  },
  {
   "cell_type": "code",
   "execution_count": 11,
   "id": "a6effaf0-7730-46e4-9b29-a6133fc41f88",
   "metadata": {},
   "outputs": [],
   "source": [
    "def get_feature_importance_df(model, df):\n",
    "    importance = model.feature_importances_\n",
    "    n = len(importance)\n",
    "    features = df.columns[:n]\n",
    "    fi_df = pd.DataFrame({\n",
    "        'Features': features,\n",
    "        'importance': importance\n",
    "    })\n",
    "    return fi_df.sort_values(by='importance', ascending=False).reset_index(drop=True)"
   ]
  },
  {
   "cell_type": "code",
   "execution_count": 12,
   "id": "d896eca8-c332-4e1a-8643-647da5fb5650",
   "metadata": {},
   "outputs": [],
   "source": [
    "def get_svm_feature_importance_df(model, df):\n",
    "    if not hasattr(model, 'coef_'):\n",
    "        raise ValueError(\"This SVM model has no coefficients. Use a linear kernel.\")\n",
    "    \n",
    "    importance = model.coef_.ravel()  # Flatten in case of binary classification\n",
    "    n = len(importance)\n",
    "    features = df.columns[:n]\n",
    "    fi_df = pd.DataFrame({\n",
    "        'Features': features,\n",
    "        'importance': abs(importance)\n",
    "    })\n",
    "    return fi_df.sort_values(by='importance', ascending=False).reset_index(drop=True)\n"
   ]
  },
  {
   "cell_type": "code",
   "execution_count": 13,
   "id": "2f3ffb6f-eed8-4a5d-9b91-737370fc234a",
   "metadata": {},
   "outputs": [],
   "source": [
    "feature_counter = Counter()\n",
    "def add_top_features(feature_df: pd.DataFrame, top_n: int):\n",
    "    top_features = feature_df.nlargest(top_n, 'importance')['Features']\n",
    "    feature_counter.update(top_features)\n",
    "    \n",
    "def plot_feature_importance():\n",
    "    feature_freq = pd.DataFrame(feature_counter.items(), columns=['Feature', 'Count'])\n",
    "    plt.figure(figsize=(10, 5))\n",
    "    sns.barplot(data=feature_freq.sort_values(by='Count', ascending=False),\n",
    "                x='Feature', y='Count')\n",
    "    plt.xticks(rotation=45)\n",
    "    plt.title('Feature Frequency Across Experiments')\n",
    "    plt.tight_layout()\n",
    "    plt.show()"
   ]
  },
  {
   "cell_type": "code",
   "execution_count": 14,
   "id": "a832c8d9-b20a-4f3e-8541-aaa035289c3d",
   "metadata": {},
   "outputs": [],
   "source": [
    "def save_feature_counter(exp_name: str, folder: str = f\"top_features_{experiment_name}\"):\n",
    "    os.makedirs(folder, exist_ok=True)\n",
    "    filepath = os.path.join(folder, f\"{exp_name}_features.csv\")\n",
    "    df = pd.DataFrame(feature_counter.items(), columns=['Feature', 'Count'])\n",
    "    df.to_csv(filepath, index=False)"
   ]
  },
  {
   "cell_type": "markdown",
   "id": "bb7dc31c-45ef-49c4-9f58-7890b966ccd7",
   "metadata": {},
   "source": [
    "## Import Dataset"
   ]
  },
  {
   "cell_type": "code",
   "execution_count": 15,
   "id": "f13cd2ff-10b7-4db8-9fc8-f968e9c5324f",
   "metadata": {},
   "outputs": [
    {
     "name": "stdout",
     "output_type": "stream",
     "text": [
      "Applied binary classification: 'healthy' vs 'damaged'.\n",
      "Selected specific features: ['medianFreq', 'meanFreq', 'spectral_entropy', 'spectral_skewness']\n",
      "Dropped 'Speed' and 'Torque' columns.\n"
     ]
    }
   ],
   "source": [
    "df_HBK = load_feature_data(\n",
    "    features_path=targetFolderHBK,\n",
    "    include_augmentations=include_augmentations,      # Only 'original' data\n",
    "    include_speed_torque=False,       # Drop operating conditions\n",
    "    binary_classification=binary_classification,       # 'healthy' vs 'damaged'\n",
    "    features_to_include=features_to_include\n",
    ")"
   ]
  },
  {
   "cell_type": "code",
   "execution_count": 16,
   "id": "e32a76ce-09d2-4591-a327-67f1ae355252",
   "metadata": {},
   "outputs": [
    {
     "name": "stdout",
     "output_type": "stream",
     "text": [
      "Applied binary classification: 'healthy' vs 'damaged'.\n",
      "Selected specific features: ['medianFreq', 'meanFreq', 'spectral_entropy', 'spectral_skewness']\n",
      "Dropped 'Speed' and 'Torque' columns.\n"
     ]
    }
   ],
   "source": [
    "df_SIZA = load_feature_data(\n",
    "    features_path=targetFolderSIZA,\n",
    "    include_augmentations=include_augmentations,      # Only 'original' data\n",
    "    include_speed_torque=False,       # Drop operating conditions\n",
    "    binary_classification=binary_classification,       # 'healthy' vs 'damaged'\n",
    "    features_to_include=features_to_include\n",
    ")"
   ]
  },
  {
   "cell_type": "code",
   "execution_count": 17,
   "id": "116a4c18-7225-41a2-a4ef-b3de69bba1cb",
   "metadata": {},
   "outputs": [
    {
     "name": "stdout",
     "output_type": "stream",
     "text": [
      "Applied binary classification: 'healthy' vs 'damaged'.\n",
      "Selected specific features: ['medianFreq', 'meanFreq', 'spectral_entropy', 'spectral_skewness']\n",
      "Dropped 'Speed' and 'Torque' columns.\n"
     ]
    }
   ],
   "source": [
    "df_MCC5 = load_feature_data(\n",
    "    features_path=targetFolderMCC5,\n",
    "    include_augmentations=include_augmentations,      # Only 'original' data\n",
    "    include_speed_torque=False,       # Drop operating conditions\n",
    "    binary_classification=binary_classification,       # 'healthy' vs 'damaged'\n",
    "    features_to_include=features_to_include\n",
    ")"
   ]
  },
  {
   "cell_type": "code",
   "execution_count": 18,
   "id": "bb5b83e6-bfde-402a-ab30-6e87e2e8e947",
   "metadata": {},
   "outputs": [],
   "source": [
    "normalized_HBK = normalizeDataframe(df_HBK, normalization_method)\n",
    "normalized_SIZA = normalizeDataframe(df_SIZA, normalization_method)\n",
    "normalized_MCC5 = normalizeDataframe(df_MCC5, normalization_method)"
   ]
  },
  {
   "cell_type": "code",
   "execution_count": 19,
   "id": "cc0c7697-c8ac-4dd8-8454-2920c2fb9cac",
   "metadata": {},
   "outputs": [],
   "source": [
    "normalized_df = normalized_SIZA"
   ]
  },
  {
   "cell_type": "code",
   "execution_count": 20,
   "id": "58f260b0-c566-4ceb-a763-7917858e5ebf",
   "metadata": {},
   "outputs": [],
   "source": [
    "features_df_training_normalized, features_df_testing_normalized = train_test_split(\n",
    "    normalized_SIZA, \n",
    "    test_size=0.2,    # e.g., 20% for testing\n",
    "    random_state=42   # for reproducibility\n",
    ")"
   ]
  },
  {
   "cell_type": "markdown",
   "id": "d80a77c7-3b9b-4182-afaf-2dd32f4dc47f",
   "metadata": {
    "jp-MarkdownHeadingCollapsed": true
   },
   "source": [
    "# Histograms"
   ]
  },
  {
   "cell_type": "markdown",
   "id": "55dea7e8-0f3d-46ed-8cef-156cb29a2692",
   "metadata": {
    "jp-MarkdownHeadingCollapsed": true
   },
   "source": [
    "## Histograms Training and Testing [NO-Normalization]"
   ]
  },
  {
   "cell_type": "code",
   "execution_count": 21,
   "id": "8005317c-db72-46e5-b9ec-ff1e778b7144",
   "metadata": {
    "scrolled": true
   },
   "outputs": [],
   "source": [
    "if (plot_histograms_choice):\n",
    "    plotHistograms(combined_df, normalization_method)"
   ]
  },
  {
   "cell_type": "markdown",
   "id": "408ca08d-1169-43f1-b0ab-01b9db24bcbc",
   "metadata": {
    "jp-MarkdownHeadingCollapsed": true
   },
   "source": [
    "## Histograms Training and Testing [Z-Score Normalization]"
   ]
  },
  {
   "cell_type": "code",
   "execution_count": 22,
   "id": "2bdaa7c1-df2b-4dfd-936b-07237331b496",
   "metadata": {},
   "outputs": [],
   "source": [
    "if (plot_histograms_choice):\n",
    "    plotHistograms(normalized_df, normalization_method)"
   ]
  },
  {
   "cell_type": "markdown",
   "id": "fd27e3ca-e055-4837-9084-3b94820aec39",
   "metadata": {},
   "source": [
    "# Experiment Setup (ML)"
   ]
  },
  {
   "cell_type": "markdown",
   "id": "9cb3aea3-e600-4a35-92b7-ea5d9981ebe5",
   "metadata": {},
   "source": [
    "## Setup Hyperparameters"
   ]
  },
  {
   "cell_type": "code",
   "execution_count": 23,
   "id": "8b4ff813-0eb2-45b8-a876-ec6929d1b040",
   "metadata": {
    "scrolled": true
   },
   "outputs": [
    {
     "name": "stdout",
     "output_type": "stream",
     "text": [
      "[LightGBM] [Warning] There are no meaningful features which satisfy the provided configuration. Decreasing Dataset parameters min_data_in_bin or min_data_in_leaf and re-constructing Dataset might resolve this warning.\n",
      "[LightGBM] [Info] Number of positive: 1, number of negative: 1\n",
      "[LightGBM] [Info] This is the GPU trainer!!\n",
      "[LightGBM] [Info] Total Bins 0\n",
      "[LightGBM] [Info] Number of data points in the train set: 2, number of used features: 0\n",
      "[LightGBM] [Info] Using GPU Device: Intel(R) UHD Graphics P630, Vendor: Intel(R) Corporation\n",
      "[LightGBM] [Info] Compiling OpenCL Kernel with 16 bins...\n",
      "[LightGBM] [Info] GPU programs have been built\n",
      "[LightGBM] [Warning] GPU acceleration is disabled because no non-trivial dense features can be found\n",
      "[LightGBM] [Info] [binary:BoostFromScore]: pavg=0.500000 -> initscore=0.000000\n",
      "[LightGBM] [Warning] Stopped training because there are no more leaves that meet the split requirements\n",
      "[LightGBM] [Warning] Stopped training because there are no more leaves that meet the split requirements\n",
      "[LightGBM] [Warning] Stopped training because there are no more leaves that meet the split requirements\n",
      "[LightGBM] [Warning] Stopped training because there are no more leaves that meet the split requirements\n",
      "[LightGBM] [Warning] Stopped training because there are no more leaves that meet the split requirements\n",
      "[LightGBM] [Warning] Stopped training because there are no more leaves that meet the split requirements\n",
      "[LightGBM] [Warning] Stopped training because there are no more leaves that meet the split requirements\n",
      "[LightGBM] [Warning] Stopped training because there are no more leaves that meet the split requirements\n",
      "[LightGBM] [Warning] Stopped training because there are no more leaves that meet the split requirements\n",
      "[LightGBM] [Warning] Stopped training because there are no more leaves that meet the split requirements\n",
      "[LightGBM] [Warning] Stopped training because there are no more leaves that meet the split requirements\n",
      "[LightGBM] [Warning] Stopped training because there are no more leaves that meet the split requirements\n",
      "[LightGBM] [Warning] Stopped training because there are no more leaves that meet the split requirements\n",
      "[LightGBM] [Warning] Stopped training because there are no more leaves that meet the split requirements\n",
      "[LightGBM] [Warning] Stopped training because there are no more leaves that meet the split requirements\n",
      "[LightGBM] [Warning] Stopped training because there are no more leaves that meet the split requirements\n",
      "[LightGBM] [Warning] Stopped training because there are no more leaves that meet the split requirements\n",
      "[LightGBM] [Warning] Stopped training because there are no more leaves that meet the split requirements\n",
      "[LightGBM] [Warning] Stopped training because there are no more leaves that meet the split requirements\n",
      "[LightGBM] [Warning] Stopped training because there are no more leaves that meet the split requirements\n",
      "[LightGBM] [Warning] Stopped training because there are no more leaves that meet the split requirements\n",
      "[LightGBM] [Warning] Stopped training because there are no more leaves that meet the split requirements\n",
      "[LightGBM] [Warning] Stopped training because there are no more leaves that meet the split requirements\n",
      "[LightGBM] [Warning] Stopped training because there are no more leaves that meet the split requirements\n",
      "[LightGBM] [Warning] Stopped training because there are no more leaves that meet the split requirements\n",
      "[LightGBM] [Warning] Stopped training because there are no more leaves that meet the split requirements\n",
      "[LightGBM] [Warning] Stopped training because there are no more leaves that meet the split requirements\n",
      "[LightGBM] [Warning] Stopped training because there are no more leaves that meet the split requirements\n",
      "[LightGBM] [Warning] Stopped training because there are no more leaves that meet the split requirements\n",
      "[LightGBM] [Warning] Stopped training because there are no more leaves that meet the split requirements\n",
      "[LightGBM] [Warning] Stopped training because there are no more leaves that meet the split requirements\n",
      "[LightGBM] [Warning] Stopped training because there are no more leaves that meet the split requirements\n",
      "[LightGBM] [Warning] Stopped training because there are no more leaves that meet the split requirements\n",
      "[LightGBM] [Warning] Stopped training because there are no more leaves that meet the split requirements\n",
      "[LightGBM] [Warning] Stopped training because there are no more leaves that meet the split requirements\n",
      "[LightGBM] [Warning] Stopped training because there are no more leaves that meet the split requirements\n",
      "[LightGBM] [Warning] Stopped training because there are no more leaves that meet the split requirements\n",
      "[LightGBM] [Warning] Stopped training because there are no more leaves that meet the split requirements\n",
      "[LightGBM] [Warning] Stopped training because there are no more leaves that meet the split requirements\n",
      "[LightGBM] [Warning] Stopped training because there are no more leaves that meet the split requirements\n",
      "[LightGBM] [Warning] Stopped training because there are no more leaves that meet the split requirements\n",
      "[LightGBM] [Warning] Stopped training because there are no more leaves that meet the split requirements\n",
      "[LightGBM] [Warning] Stopped training because there are no more leaves that meet the split requirements\n",
      "[LightGBM] [Warning] Stopped training because there are no more leaves that meet the split requirements\n",
      "[LightGBM] [Warning] Stopped training because there are no more leaves that meet the split requirements\n",
      "[LightGBM] [Warning] Stopped training because there are no more leaves that meet the split requirements\n",
      "[LightGBM] [Warning] Stopped training because there are no more leaves that meet the split requirements\n",
      "[LightGBM] [Warning] Stopped training because there are no more leaves that meet the split requirements\n",
      "[LightGBM] [Warning] Stopped training because there are no more leaves that meet the split requirements\n",
      "[LightGBM] [Warning] Stopped training because there are no more leaves that meet the split requirements\n",
      "[LightGBM] [Warning] Stopped training because there are no more leaves that meet the split requirements\n",
      "[LightGBM] [Warning] Stopped training because there are no more leaves that meet the split requirements\n",
      "[LightGBM] [Warning] Stopped training because there are no more leaves that meet the split requirements\n",
      "[LightGBM] [Warning] Stopped training because there are no more leaves that meet the split requirements\n",
      "[LightGBM] [Warning] Stopped training because there are no more leaves that meet the split requirements\n",
      "[LightGBM] [Warning] Stopped training because there are no more leaves that meet the split requirements\n",
      "[LightGBM] [Warning] Stopped training because there are no more leaves that meet the split requirements\n",
      "[LightGBM] [Warning] Stopped training because there are no more leaves that meet the split requirements\n",
      "[LightGBM] [Warning] Stopped training because there are no more leaves that meet the split requirements\n",
      "[LightGBM] [Warning] Stopped training because there are no more leaves that meet the split requirements\n",
      "[LightGBM] [Warning] Stopped training because there are no more leaves that meet the split requirements\n",
      "[LightGBM] [Warning] Stopped training because there are no more leaves that meet the split requirements\n",
      "[LightGBM] [Warning] Stopped training because there are no more leaves that meet the split requirements\n",
      "[LightGBM] [Warning] Stopped training because there are no more leaves that meet the split requirements\n",
      "[LightGBM] [Warning] Stopped training because there are no more leaves that meet the split requirements\n",
      "[LightGBM] [Warning] Stopped training because there are no more leaves that meet the split requirements\n",
      "[LightGBM] [Warning] Stopped training because there are no more leaves that meet the split requirements\n",
      "[LightGBM] [Warning] Stopped training because there are no more leaves that meet the split requirements\n",
      "[LightGBM] [Warning] Stopped training because there are no more leaves that meet the split requirements\n",
      "[LightGBM] [Warning] Stopped training because there are no more leaves that meet the split requirements\n",
      "[LightGBM] [Warning] Stopped training because there are no more leaves that meet the split requirements\n",
      "[LightGBM] [Warning] Stopped training because there are no more leaves that meet the split requirements\n",
      "[LightGBM] [Warning] Stopped training because there are no more leaves that meet the split requirements\n",
      "[LightGBM] [Warning] Stopped training because there are no more leaves that meet the split requirements\n",
      "[LightGBM] [Warning] Stopped training because there are no more leaves that meet the split requirements\n",
      "[LightGBM] [Warning] Stopped training because there are no more leaves that meet the split requirements\n",
      "[LightGBM] [Warning] Stopped training because there are no more leaves that meet the split requirements\n",
      "[LightGBM] [Warning] Stopped training because there are no more leaves that meet the split requirements\n",
      "[LightGBM] [Warning] Stopped training because there are no more leaves that meet the split requirements\n",
      "[LightGBM] [Warning] Stopped training because there are no more leaves that meet the split requirements\n",
      "[LightGBM] [Warning] Stopped training because there are no more leaves that meet the split requirements\n",
      "[LightGBM] [Warning] Stopped training because there are no more leaves that meet the split requirements\n",
      "[LightGBM] [Warning] Stopped training because there are no more leaves that meet the split requirements\n",
      "[LightGBM] [Warning] Stopped training because there are no more leaves that meet the split requirements\n",
      "[LightGBM] [Warning] Stopped training because there are no more leaves that meet the split requirements\n",
      "[LightGBM] [Warning] Stopped training because there are no more leaves that meet the split requirements\n",
      "[LightGBM] [Warning] Stopped training because there are no more leaves that meet the split requirements\n",
      "[LightGBM] [Warning] Stopped training because there are no more leaves that meet the split requirements\n",
      "[LightGBM] [Warning] Stopped training because there are no more leaves that meet the split requirements\n",
      "[LightGBM] [Warning] Stopped training because there are no more leaves that meet the split requirements\n",
      "[LightGBM] [Warning] Stopped training because there are no more leaves that meet the split requirements\n",
      "[LightGBM] [Warning] Stopped training because there are no more leaves that meet the split requirements\n",
      "[LightGBM] [Warning] Stopped training because there are no more leaves that meet the split requirements\n",
      "[LightGBM] [Warning] Stopped training because there are no more leaves that meet the split requirements\n",
      "[LightGBM] [Warning] Stopped training because there are no more leaves that meet the split requirements\n",
      "[LightGBM] [Warning] Stopped training because there are no more leaves that meet the split requirements\n",
      "[LightGBM] [Warning] Stopped training because there are no more leaves that meet the split requirements\n",
      "[LightGBM] [Warning] Stopped training because there are no more leaves that meet the split requirements\n",
      "[LightGBM] [Warning] Stopped training because there are no more leaves that meet the split requirements\n",
      "[LightGBM] [Warning] Stopped training because there are no more leaves that meet the split requirements\n",
      "[LightGBM] [Warning] There are no meaningful features which satisfy the provided configuration. Decreasing Dataset parameters min_data_in_bin or min_data_in_leaf and re-constructing Dataset might resolve this warning.\n",
      "[LightGBM] [Info] Number of positive: 1, number of negative: 1\n",
      "[LightGBM] [Info] This is the GPU trainer!!\n",
      "[LightGBM] [Info] Total Bins 0\n",
      "[LightGBM] [Info] Number of data points in the train set: 2, number of used features: 0\n",
      "[LightGBM] [Info] Using GPU Device: Intel(R) UHD Graphics P630, Vendor: Intel(R) Corporation\n",
      "[LightGBM] [Info] Compiling OpenCL Kernel with 16 bins...\n",
      "[LightGBM] [Info] GPU programs have been built\n",
      "[LightGBM] [Warning] GPU acceleration is disabled because no non-trivial dense features can be found\n",
      "[LightGBM] [Info] [binary:BoostFromScore]: pavg=0.500000 -> initscore=0.000000\n",
      "[LightGBM] [Warning] Stopped training because there are no more leaves that meet the split requirements\n",
      "[LightGBM] [Warning] Stopped training because there are no more leaves that meet the split requirements\n",
      "[LightGBM] [Warning] Stopped training because there are no more leaves that meet the split requirements\n",
      "[LightGBM] [Warning] Stopped training because there are no more leaves that meet the split requirements\n",
      "[LightGBM] [Warning] Stopped training because there are no more leaves that meet the split requirements\n",
      "[LightGBM] [Warning] Stopped training because there are no more leaves that meet the split requirements\n",
      "[LightGBM] [Warning] Stopped training because there are no more leaves that meet the split requirements\n",
      "[LightGBM] [Warning] Stopped training because there are no more leaves that meet the split requirements\n",
      "[LightGBM] [Warning] Stopped training because there are no more leaves that meet the split requirements\n",
      "[LightGBM] [Warning] Stopped training because there are no more leaves that meet the split requirements\n",
      "[LightGBM] [Warning] Stopped training because there are no more leaves that meet the split requirements\n",
      "[LightGBM] [Warning] Stopped training because there are no more leaves that meet the split requirements\n",
      "[LightGBM] [Warning] Stopped training because there are no more leaves that meet the split requirements\n",
      "[LightGBM] [Warning] Stopped training because there are no more leaves that meet the split requirements\n",
      "[LightGBM] [Warning] Stopped training because there are no more leaves that meet the split requirements\n",
      "[LightGBM] [Warning] Stopped training because there are no more leaves that meet the split requirements\n",
      "[LightGBM] [Warning] Stopped training because there are no more leaves that meet the split requirements\n",
      "[LightGBM] [Warning] Stopped training because there are no more leaves that meet the split requirements\n",
      "[LightGBM] [Warning] Stopped training because there are no more leaves that meet the split requirements\n",
      "[LightGBM] [Warning] Stopped training because there are no more leaves that meet the split requirements\n",
      "[LightGBM] [Warning] Stopped training because there are no more leaves that meet the split requirements\n",
      "[LightGBM] [Warning] Stopped training because there are no more leaves that meet the split requirements\n",
      "[LightGBM] [Warning] Stopped training because there are no more leaves that meet the split requirements\n",
      "[LightGBM] [Warning] Stopped training because there are no more leaves that meet the split requirements\n",
      "[LightGBM] [Warning] Stopped training because there are no more leaves that meet the split requirements\n",
      "[LightGBM] [Warning] Stopped training because there are no more leaves that meet the split requirements\n",
      "[LightGBM] [Warning] Stopped training because there are no more leaves that meet the split requirements\n",
      "[LightGBM] [Warning] Stopped training because there are no more leaves that meet the split requirements\n",
      "[LightGBM] [Warning] Stopped training because there are no more leaves that meet the split requirements\n",
      "[LightGBM] [Warning] Stopped training because there are no more leaves that meet the split requirements\n",
      "[LightGBM] [Warning] Stopped training because there are no more leaves that meet the split requirements\n",
      "[LightGBM] [Warning] Stopped training because there are no more leaves that meet the split requirements\n",
      "[LightGBM] [Warning] Stopped training because there are no more leaves that meet the split requirements\n",
      "[LightGBM] [Warning] Stopped training because there are no more leaves that meet the split requirements\n",
      "[LightGBM] [Warning] Stopped training because there are no more leaves that meet the split requirements\n",
      "[LightGBM] [Warning] Stopped training because there are no more leaves that meet the split requirements\n",
      "[LightGBM] [Warning] Stopped training because there are no more leaves that meet the split requirements\n",
      "[LightGBM] [Warning] Stopped training because there are no more leaves that meet the split requirements\n",
      "[LightGBM] [Warning] Stopped training because there are no more leaves that meet the split requirements\n",
      "[LightGBM] [Warning] Stopped training because there are no more leaves that meet the split requirements\n",
      "[LightGBM] [Warning] Stopped training because there are no more leaves that meet the split requirements\n",
      "[LightGBM] [Warning] Stopped training because there are no more leaves that meet the split requirements\n",
      "[LightGBM] [Warning] Stopped training because there are no more leaves that meet the split requirements\n",
      "[LightGBM] [Warning] Stopped training because there are no more leaves that meet the split requirements\n",
      "[LightGBM] [Warning] Stopped training because there are no more leaves that meet the split requirements\n",
      "[LightGBM] [Warning] Stopped training because there are no more leaves that meet the split requirements\n",
      "[LightGBM] [Warning] Stopped training because there are no more leaves that meet the split requirements\n",
      "[LightGBM] [Warning] Stopped training because there are no more leaves that meet the split requirements\n",
      "[LightGBM] [Warning] Stopped training because there are no more leaves that meet the split requirements\n",
      "[LightGBM] [Warning] Stopped training because there are no more leaves that meet the split requirements\n",
      "[LightGBM] [Warning] Stopped training because there are no more leaves that meet the split requirements\n",
      "[LightGBM] [Warning] Stopped training because there are no more leaves that meet the split requirements\n",
      "[LightGBM] [Warning] Stopped training because there are no more leaves that meet the split requirements\n",
      "[LightGBM] [Warning] Stopped training because there are no more leaves that meet the split requirements\n",
      "[LightGBM] [Warning] Stopped training because there are no more leaves that meet the split requirements\n",
      "[LightGBM] [Warning] Stopped training because there are no more leaves that meet the split requirements\n",
      "[LightGBM] [Warning] Stopped training because there are no more leaves that meet the split requirements\n",
      "[LightGBM] [Warning] Stopped training because there are no more leaves that meet the split requirements\n",
      "[LightGBM] [Warning] Stopped training because there are no more leaves that meet the split requirements\n",
      "[LightGBM] [Warning] Stopped training because there are no more leaves that meet the split requirements\n",
      "[LightGBM] [Warning] Stopped training because there are no more leaves that meet the split requirements\n",
      "[LightGBM] [Warning] Stopped training because there are no more leaves that meet the split requirements\n",
      "[LightGBM] [Warning] Stopped training because there are no more leaves that meet the split requirements\n",
      "[LightGBM] [Warning] Stopped training because there are no more leaves that meet the split requirements\n",
      "[LightGBM] [Warning] Stopped training because there are no more leaves that meet the split requirements\n",
      "[LightGBM] [Warning] Stopped training because there are no more leaves that meet the split requirements\n",
      "[LightGBM] [Warning] Stopped training because there are no more leaves that meet the split requirements\n",
      "[LightGBM] [Warning] Stopped training because there are no more leaves that meet the split requirements\n",
      "[LightGBM] [Warning] Stopped training because there are no more leaves that meet the split requirements\n",
      "[LightGBM] [Warning] Stopped training because there are no more leaves that meet the split requirements\n",
      "[LightGBM] [Warning] Stopped training because there are no more leaves that meet the split requirements\n",
      "[LightGBM] [Warning] Stopped training because there are no more leaves that meet the split requirements\n",
      "[LightGBM] [Warning] Stopped training because there are no more leaves that meet the split requirements\n",
      "[LightGBM] [Warning] Stopped training because there are no more leaves that meet the split requirements\n",
      "[LightGBM] [Warning] Stopped training because there are no more leaves that meet the split requirements\n",
      "[LightGBM] [Warning] Stopped training because there are no more leaves that meet the split requirements\n",
      "[LightGBM] [Warning] Stopped training because there are no more leaves that meet the split requirements\n",
      "[LightGBM] [Warning] Stopped training because there are no more leaves that meet the split requirements\n",
      "[LightGBM] [Warning] Stopped training because there are no more leaves that meet the split requirements\n",
      "[LightGBM] [Warning] Stopped training because there are no more leaves that meet the split requirements\n",
      "[LightGBM] [Warning] Stopped training because there are no more leaves that meet the split requirements\n",
      "[LightGBM] [Warning] Stopped training because there are no more leaves that meet the split requirements\n",
      "[LightGBM] [Warning] Stopped training because there are no more leaves that meet the split requirements\n",
      "[LightGBM] [Warning] Stopped training because there are no more leaves that meet the split requirements\n",
      "[LightGBM] [Warning] Stopped training because there are no more leaves that meet the split requirements\n",
      "[LightGBM] [Warning] Stopped training because there are no more leaves that meet the split requirements\n",
      "[LightGBM] [Warning] Stopped training because there are no more leaves that meet the split requirements\n",
      "[LightGBM] [Warning] Stopped training because there are no more leaves that meet the split requirements\n",
      "[LightGBM] [Warning] Stopped training because there are no more leaves that meet the split requirements\n",
      "[LightGBM] [Warning] Stopped training because there are no more leaves that meet the split requirements\n",
      "[LightGBM] [Warning] Stopped training because there are no more leaves that meet the split requirements\n",
      "[LightGBM] [Warning] Stopped training because there are no more leaves that meet the split requirements\n",
      "[LightGBM] [Warning] Stopped training because there are no more leaves that meet the split requirements\n",
      "[LightGBM] [Warning] Stopped training because there are no more leaves that meet the split requirements\n",
      "[LightGBM] [Warning] Stopped training because there are no more leaves that meet the split requirements\n",
      "[LightGBM] [Warning] Stopped training because there are no more leaves that meet the split requirements\n",
      "[LightGBM] [Warning] Stopped training because there are no more leaves that meet the split requirements\n",
      "[LightGBM] [Warning] Stopped training because there are no more leaves that meet the split requirements\n",
      "[LightGBM] [Warning] Stopped training because there are no more leaves that meet the split requirements\n",
      "[LightGBM] [Warning] Stopped training because there are no more leaves that meet the split requirements\n",
      "[LightGBM] [Warning] There are no meaningful features which satisfy the provided configuration. Decreasing Dataset parameters min_data_in_bin or min_data_in_leaf and re-constructing Dataset might resolve this warning.\n",
      "[LightGBM] [Info] Number of positive: 1, number of negative: 1\n",
      "[LightGBM] [Info] This is the GPU trainer!!\n",
      "[LightGBM] [Info] Total Bins 0\n",
      "[LightGBM] [Info] Number of data points in the train set: 2, number of used features: 0\n",
      "[LightGBM] [Info] Using GPU Device: Intel(R) UHD Graphics P630, Vendor: Intel(R) Corporation\n",
      "[LightGBM] [Info] Compiling OpenCL Kernel with 16 bins...\n",
      "[LightGBM] [Info] GPU programs have been built\n",
      "[LightGBM] [Warning] GPU acceleration is disabled because no non-trivial dense features can be found\n",
      "[LightGBM] [Info] [binary:BoostFromScore]: pavg=0.500000 -> initscore=0.000000\n",
      "[LightGBM] [Warning] Stopped training because there are no more leaves that meet the split requirements\n",
      "[LightGBM] [Warning] Stopped training because there are no more leaves that meet the split requirements\n",
      "[LightGBM] [Warning] Stopped training because there are no more leaves that meet the split requirements\n",
      "[LightGBM] [Warning] Stopped training because there are no more leaves that meet the split requirements\n",
      "[LightGBM] [Warning] Stopped training because there are no more leaves that meet the split requirements\n",
      "[LightGBM] [Warning] Stopped training because there are no more leaves that meet the split requirements\n",
      "[LightGBM] [Warning] Stopped training because there are no more leaves that meet the split requirements\n",
      "[LightGBM] [Warning] Stopped training because there are no more leaves that meet the split requirements\n",
      "[LightGBM] [Warning] Stopped training because there are no more leaves that meet the split requirements\n",
      "[LightGBM] [Warning] Stopped training because there are no more leaves that meet the split requirements\n",
      "[LightGBM] [Warning] Stopped training because there are no more leaves that meet the split requirements\n",
      "[LightGBM] [Warning] Stopped training because there are no more leaves that meet the split requirements\n",
      "[LightGBM] [Warning] Stopped training because there are no more leaves that meet the split requirements\n",
      "[LightGBM] [Warning] Stopped training because there are no more leaves that meet the split requirements\n",
      "[LightGBM] [Warning] Stopped training because there are no more leaves that meet the split requirements\n",
      "[LightGBM] [Warning] Stopped training because there are no more leaves that meet the split requirements\n",
      "[LightGBM] [Warning] Stopped training because there are no more leaves that meet the split requirements\n",
      "[LightGBM] [Warning] Stopped training because there are no more leaves that meet the split requirements\n",
      "[LightGBM] [Warning] Stopped training because there are no more leaves that meet the split requirements\n",
      "[LightGBM] [Warning] Stopped training because there are no more leaves that meet the split requirements\n",
      "[LightGBM] [Warning] Stopped training because there are no more leaves that meet the split requirements\n",
      "[LightGBM] [Warning] Stopped training because there are no more leaves that meet the split requirements\n",
      "[LightGBM] [Warning] Stopped training because there are no more leaves that meet the split requirements\n",
      "[LightGBM] [Warning] Stopped training because there are no more leaves that meet the split requirements\n",
      "[LightGBM] [Warning] Stopped training because there are no more leaves that meet the split requirements\n",
      "[LightGBM] [Warning] Stopped training because there are no more leaves that meet the split requirements\n",
      "[LightGBM] [Warning] Stopped training because there are no more leaves that meet the split requirements\n",
      "[LightGBM] [Warning] Stopped training because there are no more leaves that meet the split requirements\n",
      "[LightGBM] [Warning] Stopped training because there are no more leaves that meet the split requirements\n",
      "[LightGBM] [Warning] Stopped training because there are no more leaves that meet the split requirements\n",
      "[LightGBM] [Warning] Stopped training because there are no more leaves that meet the split requirements\n",
      "[LightGBM] [Warning] Stopped training because there are no more leaves that meet the split requirements\n",
      "[LightGBM] [Warning] Stopped training because there are no more leaves that meet the split requirements\n",
      "[LightGBM] [Warning] Stopped training because there are no more leaves that meet the split requirements\n",
      "[LightGBM] [Warning] Stopped training because there are no more leaves that meet the split requirements\n",
      "[LightGBM] [Warning] Stopped training because there are no more leaves that meet the split requirements\n",
      "[LightGBM] [Warning] Stopped training because there are no more leaves that meet the split requirements\n",
      "[LightGBM] [Warning] Stopped training because there are no more leaves that meet the split requirements\n",
      "[LightGBM] [Warning] Stopped training because there are no more leaves that meet the split requirements\n",
      "[LightGBM] [Warning] Stopped training because there are no more leaves that meet the split requirements\n",
      "[LightGBM] [Warning] Stopped training because there are no more leaves that meet the split requirements\n",
      "[LightGBM] [Warning] Stopped training because there are no more leaves that meet the split requirements\n",
      "[LightGBM] [Warning] Stopped training because there are no more leaves that meet the split requirements\n",
      "[LightGBM] [Warning] Stopped training because there are no more leaves that meet the split requirements\n",
      "[LightGBM] [Warning] Stopped training because there are no more leaves that meet the split requirements\n",
      "[LightGBM] [Warning] Stopped training because there are no more leaves that meet the split requirements\n",
      "[LightGBM] [Warning] Stopped training because there are no more leaves that meet the split requirements\n",
      "[LightGBM] [Warning] Stopped training because there are no more leaves that meet the split requirements\n",
      "[LightGBM] [Warning] Stopped training because there are no more leaves that meet the split requirements\n",
      "[LightGBM] [Warning] Stopped training because there are no more leaves that meet the split requirements\n",
      "[LightGBM] [Warning] Stopped training because there are no more leaves that meet the split requirements\n",
      "[LightGBM] [Warning] Stopped training because there are no more leaves that meet the split requirements\n",
      "[LightGBM] [Warning] Stopped training because there are no more leaves that meet the split requirements\n",
      "[LightGBM] [Warning] Stopped training because there are no more leaves that meet the split requirements\n",
      "[LightGBM] [Warning] Stopped training because there are no more leaves that meet the split requirements\n",
      "[LightGBM] [Warning] Stopped training because there are no more leaves that meet the split requirements\n",
      "[LightGBM] [Warning] Stopped training because there are no more leaves that meet the split requirements\n",
      "[LightGBM] [Warning] Stopped training because there are no more leaves that meet the split requirements\n",
      "[LightGBM] [Warning] Stopped training because there are no more leaves that meet the split requirements\n",
      "[LightGBM] [Warning] Stopped training because there are no more leaves that meet the split requirements\n",
      "[LightGBM] [Warning] Stopped training because there are no more leaves that meet the split requirements\n",
      "[LightGBM] [Warning] Stopped training because there are no more leaves that meet the split requirements\n",
      "[LightGBM] [Warning] Stopped training because there are no more leaves that meet the split requirements\n",
      "[LightGBM] [Warning] Stopped training because there are no more leaves that meet the split requirements\n",
      "[LightGBM] [Warning] Stopped training because there are no more leaves that meet the split requirements\n",
      "[LightGBM] [Warning] Stopped training because there are no more leaves that meet the split requirements\n",
      "[LightGBM] [Warning] Stopped training because there are no more leaves that meet the split requirements\n",
      "[LightGBM] [Warning] Stopped training because there are no more leaves that meet the split requirements\n",
      "[LightGBM] [Warning] Stopped training because there are no more leaves that meet the split requirements\n",
      "[LightGBM] [Warning] Stopped training because there are no more leaves that meet the split requirements\n",
      "[LightGBM] [Warning] Stopped training because there are no more leaves that meet the split requirements\n",
      "[LightGBM] [Warning] Stopped training because there are no more leaves that meet the split requirements\n",
      "[LightGBM] [Warning] Stopped training because there are no more leaves that meet the split requirements\n",
      "[LightGBM] [Warning] Stopped training because there are no more leaves that meet the split requirements\n",
      "[LightGBM] [Warning] Stopped training because there are no more leaves that meet the split requirements\n",
      "[LightGBM] [Warning] Stopped training because there are no more leaves that meet the split requirements\n",
      "[LightGBM] [Warning] Stopped training because there are no more leaves that meet the split requirements\n",
      "[LightGBM] [Warning] Stopped training because there are no more leaves that meet the split requirements\n",
      "[LightGBM] [Warning] Stopped training because there are no more leaves that meet the split requirements\n",
      "[LightGBM] [Warning] Stopped training because there are no more leaves that meet the split requirements\n",
      "[LightGBM] [Warning] Stopped training because there are no more leaves that meet the split requirements\n",
      "[LightGBM] [Warning] Stopped training because there are no more leaves that meet the split requirements\n",
      "[LightGBM] [Warning] Stopped training because there are no more leaves that meet the split requirements\n",
      "[LightGBM] [Warning] Stopped training because there are no more leaves that meet the split requirements\n",
      "[LightGBM] [Warning] Stopped training because there are no more leaves that meet the split requirements\n",
      "[LightGBM] [Warning] Stopped training because there are no more leaves that meet the split requirements\n",
      "[LightGBM] [Warning] Stopped training because there are no more leaves that meet the split requirements\n",
      "[LightGBM] [Warning] Stopped training because there are no more leaves that meet the split requirements\n",
      "[LightGBM] [Warning] Stopped training because there are no more leaves that meet the split requirements\n",
      "[LightGBM] [Warning] Stopped training because there are no more leaves that meet the split requirements\n",
      "[LightGBM] [Warning] Stopped training because there are no more leaves that meet the split requirements\n",
      "[LightGBM] [Warning] Stopped training because there are no more leaves that meet the split requirements\n",
      "[LightGBM] [Warning] Stopped training because there are no more leaves that meet the split requirements\n",
      "[LightGBM] [Warning] Stopped training because there are no more leaves that meet the split requirements\n",
      "[LightGBM] [Warning] Stopped training because there are no more leaves that meet the split requirements\n",
      "[LightGBM] [Warning] Stopped training because there are no more leaves that meet the split requirements\n",
      "[LightGBM] [Warning] Stopped training because there are no more leaves that meet the split requirements\n",
      "[LightGBM] [Warning] Stopped training because there are no more leaves that meet the split requirements\n",
      "[LightGBM] [Warning] Stopped training because there are no more leaves that meet the split requirements\n",
      "[LightGBM] [Warning] Stopped training because there are no more leaves that meet the split requirements\n",
      "[LightGBM] [Warning] There are no meaningful features which satisfy the provided configuration. Decreasing Dataset parameters min_data_in_bin or min_data_in_leaf and re-constructing Dataset might resolve this warning.\n",
      "[LightGBM] [Info] Number of positive: 1, number of negative: 1\n",
      "[LightGBM] [Info] This is the GPU trainer!!\n",
      "[LightGBM] [Info] Total Bins 0\n",
      "[LightGBM] [Info] Number of data points in the train set: 2, number of used features: 0\n",
      "[LightGBM] [Info] Using GPU Device: Intel(R) UHD Graphics P630, Vendor: Intel(R) Corporation\n",
      "[LightGBM] [Info] Compiling OpenCL Kernel with 16 bins...\n",
      "[LightGBM] [Info] GPU programs have been built\n",
      "[LightGBM] [Warning] GPU acceleration is disabled because no non-trivial dense features can be found\n",
      "[LightGBM] [Info] [binary:BoostFromScore]: pavg=0.500000 -> initscore=0.000000\n",
      "[LightGBM] [Warning] Stopped training because there are no more leaves that meet the split requirements\n",
      "[LightGBM] [Warning] Stopped training because there are no more leaves that meet the split requirements\n",
      "[LightGBM] [Warning] Stopped training because there are no more leaves that meet the split requirements\n",
      "[LightGBM] [Warning] Stopped training because there are no more leaves that meet the split requirements\n",
      "[LightGBM] [Warning] Stopped training because there are no more leaves that meet the split requirements\n",
      "[LightGBM] [Warning] Stopped training because there are no more leaves that meet the split requirements\n",
      "[LightGBM] [Warning] Stopped training because there are no more leaves that meet the split requirements\n",
      "[LightGBM] [Warning] Stopped training because there are no more leaves that meet the split requirements\n",
      "[LightGBM] [Warning] Stopped training because there are no more leaves that meet the split requirements\n",
      "[LightGBM] [Warning] Stopped training because there are no more leaves that meet the split requirements\n",
      "[LightGBM] [Warning] Stopped training because there are no more leaves that meet the split requirements\n",
      "[LightGBM] [Warning] Stopped training because there are no more leaves that meet the split requirements\n",
      "[LightGBM] [Warning] Stopped training because there are no more leaves that meet the split requirements\n",
      "[LightGBM] [Warning] Stopped training because there are no more leaves that meet the split requirements\n",
      "[LightGBM] [Warning] Stopped training because there are no more leaves that meet the split requirements\n",
      "[LightGBM] [Warning] Stopped training because there are no more leaves that meet the split requirements\n",
      "[LightGBM] [Warning] Stopped training because there are no more leaves that meet the split requirements\n",
      "[LightGBM] [Warning] Stopped training because there are no more leaves that meet the split requirements\n",
      "[LightGBM] [Warning] Stopped training because there are no more leaves that meet the split requirements\n",
      "[LightGBM] [Warning] Stopped training because there are no more leaves that meet the split requirements\n",
      "[LightGBM] [Warning] Stopped training because there are no more leaves that meet the split requirements\n",
      "[LightGBM] [Warning] Stopped training because there are no more leaves that meet the split requirements\n",
      "[LightGBM] [Warning] Stopped training because there are no more leaves that meet the split requirements\n",
      "[LightGBM] [Warning] Stopped training because there are no more leaves that meet the split requirements\n",
      "[LightGBM] [Warning] Stopped training because there are no more leaves that meet the split requirements\n",
      "[LightGBM] [Warning] Stopped training because there are no more leaves that meet the split requirements\n",
      "[LightGBM] [Warning] Stopped training because there are no more leaves that meet the split requirements\n",
      "[LightGBM] [Warning] Stopped training because there are no more leaves that meet the split requirements\n",
      "[LightGBM] [Warning] Stopped training because there are no more leaves that meet the split requirements\n",
      "[LightGBM] [Warning] Stopped training because there are no more leaves that meet the split requirements\n",
      "[LightGBM] [Warning] Stopped training because there are no more leaves that meet the split requirements\n",
      "[LightGBM] [Warning] Stopped training because there are no more leaves that meet the split requirements\n",
      "[LightGBM] [Warning] Stopped training because there are no more leaves that meet the split requirements\n",
      "[LightGBM] [Warning] Stopped training because there are no more leaves that meet the split requirements\n",
      "[LightGBM] [Warning] Stopped training because there are no more leaves that meet the split requirements\n",
      "[LightGBM] [Warning] Stopped training because there are no more leaves that meet the split requirements\n",
      "[LightGBM] [Warning] Stopped training because there are no more leaves that meet the split requirements\n",
      "[LightGBM] [Warning] Stopped training because there are no more leaves that meet the split requirements\n",
      "[LightGBM] [Warning] Stopped training because there are no more leaves that meet the split requirements\n",
      "[LightGBM] [Warning] Stopped training because there are no more leaves that meet the split requirements\n",
      "[LightGBM] [Warning] Stopped training because there are no more leaves that meet the split requirements\n",
      "[LightGBM] [Warning] Stopped training because there are no more leaves that meet the split requirements\n",
      "[LightGBM] [Warning] Stopped training because there are no more leaves that meet the split requirements\n",
      "[LightGBM] [Warning] Stopped training because there are no more leaves that meet the split requirements\n",
      "[LightGBM] [Warning] Stopped training because there are no more leaves that meet the split requirements\n",
      "[LightGBM] [Warning] Stopped training because there are no more leaves that meet the split requirements\n",
      "[LightGBM] [Warning] Stopped training because there are no more leaves that meet the split requirements\n",
      "[LightGBM] [Warning] Stopped training because there are no more leaves that meet the split requirements\n",
      "[LightGBM] [Warning] Stopped training because there are no more leaves that meet the split requirements\n",
      "[LightGBM] [Warning] Stopped training because there are no more leaves that meet the split requirements\n",
      "[LightGBM] [Warning] Stopped training because there are no more leaves that meet the split requirements\n",
      "[LightGBM] [Warning] Stopped training because there are no more leaves that meet the split requirements\n",
      "[LightGBM] [Warning] Stopped training because there are no more leaves that meet the split requirements\n",
      "[LightGBM] [Warning] Stopped training because there are no more leaves that meet the split requirements\n",
      "[LightGBM] [Warning] Stopped training because there are no more leaves that meet the split requirements\n",
      "[LightGBM] [Warning] Stopped training because there are no more leaves that meet the split requirements\n",
      "[LightGBM] [Warning] Stopped training because there are no more leaves that meet the split requirements\n",
      "[LightGBM] [Warning] Stopped training because there are no more leaves that meet the split requirements\n",
      "[LightGBM] [Warning] Stopped training because there are no more leaves that meet the split requirements\n",
      "[LightGBM] [Warning] Stopped training because there are no more leaves that meet the split requirements\n",
      "[LightGBM] [Warning] Stopped training because there are no more leaves that meet the split requirements\n",
      "[LightGBM] [Warning] Stopped training because there are no more leaves that meet the split requirements\n",
      "[LightGBM] [Warning] Stopped training because there are no more leaves that meet the split requirements\n",
      "[LightGBM] [Warning] Stopped training because there are no more leaves that meet the split requirements\n",
      "[LightGBM] [Warning] Stopped training because there are no more leaves that meet the split requirements\n",
      "[LightGBM] [Warning] Stopped training because there are no more leaves that meet the split requirements\n",
      "[LightGBM] [Warning] Stopped training because there are no more leaves that meet the split requirements\n",
      "[LightGBM] [Warning] Stopped training because there are no more leaves that meet the split requirements\n",
      "[LightGBM] [Warning] Stopped training because there are no more leaves that meet the split requirements\n",
      "[LightGBM] [Warning] Stopped training because there are no more leaves that meet the split requirements\n",
      "[LightGBM] [Warning] Stopped training because there are no more leaves that meet the split requirements\n",
      "[LightGBM] [Warning] Stopped training because there are no more leaves that meet the split requirements\n",
      "[LightGBM] [Warning] Stopped training because there are no more leaves that meet the split requirements\n",
      "[LightGBM] [Warning] Stopped training because there are no more leaves that meet the split requirements\n",
      "[LightGBM] [Warning] Stopped training because there are no more leaves that meet the split requirements\n",
      "[LightGBM] [Warning] Stopped training because there are no more leaves that meet the split requirements\n",
      "[LightGBM] [Warning] Stopped training because there are no more leaves that meet the split requirements\n",
      "[LightGBM] [Warning] Stopped training because there are no more leaves that meet the split requirements\n",
      "[LightGBM] [Warning] Stopped training because there are no more leaves that meet the split requirements\n",
      "[LightGBM] [Warning] Stopped training because there are no more leaves that meet the split requirements\n",
      "[LightGBM] [Warning] Stopped training because there are no more leaves that meet the split requirements\n",
      "[LightGBM] [Warning] Stopped training because there are no more leaves that meet the split requirements\n",
      "[LightGBM] [Warning] Stopped training because there are no more leaves that meet the split requirements\n",
      "[LightGBM] [Warning] Stopped training because there are no more leaves that meet the split requirements\n",
      "[LightGBM] [Warning] Stopped training because there are no more leaves that meet the split requirements\n",
      "[LightGBM] [Warning] Stopped training because there are no more leaves that meet the split requirements\n",
      "[LightGBM] [Warning] Stopped training because there are no more leaves that meet the split requirements\n",
      "[LightGBM] [Warning] Stopped training because there are no more leaves that meet the split requirements\n",
      "[LightGBM] [Warning] Stopped training because there are no more leaves that meet the split requirements\n",
      "[LightGBM] [Warning] Stopped training because there are no more leaves that meet the split requirements\n",
      "[LightGBM] [Warning] Stopped training because there are no more leaves that meet the split requirements\n",
      "[LightGBM] [Warning] Stopped training because there are no more leaves that meet the split requirements\n",
      "[LightGBM] [Warning] Stopped training because there are no more leaves that meet the split requirements\n",
      "[LightGBM] [Warning] Stopped training because there are no more leaves that meet the split requirements\n",
      "[LightGBM] [Warning] Stopped training because there are no more leaves that meet the split requirements\n",
      "[LightGBM] [Warning] Stopped training because there are no more leaves that meet the split requirements\n",
      "[LightGBM] [Warning] Stopped training because there are no more leaves that meet the split requirements\n",
      "[LightGBM] [Warning] Stopped training because there are no more leaves that meet the split requirements\n",
      "[LightGBM] [Warning] Stopped training because there are no more leaves that meet the split requirements\n",
      "[LightGBM] [Warning] Stopped training because there are no more leaves that meet the split requirements\n",
      "[LightGBM] [Warning] There are no meaningful features which satisfy the provided configuration. Decreasing Dataset parameters min_data_in_bin or min_data_in_leaf and re-constructing Dataset might resolve this warning.\n",
      "[LightGBM] [Info] Number of positive: 1, number of negative: 1\n",
      "[LightGBM] [Info] This is the GPU trainer!!\n",
      "[LightGBM] [Info] Total Bins 0\n",
      "[LightGBM] [Info] Number of data points in the train set: 2, number of used features: 0\n",
      "[LightGBM] [Info] Using GPU Device: Intel(R) UHD Graphics P630, Vendor: Intel(R) Corporation\n",
      "[LightGBM] [Info] Compiling OpenCL Kernel with 16 bins...\n",
      "[LightGBM] [Info] GPU programs have been built\n",
      "[LightGBM] [Warning] GPU acceleration is disabled because no non-trivial dense features can be found\n",
      "[LightGBM] [Info] [binary:BoostFromScore]: pavg=0.500000 -> initscore=0.000000\n",
      "[LightGBM] [Warning] Stopped training because there are no more leaves that meet the split requirements\n",
      "[LightGBM] [Warning] Stopped training because there are no more leaves that meet the split requirements\n",
      "[LightGBM] [Warning] Stopped training because there are no more leaves that meet the split requirements\n",
      "[LightGBM] [Warning] Stopped training because there are no more leaves that meet the split requirements\n",
      "[LightGBM] [Warning] Stopped training because there are no more leaves that meet the split requirements\n",
      "[LightGBM] [Warning] Stopped training because there are no more leaves that meet the split requirements\n",
      "[LightGBM] [Warning] Stopped training because there are no more leaves that meet the split requirements\n",
      "[LightGBM] [Warning] Stopped training because there are no more leaves that meet the split requirements\n",
      "[LightGBM] [Warning] Stopped training because there are no more leaves that meet the split requirements\n",
      "[LightGBM] [Warning] Stopped training because there are no more leaves that meet the split requirements\n",
      "[LightGBM] [Warning] Stopped training because there are no more leaves that meet the split requirements\n",
      "[LightGBM] [Warning] Stopped training because there are no more leaves that meet the split requirements\n",
      "[LightGBM] [Warning] Stopped training because there are no more leaves that meet the split requirements\n",
      "[LightGBM] [Warning] Stopped training because there are no more leaves that meet the split requirements\n",
      "[LightGBM] [Warning] Stopped training because there are no more leaves that meet the split requirements\n",
      "[LightGBM] [Warning] Stopped training because there are no more leaves that meet the split requirements\n",
      "[LightGBM] [Warning] Stopped training because there are no more leaves that meet the split requirements\n",
      "[LightGBM] [Warning] Stopped training because there are no more leaves that meet the split requirements\n",
      "[LightGBM] [Warning] Stopped training because there are no more leaves that meet the split requirements\n",
      "[LightGBM] [Warning] Stopped training because there are no more leaves that meet the split requirements\n",
      "[LightGBM] [Warning] Stopped training because there are no more leaves that meet the split requirements\n",
      "[LightGBM] [Warning] Stopped training because there are no more leaves that meet the split requirements\n",
      "[LightGBM] [Warning] Stopped training because there are no more leaves that meet the split requirements\n",
      "[LightGBM] [Warning] Stopped training because there are no more leaves that meet the split requirements\n",
      "[LightGBM] [Warning] Stopped training because there are no more leaves that meet the split requirements\n",
      "[LightGBM] [Warning] Stopped training because there are no more leaves that meet the split requirements\n",
      "[LightGBM] [Warning] Stopped training because there are no more leaves that meet the split requirements\n",
      "[LightGBM] [Warning] Stopped training because there are no more leaves that meet the split requirements\n",
      "[LightGBM] [Warning] Stopped training because there are no more leaves that meet the split requirements\n",
      "[LightGBM] [Warning] Stopped training because there are no more leaves that meet the split requirements\n",
      "[LightGBM] [Warning] Stopped training because there are no more leaves that meet the split requirements\n",
      "[LightGBM] [Warning] Stopped training because there are no more leaves that meet the split requirements\n",
      "[LightGBM] [Warning] Stopped training because there are no more leaves that meet the split requirements\n",
      "[LightGBM] [Warning] Stopped training because there are no more leaves that meet the split requirements\n",
      "[LightGBM] [Warning] Stopped training because there are no more leaves that meet the split requirements\n",
      "[LightGBM] [Warning] Stopped training because there are no more leaves that meet the split requirements\n",
      "[LightGBM] [Warning] Stopped training because there are no more leaves that meet the split requirements\n",
      "[LightGBM] [Warning] Stopped training because there are no more leaves that meet the split requirements\n",
      "[LightGBM] [Warning] Stopped training because there are no more leaves that meet the split requirements\n",
      "[LightGBM] [Warning] Stopped training because there are no more leaves that meet the split requirements\n",
      "[LightGBM] [Warning] Stopped training because there are no more leaves that meet the split requirements\n",
      "[LightGBM] [Warning] Stopped training because there are no more leaves that meet the split requirements\n",
      "[LightGBM] [Warning] Stopped training because there are no more leaves that meet the split requirements\n",
      "[LightGBM] [Warning] Stopped training because there are no more leaves that meet the split requirements\n",
      "[LightGBM] [Warning] Stopped training because there are no more leaves that meet the split requirements\n",
      "[LightGBM] [Warning] Stopped training because there are no more leaves that meet the split requirements\n",
      "[LightGBM] [Warning] Stopped training because there are no more leaves that meet the split requirements\n",
      "[LightGBM] [Warning] Stopped training because there are no more leaves that meet the split requirements\n",
      "[LightGBM] [Warning] Stopped training because there are no more leaves that meet the split requirements\n",
      "[LightGBM] [Warning] Stopped training because there are no more leaves that meet the split requirements\n",
      "[LightGBM] [Warning] Stopped training because there are no more leaves that meet the split requirements\n",
      "[LightGBM] [Warning] Stopped training because there are no more leaves that meet the split requirements\n",
      "[LightGBM] [Warning] Stopped training because there are no more leaves that meet the split requirements\n",
      "[LightGBM] [Warning] Stopped training because there are no more leaves that meet the split requirements\n",
      "[LightGBM] [Warning] Stopped training because there are no more leaves that meet the split requirements\n",
      "[LightGBM] [Warning] Stopped training because there are no more leaves that meet the split requirements\n",
      "[LightGBM] [Warning] Stopped training because there are no more leaves that meet the split requirements\n",
      "[LightGBM] [Warning] Stopped training because there are no more leaves that meet the split requirements\n",
      "[LightGBM] [Warning] Stopped training because there are no more leaves that meet the split requirements\n",
      "[LightGBM] [Warning] Stopped training because there are no more leaves that meet the split requirements\n",
      "[LightGBM] [Warning] Stopped training because there are no more leaves that meet the split requirements\n",
      "[LightGBM] [Warning] Stopped training because there are no more leaves that meet the split requirements\n",
      "[LightGBM] [Warning] Stopped training because there are no more leaves that meet the split requirements\n",
      "[LightGBM] [Warning] Stopped training because there are no more leaves that meet the split requirements\n",
      "[LightGBM] [Warning] Stopped training because there are no more leaves that meet the split requirements\n",
      "[LightGBM] [Warning] Stopped training because there are no more leaves that meet the split requirements\n",
      "[LightGBM] [Warning] Stopped training because there are no more leaves that meet the split requirements\n",
      "[LightGBM] [Warning] Stopped training because there are no more leaves that meet the split requirements\n",
      "[LightGBM] [Warning] Stopped training because there are no more leaves that meet the split requirements\n",
      "[LightGBM] [Warning] Stopped training because there are no more leaves that meet the split requirements\n",
      "[LightGBM] [Warning] Stopped training because there are no more leaves that meet the split requirements\n",
      "[LightGBM] [Warning] Stopped training because there are no more leaves that meet the split requirements\n",
      "[LightGBM] [Warning] Stopped training because there are no more leaves that meet the split requirements\n",
      "[LightGBM] [Warning] Stopped training because there are no more leaves that meet the split requirements\n",
      "[LightGBM] [Warning] Stopped training because there are no more leaves that meet the split requirements\n",
      "[LightGBM] [Warning] Stopped training because there are no more leaves that meet the split requirements\n",
      "[LightGBM] [Warning] Stopped training because there are no more leaves that meet the split requirements\n",
      "[LightGBM] [Warning] Stopped training because there are no more leaves that meet the split requirements\n",
      "[LightGBM] [Warning] Stopped training because there are no more leaves that meet the split requirements\n",
      "[LightGBM] [Warning] Stopped training because there are no more leaves that meet the split requirements\n",
      "[LightGBM] [Warning] Stopped training because there are no more leaves that meet the split requirements\n",
      "[LightGBM] [Warning] Stopped training because there are no more leaves that meet the split requirements\n",
      "[LightGBM] [Warning] Stopped training because there are no more leaves that meet the split requirements\n",
      "[LightGBM] [Warning] Stopped training because there are no more leaves that meet the split requirements\n",
      "[LightGBM] [Warning] Stopped training because there are no more leaves that meet the split requirements\n",
      "[LightGBM] [Warning] Stopped training because there are no more leaves that meet the split requirements\n",
      "[LightGBM] [Warning] Stopped training because there are no more leaves that meet the split requirements\n",
      "[LightGBM] [Warning] Stopped training because there are no more leaves that meet the split requirements\n",
      "[LightGBM] [Warning] Stopped training because there are no more leaves that meet the split requirements\n",
      "[LightGBM] [Warning] Stopped training because there are no more leaves that meet the split requirements\n",
      "[LightGBM] [Warning] Stopped training because there are no more leaves that meet the split requirements\n",
      "[LightGBM] [Warning] Stopped training because there are no more leaves that meet the split requirements\n",
      "[LightGBM] [Warning] Stopped training because there are no more leaves that meet the split requirements\n",
      "[LightGBM] [Warning] Stopped training because there are no more leaves that meet the split requirements\n",
      "[LightGBM] [Warning] Stopped training because there are no more leaves that meet the split requirements\n",
      "[LightGBM] [Warning] Stopped training because there are no more leaves that meet the split requirements\n",
      "[LightGBM] [Warning] Stopped training because there are no more leaves that meet the split requirements\n",
      "[LightGBM] [Warning] Stopped training because there are no more leaves that meet the split requirements\n",
      "[LightGBM] [Warning] Stopped training because there are no more leaves that meet the split requirements\n",
      "[LightGBM] [Warning] Stopped training because there are no more leaves that meet the split requirements\n",
      "[LightGBM] [Warning] There are no meaningful features which satisfy the provided configuration. Decreasing Dataset parameters min_data_in_bin or min_data_in_leaf and re-constructing Dataset might resolve this warning.\n",
      "[LightGBM] [Info] Number of positive: 1, number of negative: 1\n",
      "[LightGBM] [Info] This is the GPU trainer!!\n",
      "[LightGBM] [Info] Total Bins 0\n",
      "[LightGBM] [Info] Number of data points in the train set: 2, number of used features: 0\n",
      "[LightGBM] [Info] Using GPU Device: Intel(R) UHD Graphics P630, Vendor: Intel(R) Corporation\n",
      "[LightGBM] [Info] Compiling OpenCL Kernel with 16 bins...\n",
      "[LightGBM] [Info] GPU programs have been built\n",
      "[LightGBM] [Warning] GPU acceleration is disabled because no non-trivial dense features can be found\n",
      "[LightGBM] [Info] [binary:BoostFromScore]: pavg=0.500000 -> initscore=0.000000\n",
      "[LightGBM] [Warning] Stopped training because there are no more leaves that meet the split requirements\n",
      "[LightGBM] [Warning] Stopped training because there are no more leaves that meet the split requirements\n",
      "[LightGBM] [Warning] Stopped training because there are no more leaves that meet the split requirements\n",
      "[LightGBM] [Warning] Stopped training because there are no more leaves that meet the split requirements\n",
      "[LightGBM] [Warning] Stopped training because there are no more leaves that meet the split requirements\n",
      "[LightGBM] [Warning] Stopped training because there are no more leaves that meet the split requirements\n",
      "[LightGBM] [Warning] Stopped training because there are no more leaves that meet the split requirements\n",
      "[LightGBM] [Warning] Stopped training because there are no more leaves that meet the split requirements\n",
      "[LightGBM] [Warning] Stopped training because there are no more leaves that meet the split requirements\n",
      "[LightGBM] [Warning] Stopped training because there are no more leaves that meet the split requirements\n",
      "[LightGBM] [Warning] Stopped training because there are no more leaves that meet the split requirements\n",
      "[LightGBM] [Warning] Stopped training because there are no more leaves that meet the split requirements\n",
      "[LightGBM] [Warning] Stopped training because there are no more leaves that meet the split requirements\n",
      "[LightGBM] [Warning] Stopped training because there are no more leaves that meet the split requirements\n",
      "[LightGBM] [Warning] Stopped training because there are no more leaves that meet the split requirements\n",
      "[LightGBM] [Warning] Stopped training because there are no more leaves that meet the split requirements\n",
      "[LightGBM] [Warning] Stopped training because there are no more leaves that meet the split requirements\n",
      "[LightGBM] [Warning] Stopped training because there are no more leaves that meet the split requirements\n",
      "[LightGBM] [Warning] Stopped training because there are no more leaves that meet the split requirements\n",
      "[LightGBM] [Warning] Stopped training because there are no more leaves that meet the split requirements\n",
      "[LightGBM] [Warning] Stopped training because there are no more leaves that meet the split requirements\n",
      "[LightGBM] [Warning] Stopped training because there are no more leaves that meet the split requirements\n",
      "[LightGBM] [Warning] Stopped training because there are no more leaves that meet the split requirements\n",
      "[LightGBM] [Warning] Stopped training because there are no more leaves that meet the split requirements\n",
      "[LightGBM] [Warning] Stopped training because there are no more leaves that meet the split requirements\n",
      "[LightGBM] [Warning] Stopped training because there are no more leaves that meet the split requirements\n",
      "[LightGBM] [Warning] Stopped training because there are no more leaves that meet the split requirements\n",
      "[LightGBM] [Warning] Stopped training because there are no more leaves that meet the split requirements\n",
      "[LightGBM] [Warning] Stopped training because there are no more leaves that meet the split requirements\n",
      "[LightGBM] [Warning] Stopped training because there are no more leaves that meet the split requirements\n",
      "[LightGBM] [Warning] Stopped training because there are no more leaves that meet the split requirements\n",
      "[LightGBM] [Warning] Stopped training because there are no more leaves that meet the split requirements\n",
      "[LightGBM] [Warning] Stopped training because there are no more leaves that meet the split requirements\n",
      "[LightGBM] [Warning] Stopped training because there are no more leaves that meet the split requirements\n",
      "[LightGBM] [Warning] Stopped training because there are no more leaves that meet the split requirements\n",
      "[LightGBM] [Warning] Stopped training because there are no more leaves that meet the split requirements\n",
      "[LightGBM] [Warning] Stopped training because there are no more leaves that meet the split requirements\n",
      "[LightGBM] [Warning] Stopped training because there are no more leaves that meet the split requirements\n",
      "[LightGBM] [Warning] Stopped training because there are no more leaves that meet the split requirements\n",
      "[LightGBM] [Warning] Stopped training because there are no more leaves that meet the split requirements\n",
      "[LightGBM] [Warning] Stopped training because there are no more leaves that meet the split requirements\n",
      "[LightGBM] [Warning] Stopped training because there are no more leaves that meet the split requirements\n",
      "[LightGBM] [Warning] Stopped training because there are no more leaves that meet the split requirements\n",
      "[LightGBM] [Warning] Stopped training because there are no more leaves that meet the split requirements\n",
      "[LightGBM] [Warning] Stopped training because there are no more leaves that meet the split requirements\n",
      "[LightGBM] [Warning] Stopped training because there are no more leaves that meet the split requirements\n",
      "[LightGBM] [Warning] Stopped training because there are no more leaves that meet the split requirements\n",
      "[LightGBM] [Warning] Stopped training because there are no more leaves that meet the split requirements\n",
      "[LightGBM] [Warning] Stopped training because there are no more leaves that meet the split requirements\n",
      "[LightGBM] [Warning] Stopped training because there are no more leaves that meet the split requirements\n",
      "[LightGBM] [Warning] Stopped training because there are no more leaves that meet the split requirements\n",
      "[LightGBM] [Warning] Stopped training because there are no more leaves that meet the split requirements\n",
      "[LightGBM] [Warning] Stopped training because there are no more leaves that meet the split requirements\n",
      "[LightGBM] [Warning] Stopped training because there are no more leaves that meet the split requirements\n",
      "[LightGBM] [Warning] Stopped training because there are no more leaves that meet the split requirements\n",
      "[LightGBM] [Warning] Stopped training because there are no more leaves that meet the split requirements\n",
      "[LightGBM] [Warning] Stopped training because there are no more leaves that meet the split requirements\n",
      "[LightGBM] [Warning] Stopped training because there are no more leaves that meet the split requirements\n",
      "[LightGBM] [Warning] Stopped training because there are no more leaves that meet the split requirements\n",
      "[LightGBM] [Warning] Stopped training because there are no more leaves that meet the split requirements\n",
      "[LightGBM] [Warning] Stopped training because there are no more leaves that meet the split requirements\n",
      "[LightGBM] [Warning] Stopped training because there are no more leaves that meet the split requirements\n",
      "[LightGBM] [Warning] Stopped training because there are no more leaves that meet the split requirements\n",
      "[LightGBM] [Warning] Stopped training because there are no more leaves that meet the split requirements\n",
      "[LightGBM] [Warning] Stopped training because there are no more leaves that meet the split requirements\n",
      "[LightGBM] [Warning] Stopped training because there are no more leaves that meet the split requirements\n",
      "[LightGBM] [Warning] Stopped training because there are no more leaves that meet the split requirements\n",
      "[LightGBM] [Warning] Stopped training because there are no more leaves that meet the split requirements\n",
      "[LightGBM] [Warning] Stopped training because there are no more leaves that meet the split requirements\n",
      "[LightGBM] [Warning] Stopped training because there are no more leaves that meet the split requirements\n",
      "[LightGBM] [Warning] Stopped training because there are no more leaves that meet the split requirements\n",
      "[LightGBM] [Warning] Stopped training because there are no more leaves that meet the split requirements\n",
      "[LightGBM] [Warning] Stopped training because there are no more leaves that meet the split requirements\n",
      "[LightGBM] [Warning] Stopped training because there are no more leaves that meet the split requirements\n",
      "[LightGBM] [Warning] Stopped training because there are no more leaves that meet the split requirements\n",
      "[LightGBM] [Warning] Stopped training because there are no more leaves that meet the split requirements\n",
      "[LightGBM] [Warning] Stopped training because there are no more leaves that meet the split requirements\n",
      "[LightGBM] [Warning] Stopped training because there are no more leaves that meet the split requirements\n",
      "[LightGBM] [Warning] Stopped training because there are no more leaves that meet the split requirements\n",
      "[LightGBM] [Warning] Stopped training because there are no more leaves that meet the split requirements\n",
      "[LightGBM] [Warning] Stopped training because there are no more leaves that meet the split requirements\n",
      "[LightGBM] [Warning] Stopped training because there are no more leaves that meet the split requirements\n",
      "[LightGBM] [Warning] Stopped training because there are no more leaves that meet the split requirements\n",
      "[LightGBM] [Warning] Stopped training because there are no more leaves that meet the split requirements\n",
      "[LightGBM] [Warning] Stopped training because there are no more leaves that meet the split requirements\n",
      "[LightGBM] [Warning] Stopped training because there are no more leaves that meet the split requirements\n",
      "[LightGBM] [Warning] Stopped training because there are no more leaves that meet the split requirements\n",
      "[LightGBM] [Warning] Stopped training because there are no more leaves that meet the split requirements\n",
      "[LightGBM] [Warning] Stopped training because there are no more leaves that meet the split requirements\n",
      "[LightGBM] [Warning] Stopped training because there are no more leaves that meet the split requirements\n",
      "[LightGBM] [Warning] Stopped training because there are no more leaves that meet the split requirements\n",
      "[LightGBM] [Warning] Stopped training because there are no more leaves that meet the split requirements\n",
      "[LightGBM] [Warning] Stopped training because there are no more leaves that meet the split requirements\n",
      "[LightGBM] [Warning] Stopped training because there are no more leaves that meet the split requirements\n",
      "[LightGBM] [Warning] Stopped training because there are no more leaves that meet the split requirements\n",
      "[LightGBM] [Warning] Stopped training because there are no more leaves that meet the split requirements\n",
      "[LightGBM] [Warning] Stopped training because there are no more leaves that meet the split requirements\n",
      "[LightGBM] [Warning] Stopped training because there are no more leaves that meet the split requirements\n",
      "[LightGBM] [Warning] Stopped training because there are no more leaves that meet the split requirements\n",
      "[LightGBM] [Warning] Stopped training because there are no more leaves that meet the split requirements\n"
     ]
    },
    {
     "data": {
      "text/html": [
       "<style type=\"text/css\">\n",
       "#T_8950e_row9_col1, #T_8950e_row16_col1 {\n",
       "  background-color: lightgreen;\n",
       "}\n",
       "</style>\n",
       "<table id=\"T_8950e\">\n",
       "  <thead>\n",
       "    <tr>\n",
       "      <th class=\"blank level0\" >&nbsp;</th>\n",
       "      <th id=\"T_8950e_level0_col0\" class=\"col_heading level0 col0\" >Description</th>\n",
       "      <th id=\"T_8950e_level0_col1\" class=\"col_heading level0 col1\" >Value</th>\n",
       "    </tr>\n",
       "  </thead>\n",
       "  <tbody>\n",
       "    <tr>\n",
       "      <th id=\"T_8950e_level0_row0\" class=\"row_heading level0 row0\" >0</th>\n",
       "      <td id=\"T_8950e_row0_col0\" class=\"data row0 col0\" >Session id</td>\n",
       "      <td id=\"T_8950e_row0_col1\" class=\"data row0 col1\" >5176</td>\n",
       "    </tr>\n",
       "    <tr>\n",
       "      <th id=\"T_8950e_level0_row1\" class=\"row_heading level0 row1\" >1</th>\n",
       "      <td id=\"T_8950e_row1_col0\" class=\"data row1 col0\" >Target</td>\n",
       "      <td id=\"T_8950e_row1_col1\" class=\"data row1 col1\" >Label</td>\n",
       "    </tr>\n",
       "    <tr>\n",
       "      <th id=\"T_8950e_level0_row2\" class=\"row_heading level0 row2\" >2</th>\n",
       "      <td id=\"T_8950e_row2_col0\" class=\"data row2 col0\" >Target type</td>\n",
       "      <td id=\"T_8950e_row2_col1\" class=\"data row2 col1\" >Binary</td>\n",
       "    </tr>\n",
       "    <tr>\n",
       "      <th id=\"T_8950e_level0_row3\" class=\"row_heading level0 row3\" >3</th>\n",
       "      <td id=\"T_8950e_row3_col0\" class=\"data row3 col0\" >Target mapping</td>\n",
       "      <td id=\"T_8950e_row3_col1\" class=\"data row3 col1\" >damaged: 0, healthy: 1</td>\n",
       "    </tr>\n",
       "    <tr>\n",
       "      <th id=\"T_8950e_level0_row4\" class=\"row_heading level0 row4\" >4</th>\n",
       "      <td id=\"T_8950e_row4_col0\" class=\"data row4 col0\" >Original data shape</td>\n",
       "      <td id=\"T_8950e_row4_col1\" class=\"data row4 col1\" >(762472, 5)</td>\n",
       "    </tr>\n",
       "    <tr>\n",
       "      <th id=\"T_8950e_level0_row5\" class=\"row_heading level0 row5\" >5</th>\n",
       "      <td id=\"T_8950e_row5_col0\" class=\"data row5 col0\" >Transformed data shape</td>\n",
       "      <td id=\"T_8950e_row5_col1\" class=\"data row5 col1\" >(762472, 5)</td>\n",
       "    </tr>\n",
       "    <tr>\n",
       "      <th id=\"T_8950e_level0_row6\" class=\"row_heading level0 row6\" >6</th>\n",
       "      <td id=\"T_8950e_row6_col0\" class=\"data row6 col0\" >Transformed train set shape</td>\n",
       "      <td id=\"T_8950e_row6_col1\" class=\"data row6 col1\" >(533730, 5)</td>\n",
       "    </tr>\n",
       "    <tr>\n",
       "      <th id=\"T_8950e_level0_row7\" class=\"row_heading level0 row7\" >7</th>\n",
       "      <td id=\"T_8950e_row7_col0\" class=\"data row7 col0\" >Transformed test set shape</td>\n",
       "      <td id=\"T_8950e_row7_col1\" class=\"data row7 col1\" >(228742, 5)</td>\n",
       "    </tr>\n",
       "    <tr>\n",
       "      <th id=\"T_8950e_level0_row8\" class=\"row_heading level0 row8\" >8</th>\n",
       "      <td id=\"T_8950e_row8_col0\" class=\"data row8 col0\" >Numeric features</td>\n",
       "      <td id=\"T_8950e_row8_col1\" class=\"data row8 col1\" >4</td>\n",
       "    </tr>\n",
       "    <tr>\n",
       "      <th id=\"T_8950e_level0_row9\" class=\"row_heading level0 row9\" >9</th>\n",
       "      <td id=\"T_8950e_row9_col0\" class=\"data row9 col0\" >Preprocess</td>\n",
       "      <td id=\"T_8950e_row9_col1\" class=\"data row9 col1\" >True</td>\n",
       "    </tr>\n",
       "    <tr>\n",
       "      <th id=\"T_8950e_level0_row10\" class=\"row_heading level0 row10\" >10</th>\n",
       "      <td id=\"T_8950e_row10_col0\" class=\"data row10 col0\" >Imputation type</td>\n",
       "      <td id=\"T_8950e_row10_col1\" class=\"data row10 col1\" >simple</td>\n",
       "    </tr>\n",
       "    <tr>\n",
       "      <th id=\"T_8950e_level0_row11\" class=\"row_heading level0 row11\" >11</th>\n",
       "      <td id=\"T_8950e_row11_col0\" class=\"data row11 col0\" >Numeric imputation</td>\n",
       "      <td id=\"T_8950e_row11_col1\" class=\"data row11 col1\" >mean</td>\n",
       "    </tr>\n",
       "    <tr>\n",
       "      <th id=\"T_8950e_level0_row12\" class=\"row_heading level0 row12\" >12</th>\n",
       "      <td id=\"T_8950e_row12_col0\" class=\"data row12 col0\" >Categorical imputation</td>\n",
       "      <td id=\"T_8950e_row12_col1\" class=\"data row12 col1\" >mode</td>\n",
       "    </tr>\n",
       "    <tr>\n",
       "      <th id=\"T_8950e_level0_row13\" class=\"row_heading level0 row13\" >13</th>\n",
       "      <td id=\"T_8950e_row13_col0\" class=\"data row13 col0\" >Fold Generator</td>\n",
       "      <td id=\"T_8950e_row13_col1\" class=\"data row13 col1\" >StratifiedKFold</td>\n",
       "    </tr>\n",
       "    <tr>\n",
       "      <th id=\"T_8950e_level0_row14\" class=\"row_heading level0 row14\" >14</th>\n",
       "      <td id=\"T_8950e_row14_col0\" class=\"data row14 col0\" >Fold Number</td>\n",
       "      <td id=\"T_8950e_row14_col1\" class=\"data row14 col1\" >10</td>\n",
       "    </tr>\n",
       "    <tr>\n",
       "      <th id=\"T_8950e_level0_row15\" class=\"row_heading level0 row15\" >15</th>\n",
       "      <td id=\"T_8950e_row15_col0\" class=\"data row15 col0\" >CPU Jobs</td>\n",
       "      <td id=\"T_8950e_row15_col1\" class=\"data row15 col1\" >-1</td>\n",
       "    </tr>\n",
       "    <tr>\n",
       "      <th id=\"T_8950e_level0_row16\" class=\"row_heading level0 row16\" >16</th>\n",
       "      <td id=\"T_8950e_row16_col0\" class=\"data row16 col0\" >Use GPU</td>\n",
       "      <td id=\"T_8950e_row16_col1\" class=\"data row16 col1\" >True</td>\n",
       "    </tr>\n",
       "    <tr>\n",
       "      <th id=\"T_8950e_level0_row17\" class=\"row_heading level0 row17\" >17</th>\n",
       "      <td id=\"T_8950e_row17_col0\" class=\"data row17 col0\" >Log Experiment</td>\n",
       "      <td id=\"T_8950e_row17_col1\" class=\"data row17 col1\" >MlflowLogger</td>\n",
       "    </tr>\n",
       "    <tr>\n",
       "      <th id=\"T_8950e_level0_row18\" class=\"row_heading level0 row18\" >18</th>\n",
       "      <td id=\"T_8950e_row18_col0\" class=\"data row18 col0\" >Experiment Name</td>\n",
       "      <td id=\"T_8950e_row18_col1\" class=\"data row18 col1\" >SIZA_zero_shot_data_analysis_binary</td>\n",
       "    </tr>\n",
       "    <tr>\n",
       "      <th id=\"T_8950e_level0_row19\" class=\"row_heading level0 row19\" >19</th>\n",
       "      <td id=\"T_8950e_row19_col0\" class=\"data row19 col0\" >USI</td>\n",
       "      <td id=\"T_8950e_row19_col1\" class=\"data row19 col1\" >a654</td>\n",
       "    </tr>\n",
       "  </tbody>\n",
       "</table>\n"
      ],
      "text/plain": [
       "<pandas.io.formats.style.Styler at 0x21de3168bd0>"
      ]
     },
     "metadata": {},
     "output_type": "display_data"
    },
    {
     "name": "stdout",
     "output_type": "stream",
     "text": [
      "[LightGBM] [Warning] There are no meaningful features which satisfy the provided configuration. Decreasing Dataset parameters min_data_in_bin or min_data_in_leaf and re-constructing Dataset might resolve this warning.\n",
      "[LightGBM] [Info] Number of positive: 1, number of negative: 1\n",
      "[LightGBM] [Info] This is the GPU trainer!!\n",
      "[LightGBM] [Info] Total Bins 0\n",
      "[LightGBM] [Info] Number of data points in the train set: 2, number of used features: 0\n",
      "[LightGBM] [Info] Using GPU Device: Intel(R) UHD Graphics P630, Vendor: Intel(R) Corporation\n",
      "[LightGBM] [Info] Compiling OpenCL Kernel with 16 bins...\n",
      "[LightGBM] [Info] GPU programs have been built\n",
      "[LightGBM] [Warning] GPU acceleration is disabled because no non-trivial dense features can be found\n",
      "[LightGBM] [Info] [binary:BoostFromScore]: pavg=0.500000 -> initscore=0.000000\n",
      "[LightGBM] [Warning] Stopped training because there are no more leaves that meet the split requirements\n",
      "[LightGBM] [Warning] Stopped training because there are no more leaves that meet the split requirements\n",
      "[LightGBM] [Warning] Stopped training because there are no more leaves that meet the split requirements\n",
      "[LightGBM] [Warning] Stopped training because there are no more leaves that meet the split requirements\n",
      "[LightGBM] [Warning] Stopped training because there are no more leaves that meet the split requirements\n",
      "[LightGBM] [Warning] Stopped training because there are no more leaves that meet the split requirements\n",
      "[LightGBM] [Warning] Stopped training because there are no more leaves that meet the split requirements\n",
      "[LightGBM] [Warning] Stopped training because there are no more leaves that meet the split requirements\n",
      "[LightGBM] [Warning] Stopped training because there are no more leaves that meet the split requirements\n",
      "[LightGBM] [Warning] Stopped training because there are no more leaves that meet the split requirements\n",
      "[LightGBM] [Warning] Stopped training because there are no more leaves that meet the split requirements\n",
      "[LightGBM] [Warning] Stopped training because there are no more leaves that meet the split requirements\n",
      "[LightGBM] [Warning] Stopped training because there are no more leaves that meet the split requirements\n",
      "[LightGBM] [Warning] Stopped training because there are no more leaves that meet the split requirements\n",
      "[LightGBM] [Warning] Stopped training because there are no more leaves that meet the split requirements\n",
      "[LightGBM] [Warning] Stopped training because there are no more leaves that meet the split requirements\n",
      "[LightGBM] [Warning] Stopped training because there are no more leaves that meet the split requirements\n",
      "[LightGBM] [Warning] Stopped training because there are no more leaves that meet the split requirements\n",
      "[LightGBM] [Warning] Stopped training because there are no more leaves that meet the split requirements\n",
      "[LightGBM] [Warning] Stopped training because there are no more leaves that meet the split requirements\n",
      "[LightGBM] [Warning] Stopped training because there are no more leaves that meet the split requirements\n",
      "[LightGBM] [Warning] Stopped training because there are no more leaves that meet the split requirements\n",
      "[LightGBM] [Warning] Stopped training because there are no more leaves that meet the split requirements\n",
      "[LightGBM] [Warning] Stopped training because there are no more leaves that meet the split requirements\n",
      "[LightGBM] [Warning] Stopped training because there are no more leaves that meet the split requirements\n",
      "[LightGBM] [Warning] Stopped training because there are no more leaves that meet the split requirements\n",
      "[LightGBM] [Warning] Stopped training because there are no more leaves that meet the split requirements\n",
      "[LightGBM] [Warning] Stopped training because there are no more leaves that meet the split requirements\n",
      "[LightGBM] [Warning] Stopped training because there are no more leaves that meet the split requirements\n",
      "[LightGBM] [Warning] Stopped training because there are no more leaves that meet the split requirements\n",
      "[LightGBM] [Warning] Stopped training because there are no more leaves that meet the split requirements\n",
      "[LightGBM] [Warning] Stopped training because there are no more leaves that meet the split requirements\n",
      "[LightGBM] [Warning] Stopped training because there are no more leaves that meet the split requirements\n",
      "[LightGBM] [Warning] Stopped training because there are no more leaves that meet the split requirements\n",
      "[LightGBM] [Warning] Stopped training because there are no more leaves that meet the split requirements\n",
      "[LightGBM] [Warning] Stopped training because there are no more leaves that meet the split requirements\n",
      "[LightGBM] [Warning] Stopped training because there are no more leaves that meet the split requirements\n",
      "[LightGBM] [Warning] Stopped training because there are no more leaves that meet the split requirements\n",
      "[LightGBM] [Warning] Stopped training because there are no more leaves that meet the split requirements\n",
      "[LightGBM] [Warning] Stopped training because there are no more leaves that meet the split requirements\n",
      "[LightGBM] [Warning] Stopped training because there are no more leaves that meet the split requirements\n",
      "[LightGBM] [Warning] Stopped training because there are no more leaves that meet the split requirements\n",
      "[LightGBM] [Warning] Stopped training because there are no more leaves that meet the split requirements\n",
      "[LightGBM] [Warning] Stopped training because there are no more leaves that meet the split requirements\n",
      "[LightGBM] [Warning] Stopped training because there are no more leaves that meet the split requirements\n",
      "[LightGBM] [Warning] Stopped training because there are no more leaves that meet the split requirements\n",
      "[LightGBM] [Warning] Stopped training because there are no more leaves that meet the split requirements\n",
      "[LightGBM] [Warning] Stopped training because there are no more leaves that meet the split requirements\n",
      "[LightGBM] [Warning] Stopped training because there are no more leaves that meet the split requirements\n",
      "[LightGBM] [Warning] Stopped training because there are no more leaves that meet the split requirements\n",
      "[LightGBM] [Warning] Stopped training because there are no more leaves that meet the split requirements\n",
      "[LightGBM] [Warning] Stopped training because there are no more leaves that meet the split requirements\n",
      "[LightGBM] [Warning] Stopped training because there are no more leaves that meet the split requirements\n",
      "[LightGBM] [Warning] Stopped training because there are no more leaves that meet the split requirements\n",
      "[LightGBM] [Warning] Stopped training because there are no more leaves that meet the split requirements\n",
      "[LightGBM] [Warning] Stopped training because there are no more leaves that meet the split requirements\n",
      "[LightGBM] [Warning] Stopped training because there are no more leaves that meet the split requirements\n",
      "[LightGBM] [Warning] Stopped training because there are no more leaves that meet the split requirements\n",
      "[LightGBM] [Warning] Stopped training because there are no more leaves that meet the split requirements\n",
      "[LightGBM] [Warning] Stopped training because there are no more leaves that meet the split requirements\n",
      "[LightGBM] [Warning] Stopped training because there are no more leaves that meet the split requirements\n",
      "[LightGBM] [Warning] Stopped training because there are no more leaves that meet the split requirements\n",
      "[LightGBM] [Warning] Stopped training because there are no more leaves that meet the split requirements\n",
      "[LightGBM] [Warning] Stopped training because there are no more leaves that meet the split requirements\n",
      "[LightGBM] [Warning] Stopped training because there are no more leaves that meet the split requirements\n",
      "[LightGBM] [Warning] Stopped training because there are no more leaves that meet the split requirements\n",
      "[LightGBM] [Warning] Stopped training because there are no more leaves that meet the split requirements\n",
      "[LightGBM] [Warning] Stopped training because there are no more leaves that meet the split requirements\n",
      "[LightGBM] [Warning] Stopped training because there are no more leaves that meet the split requirements\n",
      "[LightGBM] [Warning] Stopped training because there are no more leaves that meet the split requirements\n",
      "[LightGBM] [Warning] Stopped training because there are no more leaves that meet the split requirements\n",
      "[LightGBM] [Warning] Stopped training because there are no more leaves that meet the split requirements\n",
      "[LightGBM] [Warning] Stopped training because there are no more leaves that meet the split requirements\n",
      "[LightGBM] [Warning] Stopped training because there are no more leaves that meet the split requirements\n",
      "[LightGBM] [Warning] Stopped training because there are no more leaves that meet the split requirements\n",
      "[LightGBM] [Warning] Stopped training because there are no more leaves that meet the split requirements\n",
      "[LightGBM] [Warning] Stopped training because there are no more leaves that meet the split requirements\n",
      "[LightGBM] [Warning] Stopped training because there are no more leaves that meet the split requirements\n",
      "[LightGBM] [Warning] Stopped training because there are no more leaves that meet the split requirements\n",
      "[LightGBM] [Warning] Stopped training because there are no more leaves that meet the split requirements\n",
      "[LightGBM] [Warning] Stopped training because there are no more leaves that meet the split requirements\n",
      "[LightGBM] [Warning] Stopped training because there are no more leaves that meet the split requirements\n",
      "[LightGBM] [Warning] Stopped training because there are no more leaves that meet the split requirements\n",
      "[LightGBM] [Warning] Stopped training because there are no more leaves that meet the split requirements\n",
      "[LightGBM] [Warning] Stopped training because there are no more leaves that meet the split requirements\n",
      "[LightGBM] [Warning] Stopped training because there are no more leaves that meet the split requirements\n",
      "[LightGBM] [Warning] Stopped training because there are no more leaves that meet the split requirements\n",
      "[LightGBM] [Warning] Stopped training because there are no more leaves that meet the split requirements\n",
      "[LightGBM] [Warning] Stopped training because there are no more leaves that meet the split requirements\n",
      "[LightGBM] [Warning] Stopped training because there are no more leaves that meet the split requirements\n",
      "[LightGBM] [Warning] Stopped training because there are no more leaves that meet the split requirements\n",
      "[LightGBM] [Warning] Stopped training because there are no more leaves that meet the split requirements\n",
      "[LightGBM] [Warning] Stopped training because there are no more leaves that meet the split requirements\n",
      "[LightGBM] [Warning] Stopped training because there are no more leaves that meet the split requirements\n",
      "[LightGBM] [Warning] Stopped training because there are no more leaves that meet the split requirements\n",
      "[LightGBM] [Warning] Stopped training because there are no more leaves that meet the split requirements\n",
      "[LightGBM] [Warning] Stopped training because there are no more leaves that meet the split requirements\n",
      "[LightGBM] [Warning] Stopped training because there are no more leaves that meet the split requirements\n",
      "[LightGBM] [Warning] Stopped training because there are no more leaves that meet the split requirements\n",
      "[LightGBM] [Warning] Stopped training because there are no more leaves that meet the split requirements\n",
      "[LightGBM] [Warning] There are no meaningful features which satisfy the provided configuration. Decreasing Dataset parameters min_data_in_bin or min_data_in_leaf and re-constructing Dataset might resolve this warning.\n",
      "[LightGBM] [Info] Number of positive: 1, number of negative: 1\n",
      "[LightGBM] [Info] This is the GPU trainer!!\n",
      "[LightGBM] [Info] Total Bins 0\n",
      "[LightGBM] [Info] Number of data points in the train set: 2, number of used features: 0\n",
      "[LightGBM] [Info] Using GPU Device: Intel(R) UHD Graphics P630, Vendor: Intel(R) Corporation\n",
      "[LightGBM] [Info] Compiling OpenCL Kernel with 16 bins...\n",
      "[LightGBM] [Info] GPU programs have been built\n",
      "[LightGBM] [Warning] GPU acceleration is disabled because no non-trivial dense features can be found\n",
      "[LightGBM] [Info] [binary:BoostFromScore]: pavg=0.500000 -> initscore=0.000000\n",
      "[LightGBM] [Warning] Stopped training because there are no more leaves that meet the split requirements\n",
      "[LightGBM] [Warning] Stopped training because there are no more leaves that meet the split requirements\n",
      "[LightGBM] [Warning] Stopped training because there are no more leaves that meet the split requirements\n",
      "[LightGBM] [Warning] Stopped training because there are no more leaves that meet the split requirements\n",
      "[LightGBM] [Warning] Stopped training because there are no more leaves that meet the split requirements\n",
      "[LightGBM] [Warning] Stopped training because there are no more leaves that meet the split requirements\n",
      "[LightGBM] [Warning] Stopped training because there are no more leaves that meet the split requirements\n",
      "[LightGBM] [Warning] Stopped training because there are no more leaves that meet the split requirements\n",
      "[LightGBM] [Warning] Stopped training because there are no more leaves that meet the split requirements\n",
      "[LightGBM] [Warning] Stopped training because there are no more leaves that meet the split requirements\n",
      "[LightGBM] [Warning] Stopped training because there are no more leaves that meet the split requirements\n",
      "[LightGBM] [Warning] Stopped training because there are no more leaves that meet the split requirements\n",
      "[LightGBM] [Warning] Stopped training because there are no more leaves that meet the split requirements\n",
      "[LightGBM] [Warning] Stopped training because there are no more leaves that meet the split requirements\n",
      "[LightGBM] [Warning] Stopped training because there are no more leaves that meet the split requirements\n",
      "[LightGBM] [Warning] Stopped training because there are no more leaves that meet the split requirements\n",
      "[LightGBM] [Warning] Stopped training because there are no more leaves that meet the split requirements\n",
      "[LightGBM] [Warning] Stopped training because there are no more leaves that meet the split requirements\n",
      "[LightGBM] [Warning] Stopped training because there are no more leaves that meet the split requirements\n",
      "[LightGBM] [Warning] Stopped training because there are no more leaves that meet the split requirements\n",
      "[LightGBM] [Warning] Stopped training because there are no more leaves that meet the split requirements\n",
      "[LightGBM] [Warning] Stopped training because there are no more leaves that meet the split requirements\n",
      "[LightGBM] [Warning] Stopped training because there are no more leaves that meet the split requirements\n",
      "[LightGBM] [Warning] Stopped training because there are no more leaves that meet the split requirements\n",
      "[LightGBM] [Warning] Stopped training because there are no more leaves that meet the split requirements\n",
      "[LightGBM] [Warning] Stopped training because there are no more leaves that meet the split requirements\n",
      "[LightGBM] [Warning] Stopped training because there are no more leaves that meet the split requirements\n",
      "[LightGBM] [Warning] Stopped training because there are no more leaves that meet the split requirements\n",
      "[LightGBM] [Warning] Stopped training because there are no more leaves that meet the split requirements\n",
      "[LightGBM] [Warning] Stopped training because there are no more leaves that meet the split requirements\n",
      "[LightGBM] [Warning] Stopped training because there are no more leaves that meet the split requirements\n",
      "[LightGBM] [Warning] Stopped training because there are no more leaves that meet the split requirements\n",
      "[LightGBM] [Warning] Stopped training because there are no more leaves that meet the split requirements\n",
      "[LightGBM] [Warning] Stopped training because there are no more leaves that meet the split requirements\n",
      "[LightGBM] [Warning] Stopped training because there are no more leaves that meet the split requirements\n",
      "[LightGBM] [Warning] Stopped training because there are no more leaves that meet the split requirements\n",
      "[LightGBM] [Warning] Stopped training because there are no more leaves that meet the split requirements\n",
      "[LightGBM] [Warning] Stopped training because there are no more leaves that meet the split requirements\n",
      "[LightGBM] [Warning] Stopped training because there are no more leaves that meet the split requirements\n",
      "[LightGBM] [Warning] Stopped training because there are no more leaves that meet the split requirements\n",
      "[LightGBM] [Warning] Stopped training because there are no more leaves that meet the split requirements\n",
      "[LightGBM] [Warning] Stopped training because there are no more leaves that meet the split requirements\n",
      "[LightGBM] [Warning] Stopped training because there are no more leaves that meet the split requirements\n",
      "[LightGBM] [Warning] Stopped training because there are no more leaves that meet the split requirements\n",
      "[LightGBM] [Warning] Stopped training because there are no more leaves that meet the split requirements\n",
      "[LightGBM] [Warning] Stopped training because there are no more leaves that meet the split requirements\n",
      "[LightGBM] [Warning] Stopped training because there are no more leaves that meet the split requirements\n",
      "[LightGBM] [Warning] Stopped training because there are no more leaves that meet the split requirements\n",
      "[LightGBM] [Warning] Stopped training because there are no more leaves that meet the split requirements\n",
      "[LightGBM] [Warning] Stopped training because there are no more leaves that meet the split requirements\n",
      "[LightGBM] [Warning] Stopped training because there are no more leaves that meet the split requirements\n",
      "[LightGBM] [Warning] Stopped training because there are no more leaves that meet the split requirements\n",
      "[LightGBM] [Warning] Stopped training because there are no more leaves that meet the split requirements\n",
      "[LightGBM] [Warning] Stopped training because there are no more leaves that meet the split requirements\n",
      "[LightGBM] [Warning] Stopped training because there are no more leaves that meet the split requirements\n",
      "[LightGBM] [Warning] Stopped training because there are no more leaves that meet the split requirements\n",
      "[LightGBM] [Warning] Stopped training because there are no more leaves that meet the split requirements\n",
      "[LightGBM] [Warning] Stopped training because there are no more leaves that meet the split requirements\n",
      "[LightGBM] [Warning] Stopped training because there are no more leaves that meet the split requirements\n",
      "[LightGBM] [Warning] Stopped training because there are no more leaves that meet the split requirements\n",
      "[LightGBM] [Warning] Stopped training because there are no more leaves that meet the split requirements\n",
      "[LightGBM] [Warning] Stopped training because there are no more leaves that meet the split requirements\n",
      "[LightGBM] [Warning] Stopped training because there are no more leaves that meet the split requirements\n",
      "[LightGBM] [Warning] Stopped training because there are no more leaves that meet the split requirements\n",
      "[LightGBM] [Warning] Stopped training because there are no more leaves that meet the split requirements\n",
      "[LightGBM] [Warning] Stopped training because there are no more leaves that meet the split requirements\n",
      "[LightGBM] [Warning] Stopped training because there are no more leaves that meet the split requirements\n",
      "[LightGBM] [Warning] Stopped training because there are no more leaves that meet the split requirements\n",
      "[LightGBM] [Warning] Stopped training because there are no more leaves that meet the split requirements\n",
      "[LightGBM] [Warning] Stopped training because there are no more leaves that meet the split requirements\n",
      "[LightGBM] [Warning] Stopped training because there are no more leaves that meet the split requirements\n",
      "[LightGBM] [Warning] Stopped training because there are no more leaves that meet the split requirements\n",
      "[LightGBM] [Warning] Stopped training because there are no more leaves that meet the split requirements\n",
      "[LightGBM] [Warning] Stopped training because there are no more leaves that meet the split requirements\n",
      "[LightGBM] [Warning] Stopped training because there are no more leaves that meet the split requirements\n",
      "[LightGBM] [Warning] Stopped training because there are no more leaves that meet the split requirements\n",
      "[LightGBM] [Warning] Stopped training because there are no more leaves that meet the split requirements\n",
      "[LightGBM] [Warning] Stopped training because there are no more leaves that meet the split requirements\n",
      "[LightGBM] [Warning] Stopped training because there are no more leaves that meet the split requirements\n",
      "[LightGBM] [Warning] Stopped training because there are no more leaves that meet the split requirements\n",
      "[LightGBM] [Warning] Stopped training because there are no more leaves that meet the split requirements\n",
      "[LightGBM] [Warning] Stopped training because there are no more leaves that meet the split requirements\n",
      "[LightGBM] [Warning] Stopped training because there are no more leaves that meet the split requirements\n",
      "[LightGBM] [Warning] Stopped training because there are no more leaves that meet the split requirements\n",
      "[LightGBM] [Warning] Stopped training because there are no more leaves that meet the split requirements\n",
      "[LightGBM] [Warning] Stopped training because there are no more leaves that meet the split requirements\n",
      "[LightGBM] [Warning] Stopped training because there are no more leaves that meet the split requirements\n",
      "[LightGBM] [Warning] Stopped training because there are no more leaves that meet the split requirements\n",
      "[LightGBM] [Warning] Stopped training because there are no more leaves that meet the split requirements\n",
      "[LightGBM] [Warning] Stopped training because there are no more leaves that meet the split requirements\n",
      "[LightGBM] [Warning] Stopped training because there are no more leaves that meet the split requirements\n",
      "[LightGBM] [Warning] Stopped training because there are no more leaves that meet the split requirements\n",
      "[LightGBM] [Warning] Stopped training because there are no more leaves that meet the split requirements\n",
      "[LightGBM] [Warning] Stopped training because there are no more leaves that meet the split requirements\n",
      "[LightGBM] [Warning] Stopped training because there are no more leaves that meet the split requirements\n",
      "[LightGBM] [Warning] Stopped training because there are no more leaves that meet the split requirements\n",
      "[LightGBM] [Warning] Stopped training because there are no more leaves that meet the split requirements\n",
      "[LightGBM] [Warning] Stopped training because there are no more leaves that meet the split requirements\n",
      "[LightGBM] [Warning] Stopped training because there are no more leaves that meet the split requirements\n",
      "[LightGBM] [Warning] Stopped training because there are no more leaves that meet the split requirements\n"
     ]
    },
    {
     "name": "stderr",
     "output_type": "stream",
     "text": [
      "WARNING:root:Malformed experiment '819906245614309265'. Detailed error Yaml file 'H:\\masterarbeit_python\\mlruns\\819906245614309265\\meta.yaml' does not exist.\n",
      "Traceback (most recent call last):\n",
      "  File \"C:\\Users\\ge35yay\\.conda\\envs\\venv_masterarbeit_RMT\\Lib\\site-packages\\mlflow\\store\\tracking\\file_store.py\", line 317, in search_experiments\n",
      "    exp = self._get_experiment(exp_id, view_type)\n",
      "          ^^^^^^^^^^^^^^^^^^^^^^^^^^^^^^^^^^^^^^^\n",
      "  File \"C:\\Users\\ge35yay\\.conda\\envs\\venv_masterarbeit_RMT\\Lib\\site-packages\\mlflow\\store\\tracking\\file_store.py\", line 410, in _get_experiment\n",
      "    meta = FileStore._read_yaml(experiment_dir, FileStore.META_DATA_FILE_NAME)\n",
      "           ^^^^^^^^^^^^^^^^^^^^^^^^^^^^^^^^^^^^^^^^^^^^^^^^^^^^^^^^^^^^^^^^^^^\n",
      "  File \"C:\\Users\\ge35yay\\.conda\\envs\\venv_masterarbeit_RMT\\Lib\\site-packages\\mlflow\\store\\tracking\\file_store.py\", line 1341, in _read_yaml\n",
      "    return _read_helper(root, file_name, attempts_remaining=retries)\n",
      "           ^^^^^^^^^^^^^^^^^^^^^^^^^^^^^^^^^^^^^^^^^^^^^^^^^^^^^^^^^\n",
      "  File \"C:\\Users\\ge35yay\\.conda\\envs\\venv_masterarbeit_RMT\\Lib\\site-packages\\mlflow\\store\\tracking\\file_store.py\", line 1334, in _read_helper\n",
      "    result = read_yaml(root, file_name)\n",
      "             ^^^^^^^^^^^^^^^^^^^^^^^^^^\n",
      "  File \"C:\\Users\\ge35yay\\.conda\\envs\\venv_masterarbeit_RMT\\Lib\\site-packages\\mlflow\\utils\\file_utils.py\", line 309, in read_yaml\n",
      "    raise MissingConfigException(f\"Yaml file '{file_path}' does not exist.\")\n",
      "mlflow.exceptions.MissingConfigException: Yaml file 'H:\\masterarbeit_python\\mlruns\\819906245614309265\\meta.yaml' does not exist.\n",
      "2025/10/08 22:47:58 INFO mlflow.tracking.fluent: Experiment with name 'SIZA_zero_shot_data_analysis_binary' does not exist. Creating a new experiment.\n",
      "WARNING:root:Malformed experiment '819906245614309265'. Detailed error Yaml file 'H:\\masterarbeit_python\\mlruns\\819906245614309265\\meta.yaml' does not exist.\n",
      "Traceback (most recent call last):\n",
      "  File \"C:\\Users\\ge35yay\\.conda\\envs\\venv_masterarbeit_RMT\\Lib\\site-packages\\mlflow\\store\\tracking\\file_store.py\", line 317, in search_experiments\n",
      "    exp = self._get_experiment(exp_id, view_type)\n",
      "          ^^^^^^^^^^^^^^^^^^^^^^^^^^^^^^^^^^^^^^^\n",
      "  File \"C:\\Users\\ge35yay\\.conda\\envs\\venv_masterarbeit_RMT\\Lib\\site-packages\\mlflow\\store\\tracking\\file_store.py\", line 410, in _get_experiment\n",
      "    meta = FileStore._read_yaml(experiment_dir, FileStore.META_DATA_FILE_NAME)\n",
      "           ^^^^^^^^^^^^^^^^^^^^^^^^^^^^^^^^^^^^^^^^^^^^^^^^^^^^^^^^^^^^^^^^^^^\n",
      "  File \"C:\\Users\\ge35yay\\.conda\\envs\\venv_masterarbeit_RMT\\Lib\\site-packages\\mlflow\\store\\tracking\\file_store.py\", line 1341, in _read_yaml\n",
      "    return _read_helper(root, file_name, attempts_remaining=retries)\n",
      "           ^^^^^^^^^^^^^^^^^^^^^^^^^^^^^^^^^^^^^^^^^^^^^^^^^^^^^^^^^\n",
      "  File \"C:\\Users\\ge35yay\\.conda\\envs\\venv_masterarbeit_RMT\\Lib\\site-packages\\mlflow\\store\\tracking\\file_store.py\", line 1334, in _read_helper\n",
      "    result = read_yaml(root, file_name)\n",
      "             ^^^^^^^^^^^^^^^^^^^^^^^^^^\n",
      "  File \"C:\\Users\\ge35yay\\.conda\\envs\\venv_masterarbeit_RMT\\Lib\\site-packages\\mlflow\\utils\\file_utils.py\", line 309, in read_yaml\n",
      "    raise MissingConfigException(f\"Yaml file '{file_path}' does not exist.\")\n",
      "mlflow.exceptions.MissingConfigException: Yaml file 'H:\\masterarbeit_python\\mlruns\\819906245614309265\\meta.yaml' does not exist.\n"
     ]
    }
   ],
   "source": [
    "experiment = setup(features_df_training_normalized, target='Label', log_experiment = True, experiment_name = experiment_name, use_gpu = True)"
   ]
  },
  {
   "cell_type": "code",
   "execution_count": 24,
   "id": "f80bef15-a376-490d-803c-05e8b586a9cd",
   "metadata": {},
   "outputs": [
    {
     "data": {
      "text/plain": [
       "297728    damaged\n",
       "431460    damaged\n",
       "661966    damaged\n",
       "122213    healthy\n",
       "590669    damaged\n",
       "           ...   \n",
       "905384    damaged\n",
       "832656    damaged\n",
       "344322    damaged\n",
       "908153    damaged\n",
       "739325    damaged\n",
       "Name: Label, Length: 228742, dtype: category\n",
       "Categories (2, object): ['damaged', 'healthy']"
      ]
     },
     "execution_count": 24,
     "metadata": {},
     "output_type": "execute_result"
    }
   ],
   "source": [
    "experiment.y_test"
   ]
  },
  {
   "cell_type": "markdown",
   "id": "b7d6300a-a54c-480c-8735-026fdbb0fd45",
   "metadata": {
    "jp-MarkdownHeadingCollapsed": true
   },
   "source": [
    "## Add aditional metrics"
   ]
  },
  {
   "cell_type": "code",
   "execution_count": 25,
   "id": "cdb3d97b-cb84-42ed-b00b-ec01fcc7bfaa",
   "metadata": {},
   "outputs": [
    {
     "data": {
      "text/plain": [
       "Name                                                          Log Loss\n",
       "Display Name                                                  Log Loss\n",
       "Score Function       <pycaret.internal.metrics.EncodedDecodedLabels...\n",
       "Scorer               make_scorer(log_loss, greater_is_better=False,...\n",
       "Target                                                      pred_proba\n",
       "Args                                                                {}\n",
       "Greater is Better                                                False\n",
       "Multiclass                                                        True\n",
       "Custom                                                            True\n",
       "Name: log_loss, dtype: object"
      ]
     },
     "execution_count": 25,
     "metadata": {},
     "output_type": "execute_result"
    }
   ],
   "source": [
    "# Binary classification metrics\n",
    "add_metric('balanced_acc', 'Balance Acc', balanced_accuracy_score, target='pred', greater_is_better=True)\n",
    "add_metric('hamming_loss', 'Hamming Loss', hamming_loss, target='pred', greater_is_better=False)\n",
    "add_metric('jaccard_score', 'Jaccard Score', jaccard_score, target='pred', greater_is_better=True)\n",
    "add_metric('log_loss', 'Log Loss', log_loss, target='pred_proba', greater_is_better=False)"
   ]
  },
  {
   "cell_type": "raw",
   "id": "fe742ef7-ec02-4e73-b2a5-f2b36eee0066",
   "metadata": {},
   "source": [
    "# Macro\n",
    "add_metric('precision_macro', 'Precision Macro', \n",
    "           lambda y, y_pred: precision_score(y, y_pred, average='macro'), \n",
    "           greater_is_better=True)\n",
    "\n",
    "add_metric('recall_macro', 'Recall Macro', \n",
    "           lambda y, y_pred: recall_score(y, y_pred, average='macro'), \n",
    "           greater_is_better=True)\n",
    "\n",
    "add_metric('f1_macro', 'F1 Macro', \n",
    "           lambda y, y_pred: f1_score(y, y_pred, average='macro'), \n",
    "           greater_is_better=True)\n",
    "\n",
    "# Micro\n",
    "add_metric('precision_micro', 'Precision Micro', \n",
    "           lambda y, y_pred: precision_score(y, y_pred, average='micro'), \n",
    "           greater_is_better=True)\n",
    "\n",
    "add_metric('recall_micro', 'Recall Micro', \n",
    "           lambda y, y_pred: recall_score(y, y_pred, average='micro'), \n",
    "           greater_is_better=True)\n",
    "\n",
    "add_metric('f1_micro', 'F1 Micro', \n",
    "           lambda y, y_pred: f1_score(y, y_pred, average='micro'), \n",
    "           greater_is_better=True)\n",
    "\n",
    "# Weighted\n",
    "add_metric('precision_weighted', 'Precision Weighted', \n",
    "           lambda y, y_pred: precision_score(y, y_pred, average='weighted'), \n",
    "           greater_is_better=True)\n",
    "\n",
    "add_metric('recall_weighted', 'Recall Weighted', \n",
    "           lambda y, y_pred: recall_score(y, y_pred, average='weighted'), \n",
    "           greater_is_better=True)\n",
    "\n",
    "add_metric('f1_weighted', 'F1 Weighted', \n",
    "           lambda y, y_pred: f1_score(y, y_pred, average='weighted'), \n",
    "           greater_is_better=True)"
   ]
  },
  {
   "cell_type": "code",
   "execution_count": 26,
   "id": "c9faa1a3-cf7b-46ea-84b4-6b15167e1e68",
   "metadata": {},
   "outputs": [
    {
     "data": {
      "text/html": [
       "<div>\n",
       "<style scoped>\n",
       "    .dataframe tbody tr th:only-of-type {\n",
       "        vertical-align: middle;\n",
       "    }\n",
       "\n",
       "    .dataframe tbody tr th {\n",
       "        vertical-align: top;\n",
       "    }\n",
       "\n",
       "    .dataframe thead th {\n",
       "        text-align: right;\n",
       "    }\n",
       "</style>\n",
       "<table border=\"1\" class=\"dataframe\">\n",
       "  <thead>\n",
       "    <tr style=\"text-align: right;\">\n",
       "      <th></th>\n",
       "      <th>Name</th>\n",
       "      <th>Display Name</th>\n",
       "      <th>Score Function</th>\n",
       "      <th>Scorer</th>\n",
       "      <th>Target</th>\n",
       "      <th>Args</th>\n",
       "      <th>Greater is Better</th>\n",
       "      <th>Multiclass</th>\n",
       "      <th>Custom</th>\n",
       "    </tr>\n",
       "    <tr>\n",
       "      <th>ID</th>\n",
       "      <th></th>\n",
       "      <th></th>\n",
       "      <th></th>\n",
       "      <th></th>\n",
       "      <th></th>\n",
       "      <th></th>\n",
       "      <th></th>\n",
       "      <th></th>\n",
       "      <th></th>\n",
       "    </tr>\n",
       "  </thead>\n",
       "  <tbody>\n",
       "    <tr>\n",
       "      <th>acc</th>\n",
       "      <td>Accuracy</td>\n",
       "      <td>Accuracy</td>\n",
       "      <td>&lt;function accuracy_score at 0x0000021DCA16F380&gt;</td>\n",
       "      <td>accuracy</td>\n",
       "      <td>pred</td>\n",
       "      <td>{}</td>\n",
       "      <td>True</td>\n",
       "      <td>True</td>\n",
       "      <td>False</td>\n",
       "    </tr>\n",
       "    <tr>\n",
       "      <th>auc</th>\n",
       "      <td>AUC</td>\n",
       "      <td>AUC</td>\n",
       "      <td>&lt;pycaret.internal.metrics.BinaryMulticlassScor...</td>\n",
       "      <td>make_scorer(roc_auc_score, response_method=('d...</td>\n",
       "      <td>pred_proba</td>\n",
       "      <td>{'average': 'weighted', 'multi_class': 'ovr'}</td>\n",
       "      <td>True</td>\n",
       "      <td>True</td>\n",
       "      <td>False</td>\n",
       "    </tr>\n",
       "    <tr>\n",
       "      <th>recall</th>\n",
       "      <td>Recall</td>\n",
       "      <td>Recall</td>\n",
       "      <td>&lt;pycaret.internal.metrics.BinaryMulticlassScor...</td>\n",
       "      <td>make_scorer(recall_score, response_method='pre...</td>\n",
       "      <td>pred</td>\n",
       "      <td>{'average': 'weighted'}</td>\n",
       "      <td>True</td>\n",
       "      <td>True</td>\n",
       "      <td>False</td>\n",
       "    </tr>\n",
       "    <tr>\n",
       "      <th>precision</th>\n",
       "      <td>Precision</td>\n",
       "      <td>Prec.</td>\n",
       "      <td>&lt;pycaret.internal.metrics.BinaryMulticlassScor...</td>\n",
       "      <td>make_scorer(precision_score, response_method='...</td>\n",
       "      <td>pred</td>\n",
       "      <td>{'average': 'weighted'}</td>\n",
       "      <td>True</td>\n",
       "      <td>True</td>\n",
       "      <td>False</td>\n",
       "    </tr>\n",
       "    <tr>\n",
       "      <th>f1</th>\n",
       "      <td>F1</td>\n",
       "      <td>F1</td>\n",
       "      <td>&lt;pycaret.internal.metrics.BinaryMulticlassScor...</td>\n",
       "      <td>make_scorer(f1_score, response_method='predict...</td>\n",
       "      <td>pred</td>\n",
       "      <td>{'average': 'weighted'}</td>\n",
       "      <td>True</td>\n",
       "      <td>True</td>\n",
       "      <td>False</td>\n",
       "    </tr>\n",
       "    <tr>\n",
       "      <th>kappa</th>\n",
       "      <td>Kappa</td>\n",
       "      <td>Kappa</td>\n",
       "      <td>&lt;function cohen_kappa_score at 0x0000021DCA16F...</td>\n",
       "      <td>make_scorer(cohen_kappa_score, response_method...</td>\n",
       "      <td>pred</td>\n",
       "      <td>{}</td>\n",
       "      <td>True</td>\n",
       "      <td>True</td>\n",
       "      <td>False</td>\n",
       "    </tr>\n",
       "    <tr>\n",
       "      <th>mcc</th>\n",
       "      <td>MCC</td>\n",
       "      <td>MCC</td>\n",
       "      <td>&lt;function matthews_corrcoef at 0x0000021DCA16F...</td>\n",
       "      <td>make_scorer(matthews_corrcoef, response_method...</td>\n",
       "      <td>pred</td>\n",
       "      <td>{}</td>\n",
       "      <td>True</td>\n",
       "      <td>True</td>\n",
       "      <td>False</td>\n",
       "    </tr>\n",
       "    <tr>\n",
       "      <th>balanced_acc</th>\n",
       "      <td>Balance Acc</td>\n",
       "      <td>Balance Acc</td>\n",
       "      <td>&lt;pycaret.internal.metrics.EncodedDecodedLabels...</td>\n",
       "      <td>make_scorer(balanced_accuracy_score, response_...</td>\n",
       "      <td>pred</td>\n",
       "      <td>{}</td>\n",
       "      <td>True</td>\n",
       "      <td>True</td>\n",
       "      <td>True</td>\n",
       "    </tr>\n",
       "    <tr>\n",
       "      <th>hamming_loss</th>\n",
       "      <td>Hamming Loss</td>\n",
       "      <td>Hamming Loss</td>\n",
       "      <td>&lt;pycaret.internal.metrics.EncodedDecodedLabels...</td>\n",
       "      <td>make_scorer(hamming_loss, greater_is_better=Fa...</td>\n",
       "      <td>pred</td>\n",
       "      <td>{}</td>\n",
       "      <td>False</td>\n",
       "      <td>True</td>\n",
       "      <td>True</td>\n",
       "    </tr>\n",
       "    <tr>\n",
       "      <th>jaccard_score</th>\n",
       "      <td>Jaccard Score</td>\n",
       "      <td>Jaccard Score</td>\n",
       "      <td>&lt;pycaret.internal.metrics.EncodedDecodedLabels...</td>\n",
       "      <td>make_scorer(jaccard_score, response_method='pr...</td>\n",
       "      <td>pred</td>\n",
       "      <td>{}</td>\n",
       "      <td>True</td>\n",
       "      <td>True</td>\n",
       "      <td>True</td>\n",
       "    </tr>\n",
       "    <tr>\n",
       "      <th>log_loss</th>\n",
       "      <td>Log Loss</td>\n",
       "      <td>Log Loss</td>\n",
       "      <td>&lt;pycaret.internal.metrics.EncodedDecodedLabels...</td>\n",
       "      <td>make_scorer(log_loss, greater_is_better=False,...</td>\n",
       "      <td>pred_proba</td>\n",
       "      <td>{}</td>\n",
       "      <td>False</td>\n",
       "      <td>True</td>\n",
       "      <td>True</td>\n",
       "    </tr>\n",
       "  </tbody>\n",
       "</table>\n",
       "</div>"
      ],
      "text/plain": [
       "                        Name   Display Name  \\\n",
       "ID                                            \n",
       "acc                 Accuracy       Accuracy   \n",
       "auc                      AUC            AUC   \n",
       "recall                Recall         Recall   \n",
       "precision          Precision          Prec.   \n",
       "f1                        F1             F1   \n",
       "kappa                  Kappa          Kappa   \n",
       "mcc                      MCC            MCC   \n",
       "balanced_acc     Balance Acc    Balance Acc   \n",
       "hamming_loss    Hamming Loss   Hamming Loss   \n",
       "jaccard_score  Jaccard Score  Jaccard Score   \n",
       "log_loss            Log Loss       Log Loss   \n",
       "\n",
       "                                                  Score Function  \\\n",
       "ID                                                                 \n",
       "acc              <function accuracy_score at 0x0000021DCA16F380>   \n",
       "auc            <pycaret.internal.metrics.BinaryMulticlassScor...   \n",
       "recall         <pycaret.internal.metrics.BinaryMulticlassScor...   \n",
       "precision      <pycaret.internal.metrics.BinaryMulticlassScor...   \n",
       "f1             <pycaret.internal.metrics.BinaryMulticlassScor...   \n",
       "kappa          <function cohen_kappa_score at 0x0000021DCA16F...   \n",
       "mcc            <function matthews_corrcoef at 0x0000021DCA16F...   \n",
       "balanced_acc   <pycaret.internal.metrics.EncodedDecodedLabels...   \n",
       "hamming_loss   <pycaret.internal.metrics.EncodedDecodedLabels...   \n",
       "jaccard_score  <pycaret.internal.metrics.EncodedDecodedLabels...   \n",
       "log_loss       <pycaret.internal.metrics.EncodedDecodedLabels...   \n",
       "\n",
       "                                                          Scorer      Target  \\\n",
       "ID                                                                             \n",
       "acc                                                     accuracy        pred   \n",
       "auc            make_scorer(roc_auc_score, response_method=('d...  pred_proba   \n",
       "recall         make_scorer(recall_score, response_method='pre...        pred   \n",
       "precision      make_scorer(precision_score, response_method='...        pred   \n",
       "f1             make_scorer(f1_score, response_method='predict...        pred   \n",
       "kappa          make_scorer(cohen_kappa_score, response_method...        pred   \n",
       "mcc            make_scorer(matthews_corrcoef, response_method...        pred   \n",
       "balanced_acc   make_scorer(balanced_accuracy_score, response_...        pred   \n",
       "hamming_loss   make_scorer(hamming_loss, greater_is_better=Fa...        pred   \n",
       "jaccard_score  make_scorer(jaccard_score, response_method='pr...        pred   \n",
       "log_loss       make_scorer(log_loss, greater_is_better=False,...  pred_proba   \n",
       "\n",
       "                                                        Args  \\\n",
       "ID                                                             \n",
       "acc                                                       {}   \n",
       "auc            {'average': 'weighted', 'multi_class': 'ovr'}   \n",
       "recall                               {'average': 'weighted'}   \n",
       "precision                            {'average': 'weighted'}   \n",
       "f1                                   {'average': 'weighted'}   \n",
       "kappa                                                     {}   \n",
       "mcc                                                       {}   \n",
       "balanced_acc                                              {}   \n",
       "hamming_loss                                              {}   \n",
       "jaccard_score                                             {}   \n",
       "log_loss                                                  {}   \n",
       "\n",
       "               Greater is Better  Multiclass  Custom  \n",
       "ID                                                    \n",
       "acc                         True        True   False  \n",
       "auc                         True        True   False  \n",
       "recall                      True        True   False  \n",
       "precision                   True        True   False  \n",
       "f1                          True        True   False  \n",
       "kappa                       True        True   False  \n",
       "mcc                         True        True   False  \n",
       "balanced_acc                True        True    True  \n",
       "hamming_loss               False        True    True  \n",
       "jaccard_score               True        True    True  \n",
       "log_loss                   False        True    True  "
      ]
     },
     "execution_count": 26,
     "metadata": {},
     "output_type": "execute_result"
    }
   ],
   "source": [
    "all_metrics = get_metrics()\n",
    "all_metrics"
   ]
  },
  {
   "cell_type": "markdown",
   "id": "81de3f05-6198-4ae2-adba-d294aee48b08",
   "metadata": {},
   "source": [
    "## Light Gradient Boosting Machine"
   ]
  },
  {
   "cell_type": "code",
   "execution_count": 27,
   "id": "d4dae2f0-2275-46d5-9ad2-aee53bf72681",
   "metadata": {},
   "outputs": [],
   "source": [
    "bestParamsLIGHTGBM = {\n",
    "    'bagging_fraction': 0.8455104741417432,\n",
    "    'bagging_freq': 0,\n",
    "    'boosting_type': 'gbdt',\n",
    "    'class_weight': None,\n",
    "    'colsample_bytree': 1.0,\n",
    "    'device': 'gpu',\n",
    "    'feature_fraction': 0.42947671039481,\n",
    "    'importance_type': 'split',\n",
    "    'learning_rate': 0.47910287588557177,\n",
    "    'max_depth': -1,\n",
    "    'min_child_samples': 41,\n",
    "    'min_child_weight': 0.001,\n",
    "    'min_split_gain': 0.23016472358397666,\n",
    "    'n_estimators': 245,\n",
    "    'n_jobs': -1,\n",
    "    'num_leaves': 250,\n",
    "    'objective': None,\n",
    "    'random_state': 1768,\n",
    "    'reg_alpha': 0.00039695268896179983,\n",
    "    'reg_lambda': 3.6071600095045767e-06,\n",
    "    'subsample': 1.0,\n",
    "    'subsample_for_bin': 200000,\n",
    "    'subsample_freq': 0\n",
    "}\n"
   ]
  },
  {
   "cell_type": "code",
   "execution_count": 28,
   "id": "ca0ce27b-40e1-468f-945e-ee949316a92d",
   "metadata": {},
   "outputs": [
    {
     "data": {
      "text/html": [],
      "text/plain": [
       "<IPython.core.display.HTML object>"
      ]
     },
     "metadata": {},
     "output_type": "display_data"
    },
    {
     "data": {
      "text/html": [
       "<style type=\"text/css\">\n",
       "#T_c8b44_row10_col0, #T_c8b44_row10_col1, #T_c8b44_row10_col2, #T_c8b44_row10_col3, #T_c8b44_row10_col4, #T_c8b44_row10_col5, #T_c8b44_row10_col6, #T_c8b44_row10_col7, #T_c8b44_row10_col8, #T_c8b44_row10_col9, #T_c8b44_row10_col10 {\n",
       "  background: yellow;\n",
       "}\n",
       "</style>\n",
       "<table id=\"T_c8b44\">\n",
       "  <thead>\n",
       "    <tr>\n",
       "      <th class=\"blank level0\" >&nbsp;</th>\n",
       "      <th id=\"T_c8b44_level0_col0\" class=\"col_heading level0 col0\" >Accuracy</th>\n",
       "      <th id=\"T_c8b44_level0_col1\" class=\"col_heading level0 col1\" >AUC</th>\n",
       "      <th id=\"T_c8b44_level0_col2\" class=\"col_heading level0 col2\" >Recall</th>\n",
       "      <th id=\"T_c8b44_level0_col3\" class=\"col_heading level0 col3\" >Prec.</th>\n",
       "      <th id=\"T_c8b44_level0_col4\" class=\"col_heading level0 col4\" >F1</th>\n",
       "      <th id=\"T_c8b44_level0_col5\" class=\"col_heading level0 col5\" >Kappa</th>\n",
       "      <th id=\"T_c8b44_level0_col6\" class=\"col_heading level0 col6\" >MCC</th>\n",
       "      <th id=\"T_c8b44_level0_col7\" class=\"col_heading level0 col7\" >Balance Acc</th>\n",
       "      <th id=\"T_c8b44_level0_col8\" class=\"col_heading level0 col8\" >Hamming Loss</th>\n",
       "      <th id=\"T_c8b44_level0_col9\" class=\"col_heading level0 col9\" >Jaccard Score</th>\n",
       "      <th id=\"T_c8b44_level0_col10\" class=\"col_heading level0 col10\" >Log Loss</th>\n",
       "    </tr>\n",
       "    <tr>\n",
       "      <th class=\"index_name level0\" >Fold</th>\n",
       "      <th class=\"blank col0\" >&nbsp;</th>\n",
       "      <th class=\"blank col1\" >&nbsp;</th>\n",
       "      <th class=\"blank col2\" >&nbsp;</th>\n",
       "      <th class=\"blank col3\" >&nbsp;</th>\n",
       "      <th class=\"blank col4\" >&nbsp;</th>\n",
       "      <th class=\"blank col5\" >&nbsp;</th>\n",
       "      <th class=\"blank col6\" >&nbsp;</th>\n",
       "      <th class=\"blank col7\" >&nbsp;</th>\n",
       "      <th class=\"blank col8\" >&nbsp;</th>\n",
       "      <th class=\"blank col9\" >&nbsp;</th>\n",
       "      <th class=\"blank col10\" >&nbsp;</th>\n",
       "    </tr>\n",
       "  </thead>\n",
       "  <tbody>\n",
       "    <tr>\n",
       "      <th id=\"T_c8b44_level0_row0\" class=\"row_heading level0 row0\" >0</th>\n",
       "      <td id=\"T_c8b44_row0_col0\" class=\"data row0 col0\" >0.9312</td>\n",
       "      <td id=\"T_c8b44_row0_col1\" class=\"data row0 col1\" >0.9739</td>\n",
       "      <td id=\"T_c8b44_row0_col2\" class=\"data row0 col2\" >0.9312</td>\n",
       "      <td id=\"T_c8b44_row0_col3\" class=\"data row0 col3\" >0.9300</td>\n",
       "      <td id=\"T_c8b44_row0_col4\" class=\"data row0 col4\" >0.9304</td>\n",
       "      <td id=\"T_c8b44_row0_col5\" class=\"data row0 col5\" >0.7910</td>\n",
       "      <td id=\"T_c8b44_row0_col6\" class=\"data row0 col6\" >0.7916</td>\n",
       "      <td id=\"T_c8b44_row0_col7\" class=\"data row0 col7\" >0.8866</td>\n",
       "      <td id=\"T_c8b44_row0_col8\" class=\"data row0 col8\" >0.0688</td>\n",
       "      <td id=\"T_c8b44_row0_col9\" class=\"data row0 col9\" >0.7158</td>\n",
       "      <td id=\"T_c8b44_row0_col10\" class=\"data row0 col10\" >0.1673</td>\n",
       "    </tr>\n",
       "    <tr>\n",
       "      <th id=\"T_c8b44_level0_row1\" class=\"row_heading level0 row1\" >1</th>\n",
       "      <td id=\"T_c8b44_row1_col0\" class=\"data row1 col0\" >0.9322</td>\n",
       "      <td id=\"T_c8b44_row1_col1\" class=\"data row1 col1\" >0.9748</td>\n",
       "      <td id=\"T_c8b44_row1_col2\" class=\"data row1 col2\" >0.9322</td>\n",
       "      <td id=\"T_c8b44_row1_col3\" class=\"data row1 col3\" >0.9310</td>\n",
       "      <td id=\"T_c8b44_row1_col4\" class=\"data row1 col4\" >0.9313</td>\n",
       "      <td id=\"T_c8b44_row1_col5\" class=\"data row1 col5\" >0.7939</td>\n",
       "      <td id=\"T_c8b44_row1_col6\" class=\"data row1 col6\" >0.7945</td>\n",
       "      <td id=\"T_c8b44_row1_col7\" class=\"data row1 col7\" >0.8878</td>\n",
       "      <td id=\"T_c8b44_row1_col8\" class=\"data row1 col8\" >0.0678</td>\n",
       "      <td id=\"T_c8b44_row1_col9\" class=\"data row1 col9\" >0.7191</td>\n",
       "      <td id=\"T_c8b44_row1_col10\" class=\"data row1 col10\" >0.1642</td>\n",
       "    </tr>\n",
       "    <tr>\n",
       "      <th id=\"T_c8b44_level0_row2\" class=\"row_heading level0 row2\" >2</th>\n",
       "      <td id=\"T_c8b44_row2_col0\" class=\"data row2 col0\" >0.8707</td>\n",
       "      <td id=\"T_c8b44_row2_col1\" class=\"data row2 col1\" >0.8499</td>\n",
       "      <td id=\"T_c8b44_row2_col2\" class=\"data row2 col2\" >0.8707</td>\n",
       "      <td id=\"T_c8b44_row2_col3\" class=\"data row2 col3\" >0.8738</td>\n",
       "      <td id=\"T_c8b44_row2_col4\" class=\"data row2 col4\" >0.8720</td>\n",
       "      <td id=\"T_c8b44_row2_col5\" class=\"data row2 col5\" >0.6243</td>\n",
       "      <td id=\"T_c8b44_row2_col6\" class=\"data row2 col6\" >0.6248</td>\n",
       "      <td id=\"T_c8b44_row2_col7\" class=\"data row2 col7\" >0.8191</td>\n",
       "      <td id=\"T_c8b44_row2_col8\" class=\"data row2 col8\" >0.1293</td>\n",
       "      <td id=\"T_c8b44_row2_col9\" class=\"data row2 col9\" >0.5471</td>\n",
       "      <td id=\"T_c8b44_row2_col10\" class=\"data row2 col10\" >2.7443</td>\n",
       "    </tr>\n",
       "    <tr>\n",
       "      <th id=\"T_c8b44_level0_row3\" class=\"row_heading level0 row3\" >3</th>\n",
       "      <td id=\"T_c8b44_row3_col0\" class=\"data row3 col0\" >0.8547</td>\n",
       "      <td id=\"T_c8b44_row3_col1\" class=\"data row3 col1\" >0.8066</td>\n",
       "      <td id=\"T_c8b44_row3_col2\" class=\"data row3 col2\" >0.8547</td>\n",
       "      <td id=\"T_c8b44_row3_col3\" class=\"data row3 col3\" >0.8538</td>\n",
       "      <td id=\"T_c8b44_row3_col4\" class=\"data row3 col4\" >0.8542</td>\n",
       "      <td id=\"T_c8b44_row3_col5\" class=\"data row3 col5\" >0.5658</td>\n",
       "      <td id=\"T_c8b44_row3_col6\" class=\"data row3 col6\" >0.5658</td>\n",
       "      <td id=\"T_c8b44_row3_col7\" class=\"data row3 col7\" >0.7811</td>\n",
       "      <td id=\"T_c8b44_row3_col8\" class=\"data row3 col8\" >0.1453</td>\n",
       "      <td id=\"T_c8b44_row3_col9\" class=\"data row3 col9\" >0.4903</td>\n",
       "      <td id=\"T_c8b44_row3_col10\" class=\"data row3 col10\" >3.2492</td>\n",
       "    </tr>\n",
       "    <tr>\n",
       "      <th id=\"T_c8b44_level0_row4\" class=\"row_heading level0 row4\" >4</th>\n",
       "      <td id=\"T_c8b44_row4_col0\" class=\"data row4 col0\" >0.9309</td>\n",
       "      <td id=\"T_c8b44_row4_col1\" class=\"data row4 col1\" >0.9739</td>\n",
       "      <td id=\"T_c8b44_row4_col2\" class=\"data row4 col2\" >0.9309</td>\n",
       "      <td id=\"T_c8b44_row4_col3\" class=\"data row4 col3\" >0.9297</td>\n",
       "      <td id=\"T_c8b44_row4_col4\" class=\"data row4 col4\" >0.9301</td>\n",
       "      <td id=\"T_c8b44_row4_col5\" class=\"data row4 col5\" >0.7901</td>\n",
       "      <td id=\"T_c8b44_row4_col6\" class=\"data row4 col6\" >0.7908</td>\n",
       "      <td id=\"T_c8b44_row4_col7\" class=\"data row4 col7\" >0.8859</td>\n",
       "      <td id=\"T_c8b44_row4_col8\" class=\"data row4 col8\" >0.0691</td>\n",
       "      <td id=\"T_c8b44_row4_col9\" class=\"data row4 col9\" >0.7147</td>\n",
       "      <td id=\"T_c8b44_row4_col10\" class=\"data row4 col10\" >0.1666</td>\n",
       "    </tr>\n",
       "    <tr>\n",
       "      <th id=\"T_c8b44_level0_row5\" class=\"row_heading level0 row5\" >5</th>\n",
       "      <td id=\"T_c8b44_row5_col0\" class=\"data row5 col0\" >0.8602</td>\n",
       "      <td id=\"T_c8b44_row5_col1\" class=\"data row5 col1\" >0.8021</td>\n",
       "      <td id=\"T_c8b44_row5_col2\" class=\"data row5 col2\" >0.8602</td>\n",
       "      <td id=\"T_c8b44_row5_col3\" class=\"data row5 col3\" >0.8580</td>\n",
       "      <td id=\"T_c8b44_row5_col4\" class=\"data row5 col4\" >0.8590</td>\n",
       "      <td id=\"T_c8b44_row5_col5\" class=\"data row5 col5\" >0.5779</td>\n",
       "      <td id=\"T_c8b44_row5_col6\" class=\"data row5 col6\" >0.5782</td>\n",
       "      <td id=\"T_c8b44_row5_col7\" class=\"data row5 col7\" >0.7842</td>\n",
       "      <td id=\"T_c8b44_row5_col8\" class=\"data row5 col8\" >0.1398</td>\n",
       "      <td id=\"T_c8b44_row5_col9\" class=\"data row5 col9\" >0.4996</td>\n",
       "      <td id=\"T_c8b44_row5_col10\" class=\"data row5 col10\" >3.0603</td>\n",
       "    </tr>\n",
       "    <tr>\n",
       "      <th id=\"T_c8b44_level0_row6\" class=\"row_heading level0 row6\" >6</th>\n",
       "      <td id=\"T_c8b44_row6_col0\" class=\"data row6 col0\" >0.9341</td>\n",
       "      <td id=\"T_c8b44_row6_col1\" class=\"data row6 col1\" >0.9751</td>\n",
       "      <td id=\"T_c8b44_row6_col2\" class=\"data row6 col2\" >0.9341</td>\n",
       "      <td id=\"T_c8b44_row6_col3\" class=\"data row6 col3\" >0.9331</td>\n",
       "      <td id=\"T_c8b44_row6_col4\" class=\"data row6 col4\" >0.9334</td>\n",
       "      <td id=\"T_c8b44_row6_col5\" class=\"data row6 col5\" >0.8002</td>\n",
       "      <td id=\"T_c8b44_row6_col6\" class=\"data row6 col6\" >0.8008</td>\n",
       "      <td id=\"T_c8b44_row6_col7\" class=\"data row6 col7\" >0.8917</td>\n",
       "      <td id=\"T_c8b44_row6_col8\" class=\"data row6 col8\" >0.0659</td>\n",
       "      <td id=\"T_c8b44_row6_col9\" class=\"data row6 col9\" >0.7268</td>\n",
       "      <td id=\"T_c8b44_row6_col10\" class=\"data row6 col10\" >0.1633</td>\n",
       "    </tr>\n",
       "    <tr>\n",
       "      <th id=\"T_c8b44_level0_row7\" class=\"row_heading level0 row7\" >7</th>\n",
       "      <td id=\"T_c8b44_row7_col0\" class=\"data row7 col0\" >0.9342</td>\n",
       "      <td id=\"T_c8b44_row7_col1\" class=\"data row7 col1\" >0.9762</td>\n",
       "      <td id=\"T_c8b44_row7_col2\" class=\"data row7 col2\" >0.9342</td>\n",
       "      <td id=\"T_c8b44_row7_col3\" class=\"data row7 col3\" >0.9332</td>\n",
       "      <td id=\"T_c8b44_row7_col4\" class=\"data row7 col4\" >0.9335</td>\n",
       "      <td id=\"T_c8b44_row7_col5\" class=\"data row7 col5\" >0.8004</td>\n",
       "      <td id=\"T_c8b44_row7_col6\" class=\"data row7 col6\" >0.8010</td>\n",
       "      <td id=\"T_c8b44_row7_col7\" class=\"data row7 col7\" >0.8916</td>\n",
       "      <td id=\"T_c8b44_row7_col8\" class=\"data row7 col8\" >0.0658</td>\n",
       "      <td id=\"T_c8b44_row7_col9\" class=\"data row7 col9\" >0.7269</td>\n",
       "      <td id=\"T_c8b44_row7_col10\" class=\"data row7 col10\" >0.1605</td>\n",
       "    </tr>\n",
       "    <tr>\n",
       "      <th id=\"T_c8b44_level0_row8\" class=\"row_heading level0 row8\" >8</th>\n",
       "      <td id=\"T_c8b44_row8_col0\" class=\"data row8 col0\" >0.9336</td>\n",
       "      <td id=\"T_c8b44_row8_col1\" class=\"data row8 col1\" >0.9760</td>\n",
       "      <td id=\"T_c8b44_row8_col2\" class=\"data row8 col2\" >0.9336</td>\n",
       "      <td id=\"T_c8b44_row8_col3\" class=\"data row8 col3\" >0.9325</td>\n",
       "      <td id=\"T_c8b44_row8_col4\" class=\"data row8 col4\" >0.9328</td>\n",
       "      <td id=\"T_c8b44_row8_col5\" class=\"data row8 col5\" >0.7981</td>\n",
       "      <td id=\"T_c8b44_row8_col6\" class=\"data row8 col6\" >0.7988</td>\n",
       "      <td id=\"T_c8b44_row8_col7\" class=\"data row8 col7\" >0.8899</td>\n",
       "      <td id=\"T_c8b44_row8_col8\" class=\"data row8 col8\" >0.0664</td>\n",
       "      <td id=\"T_c8b44_row8_col9\" class=\"data row8 col9\" >0.7241</td>\n",
       "      <td id=\"T_c8b44_row8_col10\" class=\"data row8 col10\" >0.1602</td>\n",
       "    </tr>\n",
       "    <tr>\n",
       "      <th id=\"T_c8b44_level0_row9\" class=\"row_heading level0 row9\" >9</th>\n",
       "      <td id=\"T_c8b44_row9_col0\" class=\"data row9 col0\" >0.9358</td>\n",
       "      <td id=\"T_c8b44_row9_col1\" class=\"data row9 col1\" >0.9758</td>\n",
       "      <td id=\"T_c8b44_row9_col2\" class=\"data row9 col2\" >0.9358</td>\n",
       "      <td id=\"T_c8b44_row9_col3\" class=\"data row9 col3\" >0.9348</td>\n",
       "      <td id=\"T_c8b44_row9_col4\" class=\"data row9 col4\" >0.9351</td>\n",
       "      <td id=\"T_c8b44_row9_col5\" class=\"data row9 col5\" >0.8056</td>\n",
       "      <td id=\"T_c8b44_row9_col6\" class=\"data row9 col6\" >0.8061</td>\n",
       "      <td id=\"T_c8b44_row9_col7\" class=\"data row9 col7\" >0.8949</td>\n",
       "      <td id=\"T_c8b44_row9_col8\" class=\"data row9 col8\" >0.0642</td>\n",
       "      <td id=\"T_c8b44_row9_col9\" class=\"data row9 col9\" >0.7332</td>\n",
       "      <td id=\"T_c8b44_row9_col10\" class=\"data row9 col10\" >0.1604</td>\n",
       "    </tr>\n",
       "    <tr>\n",
       "      <th id=\"T_c8b44_level0_row10\" class=\"row_heading level0 row10\" >Mean</th>\n",
       "      <td id=\"T_c8b44_row10_col0\" class=\"data row10 col0\" >0.9117</td>\n",
       "      <td id=\"T_c8b44_row10_col1\" class=\"data row10 col1\" >0.9284</td>\n",
       "      <td id=\"T_c8b44_row10_col2\" class=\"data row10 col2\" >0.9117</td>\n",
       "      <td id=\"T_c8b44_row10_col3\" class=\"data row10 col3\" >0.9110</td>\n",
       "      <td id=\"T_c8b44_row10_col4\" class=\"data row10 col4\" >0.9112</td>\n",
       "      <td id=\"T_c8b44_row10_col5\" class=\"data row10 col5\" >0.7347</td>\n",
       "      <td id=\"T_c8b44_row10_col6\" class=\"data row10 col6\" >0.7352</td>\n",
       "      <td id=\"T_c8b44_row10_col7\" class=\"data row10 col7\" >0.8613</td>\n",
       "      <td id=\"T_c8b44_row10_col8\" class=\"data row10 col8\" >0.0883</td>\n",
       "      <td id=\"T_c8b44_row10_col9\" class=\"data row10 col9\" >0.6598</td>\n",
       "      <td id=\"T_c8b44_row10_col10\" class=\"data row10 col10\" >1.0196</td>\n",
       "    </tr>\n",
       "    <tr>\n",
       "      <th id=\"T_c8b44_level0_row11\" class=\"row_heading level0 row11\" >Std</th>\n",
       "      <td id=\"T_c8b44_row11_col0\" class=\"data row11 col0\" >0.0329</td>\n",
       "      <td id=\"T_c8b44_row11_col1\" class=\"data row11 col1\" >0.0722</td>\n",
       "      <td id=\"T_c8b44_row11_col2\" class=\"data row11 col2\" >0.0329</td>\n",
       "      <td id=\"T_c8b44_row11_col3\" class=\"data row11 col3\" >0.0325</td>\n",
       "      <td id=\"T_c8b44_row11_col4\" class=\"data row11 col4\" >0.0327</td>\n",
       "      <td id=\"T_c8b44_row11_col5\" class=\"data row11 col5\" >0.0963</td>\n",
       "      <td id=\"T_c8b44_row11_col6\" class=\"data row11 col6\" >0.0964</td>\n",
       "      <td id=\"T_c8b44_row11_col7\" class=\"data row11 col7\" >0.0446</td>\n",
       "      <td id=\"T_c8b44_row11_col8\" class=\"data row11 col8\" >0.0329</td>\n",
       "      <td id=\"T_c8b44_row11_col9\" class=\"data row11 col9\" >0.0976</td>\n",
       "      <td id=\"T_c8b44_row11_col10\" class=\"data row11 col10\" >1.3132</td>\n",
       "    </tr>\n",
       "  </tbody>\n",
       "</table>\n"
      ],
      "text/plain": [
       "<pandas.io.formats.style.Styler at 0x21dd1fadb50>"
      ]
     },
     "metadata": {},
     "output_type": "display_data"
    },
    {
     "data": {
      "text/html": [],
      "text/plain": [
       "<IPython.core.display.HTML object>"
      ]
     },
     "metadata": {},
     "output_type": "display_data"
    },
    {
     "name": "stderr",
     "output_type": "stream",
     "text": [
      "WARNING:root:Malformed experiment '819906245614309265'. Detailed error Yaml file 'H:\\masterarbeit_python\\mlruns\\819906245614309265\\meta.yaml' does not exist.\n",
      "Traceback (most recent call last):\n",
      "  File \"C:\\Users\\ge35yay\\.conda\\envs\\venv_masterarbeit_RMT\\Lib\\site-packages\\mlflow\\store\\tracking\\file_store.py\", line 317, in search_experiments\n",
      "    exp = self._get_experiment(exp_id, view_type)\n",
      "          ^^^^^^^^^^^^^^^^^^^^^^^^^^^^^^^^^^^^^^^\n",
      "  File \"C:\\Users\\ge35yay\\.conda\\envs\\venv_masterarbeit_RMT\\Lib\\site-packages\\mlflow\\store\\tracking\\file_store.py\", line 410, in _get_experiment\n",
      "    meta = FileStore._read_yaml(experiment_dir, FileStore.META_DATA_FILE_NAME)\n",
      "           ^^^^^^^^^^^^^^^^^^^^^^^^^^^^^^^^^^^^^^^^^^^^^^^^^^^^^^^^^^^^^^^^^^^\n",
      "  File \"C:\\Users\\ge35yay\\.conda\\envs\\venv_masterarbeit_RMT\\Lib\\site-packages\\mlflow\\store\\tracking\\file_store.py\", line 1341, in _read_yaml\n",
      "    return _read_helper(root, file_name, attempts_remaining=retries)\n",
      "           ^^^^^^^^^^^^^^^^^^^^^^^^^^^^^^^^^^^^^^^^^^^^^^^^^^^^^^^^^\n",
      "  File \"C:\\Users\\ge35yay\\.conda\\envs\\venv_masterarbeit_RMT\\Lib\\site-packages\\mlflow\\store\\tracking\\file_store.py\", line 1334, in _read_helper\n",
      "    result = read_yaml(root, file_name)\n",
      "             ^^^^^^^^^^^^^^^^^^^^^^^^^^\n",
      "  File \"C:\\Users\\ge35yay\\.conda\\envs\\venv_masterarbeit_RMT\\Lib\\site-packages\\mlflow\\utils\\file_utils.py\", line 309, in read_yaml\n",
      "    raise MissingConfigException(f\"Yaml file '{file_path}' does not exist.\")\n",
      "mlflow.exceptions.MissingConfigException: Yaml file 'H:\\masterarbeit_python\\mlruns\\819906245614309265\\meta.yaml' does not exist.\n"
     ]
    },
    {
     "name": "stdout",
     "output_type": "stream",
     "text": [
      "[LightGBM] [Warning] feature_fraction is set=0.42947671039481, colsample_bytree=1.0 will be ignored. Current value: feature_fraction=0.42947671039481\n",
      "[LightGBM] [Warning] bagging_fraction is set=0.8455104741417432, subsample=1.0 will be ignored. Current value: bagging_fraction=0.8455104741417432\n",
      "[LightGBM] [Warning] bagging_freq is set=0, subsample_freq=0 will be ignored. Current value: bagging_freq=0\n",
      "[LightGBM] [Warning] feature_fraction is set=0.42947671039481, colsample_bytree=1.0 will be ignored. Current value: feature_fraction=0.42947671039481\n",
      "[LightGBM] [Warning] bagging_fraction is set=0.8455104741417432, subsample=1.0 will be ignored. Current value: bagging_fraction=0.8455104741417432\n",
      "[LightGBM] [Warning] bagging_freq is set=0, subsample_freq=0 will be ignored. Current value: bagging_freq=0\n"
     ]
    },
    {
     "name": "stderr",
     "output_type": "stream",
     "text": [
      "2025/10/08 22:52:45 WARNING mlflow.models.model: Input example should be provided to infer model signature if the model signature is not provided when logging the model.\n"
     ]
    }
   ],
   "source": [
    "lightgbm = create_model('lightgbm', **bestParamsLIGHTGBM)"
   ]
  },
  {
   "cell_type": "code",
   "execution_count": 29,
   "id": "c6de13ba-59cf-4048-8b12-75912f3fd0a6",
   "metadata": {},
   "outputs": [
    {
     "data": {
      "application/vnd.jupyter.widget-view+json": {
       "model_id": "0f4bfa89532141d1b0fd0ab13e0bf003",
       "version_major": 2,
       "version_minor": 0
      },
      "text/plain": [
       "interactive(children=(ToggleButtons(description='Plot Type:', icons=('',), options=(('Pipeline Plot', 'pipelin…"
      ]
     },
     "metadata": {},
     "output_type": "display_data"
    }
   ],
   "source": [
    "evaluate_model(lightgbm)"
   ]
  },
  {
   "cell_type": "code",
   "execution_count": 30,
   "id": "31cadee3-f0e3-4f9d-89ba-517d8944a485",
   "metadata": {},
   "outputs": [
    {
     "data": {
      "text/html": [
       "<div>\n",
       "<style scoped>\n",
       "    .dataframe tbody tr th:only-of-type {\n",
       "        vertical-align: middle;\n",
       "    }\n",
       "\n",
       "    .dataframe tbody tr th {\n",
       "        vertical-align: top;\n",
       "    }\n",
       "\n",
       "    .dataframe thead th {\n",
       "        text-align: right;\n",
       "    }\n",
       "</style>\n",
       "<table border=\"1\" class=\"dataframe\">\n",
       "  <thead>\n",
       "    <tr style=\"text-align: right;\">\n",
       "      <th></th>\n",
       "      <th>Features</th>\n",
       "      <th>importance</th>\n",
       "    </tr>\n",
       "  </thead>\n",
       "  <tbody>\n",
       "    <tr>\n",
       "      <th>0</th>\n",
       "      <td>spectral_skewness</td>\n",
       "      <td>10220</td>\n",
       "    </tr>\n",
       "    <tr>\n",
       "      <th>1</th>\n",
       "      <td>meanFreq</td>\n",
       "      <td>9689</td>\n",
       "    </tr>\n",
       "    <tr>\n",
       "      <th>2</th>\n",
       "      <td>spectral_entropy</td>\n",
       "      <td>6275</td>\n",
       "    </tr>\n",
       "    <tr>\n",
       "      <th>3</th>\n",
       "      <td>medianFreq</td>\n",
       "      <td>5569</td>\n",
       "    </tr>\n",
       "  </tbody>\n",
       "</table>\n",
       "</div>"
      ],
      "text/plain": [
       "            Features  importance\n",
       "0  spectral_skewness       10220\n",
       "1           meanFreq        9689\n",
       "2   spectral_entropy        6275\n",
       "3         medianFreq        5569"
      ]
     },
     "execution_count": 30,
     "metadata": {},
     "output_type": "execute_result"
    }
   ],
   "source": [
    "lightgbm_top_features = get_feature_importance_df(lightgbm, features_df_training_normalized)\n",
    "lightgbm_top_features"
   ]
  },
  {
   "cell_type": "code",
   "execution_count": 31,
   "id": "eee55d0a-02ac-486d-a6cb-e2980c0f38b7",
   "metadata": {},
   "outputs": [],
   "source": [
    "add_top_features(lightgbm_top_features, top_n=3)"
   ]
  },
  {
   "cell_type": "code",
   "execution_count": 32,
   "id": "c54ed055-24cb-496f-870d-36ce06d05d93",
   "metadata": {},
   "outputs": [
    {
     "data": {
      "text/html": [],
      "text/plain": [
       "<IPython.core.display.HTML object>"
      ]
     },
     "metadata": {},
     "output_type": "display_data"
    },
    {
     "data": {
      "image/png": "[encoded data removed]",
      "text/plain": [
       "<Figure size 800x500 with 1 Axes>"
      ]
     },
     "metadata": {},
     "output_type": "display_data"
    }
   ],
   "source": [
    "plot_model(lightgbm, plot='feature')"
   ]
  },
  {
   "cell_type": "code",
   "execution_count": 33,
   "id": "2771a77a-d02a-46f3-8a51-155e5ed3e8e9",
   "metadata": {},
   "outputs": [
    {
     "data": {
      "text/html": [],
      "text/plain": [
       "<IPython.core.display.HTML object>"
      ]
     },
     "metadata": {},
     "output_type": "display_data"
    },
    {
     "data": {
      "image/png": "[encoded data removed]",
      "text/plain": [
       "<Figure size 800x550 with 1 Axes>"
      ]
     },
     "metadata": {},
     "output_type": "display_data"
    }
   ],
   "source": [
    "plot_model(lightgbm, plot='confusion_matrix')"
   ]
  },
  {
   "cell_type": "code",
   "execution_count": 34,
   "id": "0ba6b509-625a-40ed-be97-3ff2178817cf",
   "metadata": {},
   "outputs": [
    {
     "data": {
      "text/html": [
       "<style type=\"text/css\">\n",
       "</style>\n",
       "<table id=\"T_ea639\">\n",
       "  <thead>\n",
       "    <tr>\n",
       "      <th class=\"blank level0\" >&nbsp;</th>\n",
       "      <th id=\"T_ea639_level0_col0\" class=\"col_heading level0 col0\" >Model</th>\n",
       "      <th id=\"T_ea639_level0_col1\" class=\"col_heading level0 col1\" >Accuracy</th>\n",
       "      <th id=\"T_ea639_level0_col2\" class=\"col_heading level0 col2\" >AUC</th>\n",
       "      <th id=\"T_ea639_level0_col3\" class=\"col_heading level0 col3\" >Recall</th>\n",
       "      <th id=\"T_ea639_level0_col4\" class=\"col_heading level0 col4\" >Prec.</th>\n",
       "      <th id=\"T_ea639_level0_col5\" class=\"col_heading level0 col5\" >F1</th>\n",
       "      <th id=\"T_ea639_level0_col6\" class=\"col_heading level0 col6\" >Kappa</th>\n",
       "      <th id=\"T_ea639_level0_col7\" class=\"col_heading level0 col7\" >MCC</th>\n",
       "      <th id=\"T_ea639_level0_col8\" class=\"col_heading level0 col8\" >Balance Acc</th>\n",
       "      <th id=\"T_ea639_level0_col9\" class=\"col_heading level0 col9\" >Hamming Loss</th>\n",
       "      <th id=\"T_ea639_level0_col10\" class=\"col_heading level0 col10\" >Jaccard Score</th>\n",
       "      <th id=\"T_ea639_level0_col11\" class=\"col_heading level0 col11\" >Log Loss</th>\n",
       "    </tr>\n",
       "  </thead>\n",
       "  <tbody>\n",
       "    <tr>\n",
       "      <th id=\"T_ea639_level0_row0\" class=\"row_heading level0 row0\" >0</th>\n",
       "      <td id=\"T_ea639_row0_col0\" class=\"data row0 col0\" >Light Gradient Boosting Machine</td>\n",
       "      <td id=\"T_ea639_row0_col1\" class=\"data row0 col1\" >0.9342</td>\n",
       "      <td id=\"T_ea639_row0_col2\" class=\"data row0 col2\" >0.9759</td>\n",
       "      <td id=\"T_ea639_row0_col3\" class=\"data row0 col3\" >0.9342</td>\n",
       "      <td id=\"T_ea639_row0_col4\" class=\"data row0 col4\" >0.9331</td>\n",
       "      <td id=\"T_ea639_row0_col5\" class=\"data row0 col5\" >0.9334</td>\n",
       "      <td id=\"T_ea639_row0_col6\" class=\"data row0 col6\" >0.8002</td>\n",
       "      <td id=\"T_ea639_row0_col7\" class=\"data row0 col7\" >0.8008</td>\n",
       "      <td id=\"T_ea639_row0_col8\" class=\"data row0 col8\" >0.8918</td>\n",
       "      <td id=\"T_ea639_row0_col9\" class=\"data row0 col9\" >0.0658</td>\n",
       "      <td id=\"T_ea639_row0_col10\" class=\"data row0 col10\" >0.7268</td>\n",
       "      <td id=\"T_ea639_row0_col11\" class=\"data row0 col11\" >0.1603</td>\n",
       "    </tr>\n",
       "  </tbody>\n",
       "</table>\n"
      ],
      "text/plain": [
       "<pandas.io.formats.style.Styler at 0x21de3154d50>"
      ]
     },
     "metadata": {},
     "output_type": "display_data"
    },
    {
     "name": "stdout",
     "output_type": "stream",
     "text": [
      "[LightGBM] [Warning] feature_fraction is set=0.42947671039481, colsample_bytree=1.0 will be ignored. Current value: feature_fraction=0.42947671039481\n",
      "[LightGBM] [Warning] bagging_fraction is set=0.8455104741417432, subsample=1.0 will be ignored. Current value: bagging_fraction=0.8455104741417432\n",
      "[LightGBM] [Warning] bagging_freq is set=0, subsample_freq=0 will be ignored. Current value: bagging_freq=0\n",
      "[LightGBM] [Warning] feature_fraction is set=0.42947671039481, colsample_bytree=1.0 will be ignored. Current value: feature_fraction=0.42947671039481\n",
      "[LightGBM] [Warning] bagging_fraction is set=0.8455104741417432, subsample=1.0 will be ignored. Current value: bagging_fraction=0.8455104741417432\n",
      "[LightGBM] [Warning] bagging_freq is set=0, subsample_freq=0 will be ignored. Current value: bagging_freq=0\n"
     ]
    }
   ],
   "source": [
    "predictions_lightgbm = predict_model(lightgbm, data = features_df_testing_normalized)"
   ]
  },
  {
   "cell_type": "code",
   "execution_count": 80,
   "id": "f7a8f6fc-2c80-438e-a45a-924969e7c11c",
   "metadata": {},
   "outputs": [
    {
     "data": {
      "text/html": [
       "<style type=\"text/css\">\n",
       "</style>\n",
       "<table id=\"T_15838\">\n",
       "  <thead>\n",
       "    <tr>\n",
       "      <th class=\"blank level0\" >&nbsp;</th>\n",
       "      <th id=\"T_15838_level0_col0\" class=\"col_heading level0 col0\" >Model</th>\n",
       "      <th id=\"T_15838_level0_col1\" class=\"col_heading level0 col1\" >Accuracy</th>\n",
       "      <th id=\"T_15838_level0_col2\" class=\"col_heading level0 col2\" >AUC</th>\n",
       "      <th id=\"T_15838_level0_col3\" class=\"col_heading level0 col3\" >Recall</th>\n",
       "      <th id=\"T_15838_level0_col4\" class=\"col_heading level0 col4\" >Prec.</th>\n",
       "      <th id=\"T_15838_level0_col5\" class=\"col_heading level0 col5\" >F1</th>\n",
       "      <th id=\"T_15838_level0_col6\" class=\"col_heading level0 col6\" >Kappa</th>\n",
       "      <th id=\"T_15838_level0_col7\" class=\"col_heading level0 col7\" >MCC</th>\n",
       "      <th id=\"T_15838_level0_col8\" class=\"col_heading level0 col8\" >Balance Acc</th>\n",
       "      <th id=\"T_15838_level0_col9\" class=\"col_heading level0 col9\" >Hamming Loss</th>\n",
       "      <th id=\"T_15838_level0_col10\" class=\"col_heading level0 col10\" >Jaccard Score</th>\n",
       "      <th id=\"T_15838_level0_col11\" class=\"col_heading level0 col11\" >Log Loss</th>\n",
       "    </tr>\n",
       "  </thead>\n",
       "  <tbody>\n",
       "    <tr>\n",
       "      <th id=\"T_15838_level0_row0\" class=\"row_heading level0 row0\" >0</th>\n",
       "      <td id=\"T_15838_row0_col0\" class=\"data row0 col0\" >Light Gradient Boosting Machine</td>\n",
       "      <td id=\"T_15838_row0_col1\" class=\"data row0 col1\" >0.7254</td>\n",
       "      <td id=\"T_15838_row0_col2\" class=\"data row0 col2\" >0.3758</td>\n",
       "      <td id=\"T_15838_row0_col3\" class=\"data row0 col3\" >0.7254</td>\n",
       "      <td id=\"T_15838_row0_col4\" class=\"data row0 col4\" >0.5488</td>\n",
       "      <td id=\"T_15838_row0_col5\" class=\"data row0 col5\" >0.6248</td>\n",
       "      <td id=\"T_15838_row0_col6\" class=\"data row0 col6\" >-0.0341</td>\n",
       "      <td id=\"T_15838_row0_col7\" class=\"data row0 col7\" >-0.0787</td>\n",
       "      <td id=\"T_15838_row0_col8\" class=\"data row0 col8\" >0.4881</td>\n",
       "      <td id=\"T_15838_row0_col9\" class=\"data row0 col9\" >0.2746</td>\n",
       "      <td id=\"T_15838_row0_col10\" class=\"data row0 col10\" >0.0000</td>\n",
       "      <td id=\"T_15838_row0_col11\" class=\"data row0 col11\" >5.4845</td>\n",
       "    </tr>\n",
       "  </tbody>\n",
       "</table>\n"
      ],
      "text/plain": [
       "<pandas.io.formats.style.Styler at 0x21da0d48a50>"
      ]
     },
     "metadata": {},
     "output_type": "display_data"
    },
    {
     "name": "stdout",
     "output_type": "stream",
     "text": [
      "[LightGBM] [Warning] feature_fraction is set=0.42947671039481, colsample_bytree=1.0 will be ignored. Current value: feature_fraction=0.42947671039481\n",
      "[LightGBM] [Warning] bagging_fraction is set=0.8455104741417432, subsample=1.0 will be ignored. Current value: bagging_fraction=0.8455104741417432\n",
      "[LightGBM] [Warning] bagging_freq is set=0, subsample_freq=0 will be ignored. Current value: bagging_freq=0\n",
      "[LightGBM] [Warning] feature_fraction is set=0.42947671039481, colsample_bytree=1.0 will be ignored. Current value: feature_fraction=0.42947671039481\n",
      "[LightGBM] [Warning] bagging_fraction is set=0.8455104741417432, subsample=1.0 will be ignored. Current value: bagging_fraction=0.8455104741417432\n",
      "[LightGBM] [Warning] bagging_freq is set=0, subsample_freq=0 will be ignored. Current value: bagging_freq=0\n"
     ]
    }
   ],
   "source": [
    "predictions_lightgbm_HBK = predict_model(lightgbm, data = normalized_HBK)"
   ]
  },
  {
   "cell_type": "code",
   "execution_count": 36,
   "id": "cb73c315-b0e4-45e7-8341-b042dabbb45b",
   "metadata": {},
   "outputs": [
    {
     "data": {
      "text/html": [
       "<style type=\"text/css\">\n",
       "</style>\n",
       "<table id=\"T_554ad\">\n",
       "  <thead>\n",
       "    <tr>\n",
       "      <th class=\"blank level0\" >&nbsp;</th>\n",
       "      <th id=\"T_554ad_level0_col0\" class=\"col_heading level0 col0\" >Model</th>\n",
       "      <th id=\"T_554ad_level0_col1\" class=\"col_heading level0 col1\" >Accuracy</th>\n",
       "      <th id=\"T_554ad_level0_col2\" class=\"col_heading level0 col2\" >AUC</th>\n",
       "      <th id=\"T_554ad_level0_col3\" class=\"col_heading level0 col3\" >Recall</th>\n",
       "      <th id=\"T_554ad_level0_col4\" class=\"col_heading level0 col4\" >Prec.</th>\n",
       "      <th id=\"T_554ad_level0_col5\" class=\"col_heading level0 col5\" >F1</th>\n",
       "      <th id=\"T_554ad_level0_col6\" class=\"col_heading level0 col6\" >Kappa</th>\n",
       "      <th id=\"T_554ad_level0_col7\" class=\"col_heading level0 col7\" >MCC</th>\n",
       "      <th id=\"T_554ad_level0_col8\" class=\"col_heading level0 col8\" >Balance Acc</th>\n",
       "      <th id=\"T_554ad_level0_col9\" class=\"col_heading level0 col9\" >Hamming Loss</th>\n",
       "      <th id=\"T_554ad_level0_col10\" class=\"col_heading level0 col10\" >Jaccard Score</th>\n",
       "      <th id=\"T_554ad_level0_col11\" class=\"col_heading level0 col11\" >Log Loss</th>\n",
       "    </tr>\n",
       "  </thead>\n",
       "  <tbody>\n",
       "    <tr>\n",
       "      <th id=\"T_554ad_level0_row0\" class=\"row_heading level0 row0\" >0</th>\n",
       "      <td id=\"T_554ad_row0_col0\" class=\"data row0 col0\" >Light Gradient Boosting Machine</td>\n",
       "      <td id=\"T_554ad_row0_col1\" class=\"data row0 col1\" >0.8238</td>\n",
       "      <td id=\"T_554ad_row0_col2\" class=\"data row0 col2\" >0.5200</td>\n",
       "      <td id=\"T_554ad_row0_col3\" class=\"data row0 col3\" >0.8238</td>\n",
       "      <td id=\"T_554ad_row0_col4\" class=\"data row0 col4\" >0.7214</td>\n",
       "      <td id=\"T_554ad_row0_col5\" class=\"data row0 col5\" >0.7568</td>\n",
       "      <td id=\"T_554ad_row0_col6\" class=\"data row0 col6\" >-0.0007</td>\n",
       "      <td id=\"T_554ad_row0_col7\" class=\"data row0 col7\" >-0.0015</td>\n",
       "      <td id=\"T_554ad_row0_col8\" class=\"data row0 col8\" >0.4998</td>\n",
       "      <td id=\"T_554ad_row0_col9\" class=\"data row0 col9\" >0.1762</td>\n",
       "      <td id=\"T_554ad_row0_col10\" class=\"data row0 col10\" >0.0127</td>\n",
       "      <td id=\"T_554ad_row0_col11\" class=\"data row0 col11\" >2.6446</td>\n",
       "    </tr>\n",
       "  </tbody>\n",
       "</table>\n"
      ],
      "text/plain": [
       "<pandas.io.formats.style.Styler at 0x21dd1f81690>"
      ]
     },
     "metadata": {},
     "output_type": "display_data"
    },
    {
     "name": "stdout",
     "output_type": "stream",
     "text": [
      "[LightGBM] [Warning] feature_fraction is set=0.42947671039481, colsample_bytree=1.0 will be ignored. Current value: feature_fraction=0.42947671039481\n",
      "[LightGBM] [Warning] bagging_fraction is set=0.8455104741417432, subsample=1.0 will be ignored. Current value: bagging_fraction=0.8455104741417432\n",
      "[LightGBM] [Warning] bagging_freq is set=0, subsample_freq=0 will be ignored. Current value: bagging_freq=0\n",
      "[LightGBM] [Warning] feature_fraction is set=0.42947671039481, colsample_bytree=1.0 will be ignored. Current value: feature_fraction=0.42947671039481\n",
      "[LightGBM] [Warning] bagging_fraction is set=0.8455104741417432, subsample=1.0 will be ignored. Current value: bagging_fraction=0.8455104741417432\n",
      "[LightGBM] [Warning] bagging_freq is set=0, subsample_freq=0 will be ignored. Current value: bagging_freq=0\n"
     ]
    }
   ],
   "source": [
    "predictions_lightgbm_MCC5 = predict_model(lightgbm, data = normalized_MCC5)"
   ]
  },
  {
   "cell_type": "code",
   "execution_count": 37,
   "id": "34173f0e-3b07-47ec-9bc1-6a932d4a3f32",
   "metadata": {},
   "outputs": [
    {
     "data": {
      "text/html": [
       "<div>\n",
       "<style scoped>\n",
       "    .dataframe tbody tr th:only-of-type {\n",
       "        vertical-align: middle;\n",
       "    }\n",
       "\n",
       "    .dataframe tbody tr th {\n",
       "        vertical-align: top;\n",
       "    }\n",
       "\n",
       "    .dataframe thead th {\n",
       "        text-align: right;\n",
       "    }\n",
       "</style>\n",
       "<table border=\"1\" class=\"dataframe\">\n",
       "  <thead>\n",
       "    <tr style=\"text-align: right;\">\n",
       "      <th></th>\n",
       "      <th>medianFreq</th>\n",
       "      <th>meanFreq</th>\n",
       "      <th>spectral_entropy</th>\n",
       "      <th>spectral_skewness</th>\n",
       "      <th>Label</th>\n",
       "      <th>prediction_label</th>\n",
       "      <th>prediction_score</th>\n",
       "    </tr>\n",
       "  </thead>\n",
       "  <tbody>\n",
       "    <tr>\n",
       "      <th>206457</th>\n",
       "      <td>-0.300257</td>\n",
       "      <td>-0.325058</td>\n",
       "      <td>0.004626</td>\n",
       "      <td>0.792491</td>\n",
       "      <td>damaged</td>\n",
       "      <td>damaged</td>\n",
       "      <td>0.9998</td>\n",
       "    </tr>\n",
       "    <tr>\n",
       "      <th>232578</th>\n",
       "      <td>-0.300300</td>\n",
       "      <td>-0.324649</td>\n",
       "      <td>0.004642</td>\n",
       "      <td>0.278656</td>\n",
       "      <td>damaged</td>\n",
       "      <td>damaged</td>\n",
       "      <td>1.0000</td>\n",
       "    </tr>\n",
       "    <tr>\n",
       "      <th>92282</th>\n",
       "      <td>-0.297789</td>\n",
       "      <td>-0.323194</td>\n",
       "      <td>0.004090</td>\n",
       "      <td>-0.410506</td>\n",
       "      <td>healthy</td>\n",
       "      <td>damaged</td>\n",
       "      <td>0.7359</td>\n",
       "    </tr>\n",
       "    <tr>\n",
       "      <th>468494</th>\n",
       "      <td>-0.299496</td>\n",
       "      <td>-0.324732</td>\n",
       "      <td>0.004275</td>\n",
       "      <td>0.060128</td>\n",
       "      <td>damaged</td>\n",
       "      <td>damaged</td>\n",
       "      <td>0.9981</td>\n",
       "    </tr>\n",
       "    <tr>\n",
       "      <th>560184</th>\n",
       "      <td>-0.297128</td>\n",
       "      <td>-0.323026</td>\n",
       "      <td>-0.003001</td>\n",
       "      <td>0.517066</td>\n",
       "      <td>damaged</td>\n",
       "      <td>damaged</td>\n",
       "      <td>1.0000</td>\n",
       "    </tr>\n",
       "    <tr>\n",
       "      <th>...</th>\n",
       "      <td>...</td>\n",
       "      <td>...</td>\n",
       "      <td>...</td>\n",
       "      <td>...</td>\n",
       "      <td>...</td>\n",
       "      <td>...</td>\n",
       "      <td>...</td>\n",
       "    </tr>\n",
       "    <tr>\n",
       "      <th>662954</th>\n",
       "      <td>-0.300817</td>\n",
       "      <td>-0.326877</td>\n",
       "      <td>0.004278</td>\n",
       "      <td>1.527355</td>\n",
       "      <td>damaged</td>\n",
       "      <td>damaged</td>\n",
       "      <td>1.0000</td>\n",
       "    </tr>\n",
       "    <tr>\n",
       "      <th>592382</th>\n",
       "      <td>-0.295861</td>\n",
       "      <td>-0.321945</td>\n",
       "      <td>0.003792</td>\n",
       "      <td>0.229895</td>\n",
       "      <td>damaged</td>\n",
       "      <td>damaged</td>\n",
       "      <td>0.9697</td>\n",
       "    </tr>\n",
       "    <tr>\n",
       "      <th>834044</th>\n",
       "      <td>-0.300180</td>\n",
       "      <td>-0.325035</td>\n",
       "      <td>0.004534</td>\n",
       "      <td>-0.108000</td>\n",
       "      <td>damaged</td>\n",
       "      <td>damaged</td>\n",
       "      <td>0.8848</td>\n",
       "    </tr>\n",
       "    <tr>\n",
       "      <th>518547</th>\n",
       "      <td>-0.296755</td>\n",
       "      <td>-0.322397</td>\n",
       "      <td>0.002309</td>\n",
       "      <td>-0.225024</td>\n",
       "      <td>damaged</td>\n",
       "      <td>damaged</td>\n",
       "      <td>0.9875</td>\n",
       "    </tr>\n",
       "    <tr>\n",
       "      <th>366784</th>\n",
       "      <td>0.406032</td>\n",
       "      <td>0.530792</td>\n",
       "      <td>0.004539</td>\n",
       "      <td>1.211344</td>\n",
       "      <td>damaged</td>\n",
       "      <td>damaged</td>\n",
       "      <td>1.0000</td>\n",
       "    </tr>\n",
       "  </tbody>\n",
       "</table>\n",
       "<p>190619 rows × 7 columns</p>\n",
       "</div>"
      ],
      "text/plain": [
       "        medianFreq  meanFreq  spectral_entropy  spectral_skewness    Label  \\\n",
       "206457   -0.300257 -0.325058          0.004626           0.792491  damaged   \n",
       "232578   -0.300300 -0.324649          0.004642           0.278656  damaged   \n",
       "92282    -0.297789 -0.323194          0.004090          -0.410506  healthy   \n",
       "468494   -0.299496 -0.324732          0.004275           0.060128  damaged   \n",
       "560184   -0.297128 -0.323026         -0.003001           0.517066  damaged   \n",
       "...            ...       ...               ...                ...      ...   \n",
       "662954   -0.300817 -0.326877          0.004278           1.527355  damaged   \n",
       "592382   -0.295861 -0.321945          0.003792           0.229895  damaged   \n",
       "834044   -0.300180 -0.325035          0.004534          -0.108000  damaged   \n",
       "518547   -0.296755 -0.322397          0.002309          -0.225024  damaged   \n",
       "366784    0.406032  0.530792          0.004539           1.211344  damaged   \n",
       "\n",
       "       prediction_label  prediction_score  \n",
       "206457          damaged            0.9998  \n",
       "232578          damaged            1.0000  \n",
       "92282           damaged            0.7359  \n",
       "468494          damaged            0.9981  \n",
       "560184          damaged            1.0000  \n",
       "...                 ...               ...  \n",
       "662954          damaged            1.0000  \n",
       "592382          damaged            0.9697  \n",
       "834044          damaged            0.8848  \n",
       "518547          damaged            0.9875  \n",
       "366784          damaged            1.0000  \n",
       "\n",
       "[190619 rows x 7 columns]"
      ]
     },
     "execution_count": 37,
     "metadata": {},
     "output_type": "execute_result"
    }
   ],
   "source": [
    "predictions_lightgbm"
   ]
  },
  {
   "cell_type": "code",
   "execution_count": 38,
   "id": "789da63d-eb26-4f36-9559-4f8dc35b2c6e",
   "metadata": {},
   "outputs": [
    {
     "data": {
      "text/html": [
       "<div>\n",
       "<style scoped>\n",
       "    .dataframe tbody tr th:only-of-type {\n",
       "        vertical-align: middle;\n",
       "    }\n",
       "\n",
       "    .dataframe tbody tr th {\n",
       "        vertical-align: top;\n",
       "    }\n",
       "\n",
       "    .dataframe thead th {\n",
       "        text-align: right;\n",
       "    }\n",
       "</style>\n",
       "<table border=\"1\" class=\"dataframe\">\n",
       "  <thead>\n",
       "    <tr style=\"text-align: right;\">\n",
       "      <th></th>\n",
       "      <th>medianFreq</th>\n",
       "      <th>meanFreq</th>\n",
       "      <th>spectral_entropy</th>\n",
       "      <th>spectral_skewness</th>\n",
       "      <th>Label</th>\n",
       "      <th>prediction_label</th>\n",
       "      <th>prediction_score</th>\n",
       "    </tr>\n",
       "  </thead>\n",
       "  <tbody>\n",
       "    <tr>\n",
       "      <th>92282</th>\n",
       "      <td>-0.297789</td>\n",
       "      <td>-0.323194</td>\n",
       "      <td>0.004090</td>\n",
       "      <td>-0.410506</td>\n",
       "      <td>healthy</td>\n",
       "      <td>damaged</td>\n",
       "      <td>0.7359</td>\n",
       "    </tr>\n",
       "    <tr>\n",
       "      <th>147760</th>\n",
       "      <td>-0.299029</td>\n",
       "      <td>-0.324429</td>\n",
       "      <td>0.004609</td>\n",
       "      <td>0.377939</td>\n",
       "      <td>healthy</td>\n",
       "      <td>damaged</td>\n",
       "      <td>0.6748</td>\n",
       "    </tr>\n",
       "    <tr>\n",
       "      <th>886612</th>\n",
       "      <td>-0.300269</td>\n",
       "      <td>-0.324992</td>\n",
       "      <td>0.004050</td>\n",
       "      <td>1.387887</td>\n",
       "      <td>damaged</td>\n",
       "      <td>healthy</td>\n",
       "      <td>0.5907</td>\n",
       "    </tr>\n",
       "    <tr>\n",
       "      <th>127622</th>\n",
       "      <td>-0.297965</td>\n",
       "      <td>-0.322885</td>\n",
       "      <td>0.004458</td>\n",
       "      <td>-1.088673</td>\n",
       "      <td>healthy</td>\n",
       "      <td>damaged</td>\n",
       "      <td>0.8261</td>\n",
       "    </tr>\n",
       "    <tr>\n",
       "      <th>268397</th>\n",
       "      <td>-0.300108</td>\n",
       "      <td>-0.324192</td>\n",
       "      <td>0.004575</td>\n",
       "      <td>0.269796</td>\n",
       "      <td>damaged</td>\n",
       "      <td>healthy</td>\n",
       "      <td>0.6419</td>\n",
       "    </tr>\n",
       "    <tr>\n",
       "      <th>...</th>\n",
       "      <td>...</td>\n",
       "      <td>...</td>\n",
       "      <td>...</td>\n",
       "      <td>...</td>\n",
       "      <td>...</td>\n",
       "      <td>...</td>\n",
       "      <td>...</td>\n",
       "    </tr>\n",
       "    <tr>\n",
       "      <th>376828</th>\n",
       "      <td>-0.298593</td>\n",
       "      <td>-0.324701</td>\n",
       "      <td>0.002830</td>\n",
       "      <td>0.897128</td>\n",
       "      <td>damaged</td>\n",
       "      <td>healthy</td>\n",
       "      <td>0.5939</td>\n",
       "    </tr>\n",
       "    <tr>\n",
       "      <th>717370</th>\n",
       "      <td>-0.297374</td>\n",
       "      <td>-0.323378</td>\n",
       "      <td>0.002378</td>\n",
       "      <td>0.188417</td>\n",
       "      <td>damaged</td>\n",
       "      <td>healthy</td>\n",
       "      <td>0.6753</td>\n",
       "    </tr>\n",
       "    <tr>\n",
       "      <th>843965</th>\n",
       "      <td>-0.298680</td>\n",
       "      <td>-0.323636</td>\n",
       "      <td>0.002504</td>\n",
       "      <td>-0.067419</td>\n",
       "      <td>damaged</td>\n",
       "      <td>healthy</td>\n",
       "      <td>0.5157</td>\n",
       "    </tr>\n",
       "    <tr>\n",
       "      <th>114802</th>\n",
       "      <td>-0.298712</td>\n",
       "      <td>-0.323958</td>\n",
       "      <td>0.004504</td>\n",
       "      <td>-0.743476</td>\n",
       "      <td>healthy</td>\n",
       "      <td>damaged</td>\n",
       "      <td>0.9055</td>\n",
       "    </tr>\n",
       "    <tr>\n",
       "      <th>70634</th>\n",
       "      <td>-0.296295</td>\n",
       "      <td>-0.322833</td>\n",
       "      <td>0.004640</td>\n",
       "      <td>-0.469797</td>\n",
       "      <td>healthy</td>\n",
       "      <td>damaged</td>\n",
       "      <td>0.6321</td>\n",
       "    </tr>\n",
       "  </tbody>\n",
       "</table>\n",
       "<p>12552 rows × 7 columns</p>\n",
       "</div>"
      ],
      "text/plain": [
       "        medianFreq  meanFreq  spectral_entropy  spectral_skewness    Label  \\\n",
       "92282    -0.297789 -0.323194          0.004090          -0.410506  healthy   \n",
       "147760   -0.299029 -0.324429          0.004609           0.377939  healthy   \n",
       "886612   -0.300269 -0.324992          0.004050           1.387887  damaged   \n",
       "127622   -0.297965 -0.322885          0.004458          -1.088673  healthy   \n",
       "268397   -0.300108 -0.324192          0.004575           0.269796  damaged   \n",
       "...            ...       ...               ...                ...      ...   \n",
       "376828   -0.298593 -0.324701          0.002830           0.897128  damaged   \n",
       "717370   -0.297374 -0.323378          0.002378           0.188417  damaged   \n",
       "843965   -0.298680 -0.323636          0.002504          -0.067419  damaged   \n",
       "114802   -0.298712 -0.323958          0.004504          -0.743476  healthy   \n",
       "70634    -0.296295 -0.322833          0.004640          -0.469797  healthy   \n",
       "\n",
       "       prediction_label  prediction_score  \n",
       "92282           damaged            0.7359  \n",
       "147760          damaged            0.6748  \n",
       "886612          healthy            0.5907  \n",
       "127622          damaged            0.8261  \n",
       "268397          healthy            0.6419  \n",
       "...                 ...               ...  \n",
       "376828          healthy            0.5939  \n",
       "717370          healthy            0.6753  \n",
       "843965          healthy            0.5157  \n",
       "114802          damaged            0.9055  \n",
       "70634           damaged            0.6321  \n",
       "\n",
       "[12552 rows x 7 columns]"
      ]
     },
     "execution_count": 38,
     "metadata": {},
     "output_type": "execute_result"
    }
   ],
   "source": [
    "get_incorrect_predictions(predictions_lightgbm)"
   ]
  },
  {
   "cell_type": "code",
   "execution_count": 39,
   "id": "fc1c6b85-d9d7-4701-97ff-5630773cd328",
   "metadata": {
    "scrolled": true
   },
   "outputs": [
    {
     "data": {
      "image/png": "[encoded data removed]",
      "text/plain": [
       "<Figure size 800x400 with 1 Axes>"
      ]
     },
     "metadata": {},
     "output_type": "display_data"
    },
    {
     "data": {
      "image/png": "[encoded data removed]",
      "text/plain": [
       "<Figure size 800x400 with 1 Axes>"
      ]
     },
     "metadata": {},
     "output_type": "display_data"
    },
    {
     "data": {
      "image/png": "[encoded data removed]",
      "text/plain": [
       "<Figure size 800x400 with 1 Axes>"
      ]
     },
     "metadata": {},
     "output_type": "display_data"
    },
    {
     "data": {
      "image/png": "[encoded data removed]",
      "text/plain": [
       "<Figure size 800x400 with 1 Axes>"
      ]
     },
     "metadata": {},
     "output_type": "display_data"
    }
   ],
   "source": [
    "plotPredictionHistograms(predictions_lightgbm, normalization_method)"
   ]
  },
  {
   "cell_type": "markdown",
   "id": "f08d3df1-3151-4046-8abc-d66039145875",
   "metadata": {},
   "source": [
    "## Random Forest Classifier"
   ]
  },
  {
   "cell_type": "code",
   "execution_count": 40,
   "id": "b8ebfcd8-f2e3-4e11-b42b-6a9382895bfe",
   "metadata": {},
   "outputs": [],
   "source": [
    "bestParamsRF = {\n",
    "    'bootstrap':True, \n",
    "    'ccp_alpha':0.0, \n",
    "    'class_weight':None,\n",
    "    'criterion':'gini', \n",
    "    'max_depth':None, \n",
    "    'max_features':'sqrt',\n",
    "    'max_leaf_nodes':None, \n",
    "    'max_samples':None,\n",
    "    'min_impurity_decrease':0.0, \n",
    "    'min_samples_leaf':1,\n",
    "    'min_samples_split':2, \n",
    "    'min_weight_fraction_leaf':0.0,\n",
    "    'monotonic_cst':None, \n",
    "    'n_estimators':100, \n",
    "    'n_jobs':-1,\n",
    "    'oob_score':False, \n",
    "    'random_state':1768, \n",
    "    'verbose':False,\n",
    "    'warm_start':False\n",
    "}"
   ]
  },
  {
   "cell_type": "code",
   "execution_count": 41,
   "id": "e6aa747c-a901-435f-b4ae-0e0cf24659a9",
   "metadata": {},
   "outputs": [
    {
     "name": "stderr",
     "output_type": "stream",
     "text": [
      "WARNING:root:Malformed experiment '819906245614309265'. Detailed error Yaml file 'H:\\masterarbeit_python\\mlruns\\819906245614309265\\meta.yaml' does not exist.\n",
      "Traceback (most recent call last):\n",
      "  File \"C:\\Users\\ge35yay\\.conda\\envs\\venv_masterarbeit_RMT\\Lib\\site-packages\\mlflow\\store\\tracking\\file_store.py\", line 317, in search_experiments\n",
      "    exp = self._get_experiment(exp_id, view_type)\n",
      "          ^^^^^^^^^^^^^^^^^^^^^^^^^^^^^^^^^^^^^^^\n",
      "  File \"C:\\Users\\ge35yay\\.conda\\envs\\venv_masterarbeit_RMT\\Lib\\site-packages\\mlflow\\store\\tracking\\file_store.py\", line 410, in _get_experiment\n",
      "    meta = FileStore._read_yaml(experiment_dir, FileStore.META_DATA_FILE_NAME)\n",
      "           ^^^^^^^^^^^^^^^^^^^^^^^^^^^^^^^^^^^^^^^^^^^^^^^^^^^^^^^^^^^^^^^^^^^\n",
      "  File \"C:\\Users\\ge35yay\\.conda\\envs\\venv_masterarbeit_RMT\\Lib\\site-packages\\mlflow\\store\\tracking\\file_store.py\", line 1341, in _read_yaml\n",
      "    return _read_helper(root, file_name, attempts_remaining=retries)\n",
      "           ^^^^^^^^^^^^^^^^^^^^^^^^^^^^^^^^^^^^^^^^^^^^^^^^^^^^^^^^^\n",
      "  File \"C:\\Users\\ge35yay\\.conda\\envs\\venv_masterarbeit_RMT\\Lib\\site-packages\\mlflow\\store\\tracking\\file_store.py\", line 1334, in _read_helper\n",
      "    result = read_yaml(root, file_name)\n",
      "             ^^^^^^^^^^^^^^^^^^^^^^^^^^\n",
      "  File \"C:\\Users\\ge35yay\\.conda\\envs\\venv_masterarbeit_RMT\\Lib\\site-packages\\mlflow\\utils\\file_utils.py\", line 309, in read_yaml\n",
      "    raise MissingConfigException(f\"Yaml file '{file_path}' does not exist.\")\n",
      "mlflow.exceptions.MissingConfigException: Yaml file 'H:\\masterarbeit_python\\mlruns\\819906245614309265\\meta.yaml' does not exist.\n",
      "2025/10/08 23:01:27 WARNING mlflow.models.model: Input example should be provided to infer model signature if the model signature is not provided when logging the model.\n"
     ]
    }
   ],
   "source": [
    "rf = create_model('rf', **bestParamsRF)"
   ]
  },
  {
   "cell_type": "code",
   "execution_count": 42,
   "id": "50123496-3039-4e57-9520-b92cc6865e85",
   "metadata": {},
   "outputs": [
    {
     "data": {
      "application/vnd.jupyter.widget-view+json": {
       "model_id": "25856f68f1994209a0ad09e9bf5a3942",
       "version_major": 2,
       "version_minor": 0
      },
      "text/plain": [
       "interactive(children=(ToggleButtons(description='Plot Type:', icons=('',), options=(('Pipeline Plot', 'pipelin…"
      ]
     },
     "metadata": {},
     "output_type": "display_data"
    }
   ],
   "source": [
    "evaluate_model(rf)"
   ]
  },
  {
   "cell_type": "code",
   "execution_count": 43,
   "id": "7a31be2f-b8c2-46e9-92bc-4ba605a72cc2",
   "metadata": {},
   "outputs": [
    {
     "data": {
      "text/html": [
       "<div>\n",
       "<style scoped>\n",
       "    .dataframe tbody tr th:only-of-type {\n",
       "        vertical-align: middle;\n",
       "    }\n",
       "\n",
       "    .dataframe tbody tr th {\n",
       "        vertical-align: top;\n",
       "    }\n",
       "\n",
       "    .dataframe thead th {\n",
       "        text-align: right;\n",
       "    }\n",
       "</style>\n",
       "<table border=\"1\" class=\"dataframe\">\n",
       "  <thead>\n",
       "    <tr style=\"text-align: right;\">\n",
       "      <th></th>\n",
       "      <th>Features</th>\n",
       "      <th>importance</th>\n",
       "    </tr>\n",
       "  </thead>\n",
       "  <tbody>\n",
       "    <tr>\n",
       "      <th>0</th>\n",
       "      <td>medianFreq</td>\n",
       "      <td>0.307852</td>\n",
       "    </tr>\n",
       "    <tr>\n",
       "      <th>1</th>\n",
       "      <td>meanFreq</td>\n",
       "      <td>0.276996</td>\n",
       "    </tr>\n",
       "    <tr>\n",
       "      <th>2</th>\n",
       "      <td>spectral_entropy</td>\n",
       "      <td>0.271267</td>\n",
       "    </tr>\n",
       "    <tr>\n",
       "      <th>3</th>\n",
       "      <td>spectral_skewness</td>\n",
       "      <td>0.143885</td>\n",
       "    </tr>\n",
       "  </tbody>\n",
       "</table>\n",
       "</div>"
      ],
      "text/plain": [
       "            Features  importance\n",
       "0         medianFreq    0.307852\n",
       "1           meanFreq    0.276996\n",
       "2   spectral_entropy    0.271267\n",
       "3  spectral_skewness    0.143885"
      ]
     },
     "execution_count": 43,
     "metadata": {},
     "output_type": "execute_result"
    }
   ],
   "source": [
    "rf_top_features = get_feature_importance_df(rf, features_df_training_normalized)\n",
    "rf_top_features"
   ]
  },
  {
   "cell_type": "code",
   "execution_count": 44,
   "id": "8a0b1e76-db8c-45e1-8a59-362754fa933f",
   "metadata": {},
   "outputs": [],
   "source": [
    "add_top_features(rf_top_features, top_n=3)"
   ]
  },
  {
   "cell_type": "code",
   "execution_count": 45,
   "id": "060184ac-0592-45f2-a49c-396cbc9bbfb1",
   "metadata": {},
   "outputs": [
    {
     "data": {
      "text/html": [],
      "text/plain": [
       "<IPython.core.display.HTML object>"
      ]
     },
     "metadata": {},
     "output_type": "display_data"
    },
    {
     "data": {
      "image/png": "[encoded data removed]",
      "text/plain": [
       "<Figure size 800x500 with 1 Axes>"
      ]
     },
     "metadata": {},
     "output_type": "display_data"
    }
   ],
   "source": [
    "plot_model(rf, plot='feature')"
   ]
  },
  {
   "cell_type": "code",
   "execution_count": 46,
   "id": "411317bd-bd93-44f1-819e-00c4a2c06aa8",
   "metadata": {},
   "outputs": [
    {
     "data": {
      "text/html": [],
      "text/plain": [
       "<IPython.core.display.HTML object>"
      ]
     },
     "metadata": {},
     "output_type": "display_data"
    },
    {
     "data": {
      "image/png": "[encoded data removed]",
      "text/plain": [
       "<Figure size 800x550 with 1 Axes>"
      ]
     },
     "metadata": {},
     "output_type": "display_data"
    }
   ],
   "source": [
    "plot_model(rf, plot='confusion_matrix')"
   ]
  },
  {
   "cell_type": "code",
   "execution_count": 47,
   "id": "b3e8fcdb-1e5a-4ef1-9c0f-538581f3f210",
   "metadata": {},
   "outputs": [
    {
     "data": {
      "text/html": [
       "<style type=\"text/css\">\n",
       "</style>\n",
       "<table id=\"T_ca31e\">\n",
       "  <thead>\n",
       "    <tr>\n",
       "      <th class=\"blank level0\" >&nbsp;</th>\n",
       "      <th id=\"T_ca31e_level0_col0\" class=\"col_heading level0 col0\" >Model</th>\n",
       "      <th id=\"T_ca31e_level0_col1\" class=\"col_heading level0 col1\" >Accuracy</th>\n",
       "      <th id=\"T_ca31e_level0_col2\" class=\"col_heading level0 col2\" >AUC</th>\n",
       "      <th id=\"T_ca31e_level0_col3\" class=\"col_heading level0 col3\" >Recall</th>\n",
       "      <th id=\"T_ca31e_level0_col4\" class=\"col_heading level0 col4\" >Prec.</th>\n",
       "      <th id=\"T_ca31e_level0_col5\" class=\"col_heading level0 col5\" >F1</th>\n",
       "      <th id=\"T_ca31e_level0_col6\" class=\"col_heading level0 col6\" >Kappa</th>\n",
       "      <th id=\"T_ca31e_level0_col7\" class=\"col_heading level0 col7\" >MCC</th>\n",
       "      <th id=\"T_ca31e_level0_col8\" class=\"col_heading level0 col8\" >Balance Acc</th>\n",
       "      <th id=\"T_ca31e_level0_col9\" class=\"col_heading level0 col9\" >Hamming Loss</th>\n",
       "      <th id=\"T_ca31e_level0_col10\" class=\"col_heading level0 col10\" >Jaccard Score</th>\n",
       "      <th id=\"T_ca31e_level0_col11\" class=\"col_heading level0 col11\" >Log Loss</th>\n",
       "    </tr>\n",
       "  </thead>\n",
       "  <tbody>\n",
       "    <tr>\n",
       "      <th id=\"T_ca31e_level0_row0\" class=\"row_heading level0 row0\" >0</th>\n",
       "      <td id=\"T_ca31e_row0_col0\" class=\"data row0 col0\" >Random Forest Classifier</td>\n",
       "      <td id=\"T_ca31e_row0_col1\" class=\"data row0 col1\" >0.9657</td>\n",
       "      <td id=\"T_ca31e_row0_col2\" class=\"data row0 col2\" >0.9929</td>\n",
       "      <td id=\"T_ca31e_row0_col3\" class=\"data row0 col3\" >0.9657</td>\n",
       "      <td id=\"T_ca31e_row0_col4\" class=\"data row0 col4\" >0.9654</td>\n",
       "      <td id=\"T_ca31e_row0_col5\" class=\"data row0 col5\" >0.9655</td>\n",
       "      <td id=\"T_ca31e_row0_col6\" class=\"data row0 col6\" >0.8968</td>\n",
       "      <td id=\"T_ca31e_row0_col7\" class=\"data row0 col7\" >0.8970</td>\n",
       "      <td id=\"T_ca31e_row0_col8\" class=\"data row0 col8\" >0.9422</td>\n",
       "      <td id=\"T_ca31e_row0_col9\" class=\"data row0 col9\" >0.0343</td>\n",
       "      <td id=\"T_ca31e_row0_col10\" class=\"data row0 col10\" >0.8492</td>\n",
       "      <td id=\"T_ca31e_row0_col11\" class=\"data row0 col11\" >0.0934</td>\n",
       "    </tr>\n",
       "  </tbody>\n",
       "</table>\n"
      ],
      "text/plain": [
       "<pandas.io.formats.style.Styler at 0x21d840d19d0>"
      ]
     },
     "metadata": {},
     "output_type": "display_data"
    }
   ],
   "source": [
    "predictions_rf = predict_model(rf, data = features_df_testing_normalized)"
   ]
  },
  {
   "cell_type": "code",
   "execution_count": 81,
   "id": "975f9b6a-9dcb-45ed-909d-9ea0eedf6c38",
   "metadata": {},
   "outputs": [
    {
     "data": {
      "text/html": [
       "<style type=\"text/css\">\n",
       "</style>\n",
       "<table id=\"T_822eb\">\n",
       "  <thead>\n",
       "    <tr>\n",
       "      <th class=\"blank level0\" >&nbsp;</th>\n",
       "      <th id=\"T_822eb_level0_col0\" class=\"col_heading level0 col0\" >Model</th>\n",
       "      <th id=\"T_822eb_level0_col1\" class=\"col_heading level0 col1\" >Accuracy</th>\n",
       "      <th id=\"T_822eb_level0_col2\" class=\"col_heading level0 col2\" >AUC</th>\n",
       "      <th id=\"T_822eb_level0_col3\" class=\"col_heading level0 col3\" >Recall</th>\n",
       "      <th id=\"T_822eb_level0_col4\" class=\"col_heading level0 col4\" >Prec.</th>\n",
       "      <th id=\"T_822eb_level0_col5\" class=\"col_heading level0 col5\" >F1</th>\n",
       "      <th id=\"T_822eb_level0_col6\" class=\"col_heading level0 col6\" >Kappa</th>\n",
       "      <th id=\"T_822eb_level0_col7\" class=\"col_heading level0 col7\" >MCC</th>\n",
       "      <th id=\"T_822eb_level0_col8\" class=\"col_heading level0 col8\" >Balance Acc</th>\n",
       "      <th id=\"T_822eb_level0_col9\" class=\"col_heading level0 col9\" >Hamming Loss</th>\n",
       "      <th id=\"T_822eb_level0_col10\" class=\"col_heading level0 col10\" >Jaccard Score</th>\n",
       "      <th id=\"T_822eb_level0_col11\" class=\"col_heading level0 col11\" >Log Loss</th>\n",
       "    </tr>\n",
       "  </thead>\n",
       "  <tbody>\n",
       "    <tr>\n",
       "      <th id=\"T_822eb_level0_row0\" class=\"row_heading level0 row0\" >0</th>\n",
       "      <td id=\"T_822eb_row0_col0\" class=\"data row0 col0\" >Random Forest Classifier</td>\n",
       "      <td id=\"T_822eb_row0_col1\" class=\"data row0 col1\" >0.7308</td>\n",
       "      <td id=\"T_822eb_row0_col2\" class=\"data row0 col2\" >0.5795</td>\n",
       "      <td id=\"T_822eb_row0_col3\" class=\"data row0 col3\" >0.7308</td>\n",
       "      <td id=\"T_822eb_row0_col4\" class=\"data row0 col4\" >0.6321</td>\n",
       "      <td id=\"T_822eb_row0_col5\" class=\"data row0 col5\" >0.6435</td>\n",
       "      <td id=\"T_822eb_row0_col6\" class=\"data row0 col6\" >0.0115</td>\n",
       "      <td id=\"T_822eb_row0_col7\" class=\"data row0 col7\" >0.0205</td>\n",
       "      <td id=\"T_822eb_row0_col8\" class=\"data row0 col8\" >0.5041</td>\n",
       "      <td id=\"T_822eb_row0_col9\" class=\"data row0 col9\" >0.2692</td>\n",
       "      <td id=\"T_822eb_row0_col10\" class=\"data row0 col10\" >0.0349</td>\n",
       "      <td id=\"T_822eb_row0_col11\" class=\"data row0 col11\" >1.6877</td>\n",
       "    </tr>\n",
       "  </tbody>\n",
       "</table>\n"
      ],
      "text/plain": [
       "<pandas.io.formats.style.Styler at 0x21de3101350>"
      ]
     },
     "metadata": {},
     "output_type": "display_data"
    }
   ],
   "source": [
    "predictions_rf_HBK = predict_model(rf, data = normalized_HBK)"
   ]
  },
  {
   "cell_type": "code",
   "execution_count": 49,
   "id": "cf2e3f83-9862-4057-b4c5-63a5db537597",
   "metadata": {},
   "outputs": [
    {
     "data": {
      "text/html": [
       "<style type=\"text/css\">\n",
       "</style>\n",
       "<table id=\"T_ac3e0\">\n",
       "  <thead>\n",
       "    <tr>\n",
       "      <th class=\"blank level0\" >&nbsp;</th>\n",
       "      <th id=\"T_ac3e0_level0_col0\" class=\"col_heading level0 col0\" >Model</th>\n",
       "      <th id=\"T_ac3e0_level0_col1\" class=\"col_heading level0 col1\" >Accuracy</th>\n",
       "      <th id=\"T_ac3e0_level0_col2\" class=\"col_heading level0 col2\" >AUC</th>\n",
       "      <th id=\"T_ac3e0_level0_col3\" class=\"col_heading level0 col3\" >Recall</th>\n",
       "      <th id=\"T_ac3e0_level0_col4\" class=\"col_heading level0 col4\" >Prec.</th>\n",
       "      <th id=\"T_ac3e0_level0_col5\" class=\"col_heading level0 col5\" >F1</th>\n",
       "      <th id=\"T_ac3e0_level0_col6\" class=\"col_heading level0 col6\" >Kappa</th>\n",
       "      <th id=\"T_ac3e0_level0_col7\" class=\"col_heading level0 col7\" >MCC</th>\n",
       "      <th id=\"T_ac3e0_level0_col8\" class=\"col_heading level0 col8\" >Balance Acc</th>\n",
       "      <th id=\"T_ac3e0_level0_col9\" class=\"col_heading level0 col9\" >Hamming Loss</th>\n",
       "      <th id=\"T_ac3e0_level0_col10\" class=\"col_heading level0 col10\" >Jaccard Score</th>\n",
       "      <th id=\"T_ac3e0_level0_col11\" class=\"col_heading level0 col11\" >Log Loss</th>\n",
       "    </tr>\n",
       "  </thead>\n",
       "  <tbody>\n",
       "    <tr>\n",
       "      <th id=\"T_ac3e0_level0_row0\" class=\"row_heading level0 row0\" >0</th>\n",
       "      <td id=\"T_ac3e0_row0_col0\" class=\"data row0 col0\" >Random Forest Classifier</td>\n",
       "      <td id=\"T_ac3e0_row0_col1\" class=\"data row0 col1\" >0.8196</td>\n",
       "      <td id=\"T_ac3e0_row0_col2\" class=\"data row0 col2\" >0.4945</td>\n",
       "      <td id=\"T_ac3e0_row0_col3\" class=\"data row0 col3\" >0.8196</td>\n",
       "      <td id=\"T_ac3e0_row0_col4\" class=\"data row0 col4\" >0.7190</td>\n",
       "      <td id=\"T_ac3e0_row0_col5\" class=\"data row0 col5\" >0.7557</td>\n",
       "      <td id=\"T_ac3e0_row0_col6\" class=\"data row0 col6\" >-0.0038</td>\n",
       "      <td id=\"T_ac3e0_row0_col7\" class=\"data row0 col7\" >-0.0066</td>\n",
       "      <td id=\"T_ac3e0_row0_col8\" class=\"data row0 col8\" >0.4988</td>\n",
       "      <td id=\"T_ac3e0_row0_col9\" class=\"data row0 col9\" >0.1804</td>\n",
       "      <td id=\"T_ac3e0_row0_col10\" class=\"data row0 col10\" >0.0160</td>\n",
       "      <td id=\"T_ac3e0_row0_col11\" class=\"data row0 col11\" >1.9074</td>\n",
       "    </tr>\n",
       "  </tbody>\n",
       "</table>\n"
      ],
      "text/plain": [
       "<pandas.io.formats.style.Styler at 0x21d840d1710>"
      ]
     },
     "metadata": {},
     "output_type": "display_data"
    }
   ],
   "source": [
    "predictions_rf_MCC5 = predict_model(rf, data = normalized_MCC5)"
   ]
  },
  {
   "cell_type": "code",
   "execution_count": 50,
   "id": "fc2f4d83-272f-4b78-a3fa-f351cddf7020",
   "metadata": {},
   "outputs": [
    {
     "data": {
      "text/html": [
       "<div>\n",
       "<style scoped>\n",
       "    .dataframe tbody tr th:only-of-type {\n",
       "        vertical-align: middle;\n",
       "    }\n",
       "\n",
       "    .dataframe tbody tr th {\n",
       "        vertical-align: top;\n",
       "    }\n",
       "\n",
       "    .dataframe thead th {\n",
       "        text-align: right;\n",
       "    }\n",
       "</style>\n",
       "<table border=\"1\" class=\"dataframe\">\n",
       "  <thead>\n",
       "    <tr style=\"text-align: right;\">\n",
       "      <th></th>\n",
       "      <th>medianFreq</th>\n",
       "      <th>meanFreq</th>\n",
       "      <th>spectral_entropy</th>\n",
       "      <th>spectral_skewness</th>\n",
       "      <th>Label</th>\n",
       "      <th>prediction_label</th>\n",
       "      <th>prediction_score</th>\n",
       "    </tr>\n",
       "  </thead>\n",
       "  <tbody>\n",
       "    <tr>\n",
       "      <th>159597</th>\n",
       "      <td>-0.296804</td>\n",
       "      <td>-0.322633</td>\n",
       "      <td>0.003390</td>\n",
       "      <td>0.101494</td>\n",
       "      <td>healthy</td>\n",
       "      <td>damaged</td>\n",
       "      <td>0.62</td>\n",
       "    </tr>\n",
       "    <tr>\n",
       "      <th>714157</th>\n",
       "      <td>-0.297405</td>\n",
       "      <td>-0.323475</td>\n",
       "      <td>0.002152</td>\n",
       "      <td>0.554510</td>\n",
       "      <td>damaged</td>\n",
       "      <td>healthy</td>\n",
       "      <td>0.80</td>\n",
       "    </tr>\n",
       "    <tr>\n",
       "      <th>258515</th>\n",
       "      <td>-0.300099</td>\n",
       "      <td>-0.324926</td>\n",
       "      <td>0.004550</td>\n",
       "      <td>0.840666</td>\n",
       "      <td>damaged</td>\n",
       "      <td>healthy</td>\n",
       "      <td>0.68</td>\n",
       "    </tr>\n",
       "    <tr>\n",
       "      <th>836584</th>\n",
       "      <td>-0.299518</td>\n",
       "      <td>-0.324238</td>\n",
       "      <td>0.004451</td>\n",
       "      <td>0.661012</td>\n",
       "      <td>damaged</td>\n",
       "      <td>healthy</td>\n",
       "      <td>0.51</td>\n",
       "    </tr>\n",
       "    <tr>\n",
       "      <th>389362</th>\n",
       "      <td>-0.298702</td>\n",
       "      <td>-0.323755</td>\n",
       "      <td>0.004453</td>\n",
       "      <td>-0.376828</td>\n",
       "      <td>damaged</td>\n",
       "      <td>healthy</td>\n",
       "      <td>0.59</td>\n",
       "    </tr>\n",
       "    <tr>\n",
       "      <th>...</th>\n",
       "      <td>...</td>\n",
       "      <td>...</td>\n",
       "      <td>...</td>\n",
       "      <td>...</td>\n",
       "      <td>...</td>\n",
       "      <td>...</td>\n",
       "      <td>...</td>\n",
       "    </tr>\n",
       "    <tr>\n",
       "      <th>423576</th>\n",
       "      <td>-0.297864</td>\n",
       "      <td>-0.323875</td>\n",
       "      <td>0.004427</td>\n",
       "      <td>-0.832707</td>\n",
       "      <td>damaged</td>\n",
       "      <td>healthy</td>\n",
       "      <td>0.95</td>\n",
       "    </tr>\n",
       "    <tr>\n",
       "      <th>167298</th>\n",
       "      <td>-0.297053</td>\n",
       "      <td>-0.322824</td>\n",
       "      <td>0.003518</td>\n",
       "      <td>-0.007107</td>\n",
       "      <td>healthy</td>\n",
       "      <td>damaged</td>\n",
       "      <td>0.71</td>\n",
       "    </tr>\n",
       "    <tr>\n",
       "      <th>376828</th>\n",
       "      <td>-0.298593</td>\n",
       "      <td>-0.324701</td>\n",
       "      <td>0.002830</td>\n",
       "      <td>0.897128</td>\n",
       "      <td>damaged</td>\n",
       "      <td>healthy</td>\n",
       "      <td>0.51</td>\n",
       "    </tr>\n",
       "    <tr>\n",
       "      <th>717370</th>\n",
       "      <td>-0.297374</td>\n",
       "      <td>-0.323378</td>\n",
       "      <td>0.002378</td>\n",
       "      <td>0.188417</td>\n",
       "      <td>damaged</td>\n",
       "      <td>healthy</td>\n",
       "      <td>0.96</td>\n",
       "    </tr>\n",
       "    <tr>\n",
       "      <th>114802</th>\n",
       "      <td>-0.298712</td>\n",
       "      <td>-0.323958</td>\n",
       "      <td>0.004504</td>\n",
       "      <td>-0.743476</td>\n",
       "      <td>healthy</td>\n",
       "      <td>damaged</td>\n",
       "      <td>0.69</td>\n",
       "    </tr>\n",
       "  </tbody>\n",
       "</table>\n",
       "<p>6533 rows × 7 columns</p>\n",
       "</div>"
      ],
      "text/plain": [
       "        medianFreq  meanFreq  spectral_entropy  spectral_skewness    Label  \\\n",
       "159597   -0.296804 -0.322633          0.003390           0.101494  healthy   \n",
       "714157   -0.297405 -0.323475          0.002152           0.554510  damaged   \n",
       "258515   -0.300099 -0.324926          0.004550           0.840666  damaged   \n",
       "836584   -0.299518 -0.324238          0.004451           0.661012  damaged   \n",
       "389362   -0.298702 -0.323755          0.004453          -0.376828  damaged   \n",
       "...            ...       ...               ...                ...      ...   \n",
       "423576   -0.297864 -0.323875          0.004427          -0.832707  damaged   \n",
       "167298   -0.297053 -0.322824          0.003518          -0.007107  healthy   \n",
       "376828   -0.298593 -0.324701          0.002830           0.897128  damaged   \n",
       "717370   -0.297374 -0.323378          0.002378           0.188417  damaged   \n",
       "114802   -0.298712 -0.323958          0.004504          -0.743476  healthy   \n",
       "\n",
       "       prediction_label  prediction_score  \n",
       "159597          damaged              0.62  \n",
       "714157          healthy              0.80  \n",
       "258515          healthy              0.68  \n",
       "836584          healthy              0.51  \n",
       "389362          healthy              0.59  \n",
       "...                 ...               ...  \n",
       "423576          healthy              0.95  \n",
       "167298          damaged              0.71  \n",
       "376828          healthy              0.51  \n",
       "717370          healthy              0.96  \n",
       "114802          damaged              0.69  \n",
       "\n",
       "[6533 rows x 7 columns]"
      ]
     },
     "execution_count": 50,
     "metadata": {},
     "output_type": "execute_result"
    }
   ],
   "source": [
    "get_incorrect_predictions(predictions_rf)"
   ]
  },
  {
   "cell_type": "code",
   "execution_count": 51,
   "id": "4f14fe8e-27de-410a-8a3e-e2529224f3c1",
   "metadata": {
    "scrolled": true
   },
   "outputs": [
    {
     "data": {
      "image/png": "[encoded data removed]",
      "text/plain": [
       "<Figure size 800x400 with 1 Axes>"
      ]
     },
     "metadata": {},
     "output_type": "display_data"
    },
    {
     "data": {
      "image/png": "[encoded data removed]",
      "text/plain": [
       "<Figure size 800x400 with 1 Axes>"
      ]
     },
     "metadata": {},
     "output_type": "display_data"
    },
    {
     "data": {
      "image/png": "[encoded data removed]",
      "text/plain": [
       "<Figure size 800x400 with 1 Axes>"
      ]
     },
     "metadata": {},
     "output_type": "display_data"
    },
    {
     "data": {
      "image/png": "[encoded data removed]",
      "text/plain": [
       "<Figure size 800x400 with 1 Axes>"
      ]
     },
     "metadata": {},
     "output_type": "display_data"
    }
   ],
   "source": [
    "plotPredictionHistograms(predictions_rf, normalization_method)"
   ]
  },
  {
   "cell_type": "markdown",
   "id": "ecdc359a-4de6-48f8-a573-41c6d084a7ca",
   "metadata": {},
   "source": [
    "## SVM"
   ]
  },
  {
   "cell_type": "code",
   "execution_count": 52,
   "id": "4cc4f7da-ad52-47e9-92d0-fb7ac7d29c44",
   "metadata": {},
   "outputs": [],
   "source": [
    "bestParamsSVM = {\n",
    "    'alpha':1.983570694577895e-06, \n",
    "    'average':False, \n",
    "    'class_weight':None,\n",
    "    'early_stopping':False, \n",
    "    'epsilon':0.1, \n",
    "    'eta0':0.050879465480455605,\n",
    "    'fit_intercept':True, \n",
    "    'l1_ratio':0.3264919553269943,\n",
    "    'learning_rate':'adaptive', \n",
    "    'loss':'hinge', \n",
    "    'max_iter':1000,\n",
    "    'n_iter_no_change':5, \n",
    "    'n_jobs':-1, \n",
    "    'penalty':'l2', \n",
    "    'power_t':0.5,\n",
    "    'random_state':1768, \n",
    "    'shuffle':True, \n",
    "    'tol':0.001,\n",
    "    'validation_fraction':0.1, \n",
    "    'verbose':False, \n",
    "    'warm_start':False\n",
    "}"
   ]
  },
  {
   "cell_type": "code",
   "execution_count": 53,
   "id": "811f8d9f-491d-4f38-9ce9-e06344b3ac41",
   "metadata": {},
   "outputs": [
    {
     "name": "stderr",
     "output_type": "stream",
     "text": [
      "WARNING:root:Malformed experiment '819906245614309265'. Detailed error Yaml file 'H:\\masterarbeit_python\\mlruns\\819906245614309265\\meta.yaml' does not exist.\n",
      "Traceback (most recent call last):\n",
      "  File \"C:\\Users\\ge35yay\\.conda\\envs\\venv_masterarbeit_RMT\\Lib\\site-packages\\mlflow\\store\\tracking\\file_store.py\", line 317, in search_experiments\n",
      "    exp = self._get_experiment(exp_id, view_type)\n",
      "          ^^^^^^^^^^^^^^^^^^^^^^^^^^^^^^^^^^^^^^^\n",
      "  File \"C:\\Users\\ge35yay\\.conda\\envs\\venv_masterarbeit_RMT\\Lib\\site-packages\\mlflow\\store\\tracking\\file_store.py\", line 410, in _get_experiment\n",
      "    meta = FileStore._read_yaml(experiment_dir, FileStore.META_DATA_FILE_NAME)\n",
      "           ^^^^^^^^^^^^^^^^^^^^^^^^^^^^^^^^^^^^^^^^^^^^^^^^^^^^^^^^^^^^^^^^^^^\n",
      "  File \"C:\\Users\\ge35yay\\.conda\\envs\\venv_masterarbeit_RMT\\Lib\\site-packages\\mlflow\\store\\tracking\\file_store.py\", line 1341, in _read_yaml\n",
      "    return _read_helper(root, file_name, attempts_remaining=retries)\n",
      "           ^^^^^^^^^^^^^^^^^^^^^^^^^^^^^^^^^^^^^^^^^^^^^^^^^^^^^^^^^\n",
      "  File \"C:\\Users\\ge35yay\\.conda\\envs\\venv_masterarbeit_RMT\\Lib\\site-packages\\mlflow\\store\\tracking\\file_store.py\", line 1334, in _read_helper\n",
      "    result = read_yaml(root, file_name)\n",
      "             ^^^^^^^^^^^^^^^^^^^^^^^^^^\n",
      "  File \"C:\\Users\\ge35yay\\.conda\\envs\\venv_masterarbeit_RMT\\Lib\\site-packages\\mlflow\\utils\\file_utils.py\", line 309, in read_yaml\n",
      "    raise MissingConfigException(f\"Yaml file '{file_path}' does not exist.\")\n",
      "mlflow.exceptions.MissingConfigException: Yaml file 'H:\\masterarbeit_python\\mlruns\\819906245614309265\\meta.yaml' does not exist.\n",
      "2025/10/08 23:04:25 WARNING mlflow.models.model: Input example should be provided to infer model signature if the model signature is not provided when logging the model.\n"
     ]
    }
   ],
   "source": [
    "svm = create_model('svm', **bestParamsSVM)"
   ]
  },
  {
   "cell_type": "code",
   "execution_count": 54,
   "id": "2d6dd58a-03ef-438f-9194-e28dc7e12d6c",
   "metadata": {},
   "outputs": [
    {
     "data": {
      "application/vnd.jupyter.widget-view+json": {
       "model_id": "d9cf6dd58fbb498dbceec254e03da41b",
       "version_major": 2,
       "version_minor": 0
      },
      "text/plain": [
       "interactive(children=(ToggleButtons(description='Plot Type:', icons=('',), options=(('Pipeline Plot', 'pipelin…"
      ]
     },
     "metadata": {},
     "output_type": "display_data"
    }
   ],
   "source": [
    "evaluate_model(svm)"
   ]
  },
  {
   "cell_type": "code",
   "execution_count": 55,
   "id": "d9398024-1520-47e6-b08f-0317be58ede0",
   "metadata": {},
   "outputs": [
    {
     "data": {
      "text/html": [],
      "text/plain": [
       "<IPython.core.display.HTML object>"
      ]
     },
     "metadata": {},
     "output_type": "display_data"
    },
    {
     "data": {
      "image/png": "[encoded data removed]",
      "text/plain": [
       "<Figure size 800x500 with 1 Axes>"
      ]
     },
     "metadata": {},
     "output_type": "display_data"
    }
   ],
   "source": [
    "plot_model(svm, plot='feature')"
   ]
  },
  {
   "cell_type": "code",
   "execution_count": 56,
   "id": "72c8ad8f-abb7-454c-9901-05ecc9e1457e",
   "metadata": {},
   "outputs": [
    {
     "data": {
      "text/html": [],
      "text/plain": [
       "<IPython.core.display.HTML object>"
      ]
     },
     "metadata": {},
     "output_type": "display_data"
    },
    {
     "data": {
      "image/png": "[encoded data removed]",
      "text/plain": [
       "<Figure size 800x550 with 1 Axes>"
      ]
     },
     "metadata": {},
     "output_type": "display_data"
    }
   ],
   "source": [
    "plot_model(svm, plot='confusion_matrix')"
   ]
  },
  {
   "cell_type": "code",
   "execution_count": 57,
   "id": "049dda80-ba01-474f-b66d-250dcb0e8d63",
   "metadata": {},
   "outputs": [
    {
     "data": {
      "text/html": [
       "<style type=\"text/css\">\n",
       "</style>\n",
       "<table id=\"T_681e0\">\n",
       "  <thead>\n",
       "    <tr>\n",
       "      <th class=\"blank level0\" >&nbsp;</th>\n",
       "      <th id=\"T_681e0_level0_col0\" class=\"col_heading level0 col0\" >Model</th>\n",
       "      <th id=\"T_681e0_level0_col1\" class=\"col_heading level0 col1\" >Accuracy</th>\n",
       "      <th id=\"T_681e0_level0_col2\" class=\"col_heading level0 col2\" >AUC</th>\n",
       "      <th id=\"T_681e0_level0_col3\" class=\"col_heading level0 col3\" >Recall</th>\n",
       "      <th id=\"T_681e0_level0_col4\" class=\"col_heading level0 col4\" >Prec.</th>\n",
       "      <th id=\"T_681e0_level0_col5\" class=\"col_heading level0 col5\" >F1</th>\n",
       "      <th id=\"T_681e0_level0_col6\" class=\"col_heading level0 col6\" >Kappa</th>\n",
       "      <th id=\"T_681e0_level0_col7\" class=\"col_heading level0 col7\" >MCC</th>\n",
       "      <th id=\"T_681e0_level0_col8\" class=\"col_heading level0 col8\" >Balance Acc</th>\n",
       "      <th id=\"T_681e0_level0_col9\" class=\"col_heading level0 col9\" >Hamming Loss</th>\n",
       "      <th id=\"T_681e0_level0_col10\" class=\"col_heading level0 col10\" >Jaccard Score</th>\n",
       "      <th id=\"T_681e0_level0_col11\" class=\"col_heading level0 col11\" >Log Loss</th>\n",
       "    </tr>\n",
       "  </thead>\n",
       "  <tbody>\n",
       "    <tr>\n",
       "      <th id=\"T_681e0_level0_row0\" class=\"row_heading level0 row0\" >0</th>\n",
       "      <td id=\"T_681e0_row0_col0\" class=\"data row0 col0\" >SVM - Linear Kernel</td>\n",
       "      <td id=\"T_681e0_row0_col1\" class=\"data row0 col1\" >0.7858</td>\n",
       "      <td id=\"T_681e0_row0_col2\" class=\"data row0 col2\" >0</td>\n",
       "      <td id=\"T_681e0_row0_col3\" class=\"data row0 col3\" >0.7858</td>\n",
       "      <td id=\"T_681e0_row0_col4\" class=\"data row0 col4\" >0.6175</td>\n",
       "      <td id=\"T_681e0_row0_col5\" class=\"data row0 col5\" >0.6916</td>\n",
       "      <td id=\"T_681e0_row0_col6\" class=\"data row0 col6\" >0.0000</td>\n",
       "      <td id=\"T_681e0_row0_col7\" class=\"data row0 col7\" >0.0000</td>\n",
       "      <td id=\"T_681e0_row0_col8\" class=\"data row0 col8\" >0.5000</td>\n",
       "      <td id=\"T_681e0_row0_col9\" class=\"data row0 col9\" >0.2142</td>\n",
       "      <td id=\"T_681e0_row0_col10\" class=\"data row0 col10\" >0.0000</td>\n",
       "      <td id=\"T_681e0_row0_col11\" class=\"data row0 col11\" >0</td>\n",
       "    </tr>\n",
       "  </tbody>\n",
       "</table>\n"
      ],
      "text/plain": [
       "<pandas.io.formats.style.Styler at 0x21d83f69b90>"
      ]
     },
     "metadata": {},
     "output_type": "display_data"
    }
   ],
   "source": [
    "predictions_svm = predict_model(svm, data=features_df_testing_normalized)"
   ]
  },
  {
   "cell_type": "code",
   "execution_count": 82,
   "id": "1fb9b68f-5eb9-4e38-8d40-6f341272816c",
   "metadata": {},
   "outputs": [
    {
     "data": {
      "text/html": [
       "<style type=\"text/css\">\n",
       "</style>\n",
       "<table id=\"T_f193b\">\n",
       "  <thead>\n",
       "    <tr>\n",
       "      <th class=\"blank level0\" >&nbsp;</th>\n",
       "      <th id=\"T_f193b_level0_col0\" class=\"col_heading level0 col0\" >Model</th>\n",
       "      <th id=\"T_f193b_level0_col1\" class=\"col_heading level0 col1\" >Accuracy</th>\n",
       "      <th id=\"T_f193b_level0_col2\" class=\"col_heading level0 col2\" >AUC</th>\n",
       "      <th id=\"T_f193b_level0_col3\" class=\"col_heading level0 col3\" >Recall</th>\n",
       "      <th id=\"T_f193b_level0_col4\" class=\"col_heading level0 col4\" >Prec.</th>\n",
       "      <th id=\"T_f193b_level0_col5\" class=\"col_heading level0 col5\" >F1</th>\n",
       "      <th id=\"T_f193b_level0_col6\" class=\"col_heading level0 col6\" >Kappa</th>\n",
       "      <th id=\"T_f193b_level0_col7\" class=\"col_heading level0 col7\" >MCC</th>\n",
       "      <th id=\"T_f193b_level0_col8\" class=\"col_heading level0 col8\" >Balance Acc</th>\n",
       "      <th id=\"T_f193b_level0_col9\" class=\"col_heading level0 col9\" >Hamming Loss</th>\n",
       "      <th id=\"T_f193b_level0_col10\" class=\"col_heading level0 col10\" >Jaccard Score</th>\n",
       "      <th id=\"T_f193b_level0_col11\" class=\"col_heading level0 col11\" >Log Loss</th>\n",
       "    </tr>\n",
       "  </thead>\n",
       "  <tbody>\n",
       "    <tr>\n",
       "      <th id=\"T_f193b_level0_row0\" class=\"row_heading level0 row0\" >0</th>\n",
       "      <td id=\"T_f193b_row0_col0\" class=\"data row0 col0\" >SVM - Linear Kernel</td>\n",
       "      <td id=\"T_f193b_row0_col1\" class=\"data row0 col1\" >0.5592</td>\n",
       "      <td id=\"T_f193b_row0_col2\" class=\"data row0 col2\" >0</td>\n",
       "      <td id=\"T_f193b_row0_col3\" class=\"data row0 col3\" >0.5592</td>\n",
       "      <td id=\"T_f193b_row0_col4\" class=\"data row0 col4\" >0.5091</td>\n",
       "      <td id=\"T_f193b_row0_col5\" class=\"data row0 col5\" >0.5330</td>\n",
       "      <td id=\"T_f193b_row0_col6\" class=\"data row0 col6\" >-0.2729</td>\n",
       "      <td id=\"T_f193b_row0_col7\" class=\"data row0 col7\" >-0.2791</td>\n",
       "      <td id=\"T_f193b_row0_col8\" class=\"data row0 col8\" >0.3763</td>\n",
       "      <td id=\"T_f193b_row0_col9\" class=\"data row0 col9\" >0.4408</td>\n",
       "      <td id=\"T_f193b_row0_col10\" class=\"data row0 col10\" >0.0000</td>\n",
       "      <td id=\"T_f193b_row0_col11\" class=\"data row0 col11\" >0</td>\n",
       "    </tr>\n",
       "  </tbody>\n",
       "</table>\n"
      ],
      "text/plain": [
       "<pandas.io.formats.style.Styler at 0x21de316e990>"
      ]
     },
     "metadata": {},
     "output_type": "display_data"
    }
   ],
   "source": [
    "predictions_svm_HBK = predict_model(svm, data=normalized_HBK)"
   ]
  },
  {
   "cell_type": "code",
   "execution_count": 59,
   "id": "54d4fc9a-8957-4c08-8099-8b2c77205c98",
   "metadata": {},
   "outputs": [
    {
     "data": {
      "text/html": [
       "<style type=\"text/css\">\n",
       "</style>\n",
       "<table id=\"T_78011\">\n",
       "  <thead>\n",
       "    <tr>\n",
       "      <th class=\"blank level0\" >&nbsp;</th>\n",
       "      <th id=\"T_78011_level0_col0\" class=\"col_heading level0 col0\" >Model</th>\n",
       "      <th id=\"T_78011_level0_col1\" class=\"col_heading level0 col1\" >Accuracy</th>\n",
       "      <th id=\"T_78011_level0_col2\" class=\"col_heading level0 col2\" >AUC</th>\n",
       "      <th id=\"T_78011_level0_col3\" class=\"col_heading level0 col3\" >Recall</th>\n",
       "      <th id=\"T_78011_level0_col4\" class=\"col_heading level0 col4\" >Prec.</th>\n",
       "      <th id=\"T_78011_level0_col5\" class=\"col_heading level0 col5\" >F1</th>\n",
       "      <th id=\"T_78011_level0_col6\" class=\"col_heading level0 col6\" >Kappa</th>\n",
       "      <th id=\"T_78011_level0_col7\" class=\"col_heading level0 col7\" >MCC</th>\n",
       "      <th id=\"T_78011_level0_col8\" class=\"col_heading level0 col8\" >Balance Acc</th>\n",
       "      <th id=\"T_78011_level0_col9\" class=\"col_heading level0 col9\" >Hamming Loss</th>\n",
       "      <th id=\"T_78011_level0_col10\" class=\"col_heading level0 col10\" >Jaccard Score</th>\n",
       "      <th id=\"T_78011_level0_col11\" class=\"col_heading level0 col11\" >Log Loss</th>\n",
       "    </tr>\n",
       "  </thead>\n",
       "  <tbody>\n",
       "    <tr>\n",
       "      <th id=\"T_78011_level0_row0\" class=\"row_heading level0 row0\" >0</th>\n",
       "      <td id=\"T_78011_row0_col0\" class=\"data row0 col0\" >SVM - Linear Kernel</td>\n",
       "      <td id=\"T_78011_row0_col1\" class=\"data row0 col1\" >0.5656</td>\n",
       "      <td id=\"T_78011_row0_col2\" class=\"data row0 col2\" >0</td>\n",
       "      <td id=\"T_78011_row0_col3\" class=\"data row0 col3\" >0.5656</td>\n",
       "      <td id=\"T_78011_row0_col4\" class=\"data row0 col4\" >0.7350</td>\n",
       "      <td id=\"T_78011_row0_col5\" class=\"data row0 col5\" >0.6205</td>\n",
       "      <td id=\"T_78011_row0_col6\" class=\"data row0 col6\" >0.0309</td>\n",
       "      <td id=\"T_78011_row0_col7\" class=\"data row0 col7\" >0.0377</td>\n",
       "      <td id=\"T_78011_row0_col8\" class=\"data row0 col8\" >0.5250</td>\n",
       "      <td id=\"T_78011_row0_col9\" class=\"data row0 col9\" >0.4344</td>\n",
       "      <td id=\"T_78011_row0_col10\" class=\"data row0 col10\" >0.1511</td>\n",
       "      <td id=\"T_78011_row0_col11\" class=\"data row0 col11\" >0</td>\n",
       "    </tr>\n",
       "  </tbody>\n",
       "</table>\n"
      ],
      "text/plain": [
       "<pandas.io.formats.style.Styler at 0x21d83f4cb10>"
      ]
     },
     "metadata": {},
     "output_type": "display_data"
    }
   ],
   "source": [
    "predictions_svm_MCC5 = predict_model(svm, data=normalized_MCC5)"
   ]
  },
  {
   "cell_type": "code",
   "execution_count": 60,
   "id": "8d4e08c3-a8c6-4423-a289-1be18b4402e6",
   "metadata": {},
   "outputs": [
    {
     "data": {
      "text/html": [
       "<div>\n",
       "<style scoped>\n",
       "    .dataframe tbody tr th:only-of-type {\n",
       "        vertical-align: middle;\n",
       "    }\n",
       "\n",
       "    .dataframe tbody tr th {\n",
       "        vertical-align: top;\n",
       "    }\n",
       "\n",
       "    .dataframe thead th {\n",
       "        text-align: right;\n",
       "    }\n",
       "</style>\n",
       "<table border=\"1\" class=\"dataframe\">\n",
       "  <thead>\n",
       "    <tr style=\"text-align: right;\">\n",
       "      <th></th>\n",
       "      <th>medianFreq</th>\n",
       "      <th>meanFreq</th>\n",
       "      <th>spectral_entropy</th>\n",
       "      <th>spectral_skewness</th>\n",
       "      <th>Label</th>\n",
       "      <th>prediction_label</th>\n",
       "    </tr>\n",
       "  </thead>\n",
       "  <tbody>\n",
       "    <tr>\n",
       "      <th>92282</th>\n",
       "      <td>-0.297789</td>\n",
       "      <td>-0.323194</td>\n",
       "      <td>0.004090</td>\n",
       "      <td>-0.410506</td>\n",
       "      <td>healthy</td>\n",
       "      <td>damaged</td>\n",
       "    </tr>\n",
       "    <tr>\n",
       "      <th>68114</th>\n",
       "      <td>-0.301006</td>\n",
       "      <td>-0.325241</td>\n",
       "      <td>0.004573</td>\n",
       "      <td>0.933470</td>\n",
       "      <td>healthy</td>\n",
       "      <td>damaged</td>\n",
       "    </tr>\n",
       "    <tr>\n",
       "      <th>147760</th>\n",
       "      <td>-0.299029</td>\n",
       "      <td>-0.324429</td>\n",
       "      <td>0.004609</td>\n",
       "      <td>0.377939</td>\n",
       "      <td>healthy</td>\n",
       "      <td>damaged</td>\n",
       "    </tr>\n",
       "    <tr>\n",
       "      <th>176333</th>\n",
       "      <td>-0.265522</td>\n",
       "      <td>-0.298366</td>\n",
       "      <td>0.004651</td>\n",
       "      <td>-0.530186</td>\n",
       "      <td>healthy</td>\n",
       "      <td>damaged</td>\n",
       "    </tr>\n",
       "    <tr>\n",
       "      <th>192223</th>\n",
       "      <td>-0.281490</td>\n",
       "      <td>-0.307348</td>\n",
       "      <td>0.004560</td>\n",
       "      <td>-1.777002</td>\n",
       "      <td>healthy</td>\n",
       "      <td>damaged</td>\n",
       "    </tr>\n",
       "    <tr>\n",
       "      <th>...</th>\n",
       "      <td>...</td>\n",
       "      <td>...</td>\n",
       "      <td>...</td>\n",
       "      <td>...</td>\n",
       "      <td>...</td>\n",
       "      <td>...</td>\n",
       "    </tr>\n",
       "    <tr>\n",
       "      <th>178227</th>\n",
       "      <td>-0.212574</td>\n",
       "      <td>-0.257643</td>\n",
       "      <td>0.004629</td>\n",
       "      <td>0.283377</td>\n",
       "      <td>healthy</td>\n",
       "      <td>damaged</td>\n",
       "    </tr>\n",
       "    <tr>\n",
       "      <th>162447</th>\n",
       "      <td>-0.297962</td>\n",
       "      <td>-0.323853</td>\n",
       "      <td>0.004316</td>\n",
       "      <td>0.474638</td>\n",
       "      <td>healthy</td>\n",
       "      <td>damaged</td>\n",
       "    </tr>\n",
       "    <tr>\n",
       "      <th>132676</th>\n",
       "      <td>-0.294631</td>\n",
       "      <td>-0.320731</td>\n",
       "      <td>0.004542</td>\n",
       "      <td>-2.805743</td>\n",
       "      <td>healthy</td>\n",
       "      <td>damaged</td>\n",
       "    </tr>\n",
       "    <tr>\n",
       "      <th>148981</th>\n",
       "      <td>-0.296233</td>\n",
       "      <td>-0.322595</td>\n",
       "      <td>0.003992</td>\n",
       "      <td>0.973656</td>\n",
       "      <td>healthy</td>\n",
       "      <td>damaged</td>\n",
       "    </tr>\n",
       "    <tr>\n",
       "      <th>111688</th>\n",
       "      <td>-0.299157</td>\n",
       "      <td>-0.323398</td>\n",
       "      <td>0.004189</td>\n",
       "      <td>0.303536</td>\n",
       "      <td>healthy</td>\n",
       "      <td>damaged</td>\n",
       "    </tr>\n",
       "  </tbody>\n",
       "</table>\n",
       "<p>40830 rows × 6 columns</p>\n",
       "</div>"
      ],
      "text/plain": [
       "        medianFreq  meanFreq  spectral_entropy  spectral_skewness    Label  \\\n",
       "92282    -0.297789 -0.323194          0.004090          -0.410506  healthy   \n",
       "68114    -0.301006 -0.325241          0.004573           0.933470  healthy   \n",
       "147760   -0.299029 -0.324429          0.004609           0.377939  healthy   \n",
       "176333   -0.265522 -0.298366          0.004651          -0.530186  healthy   \n",
       "192223   -0.281490 -0.307348          0.004560          -1.777002  healthy   \n",
       "...            ...       ...               ...                ...      ...   \n",
       "178227   -0.212574 -0.257643          0.004629           0.283377  healthy   \n",
       "162447   -0.297962 -0.323853          0.004316           0.474638  healthy   \n",
       "132676   -0.294631 -0.320731          0.004542          -2.805743  healthy   \n",
       "148981   -0.296233 -0.322595          0.003992           0.973656  healthy   \n",
       "111688   -0.299157 -0.323398          0.004189           0.303536  healthy   \n",
       "\n",
       "       prediction_label  \n",
       "92282           damaged  \n",
       "68114           damaged  \n",
       "147760          damaged  \n",
       "176333          damaged  \n",
       "192223          damaged  \n",
       "...                 ...  \n",
       "178227          damaged  \n",
       "162447          damaged  \n",
       "132676          damaged  \n",
       "148981          damaged  \n",
       "111688          damaged  \n",
       "\n",
       "[40830 rows x 6 columns]"
      ]
     },
     "execution_count": 60,
     "metadata": {},
     "output_type": "execute_result"
    }
   ],
   "source": [
    "get_incorrect_predictions(predictions_svm)"
   ]
  },
  {
   "cell_type": "code",
   "execution_count": 61,
   "id": "9b4f976e-c841-4383-ab4d-8fb6e602bd94",
   "metadata": {
    "scrolled": true
   },
   "outputs": [
    {
     "data": {
      "image/png": "[encoded data removed]",
      "text/plain": [
       "<Figure size 800x400 with 1 Axes>"
      ]
     },
     "metadata": {},
     "output_type": "display_data"
    },
    {
     "data": {
      "image/png": "[encoded data removed]",
      "text/plain": [
       "<Figure size 800x400 with 1 Axes>"
      ]
     },
     "metadata": {},
     "output_type": "display_data"
    },
    {
     "data": {
      "image/png": "[encoded data removed]",
      "text/plain": [
       "<Figure size 800x400 with 1 Axes>"
      ]
     },
     "metadata": {},
     "output_type": "display_data"
    },
    {
     "data": {
      "image/png": "[encoded data removed]",
      "text/plain": [
       "<Figure size 800x400 with 1 Axes>"
      ]
     },
     "metadata": {},
     "output_type": "display_data"
    }
   ],
   "source": [
    "plotPredictionHistograms(predictions_svm, normalization_method)"
   ]
  },
  {
   "cell_type": "markdown",
   "id": "378342ee-8ffa-4f37-9937-a2051463887a",
   "metadata": {},
   "source": [
    "# Experiment Setup (DL)"
   ]
  },
  {
   "cell_type": "markdown",
   "id": "4c085121-3acd-4d2e-9fb4-5c19183fe186",
   "metadata": {},
   "source": [
    "## Configure Data"
   ]
  },
  {
   "cell_type": "code",
   "execution_count": 62,
   "id": "fee3568a-b1fa-4505-bd7f-88819ba246fb",
   "metadata": {},
   "outputs": [
    {
     "name": "stdout",
     "output_type": "stream",
     "text": [
      "Train Shape: (609977, 5) | Val Shape: (152495, 5) | Test Shape: (190619, 5)\n"
     ]
    }
   ],
   "source": [
    "train, test = train_test_split(normalized_df, test_size=0.2, random_state=42)\n",
    "train, val = train_test_split(train, test_size=0.2, random_state=42)\n",
    "print(f\"Train Shape: {train.shape} | Val Shape: {val.shape} | Test Shape: {test.shape}\")"
   ]
  },
  {
   "cell_type": "code",
   "execution_count": 63,
   "id": "41773c3d-7a5e-43b7-8682-2aea065f0bb0",
   "metadata": {},
   "outputs": [],
   "source": [
    "target = \"Label\"\n",
    "num_labels = normalized_df['Label'].nunique()\n",
    "\n",
    "categorical_cols = [\n",
    "    col\n",
    "    for col in features_df_training_normalized.select_dtypes(include=[\"object\",\"category\"]).columns\n",
    "    if col != target\n",
    "]\n",
    "\n",
    "continuous_cols = features_df_training_normalized.select_dtypes(include=[\"number\"]).columns.tolist()"
   ]
  },
  {
   "cell_type": "code",
   "execution_count": 64,
   "id": "a28e6e44-1bea-4842-8482-9708cc2c1367",
   "metadata": {},
   "outputs": [
    {
     "name": "stdout",
     "output_type": "stream",
     "text": [
      "Target: Label\n",
      "Categorical inputs: []\n",
      "Continuous inputs: ['medianFreq', 'meanFreq', 'spectral_entropy', 'spectral_skewness']\n"
     ]
    }
   ],
   "source": [
    "print(\"Target:\", target)\n",
    "print(\"Categorical inputs:\", categorical_cols)  \n",
    "print(\"Continuous inputs:\", continuous_cols)    "
   ]
  },
  {
   "cell_type": "code",
   "execution_count": 65,
   "id": "7f339072-98d8-491e-a93c-cdcce0517bd0",
   "metadata": {},
   "outputs": [],
   "source": [
    "data_config = DataConfig(\n",
    "    target=[target],\n",
    "    continuous_cols=continuous_cols,\n",
    "    categorical_cols=categorical_cols,\n",
    ")"
   ]
  },
  {
   "cell_type": "code",
   "execution_count": 66,
   "id": "1c70fc27-0191-47e7-b183-e78605871c8e",
   "metadata": {},
   "outputs": [
    {
     "name": "stdout",
     "output_type": "stream",
     "text": [
      "Available GPU: Yes\n"
     ]
    }
   ],
   "source": [
    "available_gpu=1 if torch.cuda.is_available() else 0\n",
    "print(f\"Available GPU: {'Yes' if available_gpu else 'No'}\")"
   ]
  },
  {
   "cell_type": "code",
   "execution_count": 67,
   "id": "19a562ad-72cd-4216-8f77-36c195d0f974",
   "metadata": {},
   "outputs": [],
   "source": [
    "trainer_config = TrainerConfig(\n",
    "    auto_lr_find=False,\n",
    "    max_epochs=10,\n",
    "    accelerator='gpu' if torch.cuda.is_available() else 'cpu',\n",
    "    batch_size=256,\n",
    ")\n",
    "\n",
    "optimizer_config = OptimizerConfig()\n",
    "\n",
    "experiment_config = ExperimentConfig(\n",
    "        project_name=experiment_name,\n",
    "        run_name=f\"{experiment_name}_run\",\n",
    "        log_target=\"tensorboard\",\n",
    "    )"
   ]
  },
  {
   "cell_type": "code",
   "execution_count": 68,
   "id": "35ebedda-b066-4b7c-bf1e-64911d6451f5",
   "metadata": {},
   "outputs": [],
   "source": [
    "tabnet_config = TabNetModelConfig(\n",
    "        task=\"classification\",\n",
    "        n_d=33,\n",
    "        n_a=46,\n",
    "        n_steps=3,\n",
    "        gamma=1.2864230491528987,\n",
    "        embedding_dropout=0.1825276618254278,\n",
    "        learning_rate=0.00468046516266798,\n",
    "        metrics=[\n",
    "            \"accuracy\", \n",
    "            \"auroc\",\n",
    "            \"recall\",\n",
    "            \"precision\",\n",
    "            \"f1_score\",\n",
    "            \"cohen_kappa\",\n",
    "            \"matthews_corrcoef\",\n",
    "            \"hamming_distance\",\n",
    "            \"jaccard_index\",\n",
    "        ],\n",
    "        metrics_prob_input=[\n",
    "            False,  #acc\n",
    "            True,   # auroc\n",
    "            False,  # recall\n",
    "            False,  # precision\n",
    "            False,  # f1_score\n",
    "            False,  # cohen_kappa\n",
    "            False,  # matthews_corrcoef\n",
    "            False,  # hamming_distance\n",
    "            False,  # jaccard_index\n",
    "        ],\n",
    "        metrics_params=[\n",
    "            {\"average\": \"macro\"},\n",
    "            {\"average\": \"macro\", \"num_classes\": normalized_df['Label'].nunique()},  # auroc\n",
    "            {\"average\": \"macro\", \"num_classes\": normalized_df['Label'].nunique()},  # recall\n",
    "            {\"average\": \"macro\", \"num_classes\": normalized_df['Label'].nunique()},  # precision\n",
    "            {\"average\": \"macro\", \"num_classes\": normalized_df['Label'].nunique()},  # f1_score\n",
    "            {\"num_classes\": normalized_df['Label'].nunique()},                      # cohen_kappa\n",
    "            {},                                      # matthews_corrcoef\n",
    "            {},                                      # hamming_distance\n",
    "            {\"average\": \"macro\", \"num_classes\": normalized_df['Label'].nunique()},  # jaccard_index\n",
    "        ]\n",
    "    )"
   ]
  },
  {
   "cell_type": "code",
   "execution_count": 69,
   "id": "b8f55063-d2dd-465c-ac37-d79189c06ba9",
   "metadata": {},
   "outputs": [
    {
     "data": {
      "text/html": [
       "<pre style=\"white-space:pre;overflow-x:auto;line-height:normal;font-family:Menlo,'DejaVu Sans Mono',consolas,'Courier New',monospace\"><span style=\"color: #008080; text-decoration-color: #008080; font-weight: bold\">2025</span>-<span style=\"color: #008080; text-decoration-color: #008080; font-weight: bold\">10</span>-<span style=\"color: #008080; text-decoration-color: #008080; font-weight: bold\">08</span> <span style=\"color: #00ff00; text-decoration-color: #00ff00; font-weight: bold\">23:06:13</span>,<span style=\"color: #008080; text-decoration-color: #008080; font-weight: bold\">194</span> - <span style=\"font-weight: bold\">{</span>pytorch_tabular.tabular_model:<span style=\"color: #008080; text-decoration-color: #008080; font-weight: bold\">146</span><span style=\"font-weight: bold\">}</span> - INFO - Experiment Tracking is turned off           \n",
       "</pre>\n"
      ],
      "text/plain": [
       "\u001b[1;36m2025\u001b[0m-\u001b[1;36m10\u001b[0m-\u001b[1;36m08\u001b[0m \u001b[1;92m23:06:13\u001b[0m,\u001b[1;36m194\u001b[0m - \u001b[1m{\u001b[0mpytorch_tabular.tabular_model:\u001b[1;36m146\u001b[0m\u001b[1m}\u001b[0m - INFO - Experiment Tracking is turned off           \n"
      ]
     },
     "metadata": {},
     "output_type": "display_data"
    }
   ],
   "source": [
    "tabnet_model = TabularModel(\n",
    "        data_config=data_config,\n",
    "        model_config=tabnet_config,\n",
    "        optimizer_config=optimizer_config,\n",
    "        trainer_config=trainer_config,\n",
    "        verbose=True\n",
    "    )"
   ]
  },
  {
   "cell_type": "code",
   "execution_count": 70,
   "id": "b5525f2a-f36a-407e-96ff-f590ffd1e38a",
   "metadata": {},
   "outputs": [
    {
     "name": "stderr",
     "output_type": "stream",
     "text": [
      "Seed set to 42\n"
     ]
    },
    {
     "data": {
      "text/html": [
       "<pre style=\"white-space:pre;overflow-x:auto;line-height:normal;font-family:Menlo,'DejaVu Sans Mono',consolas,'Courier New',monospace\"><span style=\"color: #008080; text-decoration-color: #008080; font-weight: bold\">2025</span>-<span style=\"color: #008080; text-decoration-color: #008080; font-weight: bold\">10</span>-<span style=\"color: #008080; text-decoration-color: #008080; font-weight: bold\">08</span> <span style=\"color: #00ff00; text-decoration-color: #00ff00; font-weight: bold\">23:06:13</span>,<span style=\"color: #008080; text-decoration-color: #008080; font-weight: bold\">264</span> - <span style=\"font-weight: bold\">{</span>pytorch_tabular.tabular_model:<span style=\"color: #008080; text-decoration-color: #008080; font-weight: bold\">548</span><span style=\"font-weight: bold\">}</span> - INFO - Preparing the DataLoaders                   \n",
       "</pre>\n"
      ],
      "text/plain": [
       "\u001b[1;36m2025\u001b[0m-\u001b[1;36m10\u001b[0m-\u001b[1;36m08\u001b[0m \u001b[1;92m23:06:13\u001b[0m,\u001b[1;36m264\u001b[0m - \u001b[1m{\u001b[0mpytorch_tabular.tabular_model:\u001b[1;36m548\u001b[0m\u001b[1m}\u001b[0m - INFO - Preparing the DataLoaders                   \n"
      ]
     },
     "metadata": {},
     "output_type": "display_data"
    },
    {
     "data": {
      "text/html": [
       "<pre style=\"white-space:pre;overflow-x:auto;line-height:normal;font-family:Menlo,'DejaVu Sans Mono',consolas,'Courier New',monospace\"><span style=\"color: #008080; text-decoration-color: #008080; font-weight: bold\">2025</span>-<span style=\"color: #008080; text-decoration-color: #008080; font-weight: bold\">10</span>-<span style=\"color: #008080; text-decoration-color: #008080; font-weight: bold\">08</span> <span style=\"color: #00ff00; text-decoration-color: #00ff00; font-weight: bold\">23:06:13</span>,<span style=\"color: #008080; text-decoration-color: #008080; font-weight: bold\">333</span> - <span style=\"font-weight: bold\">{</span>pytorch_tabular.tabular_datamodul<span style=\"color: #00ff00; text-decoration-color: #00ff00; font-weight: bold\">e:522</span><span style=\"font-weight: bold\">}</span> - INFO - Setting up the datamodule for          \n",
       "classification task                                                                                                \n",
       "</pre>\n"
      ],
      "text/plain": [
       "\u001b[1;36m2025\u001b[0m-\u001b[1;36m10\u001b[0m-\u001b[1;36m08\u001b[0m \u001b[1;92m23:06:13\u001b[0m,\u001b[1;36m333\u001b[0m - \u001b[1m{\u001b[0mpytorch_tabular.tabular_datamodul\u001b[1;92me:522\u001b[0m\u001b[1m}\u001b[0m - INFO - Setting up the datamodule for          \n",
       "classification task                                                                                                \n"
      ]
     },
     "metadata": {},
     "output_type": "display_data"
    },
    {
     "data": {
      "text/html": [
       "<pre style=\"white-space:pre;overflow-x:auto;line-height:normal;font-family:Menlo,'DejaVu Sans Mono',consolas,'Courier New',monospace\"><span style=\"color: #008080; text-decoration-color: #008080; font-weight: bold\">2025</span>-<span style=\"color: #008080; text-decoration-color: #008080; font-weight: bold\">10</span>-<span style=\"color: #008080; text-decoration-color: #008080; font-weight: bold\">08</span> <span style=\"color: #00ff00; text-decoration-color: #00ff00; font-weight: bold\">23:06:13</span>,<span style=\"color: #008080; text-decoration-color: #008080; font-weight: bold\">579</span> - <span style=\"font-weight: bold\">{</span>pytorch_tabular.tabular_model:<span style=\"color: #008080; text-decoration-color: #008080; font-weight: bold\">599</span><span style=\"font-weight: bold\">}</span> - INFO - Preparing the Model: TabNetModel            \n",
       "</pre>\n"
      ],
      "text/plain": [
       "\u001b[1;36m2025\u001b[0m-\u001b[1;36m10\u001b[0m-\u001b[1;36m08\u001b[0m \u001b[1;92m23:06:13\u001b[0m,\u001b[1;36m579\u001b[0m - \u001b[1m{\u001b[0mpytorch_tabular.tabular_model:\u001b[1;36m599\u001b[0m\u001b[1m}\u001b[0m - INFO - Preparing the Model: TabNetModel            \n"
      ]
     },
     "metadata": {},
     "output_type": "display_data"
    },
    {
     "data": {
      "text/html": [
       "<pre style=\"white-space:pre;overflow-x:auto;line-height:normal;font-family:Menlo,'DejaVu Sans Mono',consolas,'Courier New',monospace\"><span style=\"color: #008080; text-decoration-color: #008080; font-weight: bold\">2025</span>-<span style=\"color: #008080; text-decoration-color: #008080; font-weight: bold\">10</span>-<span style=\"color: #008080; text-decoration-color: #008080; font-weight: bold\">08</span> <span style=\"color: #00ff00; text-decoration-color: #00ff00; font-weight: bold\">23:06:13</span>,<span style=\"color: #008080; text-decoration-color: #008080; font-weight: bold\">655</span> - <span style=\"font-weight: bold\">{</span>pytorch_tabular.tabular_model:<span style=\"color: #008080; text-decoration-color: #008080; font-weight: bold\">342</span><span style=\"font-weight: bold\">}</span> - INFO - Preparing the Trainer                       \n",
       "</pre>\n"
      ],
      "text/plain": [
       "\u001b[1;36m2025\u001b[0m-\u001b[1;36m10\u001b[0m-\u001b[1;36m08\u001b[0m \u001b[1;92m23:06:13\u001b[0m,\u001b[1;36m655\u001b[0m - \u001b[1m{\u001b[0mpytorch_tabular.tabular_model:\u001b[1;36m342\u001b[0m\u001b[1m}\u001b[0m - INFO - Preparing the Trainer                       \n"
      ]
     },
     "metadata": {},
     "output_type": "display_data"
    },
    {
     "name": "stderr",
     "output_type": "stream",
     "text": [
      "GPU available: True (cuda), used: True\n",
      "TPU available: False, using: 0 TPU cores\n",
      "HPU available: False, using: 0 HPUs\n"
     ]
    },
    {
     "data": {
      "text/html": [
       "<pre style=\"white-space:pre;overflow-x:auto;line-height:normal;font-family:Menlo,'DejaVu Sans Mono',consolas,'Courier New',monospace\"><span style=\"color: #008080; text-decoration-color: #008080; font-weight: bold\">2025</span>-<span style=\"color: #008080; text-decoration-color: #008080; font-weight: bold\">10</span>-<span style=\"color: #008080; text-decoration-color: #008080; font-weight: bold\">08</span> <span style=\"color: #00ff00; text-decoration-color: #00ff00; font-weight: bold\">23:06:13</span>,<span style=\"color: #008080; text-decoration-color: #008080; font-weight: bold\">722</span> - <span style=\"font-weight: bold\">{</span>pytorch_tabular.tabular_model:<span style=\"color: #008080; text-decoration-color: #008080; font-weight: bold\">678</span><span style=\"font-weight: bold\">}</span> - INFO - Training Started                            \n",
       "</pre>\n"
      ],
      "text/plain": [
       "\u001b[1;36m2025\u001b[0m-\u001b[1;36m10\u001b[0m-\u001b[1;36m08\u001b[0m \u001b[1;92m23:06:13\u001b[0m,\u001b[1;36m722\u001b[0m - \u001b[1m{\u001b[0mpytorch_tabular.tabular_model:\u001b[1;36m678\u001b[0m\u001b[1m}\u001b[0m - INFO - Training Started                            \n"
      ]
     },
     "metadata": {},
     "output_type": "display_data"
    },
    {
     "name": "stderr",
     "output_type": "stream",
     "text": [
      "LOCAL_RANK: 0 - CUDA_VISIBLE_DEVICES: [0]\n"
     ]
    },
    {
     "data": {
      "text/html": [
       "<pre style=\"white-space:pre;overflow-x:auto;line-height:normal;font-family:Menlo,'DejaVu Sans Mono',consolas,'Courier New',monospace\">┏━━━┳━━━━━━━━━━━━━━━━━━┳━━━━━━━━━━━━━━━━━━┳━━━━━━━━┳━━━━━━━┓\n",
       "┃<span style=\"color: #800080; text-decoration-color: #800080; font-weight: bold\">   </span>┃<span style=\"color: #800080; text-decoration-color: #800080; font-weight: bold\"> Name             </span>┃<span style=\"color: #800080; text-decoration-color: #800080; font-weight: bold\"> Type             </span>┃<span style=\"color: #800080; text-decoration-color: #800080; font-weight: bold\"> Params </span>┃<span style=\"color: #800080; text-decoration-color: #800080; font-weight: bold\"> Mode  </span>┃\n",
       "┡━━━╇━━━━━━━━━━━━━━━━━━╇━━━━━━━━━━━━━━━━━━╇━━━━━━━━╇━━━━━━━┩\n",
       "│<span style=\"color: #7f7f7f; text-decoration-color: #7f7f7f\"> 0 </span>│ _embedding_layer │ Identity         │      0 │ train │\n",
       "│<span style=\"color: #7f7f7f; text-decoration-color: #7f7f7f\"> 1 </span>│ _backbone        │ TabNetBackbone   │  118 K │ train │\n",
       "│<span style=\"color: #7f7f7f; text-decoration-color: #7f7f7f\"> 2 </span>│ _head            │ Identity         │      0 │ train │\n",
       "│<span style=\"color: #7f7f7f; text-decoration-color: #7f7f7f\"> 3 </span>│ loss             │ CrossEntropyLoss │      0 │ train │\n",
       "└───┴──────────────────┴──────────────────┴────────┴───────┘\n",
       "</pre>\n"
      ],
      "text/plain": [
       "┏━━━┳━━━━━━━━━━━━━━━━━━┳━━━━━━━━━━━━━━━━━━┳━━━━━━━━┳━━━━━━━┓\n",
       "┃\u001b[1;35m \u001b[0m\u001b[1;35m \u001b[0m\u001b[1;35m \u001b[0m┃\u001b[1;35m \u001b[0m\u001b[1;35mName            \u001b[0m\u001b[1;35m \u001b[0m┃\u001b[1;35m \u001b[0m\u001b[1;35mType            \u001b[0m\u001b[1;35m \u001b[0m┃\u001b[1;35m \u001b[0m\u001b[1;35mParams\u001b[0m\u001b[1;35m \u001b[0m┃\u001b[1;35m \u001b[0m\u001b[1;35mMode \u001b[0m\u001b[1;35m \u001b[0m┃\n",
       "┡━━━╇━━━━━━━━━━━━━━━━━━╇━━━━━━━━━━━━━━━━━━╇━━━━━━━━╇━━━━━━━┩\n",
       "│\u001b[2m \u001b[0m\u001b[2m0\u001b[0m\u001b[2m \u001b[0m│ _embedding_layer │ Identity         │      0 │ train │\n",
       "│\u001b[2m \u001b[0m\u001b[2m1\u001b[0m\u001b[2m \u001b[0m│ _backbone        │ TabNetBackbone   │  118 K │ train │\n",
       "│\u001b[2m \u001b[0m\u001b[2m2\u001b[0m\u001b[2m \u001b[0m│ _head            │ Identity         │      0 │ train │\n",
       "│\u001b[2m \u001b[0m\u001b[2m3\u001b[0m\u001b[2m \u001b[0m│ loss             │ CrossEntropyLoss │      0 │ train │\n",
       "└───┴──────────────────┴──────────────────┴────────┴───────┘\n"
      ]
     },
     "metadata": {},
     "output_type": "display_data"
    },
    {
     "data": {
      "text/html": [
       "<pre style=\"white-space:pre;overflow-x:auto;line-height:normal;font-family:Menlo,'DejaVu Sans Mono',consolas,'Courier New',monospace\"><span style=\"font-weight: bold\">Trainable params</span>: 118 K                                                                                            \n",
       "<span style=\"font-weight: bold\">Non-trainable params</span>: 0                                                                                            \n",
       "<span style=\"font-weight: bold\">Total params</span>: 118 K                                                                                                \n",
       "<span style=\"font-weight: bold\">Total estimated model params size (MB)</span>: 0                                                                          \n",
       "<span style=\"font-weight: bold\">Modules in train mode</span>: 107                                                                                         \n",
       "<span style=\"font-weight: bold\">Modules in eval mode</span>: 0                                                                                            \n",
       "</pre>\n"
      ],
      "text/plain": [
       "\u001b[1mTrainable params\u001b[0m: 118 K                                                                                            \n",
       "\u001b[1mNon-trainable params\u001b[0m: 0                                                                                            \n",
       "\u001b[1mTotal params\u001b[0m: 118 K                                                                                                \n",
       "\u001b[1mTotal estimated model params size (MB)\u001b[0m: 0                                                                          \n",
       "\u001b[1mModules in train mode\u001b[0m: 107                                                                                         \n",
       "\u001b[1mModules in eval mode\u001b[0m: 0                                                                                            \n"
      ]
     },
     "metadata": {},
     "output_type": "display_data"
    },
    {
     "data": {
      "application/vnd.jupyter.widget-view+json": {
       "model_id": "a01dd0740be647408a41f432945661d7",
       "version_major": 2,
       "version_minor": 0
      },
      "text/plain": [
       "Output()"
      ]
     },
     "metadata": {},
     "output_type": "display_data"
    },
    {
     "data": {
      "text/html": [
       "<pre style=\"white-space:pre;overflow-x:auto;line-height:normal;font-family:Menlo,'DejaVu Sans Mono',consolas,'Courier New',monospace\"></pre>\n"
      ],
      "text/plain": []
     },
     "metadata": {},
     "output_type": "display_data"
    },
    {
     "data": {
      "text/html": [
       "<pre style=\"white-space:pre;overflow-x:auto;line-height:normal;font-family:Menlo,'DejaVu Sans Mono',consolas,'Courier New',monospace\"><span style=\"color: #008080; text-decoration-color: #008080; font-weight: bold\">2025</span>-<span style=\"color: #008080; text-decoration-color: #008080; font-weight: bold\">10</span>-<span style=\"color: #008080; text-decoration-color: #008080; font-weight: bold\">08</span> <span style=\"color: #00ff00; text-decoration-color: #00ff00; font-weight: bold\">23:19:12</span>,<span style=\"color: #008080; text-decoration-color: #008080; font-weight: bold\">860</span> - <span style=\"font-weight: bold\">{</span>pytorch_tabular.tabular_model:<span style=\"color: #008080; text-decoration-color: #008080; font-weight: bold\">689</span><span style=\"font-weight: bold\">}</span> - INFO - Training the model completed                \n",
       "</pre>\n"
      ],
      "text/plain": [
       "\u001b[1;36m2025\u001b[0m-\u001b[1;36m10\u001b[0m-\u001b[1;36m08\u001b[0m \u001b[1;92m23:19:12\u001b[0m,\u001b[1;36m860\u001b[0m - \u001b[1m{\u001b[0mpytorch_tabular.tabular_model:\u001b[1;36m689\u001b[0m\u001b[1m}\u001b[0m - INFO - Training the model completed                \n"
      ]
     },
     "metadata": {},
     "output_type": "display_data"
    },
    {
     "data": {
      "text/html": [
       "<pre style=\"white-space:pre;overflow-x:auto;line-height:normal;font-family:Menlo,'DejaVu Sans Mono',consolas,'Courier New',monospace\"><span style=\"color: #008080; text-decoration-color: #008080; font-weight: bold\">2025</span>-<span style=\"color: #008080; text-decoration-color: #008080; font-weight: bold\">10</span>-<span style=\"color: #008080; text-decoration-color: #008080; font-weight: bold\">08</span> <span style=\"color: #00ff00; text-decoration-color: #00ff00; font-weight: bold\">23:19:12</span>,<span style=\"color: #008080; text-decoration-color: #008080; font-weight: bold\">863</span> - <span style=\"font-weight: bold\">{</span>pytorch_tabular.tabular_model:<span style=\"color: #008080; text-decoration-color: #008080; font-weight: bold\">1529</span><span style=\"font-weight: bold\">}</span> - INFO - Loading the best model                     \n",
       "</pre>\n"
      ],
      "text/plain": [
       "\u001b[1;36m2025\u001b[0m-\u001b[1;36m10\u001b[0m-\u001b[1;36m08\u001b[0m \u001b[1;92m23:19:12\u001b[0m,\u001b[1;36m863\u001b[0m - \u001b[1m{\u001b[0mpytorch_tabular.tabular_model:\u001b[1;36m1529\u001b[0m\u001b[1m}\u001b[0m - INFO - Loading the best model                     \n"
      ]
     },
     "metadata": {},
     "output_type": "display_data"
    },
    {
     "data": {
      "text/plain": [
       "<pytorch_lightning.trainer.trainer.Trainer at 0x21d852227d0>"
      ]
     },
     "execution_count": 70,
     "metadata": {},
     "output_type": "execute_result"
    }
   ],
   "source": [
    "tabnet_model.fit(train=train, validation=val)"
   ]
  },
  {
   "cell_type": "code",
   "execution_count": 71,
   "id": "f907c7e1-d8ef-4b99-a9f9-2f7fd0b8f1bc",
   "metadata": {},
   "outputs": [
    {
     "name": "stderr",
     "output_type": "stream",
     "text": [
      "LOCAL_RANK: 0 - CUDA_VISIBLE_DEVICES: [0]\n"
     ]
    },
    {
     "data": {
      "application/vnd.jupyter.widget-view+json": {
       "model_id": "4a250b6e8aef4941825f7c2629b95fd0",
       "version_major": 2,
       "version_minor": 0
      },
      "text/plain": [
       "Output()"
      ]
     },
     "metadata": {},
     "output_type": "display_data"
    },
    {
     "data": {
      "text/html": [
       "<pre style=\"white-space:pre;overflow-x:auto;line-height:normal;font-family:Menlo,'DejaVu Sans Mono',consolas,'Courier New',monospace\">┏━━━━━━━━━━━━━━━━━━━━━━━━━━━┳━━━━━━━━━━━━━━━━━━━━━━━━━━━┓\n",
       "┃<span style=\"font-weight: bold\">        Test metric        </span>┃<span style=\"font-weight: bold\">       DataLoader 0        </span>┃\n",
       "┡━━━━━━━━━━━━━━━━━━━━━━━━━━━╇━━━━━━━━━━━━━━━━━━━━━━━━━━━┩\n",
       "│<span style=\"color: #008080; text-decoration-color: #008080\">       test_accuracy       </span>│<span style=\"color: #800080; text-decoration-color: #800080\">    0.7859919667243958     </span>│\n",
       "│<span style=\"color: #008080; text-decoration-color: #008080\">        test_auroc         </span>│<span style=\"color: #800080; text-decoration-color: #800080\">     0.696350634098053     </span>│\n",
       "│<span style=\"color: #008080; text-decoration-color: #008080\">     test_cohen_kappa      </span>│<span style=\"color: #800080; text-decoration-color: #800080\">   0.0013691638596355915   </span>│\n",
       "│<span style=\"color: #008080; text-decoration-color: #008080\">       test_f1_score       </span>│<span style=\"color: #800080; text-decoration-color: #800080\">    0.7859919667243958     </span>│\n",
       "│<span style=\"color: #008080; text-decoration-color: #008080\">   test_hamming_distance   </span>│<span style=\"color: #800080; text-decoration-color: #800080\">    0.21400804817676544    </span>│\n",
       "│<span style=\"color: #008080; text-decoration-color: #008080\">    test_jaccard_index     </span>│<span style=\"color: #800080; text-decoration-color: #800080\">    0.3934206962585449     </span>│\n",
       "│<span style=\"color: #008080; text-decoration-color: #008080\">         test_loss         </span>│<span style=\"color: #800080; text-decoration-color: #800080\">    0.4842644929885864     </span>│\n",
       "│<span style=\"color: #008080; text-decoration-color: #008080\">        test_loss_0        </span>│<span style=\"color: #800080; text-decoration-color: #800080\">    0.4842644929885864     </span>│\n",
       "│<span style=\"color: #008080; text-decoration-color: #008080\">  test_matthews_corrcoef   </span>│<span style=\"color: #800080; text-decoration-color: #800080\">    0.08939032256603241    </span>│\n",
       "│<span style=\"color: #008080; text-decoration-color: #008080\">      test_precision       </span>│<span style=\"color: #800080; text-decoration-color: #800080\">    0.7859919667243958     </span>│\n",
       "│<span style=\"color: #008080; text-decoration-color: #008080\">        test_recall        </span>│<span style=\"color: #800080; text-decoration-color: #800080\">    0.7859919667243958     </span>│\n",
       "└───────────────────────────┴───────────────────────────┘\n",
       "</pre>\n"
      ],
      "text/plain": [
       "┏━━━━━━━━━━━━━━━━━━━━━━━━━━━┳━━━━━━━━━━━━━━━━━━━━━━━━━━━┓\n",
       "┃\u001b[1m \u001b[0m\u001b[1m       Test metric       \u001b[0m\u001b[1m \u001b[0m┃\u001b[1m \u001b[0m\u001b[1m      DataLoader 0       \u001b[0m\u001b[1m \u001b[0m┃\n",
       "┡━━━━━━━━━━━━━━━━━━━━━━━━━━━╇━━━━━━━━━━━━━━━━━━━━━━━━━━━┩\n",
       "│\u001b[36m \u001b[0m\u001b[36m      test_accuracy      \u001b[0m\u001b[36m \u001b[0m│\u001b[35m \u001b[0m\u001b[35m   0.7859919667243958    \u001b[0m\u001b[35m \u001b[0m│\n",
       "│\u001b[36m \u001b[0m\u001b[36m       test_auroc        \u001b[0m\u001b[36m \u001b[0m│\u001b[35m \u001b[0m\u001b[35m    0.696350634098053    \u001b[0m\u001b[35m \u001b[0m│\n",
       "│\u001b[36m \u001b[0m\u001b[36m    test_cohen_kappa     \u001b[0m\u001b[36m \u001b[0m│\u001b[35m \u001b[0m\u001b[35m  0.0013691638596355915  \u001b[0m\u001b[35m \u001b[0m│\n",
       "│\u001b[36m \u001b[0m\u001b[36m      test_f1_score      \u001b[0m\u001b[36m \u001b[0m│\u001b[35m \u001b[0m\u001b[35m   0.7859919667243958    \u001b[0m\u001b[35m \u001b[0m│\n",
       "│\u001b[36m \u001b[0m\u001b[36m  test_hamming_distance  \u001b[0m\u001b[36m \u001b[0m│\u001b[35m \u001b[0m\u001b[35m   0.21400804817676544   \u001b[0m\u001b[35m \u001b[0m│\n",
       "│\u001b[36m \u001b[0m\u001b[36m   test_jaccard_index    \u001b[0m\u001b[36m \u001b[0m│\u001b[35m \u001b[0m\u001b[35m   0.3934206962585449    \u001b[0m\u001b[35m \u001b[0m│\n",
       "│\u001b[36m \u001b[0m\u001b[36m        test_loss        \u001b[0m\u001b[36m \u001b[0m│\u001b[35m \u001b[0m\u001b[35m   0.4842644929885864    \u001b[0m\u001b[35m \u001b[0m│\n",
       "│\u001b[36m \u001b[0m\u001b[36m       test_loss_0       \u001b[0m\u001b[36m \u001b[0m│\u001b[35m \u001b[0m\u001b[35m   0.4842644929885864    \u001b[0m\u001b[35m \u001b[0m│\n",
       "│\u001b[36m \u001b[0m\u001b[36m test_matthews_corrcoef  \u001b[0m\u001b[36m \u001b[0m│\u001b[35m \u001b[0m\u001b[35m   0.08939032256603241   \u001b[0m\u001b[35m \u001b[0m│\n",
       "│\u001b[36m \u001b[0m\u001b[36m     test_precision      \u001b[0m\u001b[36m \u001b[0m│\u001b[35m \u001b[0m\u001b[35m   0.7859919667243958    \u001b[0m\u001b[35m \u001b[0m│\n",
       "│\u001b[36m \u001b[0m\u001b[36m       test_recall       \u001b[0m\u001b[36m \u001b[0m│\u001b[35m \u001b[0m\u001b[35m   0.7859919667243958    \u001b[0m\u001b[35m \u001b[0m│\n",
       "└───────────────────────────┴───────────────────────────┘\n"
      ]
     },
     "metadata": {},
     "output_type": "display_data"
    },
    {
     "data": {
      "text/html": [
       "<pre style=\"white-space:pre;overflow-x:auto;line-height:normal;font-family:Menlo,'DejaVu Sans Mono',consolas,'Courier New',monospace\"></pre>\n"
      ],
      "text/plain": []
     },
     "metadata": {},
     "output_type": "display_data"
    }
   ],
   "source": [
    "tabnet_pred_df = tabnet_model.predict(test)\n",
    "tabnet_pred_df.head(10)\n",
    "tabnet_result = tabnet_model.evaluate(test)"
   ]
  },
  {
   "cell_type": "code",
   "execution_count": 83,
   "id": "a3102286-b3ed-4e51-8af4-9b56276a545d",
   "metadata": {},
   "outputs": [
    {
     "name": "stderr",
     "output_type": "stream",
     "text": [
      "LOCAL_RANK: 0 - CUDA_VISIBLE_DEVICES: [0]\n"
     ]
    },
    {
     "data": {
      "application/vnd.jupyter.widget-view+json": {
       "model_id": "b8c506b0bb4a41948d863e6534deddc5",
       "version_major": 2,
       "version_minor": 0
      },
      "text/plain": [
       "Output()"
      ]
     },
     "metadata": {},
     "output_type": "display_data"
    },
    {
     "data": {
      "text/html": [
       "<pre style=\"white-space:pre;overflow-x:auto;line-height:normal;font-family:Menlo,'DejaVu Sans Mono',consolas,'Courier New',monospace\">┏━━━━━━━━━━━━━━━━━━━━━━━━━━━┳━━━━━━━━━━━━━━━━━━━━━━━━━━━┓\n",
       "┃<span style=\"font-weight: bold\">        Test metric        </span>┃<span style=\"font-weight: bold\">       DataLoader 0        </span>┃\n",
       "┡━━━━━━━━━━━━━━━━━━━━━━━━━━━╇━━━━━━━━━━━━━━━━━━━━━━━━━━━┩\n",
       "│<span style=\"color: #008080; text-decoration-color: #008080\">       test_accuracy       </span>│<span style=\"color: #800080; text-decoration-color: #800080\">    0.7431259155273438     </span>│\n",
       "│<span style=\"color: #008080; text-decoration-color: #008080\">        test_auroc         </span>│<span style=\"color: #800080; text-decoration-color: #800080\">   0.033459559082984924    </span>│\n",
       "│<span style=\"color: #008080; text-decoration-color: #008080\">     test_cohen_kappa      </span>│<span style=\"color: #800080; text-decoration-color: #800080\">            nan            </span>│\n",
       "│<span style=\"color: #008080; text-decoration-color: #008080\">       test_f1_score       </span>│<span style=\"color: #800080; text-decoration-color: #800080\">    0.7431259155273438     </span>│\n",
       "│<span style=\"color: #008080; text-decoration-color: #008080\">   test_hamming_distance   </span>│<span style=\"color: #800080; text-decoration-color: #800080\">    0.25687411427497864    </span>│\n",
       "│<span style=\"color: #008080; text-decoration-color: #008080\">    test_jaccard_index     </span>│<span style=\"color: #800080; text-decoration-color: #800080\">    0.7172487378120422     </span>│\n",
       "│<span style=\"color: #008080; text-decoration-color: #008080\">         test_loss         </span>│<span style=\"color: #800080; text-decoration-color: #800080\">    2.2974088191986084     </span>│\n",
       "│<span style=\"color: #008080; text-decoration-color: #008080\">        test_loss_0        </span>│<span style=\"color: #800080; text-decoration-color: #800080\">    2.2974088191986084     </span>│\n",
       "│<span style=\"color: #008080; text-decoration-color: #008080\">  test_matthews_corrcoef   </span>│<span style=\"color: #800080; text-decoration-color: #800080\">    0.4883517622947693     </span>│\n",
       "│<span style=\"color: #008080; text-decoration-color: #008080\">      test_precision       </span>│<span style=\"color: #800080; text-decoration-color: #800080\">    0.7431259155273438     </span>│\n",
       "│<span style=\"color: #008080; text-decoration-color: #008080\">        test_recall        </span>│<span style=\"color: #800080; text-decoration-color: #800080\">    0.7431259155273438     </span>│\n",
       "└───────────────────────────┴───────────────────────────┘\n",
       "</pre>\n"
      ],
      "text/plain": [
       "┏━━━━━━━━━━━━━━━━━━━━━━━━━━━┳━━━━━━━━━━━━━━━━━━━━━━━━━━━┓\n",
       "┃\u001b[1m \u001b[0m\u001b[1m       Test metric       \u001b[0m\u001b[1m \u001b[0m┃\u001b[1m \u001b[0m\u001b[1m      DataLoader 0       \u001b[0m\u001b[1m \u001b[0m┃\n",
       "┡━━━━━━━━━━━━━━━━━━━━━━━━━━━╇━━━━━━━━━━━━━━━━━━━━━━━━━━━┩\n",
       "│\u001b[36m \u001b[0m\u001b[36m      test_accuracy      \u001b[0m\u001b[36m \u001b[0m│\u001b[35m \u001b[0m\u001b[35m   0.7431259155273438    \u001b[0m\u001b[35m \u001b[0m│\n",
       "│\u001b[36m \u001b[0m\u001b[36m       test_auroc        \u001b[0m\u001b[36m \u001b[0m│\u001b[35m \u001b[0m\u001b[35m  0.033459559082984924   \u001b[0m\u001b[35m \u001b[0m│\n",
       "│\u001b[36m \u001b[0m\u001b[36m    test_cohen_kappa     \u001b[0m\u001b[36m \u001b[0m│\u001b[35m \u001b[0m\u001b[35m           nan           \u001b[0m\u001b[35m \u001b[0m│\n",
       "│\u001b[36m \u001b[0m\u001b[36m      test_f1_score      \u001b[0m\u001b[36m \u001b[0m│\u001b[35m \u001b[0m\u001b[35m   0.7431259155273438    \u001b[0m\u001b[35m \u001b[0m│\n",
       "│\u001b[36m \u001b[0m\u001b[36m  test_hamming_distance  \u001b[0m\u001b[36m \u001b[0m│\u001b[35m \u001b[0m\u001b[35m   0.25687411427497864   \u001b[0m\u001b[35m \u001b[0m│\n",
       "│\u001b[36m \u001b[0m\u001b[36m   test_jaccard_index    \u001b[0m\u001b[36m \u001b[0m│\u001b[35m \u001b[0m\u001b[35m   0.7172487378120422    \u001b[0m\u001b[35m \u001b[0m│\n",
       "│\u001b[36m \u001b[0m\u001b[36m        test_loss        \u001b[0m\u001b[36m \u001b[0m│\u001b[35m \u001b[0m\u001b[35m   2.2974088191986084    \u001b[0m\u001b[35m \u001b[0m│\n",
       "│\u001b[36m \u001b[0m\u001b[36m       test_loss_0       \u001b[0m\u001b[36m \u001b[0m│\u001b[35m \u001b[0m\u001b[35m   2.2974088191986084    \u001b[0m\u001b[35m \u001b[0m│\n",
       "│\u001b[36m \u001b[0m\u001b[36m test_matthews_corrcoef  \u001b[0m\u001b[36m \u001b[0m│\u001b[35m \u001b[0m\u001b[35m   0.4883517622947693    \u001b[0m\u001b[35m \u001b[0m│\n",
       "│\u001b[36m \u001b[0m\u001b[36m     test_precision      \u001b[0m\u001b[36m \u001b[0m│\u001b[35m \u001b[0m\u001b[35m   0.7431259155273438    \u001b[0m\u001b[35m \u001b[0m│\n",
       "│\u001b[36m \u001b[0m\u001b[36m       test_recall       \u001b[0m\u001b[36m \u001b[0m│\u001b[35m \u001b[0m\u001b[35m   0.7431259155273438    \u001b[0m\u001b[35m \u001b[0m│\n",
       "└───────────────────────────┴───────────────────────────┘\n"
      ]
     },
     "metadata": {},
     "output_type": "display_data"
    },
    {
     "data": {
      "text/html": [
       "<pre style=\"white-space:pre;overflow-x:auto;line-height:normal;font-family:Menlo,'DejaVu Sans Mono',consolas,'Courier New',monospace\"></pre>\n"
      ],
      "text/plain": []
     },
     "metadata": {},
     "output_type": "display_data"
    }
   ],
   "source": [
    "tabnet_result_HBK = tabnet_model.evaluate(normalized_HBK)"
   ]
  },
  {
   "cell_type": "markdown",
   "id": "1f0a4748-8644-48c4-9cd9-0d63bc5cde54",
   "metadata": {},
   "source": [
    "## GANDALF"
   ]
  },
  {
   "cell_type": "code",
   "execution_count": 72,
   "id": "c2bc93c3-afa6-4647-946e-9ac5fc170f3a",
   "metadata": {},
   "outputs": [],
   "source": [
    "gandalf_config = GANDALFConfig(\n",
    "        task=\"classification\",\n",
    "        gflu_stages=8,\n",
    "        gflu_dropout=0.20621973444441227,\n",
    "        gflu_feature_init_sparsity=0.5069371167197942,\n",
    "        learnable_sparsity=False,\n",
    "        embedding_dropout= 0.06647823724375934,\n",
    "        batch_norm_continuous_input=False,\n",
    "        learning_rate=2.6124262014312122e-05,\n",
    "        metrics=[\n",
    "            \"accuracy\", \n",
    "            \"auroc\",\n",
    "            \"recall\",\n",
    "            \"precision\",\n",
    "            \"f1_score\",\n",
    "            \"cohen_kappa\",\n",
    "            \"matthews_corrcoef\",\n",
    "            \"hamming_distance\",\n",
    "            \"jaccard_index\",\n",
    "        ],\n",
    "        metrics_prob_input=[\n",
    "            False,  #acc\n",
    "            True,   # auroc\n",
    "            False,  # recall\n",
    "            False,  # precision\n",
    "            False,  # f1_score\n",
    "            False,  # cohen_kappa\n",
    "            False,  # matthews_corrcoef\n",
    "            False,  # hamming_distance\n",
    "            False,  # jaccard_index\n",
    "        ],\n",
    "        metrics_params=[\n",
    "            {\"average\": \"macro\"},\n",
    "            {\"average\": \"macro\", \"num_classes\": normalized_df['Label'].nunique()},  # auroc\n",
    "            {\"average\": \"macro\", \"num_classes\": normalized_df['Label'].nunique()},  # recall\n",
    "            {\"average\": \"macro\", \"num_classes\": normalized_df['Label'].nunique()},  # precision\n",
    "            {\"average\": \"macro\", \"num_classes\": normalized_df['Label'].nunique()},  # f1_score\n",
    "            {\"num_classes\": normalized_df['Label'].nunique()},                      # cohen_kappa\n",
    "            {},                                      # matthews_corrcoef\n",
    "            {},                                      # hamming_distance\n",
    "            {\"average\": \"macro\", \"num_classes\": normalized_df['Label'].nunique()},  # jaccard_index\n",
    "        ]\n",
    "    )"
   ]
  },
  {
   "cell_type": "code",
   "execution_count": 73,
   "id": "2408f5e3-04a9-420b-a382-5b6db124f4c2",
   "metadata": {},
   "outputs": [
    {
     "data": {
      "text/html": [
       "<pre style=\"white-space:pre;overflow-x:auto;line-height:normal;font-family:Menlo,'DejaVu Sans Mono',consolas,'Courier New',monospace\"><span style=\"color: #008080; text-decoration-color: #008080; font-weight: bold\">2025</span>-<span style=\"color: #008080; text-decoration-color: #008080; font-weight: bold\">10</span>-<span style=\"color: #008080; text-decoration-color: #008080; font-weight: bold\">08</span> <span style=\"color: #00ff00; text-decoration-color: #00ff00; font-weight: bold\">23:20:08</span>,<span style=\"color: #008080; text-decoration-color: #008080; font-weight: bold\">995</span> - <span style=\"font-weight: bold\">{</span>pytorch_tabular.tabular_model:<span style=\"color: #008080; text-decoration-color: #008080; font-weight: bold\">146</span><span style=\"font-weight: bold\">}</span> - INFO - Experiment Tracking is turned off           \n",
       "</pre>\n"
      ],
      "text/plain": [
       "\u001b[1;36m2025\u001b[0m-\u001b[1;36m10\u001b[0m-\u001b[1;36m08\u001b[0m \u001b[1;92m23:20:08\u001b[0m,\u001b[1;36m995\u001b[0m - \u001b[1m{\u001b[0mpytorch_tabular.tabular_model:\u001b[1;36m146\u001b[0m\u001b[1m}\u001b[0m - INFO - Experiment Tracking is turned off           \n"
      ]
     },
     "metadata": {},
     "output_type": "display_data"
    }
   ],
   "source": [
    "gandalf_model = TabularModel(\n",
    "    data_config=data_config,\n",
    "    model_config=gandalf_config,\n",
    "    optimizer_config=optimizer_config,\n",
    "    trainer_config=trainer_config,\n",
    "    verbose=True\n",
    ")"
   ]
  },
  {
   "cell_type": "code",
   "execution_count": 74,
   "id": "2e69f977-f32f-4bec-a5e2-49c0d4375ff7",
   "metadata": {},
   "outputs": [
    {
     "name": "stderr",
     "output_type": "stream",
     "text": [
      "Seed set to 42\n"
     ]
    },
    {
     "data": {
      "text/html": [
       "<pre style=\"white-space:pre;overflow-x:auto;line-height:normal;font-family:Menlo,'DejaVu Sans Mono',consolas,'Courier New',monospace\"><span style=\"color: #008080; text-decoration-color: #008080; font-weight: bold\">2025</span>-<span style=\"color: #008080; text-decoration-color: #008080; font-weight: bold\">10</span>-<span style=\"color: #008080; text-decoration-color: #008080; font-weight: bold\">08</span> <span style=\"color: #00ff00; text-decoration-color: #00ff00; font-weight: bold\">23:20:09</span>,<span style=\"color: #008080; text-decoration-color: #008080; font-weight: bold\">058</span> - <span style=\"font-weight: bold\">{</span>pytorch_tabular.tabular_model:<span style=\"color: #008080; text-decoration-color: #008080; font-weight: bold\">548</span><span style=\"font-weight: bold\">}</span> - INFO - Preparing the DataLoaders                   \n",
       "</pre>\n"
      ],
      "text/plain": [
       "\u001b[1;36m2025\u001b[0m-\u001b[1;36m10\u001b[0m-\u001b[1;36m08\u001b[0m \u001b[1;92m23:20:09\u001b[0m,\u001b[1;36m058\u001b[0m - \u001b[1m{\u001b[0mpytorch_tabular.tabular_model:\u001b[1;36m548\u001b[0m\u001b[1m}\u001b[0m - INFO - Preparing the DataLoaders                   \n"
      ]
     },
     "metadata": {},
     "output_type": "display_data"
    },
    {
     "data": {
      "text/html": [
       "<pre style=\"white-space:pre;overflow-x:auto;line-height:normal;font-family:Menlo,'DejaVu Sans Mono',consolas,'Courier New',monospace\"><span style=\"color: #008080; text-decoration-color: #008080; font-weight: bold\">2025</span>-<span style=\"color: #008080; text-decoration-color: #008080; font-weight: bold\">10</span>-<span style=\"color: #008080; text-decoration-color: #008080; font-weight: bold\">08</span> <span style=\"color: #00ff00; text-decoration-color: #00ff00; font-weight: bold\">23:20:09</span>,<span style=\"color: #008080; text-decoration-color: #008080; font-weight: bold\">120</span> - <span style=\"font-weight: bold\">{</span>pytorch_tabular.tabular_datamodul<span style=\"color: #00ff00; text-decoration-color: #00ff00; font-weight: bold\">e:522</span><span style=\"font-weight: bold\">}</span> - INFO - Setting up the datamodule for          \n",
       "classification task                                                                                                \n",
       "</pre>\n"
      ],
      "text/plain": [
       "\u001b[1;36m2025\u001b[0m-\u001b[1;36m10\u001b[0m-\u001b[1;36m08\u001b[0m \u001b[1;92m23:20:09\u001b[0m,\u001b[1;36m120\u001b[0m - \u001b[1m{\u001b[0mpytorch_tabular.tabular_datamodul\u001b[1;92me:522\u001b[0m\u001b[1m}\u001b[0m - INFO - Setting up the datamodule for          \n",
       "classification task                                                                                                \n"
      ]
     },
     "metadata": {},
     "output_type": "display_data"
    },
    {
     "data": {
      "text/html": [
       "<pre style=\"white-space:pre;overflow-x:auto;line-height:normal;font-family:Menlo,'DejaVu Sans Mono',consolas,'Courier New',monospace\"><span style=\"color: #008080; text-decoration-color: #008080; font-weight: bold\">2025</span>-<span style=\"color: #008080; text-decoration-color: #008080; font-weight: bold\">10</span>-<span style=\"color: #008080; text-decoration-color: #008080; font-weight: bold\">08</span> <span style=\"color: #00ff00; text-decoration-color: #00ff00; font-weight: bold\">23:20:09</span>,<span style=\"color: #008080; text-decoration-color: #008080; font-weight: bold\">337</span> - <span style=\"font-weight: bold\">{</span>pytorch_tabular.tabular_model:<span style=\"color: #008080; text-decoration-color: #008080; font-weight: bold\">599</span><span style=\"font-weight: bold\">}</span> - INFO - Preparing the Model: GANDALFModel           \n",
       "</pre>\n"
      ],
      "text/plain": [
       "\u001b[1;36m2025\u001b[0m-\u001b[1;36m10\u001b[0m-\u001b[1;36m08\u001b[0m \u001b[1;92m23:20:09\u001b[0m,\u001b[1;36m337\u001b[0m - \u001b[1m{\u001b[0mpytorch_tabular.tabular_model:\u001b[1;36m599\u001b[0m\u001b[1m}\u001b[0m - INFO - Preparing the Model: GANDALFModel           \n"
      ]
     },
     "metadata": {},
     "output_type": "display_data"
    },
    {
     "data": {
      "text/html": [
       "<pre style=\"white-space:pre;overflow-x:auto;line-height:normal;font-family:Menlo,'DejaVu Sans Mono',consolas,'Courier New',monospace\"><span style=\"color: #008080; text-decoration-color: #008080; font-weight: bold\">2025</span>-<span style=\"color: #008080; text-decoration-color: #008080; font-weight: bold\">10</span>-<span style=\"color: #008080; text-decoration-color: #008080; font-weight: bold\">08</span> <span style=\"color: #00ff00; text-decoration-color: #00ff00; font-weight: bold\">23:20:09</span>,<span style=\"color: #008080; text-decoration-color: #008080; font-weight: bold\">447</span> - <span style=\"font-weight: bold\">{</span>pytorch_tabular.tabular_model:<span style=\"color: #008080; text-decoration-color: #008080; font-weight: bold\">342</span><span style=\"font-weight: bold\">}</span> - INFO - Preparing the Trainer                       \n",
       "</pre>\n"
      ],
      "text/plain": [
       "\u001b[1;36m2025\u001b[0m-\u001b[1;36m10\u001b[0m-\u001b[1;36m08\u001b[0m \u001b[1;92m23:20:09\u001b[0m,\u001b[1;36m447\u001b[0m - \u001b[1m{\u001b[0mpytorch_tabular.tabular_model:\u001b[1;36m342\u001b[0m\u001b[1m}\u001b[0m - INFO - Preparing the Trainer                       \n"
      ]
     },
     "metadata": {},
     "output_type": "display_data"
    },
    {
     "name": "stderr",
     "output_type": "stream",
     "text": [
      "GPU available: True (cuda), used: True\n",
      "TPU available: False, using: 0 TPU cores\n",
      "HPU available: False, using: 0 HPUs\n"
     ]
    },
    {
     "data": {
      "text/html": [
       "<pre style=\"white-space:pre;overflow-x:auto;line-height:normal;font-family:Menlo,'DejaVu Sans Mono',consolas,'Courier New',monospace\"><span style=\"color: #008080; text-decoration-color: #008080; font-weight: bold\">2025</span>-<span style=\"color: #008080; text-decoration-color: #008080; font-weight: bold\">10</span>-<span style=\"color: #008080; text-decoration-color: #008080; font-weight: bold\">08</span> <span style=\"color: #00ff00; text-decoration-color: #00ff00; font-weight: bold\">23:20:09</span>,<span style=\"color: #008080; text-decoration-color: #008080; font-weight: bold\">483</span> - <span style=\"font-weight: bold\">{</span>pytorch_tabular.tabular_model:<span style=\"color: #008080; text-decoration-color: #008080; font-weight: bold\">678</span><span style=\"font-weight: bold\">}</span> - INFO - Training Started                            \n",
       "</pre>\n"
      ],
      "text/plain": [
       "\u001b[1;36m2025\u001b[0m-\u001b[1;36m10\u001b[0m-\u001b[1;36m08\u001b[0m \u001b[1;92m23:20:09\u001b[0m,\u001b[1;36m483\u001b[0m - \u001b[1m{\u001b[0mpytorch_tabular.tabular_model:\u001b[1;36m678\u001b[0m\u001b[1m}\u001b[0m - INFO - Training Started                            \n"
      ]
     },
     "metadata": {},
     "output_type": "display_data"
    },
    {
     "name": "stderr",
     "output_type": "stream",
     "text": [
      "LOCAL_RANK: 0 - CUDA_VISIBLE_DEVICES: [0]\n"
     ]
    },
    {
     "data": {
      "text/html": [
       "<pre style=\"white-space:pre;overflow-x:auto;line-height:normal;font-family:Menlo,'DejaVu Sans Mono',consolas,'Courier New',monospace\">┏━━━┳━━━━━━━━━━━━━━━━━━┳━━━━━━━━━━━━━━━━━━┳━━━━━━━━┳━━━━━━━┓\n",
       "┃<span style=\"color: #800080; text-decoration-color: #800080; font-weight: bold\">   </span>┃<span style=\"color: #800080; text-decoration-color: #800080; font-weight: bold\"> Name             </span>┃<span style=\"color: #800080; text-decoration-color: #800080; font-weight: bold\"> Type             </span>┃<span style=\"color: #800080; text-decoration-color: #800080; font-weight: bold\"> Params </span>┃<span style=\"color: #800080; text-decoration-color: #800080; font-weight: bold\"> Mode  </span>┃\n",
       "┡━━━╇━━━━━━━━━━━━━━━━━━╇━━━━━━━━━━━━━━━━━━╇━━━━━━━━╇━━━━━━━┩\n",
       "│<span style=\"color: #7f7f7f; text-decoration-color: #7f7f7f\"> 0 </span>│ _backbone        │ GANDALFBackbone  │    904 │ train │\n",
       "│<span style=\"color: #7f7f7f; text-decoration-color: #7f7f7f\"> 1 </span>│ _embedding_layer │ Embedding1dLayer │      0 │ train │\n",
       "│<span style=\"color: #7f7f7f; text-decoration-color: #7f7f7f\"> 2 </span>│ _head            │ Sequential       │     12 │ train │\n",
       "│<span style=\"color: #7f7f7f; text-decoration-color: #7f7f7f\"> 3 </span>│ loss             │ CrossEntropyLoss │      0 │ train │\n",
       "└───┴──────────────────┴──────────────────┴────────┴───────┘\n",
       "</pre>\n"
      ],
      "text/plain": [
       "┏━━━┳━━━━━━━━━━━━━━━━━━┳━━━━━━━━━━━━━━━━━━┳━━━━━━━━┳━━━━━━━┓\n",
       "┃\u001b[1;35m \u001b[0m\u001b[1;35m \u001b[0m\u001b[1;35m \u001b[0m┃\u001b[1;35m \u001b[0m\u001b[1;35mName            \u001b[0m\u001b[1;35m \u001b[0m┃\u001b[1;35m \u001b[0m\u001b[1;35mType            \u001b[0m\u001b[1;35m \u001b[0m┃\u001b[1;35m \u001b[0m\u001b[1;35mParams\u001b[0m\u001b[1;35m \u001b[0m┃\u001b[1;35m \u001b[0m\u001b[1;35mMode \u001b[0m\u001b[1;35m \u001b[0m┃\n",
       "┡━━━╇━━━━━━━━━━━━━━━━━━╇━━━━━━━━━━━━━━━━━━╇━━━━━━━━╇━━━━━━━┩\n",
       "│\u001b[2m \u001b[0m\u001b[2m0\u001b[0m\u001b[2m \u001b[0m│ _backbone        │ GANDALFBackbone  │    904 │ train │\n",
       "│\u001b[2m \u001b[0m\u001b[2m1\u001b[0m\u001b[2m \u001b[0m│ _embedding_layer │ Embedding1dLayer │      0 │ train │\n",
       "│\u001b[2m \u001b[0m\u001b[2m2\u001b[0m\u001b[2m \u001b[0m│ _head            │ Sequential       │     12 │ train │\n",
       "│\u001b[2m \u001b[0m\u001b[2m3\u001b[0m\u001b[2m \u001b[0m│ loss             │ CrossEntropyLoss │      0 │ train │\n",
       "└───┴──────────────────┴──────────────────┴────────┴───────┘\n"
      ]
     },
     "metadata": {},
     "output_type": "display_data"
    },
    {
     "data": {
      "text/html": [
       "<pre style=\"white-space:pre;overflow-x:auto;line-height:normal;font-family:Menlo,'DejaVu Sans Mono',consolas,'Courier New',monospace\"><span style=\"font-weight: bold\">Trainable params</span>: 908                                                                                              \n",
       "<span style=\"font-weight: bold\">Non-trainable params</span>: 8                                                                                            \n",
       "<span style=\"font-weight: bold\">Total params</span>: 916                                                                                                  \n",
       "<span style=\"font-weight: bold\">Total estimated model params size (MB)</span>: 0                                                                          \n",
       "<span style=\"font-weight: bold\">Modules in train mode</span>: 30                                                                                          \n",
       "<span style=\"font-weight: bold\">Modules in eval mode</span>: 0                                                                                            \n",
       "</pre>\n"
      ],
      "text/plain": [
       "\u001b[1mTrainable params\u001b[0m: 908                                                                                              \n",
       "\u001b[1mNon-trainable params\u001b[0m: 8                                                                                            \n",
       "\u001b[1mTotal params\u001b[0m: 916                                                                                                  \n",
       "\u001b[1mTotal estimated model params size (MB)\u001b[0m: 0                                                                          \n",
       "\u001b[1mModules in train mode\u001b[0m: 30                                                                                          \n",
       "\u001b[1mModules in eval mode\u001b[0m: 0                                                                                            \n"
      ]
     },
     "metadata": {},
     "output_type": "display_data"
    },
    {
     "data": {
      "application/vnd.jupyter.widget-view+json": {
       "model_id": "0ce2a33a085942f48ddf86502b6ec28f",
       "version_major": 2,
       "version_minor": 0
      },
      "text/plain": [
       "Output()"
      ]
     },
     "metadata": {},
     "output_type": "display_data"
    },
    {
     "name": "stderr",
     "output_type": "stream",
     "text": [
      "`Trainer.fit` stopped: `max_epochs=10` reached.\n"
     ]
    },
    {
     "data": {
      "text/html": [
       "<pre style=\"white-space:pre;overflow-x:auto;line-height:normal;font-family:Menlo,'DejaVu Sans Mono',consolas,'Courier New',monospace\"></pre>\n"
      ],
      "text/plain": []
     },
     "metadata": {},
     "output_type": "display_data"
    },
    {
     "data": {
      "text/html": [
       "<pre style=\"white-space:pre;overflow-x:auto;line-height:normal;font-family:Menlo,'DejaVu Sans Mono',consolas,'Courier New',monospace\"><span style=\"color: #008080; text-decoration-color: #008080; font-weight: bold\">2025</span>-<span style=\"color: #008080; text-decoration-color: #008080; font-weight: bold\">10</span>-<span style=\"color: #008080; text-decoration-color: #008080; font-weight: bold\">08</span> <span style=\"color: #00ff00; text-decoration-color: #00ff00; font-weight: bold\">23:48:55</span>,<span style=\"color: #008080; text-decoration-color: #008080; font-weight: bold\">827</span> - <span style=\"font-weight: bold\">{</span>pytorch_tabular.tabular_model:<span style=\"color: #008080; text-decoration-color: #008080; font-weight: bold\">689</span><span style=\"font-weight: bold\">}</span> - INFO - Training the model completed                \n",
       "</pre>\n"
      ],
      "text/plain": [
       "\u001b[1;36m2025\u001b[0m-\u001b[1;36m10\u001b[0m-\u001b[1;36m08\u001b[0m \u001b[1;92m23:48:55\u001b[0m,\u001b[1;36m827\u001b[0m - \u001b[1m{\u001b[0mpytorch_tabular.tabular_model:\u001b[1;36m689\u001b[0m\u001b[1m}\u001b[0m - INFO - Training the model completed                \n"
      ]
     },
     "metadata": {},
     "output_type": "display_data"
    },
    {
     "data": {
      "text/html": [
       "<pre style=\"white-space:pre;overflow-x:auto;line-height:normal;font-family:Menlo,'DejaVu Sans Mono',consolas,'Courier New',monospace\"><span style=\"color: #008080; text-decoration-color: #008080; font-weight: bold\">2025</span>-<span style=\"color: #008080; text-decoration-color: #008080; font-weight: bold\">10</span>-<span style=\"color: #008080; text-decoration-color: #008080; font-weight: bold\">08</span> <span style=\"color: #00ff00; text-decoration-color: #00ff00; font-weight: bold\">23:48:55</span>,<span style=\"color: #008080; text-decoration-color: #008080; font-weight: bold\">828</span> - <span style=\"font-weight: bold\">{</span>pytorch_tabular.tabular_model:<span style=\"color: #008080; text-decoration-color: #008080; font-weight: bold\">1529</span><span style=\"font-weight: bold\">}</span> - INFO - Loading the best model                     \n",
       "</pre>\n"
      ],
      "text/plain": [
       "\u001b[1;36m2025\u001b[0m-\u001b[1;36m10\u001b[0m-\u001b[1;36m08\u001b[0m \u001b[1;92m23:48:55\u001b[0m,\u001b[1;36m828\u001b[0m - \u001b[1m{\u001b[0mpytorch_tabular.tabular_model:\u001b[1;36m1529\u001b[0m\u001b[1m}\u001b[0m - INFO - Loading the best model                     \n"
      ]
     },
     "metadata": {},
     "output_type": "display_data"
    },
    {
     "data": {
      "text/plain": [
       "<pytorch_lightning.trainer.trainer.Trainer at 0x21d85740ed0>"
      ]
     },
     "execution_count": 74,
     "metadata": {},
     "output_type": "execute_result"
    }
   ],
   "source": [
    "gandalf_model.fit(train=train, validation=val)"
   ]
  },
  {
   "cell_type": "code",
   "execution_count": 75,
   "id": "f6f8f567-07db-49b3-a9de-d7ea1613ff14",
   "metadata": {},
   "outputs": [
    {
     "data": {
      "text/html": [
       "<div>\n",
       "<style scoped>\n",
       "    .dataframe tbody tr th:only-of-type {\n",
       "        vertical-align: middle;\n",
       "    }\n",
       "\n",
       "    .dataframe tbody tr th {\n",
       "        vertical-align: top;\n",
       "    }\n",
       "\n",
       "    .dataframe thead th {\n",
       "        text-align: right;\n",
       "    }\n",
       "</style>\n",
       "<table border=\"1\" class=\"dataframe\">\n",
       "  <thead>\n",
       "    <tr style=\"text-align: right;\">\n",
       "      <th></th>\n",
       "      <th>Label_damaged_probability</th>\n",
       "      <th>Label_healthy_probability</th>\n",
       "      <th>Label_prediction</th>\n",
       "    </tr>\n",
       "  </thead>\n",
       "  <tbody>\n",
       "    <tr>\n",
       "      <th>206457</th>\n",
       "      <td>0.709762</td>\n",
       "      <td>0.290238</td>\n",
       "      <td>damaged</td>\n",
       "    </tr>\n",
       "    <tr>\n",
       "      <th>232578</th>\n",
       "      <td>0.734580</td>\n",
       "      <td>0.265420</td>\n",
       "      <td>damaged</td>\n",
       "    </tr>\n",
       "    <tr>\n",
       "      <th>92282</th>\n",
       "      <td>0.769084</td>\n",
       "      <td>0.230916</td>\n",
       "      <td>damaged</td>\n",
       "    </tr>\n",
       "    <tr>\n",
       "      <th>468494</th>\n",
       "      <td>0.745550</td>\n",
       "      <td>0.254450</td>\n",
       "      <td>damaged</td>\n",
       "    </tr>\n",
       "    <tr>\n",
       "      <th>560184</th>\n",
       "      <td>0.724405</td>\n",
       "      <td>0.275595</td>\n",
       "      <td>damaged</td>\n",
       "    </tr>\n",
       "    <tr>\n",
       "      <th>686021</th>\n",
       "      <td>0.761459</td>\n",
       "      <td>0.238541</td>\n",
       "      <td>damaged</td>\n",
       "    </tr>\n",
       "    <tr>\n",
       "      <th>68114</th>\n",
       "      <td>0.703138</td>\n",
       "      <td>0.296862</td>\n",
       "      <td>damaged</td>\n",
       "    </tr>\n",
       "    <tr>\n",
       "      <th>801758</th>\n",
       "      <td>0.741180</td>\n",
       "      <td>0.258820</td>\n",
       "      <td>damaged</td>\n",
       "    </tr>\n",
       "    <tr>\n",
       "      <th>147760</th>\n",
       "      <td>0.729999</td>\n",
       "      <td>0.270001</td>\n",
       "      <td>damaged</td>\n",
       "    </tr>\n",
       "    <tr>\n",
       "      <th>610123</th>\n",
       "      <td>0.763110</td>\n",
       "      <td>0.236890</td>\n",
       "      <td>damaged</td>\n",
       "    </tr>\n",
       "  </tbody>\n",
       "</table>\n",
       "</div>"
      ],
      "text/plain": [
       "        Label_damaged_probability  Label_healthy_probability Label_prediction\n",
       "206457                   0.709762                   0.290238          damaged\n",
       "232578                   0.734580                   0.265420          damaged\n",
       "92282                    0.769084                   0.230916          damaged\n",
       "468494                   0.745550                   0.254450          damaged\n",
       "560184                   0.724405                   0.275595          damaged\n",
       "686021                   0.761459                   0.238541          damaged\n",
       "68114                    0.703138                   0.296862          damaged\n",
       "801758                   0.741180                   0.258820          damaged\n",
       "147760                   0.729999                   0.270001          damaged\n",
       "610123                   0.763110                   0.236890          damaged"
      ]
     },
     "execution_count": 75,
     "metadata": {},
     "output_type": "execute_result"
    }
   ],
   "source": [
    "gandalf_pred_df = gandalf_model.predict(test)\n",
    "gandalf_pred_df.head(10)"
   ]
  },
  {
   "cell_type": "code",
   "execution_count": 76,
   "id": "3764cad1-615d-4a22-bda6-a393dbb8424c",
   "metadata": {},
   "outputs": [
    {
     "name": "stderr",
     "output_type": "stream",
     "text": [
      "LOCAL_RANK: 0 - CUDA_VISIBLE_DEVICES: [0]\n"
     ]
    },
    {
     "data": {
      "application/vnd.jupyter.widget-view+json": {
       "model_id": "3808f2ba39944e6c933aead681b889d9",
       "version_major": 2,
       "version_minor": 0
      },
      "text/plain": [
       "Output()"
      ]
     },
     "metadata": {},
     "output_type": "display_data"
    },
    {
     "data": {
      "text/html": [
       "<pre style=\"white-space:pre;overflow-x:auto;line-height:normal;font-family:Menlo,'DejaVu Sans Mono',consolas,'Courier New',monospace\">┏━━━━━━━━━━━━━━━━━━━━━━━━━━━┳━━━━━━━━━━━━━━━━━━━━━━━━━━━┓\n",
       "┃<span style=\"font-weight: bold\">        Test metric        </span>┃<span style=\"font-weight: bold\">       DataLoader 0        </span>┃\n",
       "┡━━━━━━━━━━━━━━━━━━━━━━━━━━━╇━━━━━━━━━━━━━━━━━━━━━━━━━━━┩\n",
       "│<span style=\"color: #008080; text-decoration-color: #008080\">       test_accuracy       </span>│<span style=\"color: #800080; text-decoration-color: #800080\">    0.7857978343963623     </span>│\n",
       "│<span style=\"color: #008080; text-decoration-color: #008080\">        test_auroc         </span>│<span style=\"color: #800080; text-decoration-color: #800080\">    0.6426485776901245     </span>│\n",
       "│<span style=\"color: #008080; text-decoration-color: #008080\">     test_cohen_kappa      </span>│<span style=\"color: #800080; text-decoration-color: #800080\">  -1.0373662007623352e-05  </span>│\n",
       "│<span style=\"color: #008080; text-decoration-color: #008080\">       test_f1_score       </span>│<span style=\"color: #800080; text-decoration-color: #800080\">    0.7857978343963623     </span>│\n",
       "│<span style=\"color: #008080; text-decoration-color: #008080\">   test_hamming_distance   </span>│<span style=\"color: #800080; text-decoration-color: #800080\">    0.2142021507024765     </span>│\n",
       "│<span style=\"color: #008080; text-decoration-color: #008080\">    test_jaccard_index     </span>│<span style=\"color: #800080; text-decoration-color: #800080\">    0.39289891719818115    </span>│\n",
       "│<span style=\"color: #008080; text-decoration-color: #008080\">         test_loss         </span>│<span style=\"color: #800080; text-decoration-color: #800080\">    0.48269718885421753    </span>│\n",
       "│<span style=\"color: #008080; text-decoration-color: #008080\">        test_loss_0        </span>│<span style=\"color: #800080; text-decoration-color: #800080\">    0.48269718885421753    </span>│\n",
       "│<span style=\"color: #008080; text-decoration-color: #008080\">  test_matthews_corrcoef   </span>│<span style=\"color: #800080; text-decoration-color: #800080\">    0.08771432936191559    </span>│\n",
       "│<span style=\"color: #008080; text-decoration-color: #008080\">      test_precision       </span>│<span style=\"color: #800080; text-decoration-color: #800080\">    0.7857978343963623     </span>│\n",
       "│<span style=\"color: #008080; text-decoration-color: #008080\">        test_recall        </span>│<span style=\"color: #800080; text-decoration-color: #800080\">    0.7857978343963623     </span>│\n",
       "└───────────────────────────┴───────────────────────────┘\n",
       "</pre>\n"
      ],
      "text/plain": [
       "┏━━━━━━━━━━━━━━━━━━━━━━━━━━━┳━━━━━━━━━━━━━━━━━━━━━━━━━━━┓\n",
       "┃\u001b[1m \u001b[0m\u001b[1m       Test metric       \u001b[0m\u001b[1m \u001b[0m┃\u001b[1m \u001b[0m\u001b[1m      DataLoader 0       \u001b[0m\u001b[1m \u001b[0m┃\n",
       "┡━━━━━━━━━━━━━━━━━━━━━━━━━━━╇━━━━━━━━━━━━━━━━━━━━━━━━━━━┩\n",
       "│\u001b[36m \u001b[0m\u001b[36m      test_accuracy      \u001b[0m\u001b[36m \u001b[0m│\u001b[35m \u001b[0m\u001b[35m   0.7857978343963623    \u001b[0m\u001b[35m \u001b[0m│\n",
       "│\u001b[36m \u001b[0m\u001b[36m       test_auroc        \u001b[0m\u001b[36m \u001b[0m│\u001b[35m \u001b[0m\u001b[35m   0.6426485776901245    \u001b[0m\u001b[35m \u001b[0m│\n",
       "│\u001b[36m \u001b[0m\u001b[36m    test_cohen_kappa     \u001b[0m\u001b[36m \u001b[0m│\u001b[35m \u001b[0m\u001b[35m -1.0373662007623352e-05 \u001b[0m\u001b[35m \u001b[0m│\n",
       "│\u001b[36m \u001b[0m\u001b[36m      test_f1_score      \u001b[0m\u001b[36m \u001b[0m│\u001b[35m \u001b[0m\u001b[35m   0.7857978343963623    \u001b[0m\u001b[35m \u001b[0m│\n",
       "│\u001b[36m \u001b[0m\u001b[36m  test_hamming_distance  \u001b[0m\u001b[36m \u001b[0m│\u001b[35m \u001b[0m\u001b[35m   0.2142021507024765    \u001b[0m\u001b[35m \u001b[0m│\n",
       "│\u001b[36m \u001b[0m\u001b[36m   test_jaccard_index    \u001b[0m\u001b[36m \u001b[0m│\u001b[35m \u001b[0m\u001b[35m   0.39289891719818115   \u001b[0m\u001b[35m \u001b[0m│\n",
       "│\u001b[36m \u001b[0m\u001b[36m        test_loss        \u001b[0m\u001b[36m \u001b[0m│\u001b[35m \u001b[0m\u001b[35m   0.48269718885421753   \u001b[0m\u001b[35m \u001b[0m│\n",
       "│\u001b[36m \u001b[0m\u001b[36m       test_loss_0       \u001b[0m\u001b[36m \u001b[0m│\u001b[35m \u001b[0m\u001b[35m   0.48269718885421753   \u001b[0m\u001b[35m \u001b[0m│\n",
       "│\u001b[36m \u001b[0m\u001b[36m test_matthews_corrcoef  \u001b[0m\u001b[36m \u001b[0m│\u001b[35m \u001b[0m\u001b[35m   0.08771432936191559   \u001b[0m\u001b[35m \u001b[0m│\n",
       "│\u001b[36m \u001b[0m\u001b[36m     test_precision      \u001b[0m\u001b[36m \u001b[0m│\u001b[35m \u001b[0m\u001b[35m   0.7857978343963623    \u001b[0m\u001b[35m \u001b[0m│\n",
       "│\u001b[36m \u001b[0m\u001b[36m       test_recall       \u001b[0m\u001b[36m \u001b[0m│\u001b[35m \u001b[0m\u001b[35m   0.7857978343963623    \u001b[0m\u001b[35m \u001b[0m│\n",
       "└───────────────────────────┴───────────────────────────┘\n"
      ]
     },
     "metadata": {},
     "output_type": "display_data"
    },
    {
     "data": {
      "text/html": [
       "<pre style=\"white-space:pre;overflow-x:auto;line-height:normal;font-family:Menlo,'DejaVu Sans Mono',consolas,'Courier New',monospace\"></pre>\n"
      ],
      "text/plain": []
     },
     "metadata": {},
     "output_type": "display_data"
    }
   ],
   "source": [
    "gandalf_result = gandalf_model.evaluate(test)"
   ]
  },
  {
   "cell_type": "code",
   "execution_count": 84,
   "id": "8113ea84-315a-4c55-9277-9c78e792cf43",
   "metadata": {},
   "outputs": [
    {
     "name": "stderr",
     "output_type": "stream",
     "text": [
      "LOCAL_RANK: 0 - CUDA_VISIBLE_DEVICES: [0]\n"
     ]
    },
    {
     "data": {
      "application/vnd.jupyter.widget-view+json": {
       "model_id": "1436b56396584a408e9e015810f00f3b",
       "version_major": 2,
       "version_minor": 0
      },
      "text/plain": [
       "Output()"
      ]
     },
     "metadata": {},
     "output_type": "display_data"
    },
    {
     "data": {
      "text/html": [
       "<pre style=\"white-space:pre;overflow-x:auto;line-height:normal;font-family:Menlo,'DejaVu Sans Mono',consolas,'Courier New',monospace\">┏━━━━━━━━━━━━━━━━━━━━━━━━━━━┳━━━━━━━━━━━━━━━━━━━━━━━━━━━┓\n",
       "┃<span style=\"font-weight: bold\">        Test metric        </span>┃<span style=\"font-weight: bold\">       DataLoader 0        </span>┃\n",
       "┡━━━━━━━━━━━━━━━━━━━━━━━━━━━╇━━━━━━━━━━━━━━━━━━━━━━━━━━━┩\n",
       "│<span style=\"color: #008080; text-decoration-color: #008080\">       test_accuracy       </span>│<span style=\"color: #800080; text-decoration-color: #800080\">    0.6854015588760376     </span>│\n",
       "│<span style=\"color: #008080; text-decoration-color: #008080\">        test_auroc         </span>│<span style=\"color: #800080; text-decoration-color: #800080\">    0.03366803750395775    </span>│\n",
       "│<span style=\"color: #008080; text-decoration-color: #008080\">     test_cohen_kappa      </span>│<span style=\"color: #800080; text-decoration-color: #800080\">            nan            </span>│\n",
       "│<span style=\"color: #008080; text-decoration-color: #008080\">       test_f1_score       </span>│<span style=\"color: #800080; text-decoration-color: #800080\">    0.6854015588760376     </span>│\n",
       "│<span style=\"color: #008080; text-decoration-color: #008080\">   test_hamming_distance   </span>│<span style=\"color: #800080; text-decoration-color: #800080\">    0.3145984411239624     </span>│\n",
       "│<span style=\"color: #008080; text-decoration-color: #008080\">    test_jaccard_index     </span>│<span style=\"color: #800080; text-decoration-color: #800080\">    0.6174524426460266     </span>│\n",
       "│<span style=\"color: #008080; text-decoration-color: #008080\">         test_loss         </span>│<span style=\"color: #800080; text-decoration-color: #800080\">     0.752906322479248     </span>│\n",
       "│<span style=\"color: #008080; text-decoration-color: #008080\">        test_loss_0        </span>│<span style=\"color: #800080; text-decoration-color: #800080\">     0.752906322479248     </span>│\n",
       "│<span style=\"color: #008080; text-decoration-color: #008080\">  test_matthews_corrcoef   </span>│<span style=\"color: #800080; text-decoration-color: #800080\">    0.34950947761535645    </span>│\n",
       "│<span style=\"color: #008080; text-decoration-color: #008080\">      test_precision       </span>│<span style=\"color: #800080; text-decoration-color: #800080\">    0.6854015588760376     </span>│\n",
       "│<span style=\"color: #008080; text-decoration-color: #008080\">        test_recall        </span>│<span style=\"color: #800080; text-decoration-color: #800080\">    0.6854015588760376     </span>│\n",
       "└───────────────────────────┴───────────────────────────┘\n",
       "</pre>\n"
      ],
      "text/plain": [
       "┏━━━━━━━━━━━━━━━━━━━━━━━━━━━┳━━━━━━━━━━━━━━━━━━━━━━━━━━━┓\n",
       "┃\u001b[1m \u001b[0m\u001b[1m       Test metric       \u001b[0m\u001b[1m \u001b[0m┃\u001b[1m \u001b[0m\u001b[1m      DataLoader 0       \u001b[0m\u001b[1m \u001b[0m┃\n",
       "┡━━━━━━━━━━━━━━━━━━━━━━━━━━━╇━━━━━━━━━━━━━━━━━━━━━━━━━━━┩\n",
       "│\u001b[36m \u001b[0m\u001b[36m      test_accuracy      \u001b[0m\u001b[36m \u001b[0m│\u001b[35m \u001b[0m\u001b[35m   0.6854015588760376    \u001b[0m\u001b[35m \u001b[0m│\n",
       "│\u001b[36m \u001b[0m\u001b[36m       test_auroc        \u001b[0m\u001b[36m \u001b[0m│\u001b[35m \u001b[0m\u001b[35m   0.03366803750395775   \u001b[0m\u001b[35m \u001b[0m│\n",
       "│\u001b[36m \u001b[0m\u001b[36m    test_cohen_kappa     \u001b[0m\u001b[36m \u001b[0m│\u001b[35m \u001b[0m\u001b[35m           nan           \u001b[0m\u001b[35m \u001b[0m│\n",
       "│\u001b[36m \u001b[0m\u001b[36m      test_f1_score      \u001b[0m\u001b[36m \u001b[0m│\u001b[35m \u001b[0m\u001b[35m   0.6854015588760376    \u001b[0m\u001b[35m \u001b[0m│\n",
       "│\u001b[36m \u001b[0m\u001b[36m  test_hamming_distance  \u001b[0m\u001b[36m \u001b[0m│\u001b[35m \u001b[0m\u001b[35m   0.3145984411239624    \u001b[0m\u001b[35m \u001b[0m│\n",
       "│\u001b[36m \u001b[0m\u001b[36m   test_jaccard_index    \u001b[0m\u001b[36m \u001b[0m│\u001b[35m \u001b[0m\u001b[35m   0.6174524426460266    \u001b[0m\u001b[35m \u001b[0m│\n",
       "│\u001b[36m \u001b[0m\u001b[36m        test_loss        \u001b[0m\u001b[36m \u001b[0m│\u001b[35m \u001b[0m\u001b[35m    0.752906322479248    \u001b[0m\u001b[35m \u001b[0m│\n",
       "│\u001b[36m \u001b[0m\u001b[36m       test_loss_0       \u001b[0m\u001b[36m \u001b[0m│\u001b[35m \u001b[0m\u001b[35m    0.752906322479248    \u001b[0m\u001b[35m \u001b[0m│\n",
       "│\u001b[36m \u001b[0m\u001b[36m test_matthews_corrcoef  \u001b[0m\u001b[36m \u001b[0m│\u001b[35m \u001b[0m\u001b[35m   0.34950947761535645   \u001b[0m\u001b[35m \u001b[0m│\n",
       "│\u001b[36m \u001b[0m\u001b[36m     test_precision      \u001b[0m\u001b[36m \u001b[0m│\u001b[35m \u001b[0m\u001b[35m   0.6854015588760376    \u001b[0m\u001b[35m \u001b[0m│\n",
       "│\u001b[36m \u001b[0m\u001b[36m       test_recall       \u001b[0m\u001b[36m \u001b[0m│\u001b[35m \u001b[0m\u001b[35m   0.6854015588760376    \u001b[0m\u001b[35m \u001b[0m│\n",
       "└───────────────────────────┴───────────────────────────┘\n"
      ]
     },
     "metadata": {},
     "output_type": "display_data"
    },
    {
     "data": {
      "text/html": [
       "<pre style=\"white-space:pre;overflow-x:auto;line-height:normal;font-family:Menlo,'DejaVu Sans Mono',consolas,'Courier New',monospace\"></pre>\n"
      ],
      "text/plain": []
     },
     "metadata": {},
     "output_type": "display_data"
    }
   ],
   "source": [
    "gandalf_result_HBK = gandalf_model.evaluate(normalized_HBK)"
   ]
  },
  {
   "cell_type": "code",
   "execution_count": 85,
   "id": "78a436d8-99ac-422a-bd60-c9ba95650557",
   "metadata": {},
   "outputs": [
    {
     "name": "stderr",
     "output_type": "stream",
     "text": [
      "LOCAL_RANK: 0 - CUDA_VISIBLE_DEVICES: [0]\n"
     ]
    },
    {
     "data": {
      "application/vnd.jupyter.widget-view+json": {
       "model_id": "6d4e1b05918d4c4793c112b998dce06f",
       "version_major": 2,
       "version_minor": 0
      },
      "text/plain": [
       "Output()"
      ]
     },
     "metadata": {},
     "output_type": "display_data"
    },
    {
     "data": {
      "text/html": [
       "<pre style=\"white-space:pre;overflow-x:auto;line-height:normal;font-family:Menlo,'DejaVu Sans Mono',consolas,'Courier New',monospace\">┏━━━━━━━━━━━━━━━━━━━━━━━━━━━┳━━━━━━━━━━━━━━━━━━━━━━━━━━━┓\n",
       "┃<span style=\"font-weight: bold\">        Test metric        </span>┃<span style=\"font-weight: bold\">       DataLoader 0        </span>┃\n",
       "┡━━━━━━━━━━━━━━━━━━━━━━━━━━━╇━━━━━━━━━━━━━━━━━━━━━━━━━━━┩\n",
       "│<span style=\"color: #008080; text-decoration-color: #008080\">       test_accuracy       </span>│<span style=\"color: #800080; text-decoration-color: #800080\">    0.8153256177902222     </span>│\n",
       "│<span style=\"color: #008080; text-decoration-color: #008080\">        test_auroc         </span>│<span style=\"color: #800080; text-decoration-color: #800080\">   3.652973464340903e-05   </span>│\n",
       "│<span style=\"color: #008080; text-decoration-color: #008080\">     test_cohen_kappa      </span>│<span style=\"color: #800080; text-decoration-color: #800080\">            nan            </span>│\n",
       "│<span style=\"color: #008080; text-decoration-color: #008080\">       test_f1_score       </span>│<span style=\"color: #800080; text-decoration-color: #800080\">    0.8153256177902222     </span>│\n",
       "│<span style=\"color: #008080; text-decoration-color: #008080\">   test_hamming_distance   </span>│<span style=\"color: #800080; text-decoration-color: #800080\">    0.18467439711093903    </span>│\n",
       "│<span style=\"color: #008080; text-decoration-color: #008080\">    test_jaccard_index     </span>│<span style=\"color: #800080; text-decoration-color: #800080\">    0.7177666425704956     </span>│\n",
       "│<span style=\"color: #008080; text-decoration-color: #008080\">         test_loss         </span>│<span style=\"color: #800080; text-decoration-color: #800080\">    0.6036471128463745     </span>│\n",
       "│<span style=\"color: #008080; text-decoration-color: #008080\">        test_loss_0        </span>│<span style=\"color: #800080; text-decoration-color: #800080\">    0.6036471128463745     </span>│\n",
       "│<span style=\"color: #008080; text-decoration-color: #008080\">  test_matthews_corrcoef   </span>│<span style=\"color: #800080; text-decoration-color: #800080\">    0.5624601244926453     </span>│\n",
       "│<span style=\"color: #008080; text-decoration-color: #008080\">      test_precision       </span>│<span style=\"color: #800080; text-decoration-color: #800080\">    0.8153256177902222     </span>│\n",
       "│<span style=\"color: #008080; text-decoration-color: #008080\">        test_recall        </span>│<span style=\"color: #800080; text-decoration-color: #800080\">    0.8153256177902222     </span>│\n",
       "└───────────────────────────┴───────────────────────────┘\n",
       "</pre>\n"
      ],
      "text/plain": [
       "┏━━━━━━━━━━━━━━━━━━━━━━━━━━━┳━━━━━━━━━━━━━━━━━━━━━━━━━━━┓\n",
       "┃\u001b[1m \u001b[0m\u001b[1m       Test metric       \u001b[0m\u001b[1m \u001b[0m┃\u001b[1m \u001b[0m\u001b[1m      DataLoader 0       \u001b[0m\u001b[1m \u001b[0m┃\n",
       "┡━━━━━━━━━━━━━━━━━━━━━━━━━━━╇━━━━━━━━━━━━━━━━━━━━━━━━━━━┩\n",
       "│\u001b[36m \u001b[0m\u001b[36m      test_accuracy      \u001b[0m\u001b[36m \u001b[0m│\u001b[35m \u001b[0m\u001b[35m   0.8153256177902222    \u001b[0m\u001b[35m \u001b[0m│\n",
       "│\u001b[36m \u001b[0m\u001b[36m       test_auroc        \u001b[0m\u001b[36m \u001b[0m│\u001b[35m \u001b[0m\u001b[35m  3.652973464340903e-05  \u001b[0m\u001b[35m \u001b[0m│\n",
       "│\u001b[36m \u001b[0m\u001b[36m    test_cohen_kappa     \u001b[0m\u001b[36m \u001b[0m│\u001b[35m \u001b[0m\u001b[35m           nan           \u001b[0m\u001b[35m \u001b[0m│\n",
       "│\u001b[36m \u001b[0m\u001b[36m      test_f1_score      \u001b[0m\u001b[36m \u001b[0m│\u001b[35m \u001b[0m\u001b[35m   0.8153256177902222    \u001b[0m\u001b[35m \u001b[0m│\n",
       "│\u001b[36m \u001b[0m\u001b[36m  test_hamming_distance  \u001b[0m\u001b[36m \u001b[0m│\u001b[35m \u001b[0m\u001b[35m   0.18467439711093903   \u001b[0m\u001b[35m \u001b[0m│\n",
       "│\u001b[36m \u001b[0m\u001b[36m   test_jaccard_index    \u001b[0m\u001b[36m \u001b[0m│\u001b[35m \u001b[0m\u001b[35m   0.7177666425704956    \u001b[0m\u001b[35m \u001b[0m│\n",
       "│\u001b[36m \u001b[0m\u001b[36m        test_loss        \u001b[0m\u001b[36m \u001b[0m│\u001b[35m \u001b[0m\u001b[35m   0.6036471128463745    \u001b[0m\u001b[35m \u001b[0m│\n",
       "│\u001b[36m \u001b[0m\u001b[36m       test_loss_0       \u001b[0m\u001b[36m \u001b[0m│\u001b[35m \u001b[0m\u001b[35m   0.6036471128463745    \u001b[0m\u001b[35m \u001b[0m│\n",
       "│\u001b[36m \u001b[0m\u001b[36m test_matthews_corrcoef  \u001b[0m\u001b[36m \u001b[0m│\u001b[35m \u001b[0m\u001b[35m   0.5624601244926453    \u001b[0m\u001b[35m \u001b[0m│\n",
       "│\u001b[36m \u001b[0m\u001b[36m     test_precision      \u001b[0m\u001b[36m \u001b[0m│\u001b[35m \u001b[0m\u001b[35m   0.8153256177902222    \u001b[0m\u001b[35m \u001b[0m│\n",
       "│\u001b[36m \u001b[0m\u001b[36m       test_recall       \u001b[0m\u001b[36m \u001b[0m│\u001b[35m \u001b[0m\u001b[35m   0.8153256177902222    \u001b[0m\u001b[35m \u001b[0m│\n",
       "└───────────────────────────┴───────────────────────────┘\n"
      ]
     },
     "metadata": {},
     "output_type": "display_data"
    },
    {
     "data": {
      "text/html": [
       "<pre style=\"white-space:pre;overflow-x:auto;line-height:normal;font-family:Menlo,'DejaVu Sans Mono',consolas,'Courier New',monospace\"></pre>\n"
      ],
      "text/plain": []
     },
     "metadata": {},
     "output_type": "display_data"
    }
   ],
   "source": [
    "gandalf_result_MCC5 = gandalf_model.evaluate(normalized_MCC5)"
   ]
  },
  {
   "cell_type": "code",
   "execution_count": 77,
   "id": "fad1038a-651e-4774-8b6d-3810c2bfbc00",
   "metadata": {},
   "outputs": [
    {
     "data": {
      "text/html": [
       "<div>\n",
       "<style scoped>\n",
       "    .dataframe tbody tr th:only-of-type {\n",
       "        vertical-align: middle;\n",
       "    }\n",
       "\n",
       "    .dataframe tbody tr th {\n",
       "        vertical-align: top;\n",
       "    }\n",
       "\n",
       "    .dataframe thead th {\n",
       "        text-align: right;\n",
       "    }\n",
       "</style>\n",
       "<table border=\"1\" class=\"dataframe\">\n",
       "  <thead>\n",
       "    <tr style=\"text-align: right;\">\n",
       "      <th></th>\n",
       "      <th>Features</th>\n",
       "      <th>importance</th>\n",
       "    </tr>\n",
       "  </thead>\n",
       "  <tbody>\n",
       "    <tr>\n",
       "      <th>0</th>\n",
       "      <td>medianFreq</td>\n",
       "      <td>2.899832</td>\n",
       "    </tr>\n",
       "    <tr>\n",
       "      <th>3</th>\n",
       "      <td>spectral_skewness</td>\n",
       "      <td>1.820372</td>\n",
       "    </tr>\n",
       "    <tr>\n",
       "      <th>2</th>\n",
       "      <td>spectral_entropy</td>\n",
       "      <td>1.785425</td>\n",
       "    </tr>\n",
       "    <tr>\n",
       "      <th>1</th>\n",
       "      <td>meanFreq</td>\n",
       "      <td>1.494371</td>\n",
       "    </tr>\n",
       "  </tbody>\n",
       "</table>\n",
       "</div>"
      ],
      "text/plain": [
       "            Features  importance\n",
       "0         medianFreq    2.899832\n",
       "3  spectral_skewness    1.820372\n",
       "2   spectral_entropy    1.785425\n",
       "1           meanFreq    1.494371"
      ]
     },
     "execution_count": 77,
     "metadata": {},
     "output_type": "execute_result"
    }
   ],
   "source": [
    "gandalf_top_features = gandalf_model.feature_importance().sort_values(\"importance\", ascending=False)\n",
    "gandalf_top_features"
   ]
  },
  {
   "cell_type": "code",
   "execution_count": 78,
   "id": "193aaf3f-a3c8-4a38-90ec-e8a646ec4396",
   "metadata": {},
   "outputs": [],
   "source": [
    "add_top_features(gandalf_top_features, top_n=3)"
   ]
  },
  {
   "cell_type": "code",
   "execution_count": 79,
   "id": "198ee9fb-eb14-407a-ad98-f436f87e2db3",
   "metadata": {},
   "outputs": [
    {
     "data": {
      "image/png": "[encoded data removed]",
      "text/plain": [
       "<Figure size 1000x500 with 1 Axes>"
      ]
     },
     "metadata": {},
     "output_type": "display_data"
    }
   ],
   "source": [
    "plot_feature_importance()"
   ]
  }
 ],
 "metadata": {
  "kernelspec": {
   "display_name": "Python 3 (ipykernel)",
   "language": "python",
   "name": "python3"
  },
  "language_info": {
   "codemirror_mode": {
    "name": "ipython",
    "version": 3
   },
   "file_extension": ".py",
   "mimetype": "text/x-python",
   "name": "python",
   "nbconvert_exporter": "python",
   "pygments_lexer": "ipython3",
   "version": "3.11.13"
  }
 },
 "nbformat": 4,
 "nbformat_minor": 5
}
