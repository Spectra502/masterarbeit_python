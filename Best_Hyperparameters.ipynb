{
 "cells": [
  {
   "cell_type": "code",
   "execution_count": 23,
   "id": "e019071b-b915-4e05-93ac-b1d4ccc67773",
   "metadata": {},
   "outputs": [],
   "source": [
    "targetFolderHBK = r\"H:\\Extracted_Features\\HBK\\HBK_20kHz_original_all_features\\features\"\n",
    "targetFolderMCC5 = r\"H:\\Extracted_Features\\MCC5\\MCC5_12800Hz_original_all_features_motor_vibration_x\\features\"\n",
    "targetFolderSIZA = r\"H:\\Extracted_Features\\SIZA\\SIZA_original_all_features\\features\"\n",
    "normalization_method = \"z_score\""
   ]
  },
  {
   "cell_type": "markdown",
   "id": "9b24c9ea-6eb1-4abc-a4a4-735cf1178187",
   "metadata": {},
   "source": [
    "# Environment Setup & Imports"
   ]
  },
  {
   "cell_type": "code",
   "execution_count": 24,
   "id": "0eaba3c8-a35f-4004-b6a5-a62b3eec640f",
   "metadata": {},
   "outputs": [],
   "source": [
    "import os\n",
    "import pandas as pd\n",
    "import glob\n",
    "import seaborn as sns\n",
    "import matplotlib.pyplot as plt\n",
    "import matplotlib.patches as mpatches\n",
    "import pickle\n",
    "import numpy as np\n",
    "import mlflow\n",
    "from pytorch_lightning.loggers import MLFlowLogger\n",
    "from scipy import stats\n",
    "from sklearn.preprocessing import MinMaxScaler, StandardScaler, RobustScaler\n",
    "from sklearn.metrics import accuracy_score, balanced_accuracy_score, hamming_loss, hinge_loss, jaccard_score, log_loss, precision_score, recall_score, f1_score, make_scorer\n",
    "from pathlib import Path\n",
    "from pycaret.classification import * \n",
    "from torch import tensor\n",
    "from torchmetrics.classification import BinaryAccuracy, MulticlassAccuracy\n",
    "import optuna\n",
    "import torch\n",
    "from sklearn.model_selection import train_test_split\n",
    "from pytorch_tabular import TabularModel\n",
    "from pytorch_tabular.models import GANDALFConfig, CategoryEmbeddingModel,GatedAdditiveTreeEnsembleConfig, NodeConfig, FTTransformerConfig, TabNetModelConfig\n",
    "from pytorch_tabular.config import (\n",
    "    DataConfig,\n",
    "    OptimizerConfig,\n",
    "    ModelConfig,\n",
    "    TrainerConfig,\n",
    "    ExperimentConfig,\n",
    ")\n",
    "from collections import Counter\n",
    "from data_loader import load_feature_data"
   ]
  },
  {
   "cell_type": "markdown",
   "id": "bb7dc31c-45ef-49c4-9f58-7890b966ccd7",
   "metadata": {},
   "source": [
    "## Import Dataset"
   ]
  },
  {
   "cell_type": "code",
   "execution_count": 25,
   "id": "f13cd2ff-10b7-4db8-9fc8-f968e9c5324f",
   "metadata": {},
   "outputs": [],
   "source": [
    "experiment_name = \"Best_Hyperparameters_z_score\""
   ]
  },
  {
   "cell_type": "code",
   "execution_count": 26,
   "id": "44ba897d-d88c-410a-9597-96585f9a7b48",
   "metadata": {},
   "outputs": [
    {
     "name": "stdout",
     "output_type": "stream",
     "text": [
      "Successfully loaded 161 files into a DataFrame with shape (280195, 30)\n",
      "Applied binary classification: 'healthy' vs 'damaged'.\n",
      "Dropped 'Speed' and 'Torque' columns.\n",
      "Final DataFrame shape: (280195, 28)\n"
     ]
    }
   ],
   "source": [
    "df_binary_HBK = load_feature_data(\n",
    "    features_path=targetFolderHBK,\n",
    "    include_augmentations=False,      # Only 'original' data\n",
    "    include_speed_torque=False,       # Drop operating conditions\n",
    "    binary_classification=True,       # 'healthy' vs 'damaged'\n",
    ")"
   ]
  },
  {
   "cell_type": "code",
   "execution_count": 27,
   "id": "72b37f31-8878-4168-aa49-a720052e2c18",
   "metadata": {},
   "outputs": [
    {
     "name": "stdout",
     "output_type": "stream",
     "text": [
      "Successfully loaded 36 files into a DataFrame with shape (53928, 30)\n",
      "Applied binary classification: 'healthy' vs 'damaged'.\n",
      "Dropped 'Speed' and 'Torque' columns.\n",
      "Final DataFrame shape: (53928, 28)\n"
     ]
    }
   ],
   "source": [
    "df_binary_SIZA = load_feature_data(\n",
    "    features_path=targetFolderMCC5,\n",
    "    include_augmentations=False,      # Only 'original' data\n",
    "    include_speed_torque=False,       # Drop operating conditions\n",
    "    binary_classification=True,       # 'healthy' vs 'damaged'\n",
    ")"
   ]
  },
  {
   "cell_type": "code",
   "execution_count": 28,
   "id": "87904925-1ca9-40f1-adec-82912fb5bd34",
   "metadata": {},
   "outputs": [
    {
     "name": "stdout",
     "output_type": "stream",
     "text": [
      "Successfully loaded 36 files into a DataFrame with shape (53928, 30)\n",
      "Applied binary classification: 'healthy' vs 'damaged'.\n",
      "Dropped 'Speed' and 'Torque' columns.\n",
      "Final DataFrame shape: (53928, 28)\n"
     ]
    }
   ],
   "source": [
    "df_binary_MCC5 = load_feature_data(\n",
    "    features_path=targetFolderMCC5,\n",
    "    include_augmentations=False,      # Only 'original' data\n",
    "    include_speed_torque=False,       # Drop operating conditions\n",
    "    binary_classification=True,       # 'healthy' vs 'damaged'\n",
    ")"
   ]
  },
  {
   "cell_type": "code",
   "execution_count": 29,
   "id": "3eb35e28-7098-45a1-bb31-899fd8610880",
   "metadata": {},
   "outputs": [],
   "source": [
    "combined_df = pd.concat([df_binary_HBK, df_binary_SIZA, df_binary_MCC5], ignore_index=True)"
   ]
  },
  {
   "cell_type": "code",
   "execution_count": 31,
   "id": "d994ee23-ed86-4e93-b379-c145716083cf",
   "metadata": {},
   "outputs": [],
   "source": [
    "normalized_df = normalizeDataframe(combined_df, normalization_method)"
   ]
  },
  {
   "cell_type": "code",
   "execution_count": 32,
   "id": "11d0ded1-6f65-4a37-bb3c-5a59f1d1964b",
   "metadata": {},
   "outputs": [],
   "source": [
    "features_df_training_normalized, features_df_testing_normalized = train_test_split(\n",
    "    normalized_df, \n",
    "    test_size=0.2,    # e.g., 20% for testing\n",
    "    random_state=42   # for reproducibility\n",
    ")"
   ]
  },
  {
   "cell_type": "markdown",
   "id": "55b3d6c1-e829-4aee-b5f4-19a277312efd",
   "metadata": {},
   "source": [
    "## Helper Functions"
   ]
  },
  {
   "cell_type": "code",
   "execution_count": 33,
   "id": "2758484f-d1a4-477c-a32f-e760037badc2",
   "metadata": {},
   "outputs": [],
   "source": [
    "def normalizeDataframe(dataframe, normalization_method):\n",
    "    \"\"\"\n",
    "    Normalizes the features of a dataframe using a specified method.\n",
    "\n",
    "    Args:\n",
    "        dataframe (pd.DataFrame): The input dataframe with a 'Label' column.\n",
    "        normalization_method (str): The method to use (\"min_max\", \"z_score\", \"robust_scaling\").\n",
    "\n",
    "    Returns:\n",
    "        pd.DataFrame: The dataframe with scaled features.\n",
    "    \"\"\"\n",
    "    # Separate features (X) and the target variable (y)\n",
    "    y = dataframe['Label']\n",
    "    X = dataframe.drop(columns=['Label'])\n",
    "\n",
    "    # Select the scaler based on the chosen method\n",
    "    if normalization_method == \"min_max\":\n",
    "        scaler = MinMaxScaler()\n",
    "    elif normalization_method == \"z_score\":\n",
    "        scaler = StandardScaler()\n",
    "    elif normalization_method == \"robust_scaling\":\n",
    "        scaler = RobustScaler()\n",
    "    else:\n",
    "        # Raise an error for an invalid method name\n",
    "        raise ValueError(f\"Unknown normalization_method: '{normalization_method}'\")\n",
    "\n",
    "    # Fit the scaler to the data and transform it\n",
    "    X_scaled = pd.DataFrame(\n",
    "        scaler.fit_transform(X),\n",
    "        columns=X.columns,\n",
    "        index=X.index\n",
    "    )\n",
    "\n",
    "    # Rejoin the scaled features with the label column\n",
    "    df_scaled = X_scaled.join(y)\n",
    "    \n",
    "    return df_scaled"
   ]
  },
  {
   "cell_type": "code",
   "execution_count": 34,
   "id": "44aae2d5-3c4b-4bbb-bbbc-6621172653d9",
   "metadata": {},
   "outputs": [],
   "source": [
    "def plotPredictionHistograms(df, domain, normalization):\n",
    "    # 1) mark correct vs incorrect\n",
    "    df = df.copy()\n",
    "    df['prediction_quality'] = np.where(\n",
    "        df['Label'] == df['prediction_label'],\n",
    "        'correct',\n",
    "        'incorrect'\n",
    "    )\n",
    "    \n",
    "    # 2) choose a palette (you can override these colors if you like)\n",
    "    pal = dict(zip(\n",
    "        ['correct','incorrect'],\n",
    "        sns.color_palette(n_colors=2)\n",
    "    ))\n",
    "    \n",
    "    skip = {'Label','prediction_label','prediction_score','prediction_quality'}\n",
    "    for col in df.columns:\n",
    "        if col in skip:\n",
    "            continue\n",
    "        \n",
    "        fig, ax = plt.subplots(figsize=(8,4))\n",
    "        sns.histplot(\n",
    "            data=df, x=col, hue='prediction_quality',\n",
    "            palette=pal,\n",
    "            kde=True, multiple='layer', element='step',\n",
    "            alpha=0.5,\n",
    "            ax=ax\n",
    "        )\n",
    "        \n",
    "        # 3) build a manual legend using the same palette\n",
    "        handles = [\n",
    "            mpatches.Patch(color=pal[k], label=k)\n",
    "            for k in ['correct','incorrect']\n",
    "        ]\n",
    "        ax.legend(\n",
    "            handles=handles,\n",
    "            title='Prediction Quality'\n",
    "        )\n",
    "        \n",
    "        ax.set_title(\n",
    "            f\"Distribution of {col} in the '{domain}' domain\\n\"\n",
    "            f\"(normalization = '{normalization}')\"\n",
    "        )\n",
    "        ax.set_xlabel(col)\n",
    "        ax.set_ylabel(\"Count\")\n",
    "        plt.tight_layout()\n",
    "        plt.show()"
   ]
  },
  {
   "cell_type": "code",
   "execution_count": 35,
   "id": "e7180ffc-82c3-4100-a659-90dfe8bdeff7",
   "metadata": {},
   "outputs": [],
   "source": [
    "def get_incorrect_predictions(df):\n",
    "    return df[\n",
    "        ((df['Label'] == 'damaged')   & (df['prediction_label'] == 'healthy'))\n",
    "      | ((df['Label'] == 'healthy')  & (df['prediction_label'] == 'damaged'))\n",
    "    ].copy()"
   ]
  },
  {
   "cell_type": "code",
   "execution_count": 36,
   "id": "a6effaf0-7730-46e4-9b29-a6133fc41f88",
   "metadata": {},
   "outputs": [],
   "source": [
    "def get_feature_importance_df(model, df):\n",
    "    importance = model.feature_importances_\n",
    "    n = len(importance)\n",
    "    features = df.columns[:n]\n",
    "    fi_df = pd.DataFrame({\n",
    "        'Features': features,\n",
    "        'importance': importance\n",
    "    })\n",
    "    return fi_df.sort_values(by='importance', ascending=False).reset_index(drop=True)"
   ]
  },
  {
   "cell_type": "code",
   "execution_count": 37,
   "id": "d896eca8-c332-4e1a-8643-647da5fb5650",
   "metadata": {},
   "outputs": [],
   "source": [
    "def get_svm_feature_importance_df(model, df):\n",
    "    if not hasattr(model, 'coef_'):\n",
    "        raise ValueError(\"This SVM model has no coefficients. Use a linear kernel.\")\n",
    "    \n",
    "    importance = model.coef_.ravel()  # Flatten in case of binary classification\n",
    "    n = len(importance)\n",
    "    features = df.columns[:n]\n",
    "    fi_df = pd.DataFrame({\n",
    "        'Features': features,\n",
    "        'importance': abs(importance)\n",
    "    })\n",
    "    return fi_df.sort_values(by='importance', ascending=False).reset_index(drop=True)\n"
   ]
  },
  {
   "cell_type": "code",
   "execution_count": 40,
   "id": "2f3ffb6f-eed8-4a5d-9b91-737370fc234a",
   "metadata": {},
   "outputs": [],
   "source": [
    "feature_counter = Counter()\n",
    "def add_top_features(feature_df: pd.DataFrame, top_n: int):\n",
    "    top_features = feature_df.nlargest(top_n, 'importance')['Features']\n",
    "    feature_counter.update(top_features)\n",
    "    \n",
    "def plot_feature_importance():\n",
    "    feature_freq = pd.DataFrame(feature_counter.items(), columns=['Feature', 'Count'])\n",
    "    plt.figure(figsize=(10, 5))\n",
    "    sns.barplot(data=feature_freq.sort_values(by='Count', ascending=False),\n",
    "                x='Feature', y='Count')\n",
    "    plt.xticks(rotation=45)\n",
    "    plt.title('Feature Frequency Across Experiments')\n",
    "    plt.tight_layout()\n",
    "    plt.show()"
   ]
  },
  {
   "cell_type": "markdown",
   "id": "fd27e3ca-e055-4837-9084-3b94820aec39",
   "metadata": {},
   "source": [
    "# Experiment Setup (ML)"
   ]
  },
  {
   "cell_type": "markdown",
   "id": "9cb3aea3-e600-4a35-92b7-ea5d9981ebe5",
   "metadata": {},
   "source": [
    "## Setup Hyperparameters"
   ]
  },
  {
   "cell_type": "code",
   "execution_count": 41,
   "id": "8b4ff813-0eb2-45b8-a876-ec6929d1b040",
   "metadata": {},
   "outputs": [
    {
     "data": {
      "text/html": [
       "<style type=\"text/css\">\n",
       "#T_65dfe_row9_col1 {\n",
       "  background-color: lightgreen;\n",
       "}\n",
       "</style>\n",
       "<table id=\"T_65dfe\">\n",
       "  <thead>\n",
       "    <tr>\n",
       "      <th class=\"blank level0\" >&nbsp;</th>\n",
       "      <th id=\"T_65dfe_level0_col0\" class=\"col_heading level0 col0\" >Description</th>\n",
       "      <th id=\"T_65dfe_level0_col1\" class=\"col_heading level0 col1\" >Value</th>\n",
       "    </tr>\n",
       "  </thead>\n",
       "  <tbody>\n",
       "    <tr>\n",
       "      <th id=\"T_65dfe_level0_row0\" class=\"row_heading level0 row0\" >0</th>\n",
       "      <td id=\"T_65dfe_row0_col0\" class=\"data row0 col0\" >Session id</td>\n",
       "      <td id=\"T_65dfe_row0_col1\" class=\"data row0 col1\" >2003</td>\n",
       "    </tr>\n",
       "    <tr>\n",
       "      <th id=\"T_65dfe_level0_row1\" class=\"row_heading level0 row1\" >1</th>\n",
       "      <td id=\"T_65dfe_row1_col0\" class=\"data row1 col0\" >Target</td>\n",
       "      <td id=\"T_65dfe_row1_col1\" class=\"data row1 col1\" >Label</td>\n",
       "    </tr>\n",
       "    <tr>\n",
       "      <th id=\"T_65dfe_level0_row2\" class=\"row_heading level0 row2\" >2</th>\n",
       "      <td id=\"T_65dfe_row2_col0\" class=\"data row2 col0\" >Target type</td>\n",
       "      <td id=\"T_65dfe_row2_col1\" class=\"data row2 col1\" >Binary</td>\n",
       "    </tr>\n",
       "    <tr>\n",
       "      <th id=\"T_65dfe_level0_row3\" class=\"row_heading level0 row3\" >3</th>\n",
       "      <td id=\"T_65dfe_row3_col0\" class=\"data row3 col0\" >Target mapping</td>\n",
       "      <td id=\"T_65dfe_row3_col1\" class=\"data row3 col1\" >damaged: 0, healthy: 1</td>\n",
       "    </tr>\n",
       "    <tr>\n",
       "      <th id=\"T_65dfe_level0_row4\" class=\"row_heading level0 row4\" >4</th>\n",
       "      <td id=\"T_65dfe_row4_col0\" class=\"data row4 col0\" >Original data shape</td>\n",
       "      <td id=\"T_65dfe_row4_col1\" class=\"data row4 col1\" >(310440, 28)</td>\n",
       "    </tr>\n",
       "    <tr>\n",
       "      <th id=\"T_65dfe_level0_row5\" class=\"row_heading level0 row5\" >5</th>\n",
       "      <td id=\"T_65dfe_row5_col0\" class=\"data row5 col0\" >Transformed data shape</td>\n",
       "      <td id=\"T_65dfe_row5_col1\" class=\"data row5 col1\" >(310440, 28)</td>\n",
       "    </tr>\n",
       "    <tr>\n",
       "      <th id=\"T_65dfe_level0_row6\" class=\"row_heading level0 row6\" >6</th>\n",
       "      <td id=\"T_65dfe_row6_col0\" class=\"data row6 col0\" >Transformed train set shape</td>\n",
       "      <td id=\"T_65dfe_row6_col1\" class=\"data row6 col1\" >(217308, 28)</td>\n",
       "    </tr>\n",
       "    <tr>\n",
       "      <th id=\"T_65dfe_level0_row7\" class=\"row_heading level0 row7\" >7</th>\n",
       "      <td id=\"T_65dfe_row7_col0\" class=\"data row7 col0\" >Transformed test set shape</td>\n",
       "      <td id=\"T_65dfe_row7_col1\" class=\"data row7 col1\" >(93132, 28)</td>\n",
       "    </tr>\n",
       "    <tr>\n",
       "      <th id=\"T_65dfe_level0_row8\" class=\"row_heading level0 row8\" >8</th>\n",
       "      <td id=\"T_65dfe_row8_col0\" class=\"data row8 col0\" >Numeric features</td>\n",
       "      <td id=\"T_65dfe_row8_col1\" class=\"data row8 col1\" >27</td>\n",
       "    </tr>\n",
       "    <tr>\n",
       "      <th id=\"T_65dfe_level0_row9\" class=\"row_heading level0 row9\" >9</th>\n",
       "      <td id=\"T_65dfe_row9_col0\" class=\"data row9 col0\" >Preprocess</td>\n",
       "      <td id=\"T_65dfe_row9_col1\" class=\"data row9 col1\" >True</td>\n",
       "    </tr>\n",
       "    <tr>\n",
       "      <th id=\"T_65dfe_level0_row10\" class=\"row_heading level0 row10\" >10</th>\n",
       "      <td id=\"T_65dfe_row10_col0\" class=\"data row10 col0\" >Imputation type</td>\n",
       "      <td id=\"T_65dfe_row10_col1\" class=\"data row10 col1\" >simple</td>\n",
       "    </tr>\n",
       "    <tr>\n",
       "      <th id=\"T_65dfe_level0_row11\" class=\"row_heading level0 row11\" >11</th>\n",
       "      <td id=\"T_65dfe_row11_col0\" class=\"data row11 col0\" >Numeric imputation</td>\n",
       "      <td id=\"T_65dfe_row11_col1\" class=\"data row11 col1\" >mean</td>\n",
       "    </tr>\n",
       "    <tr>\n",
       "      <th id=\"T_65dfe_level0_row12\" class=\"row_heading level0 row12\" >12</th>\n",
       "      <td id=\"T_65dfe_row12_col0\" class=\"data row12 col0\" >Categorical imputation</td>\n",
       "      <td id=\"T_65dfe_row12_col1\" class=\"data row12 col1\" >mode</td>\n",
       "    </tr>\n",
       "    <tr>\n",
       "      <th id=\"T_65dfe_level0_row13\" class=\"row_heading level0 row13\" >13</th>\n",
       "      <td id=\"T_65dfe_row13_col0\" class=\"data row13 col0\" >Fold Generator</td>\n",
       "      <td id=\"T_65dfe_row13_col1\" class=\"data row13 col1\" >StratifiedKFold</td>\n",
       "    </tr>\n",
       "    <tr>\n",
       "      <th id=\"T_65dfe_level0_row14\" class=\"row_heading level0 row14\" >14</th>\n",
       "      <td id=\"T_65dfe_row14_col0\" class=\"data row14 col0\" >Fold Number</td>\n",
       "      <td id=\"T_65dfe_row14_col1\" class=\"data row14 col1\" >10</td>\n",
       "    </tr>\n",
       "    <tr>\n",
       "      <th id=\"T_65dfe_level0_row15\" class=\"row_heading level0 row15\" >15</th>\n",
       "      <td id=\"T_65dfe_row15_col0\" class=\"data row15 col0\" >CPU Jobs</td>\n",
       "      <td id=\"T_65dfe_row15_col1\" class=\"data row15 col1\" >-1</td>\n",
       "    </tr>\n",
       "    <tr>\n",
       "      <th id=\"T_65dfe_level0_row16\" class=\"row_heading level0 row16\" >16</th>\n",
       "      <td id=\"T_65dfe_row16_col0\" class=\"data row16 col0\" >Use GPU</td>\n",
       "      <td id=\"T_65dfe_row16_col1\" class=\"data row16 col1\" >False</td>\n",
       "    </tr>\n",
       "    <tr>\n",
       "      <th id=\"T_65dfe_level0_row17\" class=\"row_heading level0 row17\" >17</th>\n",
       "      <td id=\"T_65dfe_row17_col0\" class=\"data row17 col0\" >Log Experiment</td>\n",
       "      <td id=\"T_65dfe_row17_col1\" class=\"data row17 col1\" >MlflowLogger</td>\n",
       "    </tr>\n",
       "    <tr>\n",
       "      <th id=\"T_65dfe_level0_row18\" class=\"row_heading level0 row18\" >18</th>\n",
       "      <td id=\"T_65dfe_row18_col0\" class=\"data row18 col0\" >Experiment Name</td>\n",
       "      <td id=\"T_65dfe_row18_col1\" class=\"data row18 col1\" >Best_Hyperparameters_z_score</td>\n",
       "    </tr>\n",
       "    <tr>\n",
       "      <th id=\"T_65dfe_level0_row19\" class=\"row_heading level0 row19\" >19</th>\n",
       "      <td id=\"T_65dfe_row19_col0\" class=\"data row19 col0\" >USI</td>\n",
       "      <td id=\"T_65dfe_row19_col1\" class=\"data row19 col1\" >2641</td>\n",
       "    </tr>\n",
       "  </tbody>\n",
       "</table>\n"
      ],
      "text/plain": [
       "<pandas.io.formats.style.Styler at 0x294a67f3990>"
      ]
     },
     "metadata": {},
     "output_type": "display_data"
    },
    {
     "name": "stderr",
     "output_type": "stream",
     "text": [
      "2025/09/26 10:27:59 INFO mlflow.tracking.fluent: Experiment with name 'Best_Hyperparameters_z_score' does not exist. Creating a new experiment.\n"
     ]
    }
   ],
   "source": [
    "experiment = setup(features_df_training_normalized, target='Label', log_experiment = True, experiment_name = experiment_name)"
   ]
  },
  {
   "cell_type": "markdown",
   "id": "b7d6300a-a54c-480c-8735-026fdbb0fd45",
   "metadata": {},
   "source": [
    "## Add aditional metrics"
   ]
  },
  {
   "cell_type": "code",
   "execution_count": 42,
   "id": "cdb3d97b-cb84-42ed-b00b-ec01fcc7bfaa",
   "metadata": {},
   "outputs": [
    {
     "data": {
      "text/plain": [
       "Name                                                          Log Loss\n",
       "Display Name                                                  Log Loss\n",
       "Score Function       <pycaret.internal.metrics.EncodedDecodedLabels...\n",
       "Scorer               make_scorer(log_loss, greater_is_better=False,...\n",
       "Target                                                      pred_proba\n",
       "Args                                                                {}\n",
       "Greater is Better                                                False\n",
       "Multiclass                                                        True\n",
       "Custom                                                            True\n",
       "Name: log_loss, dtype: object"
      ]
     },
     "execution_count": 42,
     "metadata": {},
     "output_type": "execute_result"
    }
   ],
   "source": [
    "# Binary classification metrics\n",
    "add_metric('balanced_acc', 'Balance Acc', balanced_accuracy_score, target='pred', greater_is_better=True)\n",
    "add_metric('hamming_loss', 'Hamming Loss', hamming_loss, target='pred', greater_is_better=False)\n",
    "add_metric('jaccard_score', 'Jaccard Score', jaccard_score, target='pred', greater_is_better=True)\n",
    "add_metric('log_loss', 'Log Loss', log_loss, target='pred_proba', greater_is_better=False)"
   ]
  },
  {
   "cell_type": "raw",
   "id": "fe742ef7-ec02-4e73-b2a5-f2b36eee0066",
   "metadata": {},
   "source": [
    "# Macro\n",
    "add_metric('precision_macro', 'Precision Macro', \n",
    "           lambda y, y_pred: precision_score(y, y_pred, average='macro'), \n",
    "           greater_is_better=True)\n",
    "\n",
    "add_metric('recall_macro', 'Recall Macro', \n",
    "           lambda y, y_pred: recall_score(y, y_pred, average='macro'), \n",
    "           greater_is_better=True)\n",
    "\n",
    "add_metric('f1_macro', 'F1 Macro', \n",
    "           lambda y, y_pred: f1_score(y, y_pred, average='macro'), \n",
    "           greater_is_better=True)\n",
    "\n",
    "# Micro\n",
    "add_metric('precision_micro', 'Precision Micro', \n",
    "           lambda y, y_pred: precision_score(y, y_pred, average='micro'), \n",
    "           greater_is_better=True)\n",
    "\n",
    "add_metric('recall_micro', 'Recall Micro', \n",
    "           lambda y, y_pred: recall_score(y, y_pred, average='micro'), \n",
    "           greater_is_better=True)\n",
    "\n",
    "add_metric('f1_micro', 'F1 Micro', \n",
    "           lambda y, y_pred: f1_score(y, y_pred, average='micro'), \n",
    "           greater_is_better=True)\n",
    "\n",
    "# Weighted\n",
    "add_metric('precision_weighted', 'Precision Weighted', \n",
    "           lambda y, y_pred: precision_score(y, y_pred, average='weighted'), \n",
    "           greater_is_better=True)\n",
    "\n",
    "add_metric('recall_weighted', 'Recall Weighted', \n",
    "           lambda y, y_pred: recall_score(y, y_pred, average='weighted'), \n",
    "           greater_is_better=True)\n",
    "\n",
    "add_metric('f1_weighted', 'F1 Weighted', \n",
    "           lambda y, y_pred: f1_score(y, y_pred, average='weighted'), \n",
    "           greater_is_better=True)"
   ]
  },
  {
   "cell_type": "code",
   "execution_count": 43,
   "id": "c9faa1a3-cf7b-46ea-84b4-6b15167e1e68",
   "metadata": {},
   "outputs": [
    {
     "data": {
      "text/html": [
       "<div>\n",
       "<style scoped>\n",
       "    .dataframe tbody tr th:only-of-type {\n",
       "        vertical-align: middle;\n",
       "    }\n",
       "\n",
       "    .dataframe tbody tr th {\n",
       "        vertical-align: top;\n",
       "    }\n",
       "\n",
       "    .dataframe thead th {\n",
       "        text-align: right;\n",
       "    }\n",
       "</style>\n",
       "<table border=\"1\" class=\"dataframe\">\n",
       "  <thead>\n",
       "    <tr style=\"text-align: right;\">\n",
       "      <th></th>\n",
       "      <th>Name</th>\n",
       "      <th>Display Name</th>\n",
       "      <th>Score Function</th>\n",
       "      <th>Scorer</th>\n",
       "      <th>Target</th>\n",
       "      <th>Args</th>\n",
       "      <th>Greater is Better</th>\n",
       "      <th>Multiclass</th>\n",
       "      <th>Custom</th>\n",
       "    </tr>\n",
       "    <tr>\n",
       "      <th>ID</th>\n",
       "      <th></th>\n",
       "      <th></th>\n",
       "      <th></th>\n",
       "      <th></th>\n",
       "      <th></th>\n",
       "      <th></th>\n",
       "      <th></th>\n",
       "      <th></th>\n",
       "      <th></th>\n",
       "    </tr>\n",
       "  </thead>\n",
       "  <tbody>\n",
       "    <tr>\n",
       "      <th>acc</th>\n",
       "      <td>Accuracy</td>\n",
       "      <td>Accuracy</td>\n",
       "      <td>&lt;function accuracy_score at 0x0000029497B4D760&gt;</td>\n",
       "      <td>accuracy</td>\n",
       "      <td>pred</td>\n",
       "      <td>{}</td>\n",
       "      <td>True</td>\n",
       "      <td>True</td>\n",
       "      <td>False</td>\n",
       "    </tr>\n",
       "    <tr>\n",
       "      <th>auc</th>\n",
       "      <td>AUC</td>\n",
       "      <td>AUC</td>\n",
       "      <td>&lt;pycaret.internal.metrics.BinaryMulticlassScor...</td>\n",
       "      <td>make_scorer(roc_auc_score, response_method=('d...</td>\n",
       "      <td>pred_proba</td>\n",
       "      <td>{'average': 'weighted', 'multi_class': 'ovr'}</td>\n",
       "      <td>True</td>\n",
       "      <td>True</td>\n",
       "      <td>False</td>\n",
       "    </tr>\n",
       "    <tr>\n",
       "      <th>recall</th>\n",
       "      <td>Recall</td>\n",
       "      <td>Recall</td>\n",
       "      <td>&lt;pycaret.internal.metrics.BinaryMulticlassScor...</td>\n",
       "      <td>make_scorer(recall_score, response_method='pre...</td>\n",
       "      <td>pred</td>\n",
       "      <td>{'average': 'weighted'}</td>\n",
       "      <td>True</td>\n",
       "      <td>True</td>\n",
       "      <td>False</td>\n",
       "    </tr>\n",
       "    <tr>\n",
       "      <th>precision</th>\n",
       "      <td>Precision</td>\n",
       "      <td>Prec.</td>\n",
       "      <td>&lt;pycaret.internal.metrics.BinaryMulticlassScor...</td>\n",
       "      <td>make_scorer(precision_score, response_method='...</td>\n",
       "      <td>pred</td>\n",
       "      <td>{'average': 'weighted'}</td>\n",
       "      <td>True</td>\n",
       "      <td>True</td>\n",
       "      <td>False</td>\n",
       "    </tr>\n",
       "    <tr>\n",
       "      <th>f1</th>\n",
       "      <td>F1</td>\n",
       "      <td>F1</td>\n",
       "      <td>&lt;pycaret.internal.metrics.BinaryMulticlassScor...</td>\n",
       "      <td>make_scorer(f1_score, response_method='predict...</td>\n",
       "      <td>pred</td>\n",
       "      <td>{'average': 'weighted'}</td>\n",
       "      <td>True</td>\n",
       "      <td>True</td>\n",
       "      <td>False</td>\n",
       "    </tr>\n",
       "    <tr>\n",
       "      <th>kappa</th>\n",
       "      <td>Kappa</td>\n",
       "      <td>Kappa</td>\n",
       "      <td>&lt;function cohen_kappa_score at 0x0000029497B4D...</td>\n",
       "      <td>make_scorer(cohen_kappa_score, response_method...</td>\n",
       "      <td>pred</td>\n",
       "      <td>{}</td>\n",
       "      <td>True</td>\n",
       "      <td>True</td>\n",
       "      <td>False</td>\n",
       "    </tr>\n",
       "    <tr>\n",
       "      <th>mcc</th>\n",
       "      <td>MCC</td>\n",
       "      <td>MCC</td>\n",
       "      <td>&lt;function matthews_corrcoef at 0x0000029497B4D...</td>\n",
       "      <td>make_scorer(matthews_corrcoef, response_method...</td>\n",
       "      <td>pred</td>\n",
       "      <td>{}</td>\n",
       "      <td>True</td>\n",
       "      <td>True</td>\n",
       "      <td>False</td>\n",
       "    </tr>\n",
       "    <tr>\n",
       "      <th>balanced_acc</th>\n",
       "      <td>Balance Acc</td>\n",
       "      <td>Balance Acc</td>\n",
       "      <td>&lt;pycaret.internal.metrics.EncodedDecodedLabels...</td>\n",
       "      <td>make_scorer(balanced_accuracy_score, response_...</td>\n",
       "      <td>pred</td>\n",
       "      <td>{}</td>\n",
       "      <td>True</td>\n",
       "      <td>True</td>\n",
       "      <td>True</td>\n",
       "    </tr>\n",
       "    <tr>\n",
       "      <th>hamming_loss</th>\n",
       "      <td>Hamming Loss</td>\n",
       "      <td>Hamming Loss</td>\n",
       "      <td>&lt;pycaret.internal.metrics.EncodedDecodedLabels...</td>\n",
       "      <td>make_scorer(hamming_loss, greater_is_better=Fa...</td>\n",
       "      <td>pred</td>\n",
       "      <td>{}</td>\n",
       "      <td>False</td>\n",
       "      <td>True</td>\n",
       "      <td>True</td>\n",
       "    </tr>\n",
       "    <tr>\n",
       "      <th>jaccard_score</th>\n",
       "      <td>Jaccard Score</td>\n",
       "      <td>Jaccard Score</td>\n",
       "      <td>&lt;pycaret.internal.metrics.EncodedDecodedLabels...</td>\n",
       "      <td>make_scorer(jaccard_score, response_method='pr...</td>\n",
       "      <td>pred</td>\n",
       "      <td>{}</td>\n",
       "      <td>True</td>\n",
       "      <td>True</td>\n",
       "      <td>True</td>\n",
       "    </tr>\n",
       "    <tr>\n",
       "      <th>log_loss</th>\n",
       "      <td>Log Loss</td>\n",
       "      <td>Log Loss</td>\n",
       "      <td>&lt;pycaret.internal.metrics.EncodedDecodedLabels...</td>\n",
       "      <td>make_scorer(log_loss, greater_is_better=False,...</td>\n",
       "      <td>pred_proba</td>\n",
       "      <td>{}</td>\n",
       "      <td>False</td>\n",
       "      <td>True</td>\n",
       "      <td>True</td>\n",
       "    </tr>\n",
       "  </tbody>\n",
       "</table>\n",
       "</div>"
      ],
      "text/plain": [
       "                        Name   Display Name  \\\n",
       "ID                                            \n",
       "acc                 Accuracy       Accuracy   \n",
       "auc                      AUC            AUC   \n",
       "recall                Recall         Recall   \n",
       "precision          Precision          Prec.   \n",
       "f1                        F1             F1   \n",
       "kappa                  Kappa          Kappa   \n",
       "mcc                      MCC            MCC   \n",
       "balanced_acc     Balance Acc    Balance Acc   \n",
       "hamming_loss    Hamming Loss   Hamming Loss   \n",
       "jaccard_score  Jaccard Score  Jaccard Score   \n",
       "log_loss            Log Loss       Log Loss   \n",
       "\n",
       "                                                  Score Function  \\\n",
       "ID                                                                 \n",
       "acc              <function accuracy_score at 0x0000029497B4D760>   \n",
       "auc            <pycaret.internal.metrics.BinaryMulticlassScor...   \n",
       "recall         <pycaret.internal.metrics.BinaryMulticlassScor...   \n",
       "precision      <pycaret.internal.metrics.BinaryMulticlassScor...   \n",
       "f1             <pycaret.internal.metrics.BinaryMulticlassScor...   \n",
       "kappa          <function cohen_kappa_score at 0x0000029497B4D...   \n",
       "mcc            <function matthews_corrcoef at 0x0000029497B4D...   \n",
       "balanced_acc   <pycaret.internal.metrics.EncodedDecodedLabels...   \n",
       "hamming_loss   <pycaret.internal.metrics.EncodedDecodedLabels...   \n",
       "jaccard_score  <pycaret.internal.metrics.EncodedDecodedLabels...   \n",
       "log_loss       <pycaret.internal.metrics.EncodedDecodedLabels...   \n",
       "\n",
       "                                                          Scorer      Target  \\\n",
       "ID                                                                             \n",
       "acc                                                     accuracy        pred   \n",
       "auc            make_scorer(roc_auc_score, response_method=('d...  pred_proba   \n",
       "recall         make_scorer(recall_score, response_method='pre...        pred   \n",
       "precision      make_scorer(precision_score, response_method='...        pred   \n",
       "f1             make_scorer(f1_score, response_method='predict...        pred   \n",
       "kappa          make_scorer(cohen_kappa_score, response_method...        pred   \n",
       "mcc            make_scorer(matthews_corrcoef, response_method...        pred   \n",
       "balanced_acc   make_scorer(balanced_accuracy_score, response_...        pred   \n",
       "hamming_loss   make_scorer(hamming_loss, greater_is_better=Fa...        pred   \n",
       "jaccard_score  make_scorer(jaccard_score, response_method='pr...        pred   \n",
       "log_loss       make_scorer(log_loss, greater_is_better=False,...  pred_proba   \n",
       "\n",
       "                                                        Args  \\\n",
       "ID                                                             \n",
       "acc                                                       {}   \n",
       "auc            {'average': 'weighted', 'multi_class': 'ovr'}   \n",
       "recall                               {'average': 'weighted'}   \n",
       "precision                            {'average': 'weighted'}   \n",
       "f1                                   {'average': 'weighted'}   \n",
       "kappa                                                     {}   \n",
       "mcc                                                       {}   \n",
       "balanced_acc                                              {}   \n",
       "hamming_loss                                              {}   \n",
       "jaccard_score                                             {}   \n",
       "log_loss                                                  {}   \n",
       "\n",
       "               Greater is Better  Multiclass  Custom  \n",
       "ID                                                    \n",
       "acc                         True        True   False  \n",
       "auc                         True        True   False  \n",
       "recall                      True        True   False  \n",
       "precision                   True        True   False  \n",
       "f1                          True        True   False  \n",
       "kappa                       True        True   False  \n",
       "mcc                         True        True   False  \n",
       "balanced_acc                True        True    True  \n",
       "hamming_loss               False        True    True  \n",
       "jaccard_score               True        True    True  \n",
       "log_loss                   False        True    True  "
      ]
     },
     "execution_count": 43,
     "metadata": {},
     "output_type": "execute_result"
    }
   ],
   "source": [
    "all_metrics = get_metrics()\n",
    "all_metrics"
   ]
  },
  {
   "cell_type": "code",
   "execution_count": 44,
   "id": "18a5e119-0bbb-4ee9-8da6-e10a63eaaa47",
   "metadata": {},
   "outputs": [],
   "source": [
    "num_iterations_tuning = 20\n",
    "optimized_metric = 'F1'"
   ]
  },
  {
   "cell_type": "markdown",
   "id": "81de3f05-6198-4ae2-adba-d294aee48b08",
   "metadata": {},
   "source": [
    "## Light Gradient Boosting Machine"
   ]
  },
  {
   "cell_type": "code",
   "execution_count": 45,
   "id": "ca0ce27b-40e1-468f-945e-ee949316a92d",
   "metadata": {},
   "outputs": [
    {
     "data": {
      "text/html": [],
      "text/plain": [
       "<IPython.core.display.HTML object>"
      ]
     },
     "metadata": {},
     "output_type": "display_data"
    },
    {
     "data": {
      "text/html": [
       "<style type=\"text/css\">\n",
       "#T_8f536_row10_col0, #T_8f536_row10_col1, #T_8f536_row10_col2, #T_8f536_row10_col3, #T_8f536_row10_col4, #T_8f536_row10_col5, #T_8f536_row10_col6, #T_8f536_row10_col7, #T_8f536_row10_col8, #T_8f536_row10_col9, #T_8f536_row10_col10 {\n",
       "  background: yellow;\n",
       "}\n",
       "</style>\n",
       "<table id=\"T_8f536\">\n",
       "  <thead>\n",
       "    <tr>\n",
       "      <th class=\"blank level0\" >&nbsp;</th>\n",
       "      <th id=\"T_8f536_level0_col0\" class=\"col_heading level0 col0\" >Accuracy</th>\n",
       "      <th id=\"T_8f536_level0_col1\" class=\"col_heading level0 col1\" >AUC</th>\n",
       "      <th id=\"T_8f536_level0_col2\" class=\"col_heading level0 col2\" >Recall</th>\n",
       "      <th id=\"T_8f536_level0_col3\" class=\"col_heading level0 col3\" >Prec.</th>\n",
       "      <th id=\"T_8f536_level0_col4\" class=\"col_heading level0 col4\" >F1</th>\n",
       "      <th id=\"T_8f536_level0_col5\" class=\"col_heading level0 col5\" >Kappa</th>\n",
       "      <th id=\"T_8f536_level0_col6\" class=\"col_heading level0 col6\" >MCC</th>\n",
       "      <th id=\"T_8f536_level0_col7\" class=\"col_heading level0 col7\" >Balance Acc</th>\n",
       "      <th id=\"T_8f536_level0_col8\" class=\"col_heading level0 col8\" >Hamming Loss</th>\n",
       "      <th id=\"T_8f536_level0_col9\" class=\"col_heading level0 col9\" >Jaccard Score</th>\n",
       "      <th id=\"T_8f536_level0_col10\" class=\"col_heading level0 col10\" >Log Loss</th>\n",
       "    </tr>\n",
       "    <tr>\n",
       "      <th class=\"index_name level0\" >Fold</th>\n",
       "      <th class=\"blank col0\" >&nbsp;</th>\n",
       "      <th class=\"blank col1\" >&nbsp;</th>\n",
       "      <th class=\"blank col2\" >&nbsp;</th>\n",
       "      <th class=\"blank col3\" >&nbsp;</th>\n",
       "      <th class=\"blank col4\" >&nbsp;</th>\n",
       "      <th class=\"blank col5\" >&nbsp;</th>\n",
       "      <th class=\"blank col6\" >&nbsp;</th>\n",
       "      <th class=\"blank col7\" >&nbsp;</th>\n",
       "      <th class=\"blank col8\" >&nbsp;</th>\n",
       "      <th class=\"blank col9\" >&nbsp;</th>\n",
       "      <th class=\"blank col10\" >&nbsp;</th>\n",
       "    </tr>\n",
       "  </thead>\n",
       "  <tbody>\n",
       "    <tr>\n",
       "      <th id=\"T_8f536_level0_row0\" class=\"row_heading level0 row0\" >0</th>\n",
       "      <td id=\"T_8f536_row0_col0\" class=\"data row0 col0\" >0.9600</td>\n",
       "      <td id=\"T_8f536_row0_col1\" class=\"data row0 col1\" >0.9906</td>\n",
       "      <td id=\"T_8f536_row0_col2\" class=\"data row0 col2\" >0.9600</td>\n",
       "      <td id=\"T_8f536_row0_col3\" class=\"data row0 col3\" >0.9608</td>\n",
       "      <td id=\"T_8f536_row0_col4\" class=\"data row0 col4\" >0.9589</td>\n",
       "      <td id=\"T_8f536_row0_col5\" class=\"data row0 col5\" >0.8821</td>\n",
       "      <td id=\"T_8f536_row0_col6\" class=\"data row0 col6\" >0.8861</td>\n",
       "      <td id=\"T_8f536_row0_col7\" class=\"data row0 col7\" >0.9197</td>\n",
       "      <td id=\"T_8f536_row0_col8\" class=\"data row0 col8\" >0.0400</td>\n",
       "      <td id=\"T_8f536_row0_col9\" class=\"data row0 col9\" >0.8306</td>\n",
       "      <td id=\"T_8f536_row0_col10\" class=\"data row0 col10\" >0.0956</td>\n",
       "    </tr>\n",
       "    <tr>\n",
       "      <th id=\"T_8f536_level0_row1\" class=\"row_heading level0 row1\" >1</th>\n",
       "      <td id=\"T_8f536_row1_col0\" class=\"data row1 col0\" >0.9609</td>\n",
       "      <td id=\"T_8f536_row1_col1\" class=\"data row1 col1\" >0.9916</td>\n",
       "      <td id=\"T_8f536_row1_col2\" class=\"data row1 col2\" >0.9609</td>\n",
       "      <td id=\"T_8f536_row1_col3\" class=\"data row1 col3\" >0.9617</td>\n",
       "      <td id=\"T_8f536_row1_col4\" class=\"data row1 col4\" >0.9599</td>\n",
       "      <td id=\"T_8f536_row1_col5\" class=\"data row1 col5\" >0.8851</td>\n",
       "      <td id=\"T_8f536_row1_col6\" class=\"data row1 col6\" >0.8889</td>\n",
       "      <td id=\"T_8f536_row1_col7\" class=\"data row1 col7\" >0.9218</td>\n",
       "      <td id=\"T_8f536_row1_col8\" class=\"data row1 col8\" >0.0391</td>\n",
       "      <td id=\"T_8f536_row1_col9\" class=\"data row1 col9\" >0.8347</td>\n",
       "      <td id=\"T_8f536_row1_col10\" class=\"data row1 col10\" >0.0931</td>\n",
       "    </tr>\n",
       "    <tr>\n",
       "      <th id=\"T_8f536_level0_row2\" class=\"row_heading level0 row2\" >2</th>\n",
       "      <td id=\"T_8f536_row2_col0\" class=\"data row2 col0\" >0.9610</td>\n",
       "      <td id=\"T_8f536_row2_col1\" class=\"data row2 col1\" >0.9911</td>\n",
       "      <td id=\"T_8f536_row2_col2\" class=\"data row2 col2\" >0.9610</td>\n",
       "      <td id=\"T_8f536_row2_col3\" class=\"data row2 col3\" >0.9617</td>\n",
       "      <td id=\"T_8f536_row2_col4\" class=\"data row2 col4\" >0.9600</td>\n",
       "      <td id=\"T_8f536_row2_col5\" class=\"data row2 col5\" >0.8853</td>\n",
       "      <td id=\"T_8f536_row2_col6\" class=\"data row2 col6\" >0.8890</td>\n",
       "      <td id=\"T_8f536_row2_col7\" class=\"data row2 col7\" >0.9221</td>\n",
       "      <td id=\"T_8f536_row2_col8\" class=\"data row2 col8\" >0.0390</td>\n",
       "      <td id=\"T_8f536_row2_col9\" class=\"data row2 col9\" >0.8350</td>\n",
       "      <td id=\"T_8f536_row2_col10\" class=\"data row2 col10\" >0.0943</td>\n",
       "    </tr>\n",
       "    <tr>\n",
       "      <th id=\"T_8f536_level0_row3\" class=\"row_heading level0 row3\" >3</th>\n",
       "      <td id=\"T_8f536_row3_col0\" class=\"data row3 col0\" >0.9621</td>\n",
       "      <td id=\"T_8f536_row3_col1\" class=\"data row3 col1\" >0.9917</td>\n",
       "      <td id=\"T_8f536_row3_col2\" class=\"data row3 col2\" >0.9621</td>\n",
       "      <td id=\"T_8f536_row3_col3\" class=\"data row3 col3\" >0.9628</td>\n",
       "      <td id=\"T_8f536_row3_col4\" class=\"data row3 col4\" >0.9611</td>\n",
       "      <td id=\"T_8f536_row3_col5\" class=\"data row3 col5\" >0.8887</td>\n",
       "      <td id=\"T_8f536_row3_col6\" class=\"data row3 col6\" >0.8922</td>\n",
       "      <td id=\"T_8f536_row3_col7\" class=\"data row3 col7\" >0.9242</td>\n",
       "      <td id=\"T_8f536_row3_col8\" class=\"data row3 col8\" >0.0379</td>\n",
       "      <td id=\"T_8f536_row3_col9\" class=\"data row3 col9\" >0.8395</td>\n",
       "      <td id=\"T_8f536_row3_col10\" class=\"data row3 col10\" >0.0918</td>\n",
       "    </tr>\n",
       "    <tr>\n",
       "      <th id=\"T_8f536_level0_row4\" class=\"row_heading level0 row4\" >4</th>\n",
       "      <td id=\"T_8f536_row4_col0\" class=\"data row4 col0\" >0.9633</td>\n",
       "      <td id=\"T_8f536_row4_col1\" class=\"data row4 col1\" >0.9909</td>\n",
       "      <td id=\"T_8f536_row4_col2\" class=\"data row4 col2\" >0.9633</td>\n",
       "      <td id=\"T_8f536_row4_col3\" class=\"data row4 col3\" >0.9639</td>\n",
       "      <td id=\"T_8f536_row4_col4\" class=\"data row4 col4\" >0.9625</td>\n",
       "      <td id=\"T_8f536_row4_col5\" class=\"data row4 col5\" >0.8926</td>\n",
       "      <td id=\"T_8f536_row4_col6\" class=\"data row4 col6\" >0.8958</td>\n",
       "      <td id=\"T_8f536_row4_col7\" class=\"data row4 col7\" >0.9272</td>\n",
       "      <td id=\"T_8f536_row4_col8\" class=\"data row4 col8\" >0.0367</td>\n",
       "      <td id=\"T_8f536_row4_col9\" class=\"data row4 col9\" >0.8449</td>\n",
       "      <td id=\"T_8f536_row4_col10\" class=\"data row4 col10\" >0.0924</td>\n",
       "    </tr>\n",
       "    <tr>\n",
       "      <th id=\"T_8f536_level0_row5\" class=\"row_heading level0 row5\" >5</th>\n",
       "      <td id=\"T_8f536_row5_col0\" class=\"data row5 col0\" >0.9597</td>\n",
       "      <td id=\"T_8f536_row5_col1\" class=\"data row5 col1\" >0.9909</td>\n",
       "      <td id=\"T_8f536_row5_col2\" class=\"data row5 col2\" >0.9597</td>\n",
       "      <td id=\"T_8f536_row5_col3\" class=\"data row5 col3\" >0.9606</td>\n",
       "      <td id=\"T_8f536_row5_col4\" class=\"data row5 col4\" >0.9586</td>\n",
       "      <td id=\"T_8f536_row5_col5\" class=\"data row5 col5\" >0.8812</td>\n",
       "      <td id=\"T_8f536_row5_col6\" class=\"data row5 col6\" >0.8854</td>\n",
       "      <td id=\"T_8f536_row5_col7\" class=\"data row5 col7\" >0.9188</td>\n",
       "      <td id=\"T_8f536_row5_col8\" class=\"data row5 col8\" >0.0403</td>\n",
       "      <td id=\"T_8f536_row5_col9\" class=\"data row5 col9\" >0.8293</td>\n",
       "      <td id=\"T_8f536_row5_col10\" class=\"data row5 col10\" >0.0964</td>\n",
       "    </tr>\n",
       "    <tr>\n",
       "      <th id=\"T_8f536_level0_row6\" class=\"row_heading level0 row6\" >6</th>\n",
       "      <td id=\"T_8f536_row6_col0\" class=\"data row6 col0\" >0.9601</td>\n",
       "      <td id=\"T_8f536_row6_col1\" class=\"data row6 col1\" >0.9911</td>\n",
       "      <td id=\"T_8f536_row6_col2\" class=\"data row6 col2\" >0.9601</td>\n",
       "      <td id=\"T_8f536_row6_col3\" class=\"data row6 col3\" >0.9609</td>\n",
       "      <td id=\"T_8f536_row6_col4\" class=\"data row6 col4\" >0.9591</td>\n",
       "      <td id=\"T_8f536_row6_col5\" class=\"data row6 col5\" >0.8828</td>\n",
       "      <td id=\"T_8f536_row6_col6\" class=\"data row6 col6\" >0.8866</td>\n",
       "      <td id=\"T_8f536_row6_col7\" class=\"data row6 col7\" >0.9206</td>\n",
       "      <td id=\"T_8f536_row6_col8\" class=\"data row6 col8\" >0.0399</td>\n",
       "      <td id=\"T_8f536_row6_col9\" class=\"data row6 col9\" >0.8316</td>\n",
       "      <td id=\"T_8f536_row6_col10\" class=\"data row6 col10\" >0.0952</td>\n",
       "    </tr>\n",
       "    <tr>\n",
       "      <th id=\"T_8f536_level0_row7\" class=\"row_heading level0 row7\" >7</th>\n",
       "      <td id=\"T_8f536_row7_col0\" class=\"data row7 col0\" >0.9600</td>\n",
       "      <td id=\"T_8f536_row7_col1\" class=\"data row7 col1\" >0.9910</td>\n",
       "      <td id=\"T_8f536_row7_col2\" class=\"data row7 col2\" >0.9600</td>\n",
       "      <td id=\"T_8f536_row7_col3\" class=\"data row7 col3\" >0.9609</td>\n",
       "      <td id=\"T_8f536_row7_col4\" class=\"data row7 col4\" >0.9589</td>\n",
       "      <td id=\"T_8f536_row7_col5\" class=\"data row7 col5\" >0.8821</td>\n",
       "      <td id=\"T_8f536_row7_col6\" class=\"data row7 col6\" >0.8863</td>\n",
       "      <td id=\"T_8f536_row7_col7\" class=\"data row7 col7\" >0.9192</td>\n",
       "      <td id=\"T_8f536_row7_col8\" class=\"data row7 col8\" >0.0400</td>\n",
       "      <td id=\"T_8f536_row7_col9\" class=\"data row7 col9\" >0.8305</td>\n",
       "      <td id=\"T_8f536_row7_col10\" class=\"data row7 col10\" >0.0958</td>\n",
       "    </tr>\n",
       "    <tr>\n",
       "      <th id=\"T_8f536_level0_row8\" class=\"row_heading level0 row8\" >8</th>\n",
       "      <td id=\"T_8f536_row8_col0\" class=\"data row8 col0\" >0.9611</td>\n",
       "      <td id=\"T_8f536_row8_col1\" class=\"data row8 col1\" >0.9907</td>\n",
       "      <td id=\"T_8f536_row8_col2\" class=\"data row8 col2\" >0.9611</td>\n",
       "      <td id=\"T_8f536_row8_col3\" class=\"data row8 col3\" >0.9621</td>\n",
       "      <td id=\"T_8f536_row8_col4\" class=\"data row8 col4\" >0.9600</td>\n",
       "      <td id=\"T_8f536_row8_col5\" class=\"data row8 col5\" >0.8852</td>\n",
       "      <td id=\"T_8f536_row8_col6\" class=\"data row8 col6\" >0.8894</td>\n",
       "      <td id=\"T_8f536_row8_col7\" class=\"data row8 col7\" >0.9207</td>\n",
       "      <td id=\"T_8f536_row8_col8\" class=\"data row8 col8\" >0.0389</td>\n",
       "      <td id=\"T_8f536_row8_col9\" class=\"data row8 col9\" >0.8346</td>\n",
       "      <td id=\"T_8f536_row8_col10\" class=\"data row8 col10\" >0.0959</td>\n",
       "    </tr>\n",
       "    <tr>\n",
       "      <th id=\"T_8f536_level0_row9\" class=\"row_heading level0 row9\" >9</th>\n",
       "      <td id=\"T_8f536_row9_col0\" class=\"data row9 col0\" >0.9594</td>\n",
       "      <td id=\"T_8f536_row9_col1\" class=\"data row9 col1\" >0.9908</td>\n",
       "      <td id=\"T_8f536_row9_col2\" class=\"data row9 col2\" >0.9594</td>\n",
       "      <td id=\"T_8f536_row9_col3\" class=\"data row9 col3\" >0.9603</td>\n",
       "      <td id=\"T_8f536_row9_col4\" class=\"data row9 col4\" >0.9582</td>\n",
       "      <td id=\"T_8f536_row9_col5\" class=\"data row9 col5\" >0.8802</td>\n",
       "      <td id=\"T_8f536_row9_col6\" class=\"data row9 col6\" >0.8844</td>\n",
       "      <td id=\"T_8f536_row9_col7\" class=\"data row9 col7\" >0.9183</td>\n",
       "      <td id=\"T_8f536_row9_col8\" class=\"data row9 col8\" >0.0406</td>\n",
       "      <td id=\"T_8f536_row9_col9\" class=\"data row9 col9\" >0.8280</td>\n",
       "      <td id=\"T_8f536_row9_col10\" class=\"data row9 col10\" >0.0960</td>\n",
       "    </tr>\n",
       "    <tr>\n",
       "      <th id=\"T_8f536_level0_row10\" class=\"row_heading level0 row10\" >Mean</th>\n",
       "      <td id=\"T_8f536_row10_col0\" class=\"data row10 col0\" >0.9608</td>\n",
       "      <td id=\"T_8f536_row10_col1\" class=\"data row10 col1\" >0.9910</td>\n",
       "      <td id=\"T_8f536_row10_col2\" class=\"data row10 col2\" >0.9608</td>\n",
       "      <td id=\"T_8f536_row10_col3\" class=\"data row10 col3\" >0.9616</td>\n",
       "      <td id=\"T_8f536_row10_col4\" class=\"data row10 col4\" >0.9597</td>\n",
       "      <td id=\"T_8f536_row10_col5\" class=\"data row10 col5\" >0.8845</td>\n",
       "      <td id=\"T_8f536_row10_col6\" class=\"data row10 col6\" >0.8884</td>\n",
       "      <td id=\"T_8f536_row10_col7\" class=\"data row10 col7\" >0.9213</td>\n",
       "      <td id=\"T_8f536_row10_col8\" class=\"data row10 col8\" >0.0392</td>\n",
       "      <td id=\"T_8f536_row10_col9\" class=\"data row10 col9\" >0.8339</td>\n",
       "      <td id=\"T_8f536_row10_col10\" class=\"data row10 col10\" >0.0947</td>\n",
       "    </tr>\n",
       "    <tr>\n",
       "      <th id=\"T_8f536_level0_row11\" class=\"row_heading level0 row11\" >Std</th>\n",
       "      <td id=\"T_8f536_row11_col0\" class=\"data row11 col0\" >0.0011</td>\n",
       "      <td id=\"T_8f536_row11_col1\" class=\"data row11 col1\" >0.0003</td>\n",
       "      <td id=\"T_8f536_row11_col2\" class=\"data row11 col2\" >0.0011</td>\n",
       "      <td id=\"T_8f536_row11_col3\" class=\"data row11 col3\" >0.0011</td>\n",
       "      <td id=\"T_8f536_row11_col4\" class=\"data row11 col4\" >0.0012</td>\n",
       "      <td id=\"T_8f536_row11_col5\" class=\"data row11 col5\" >0.0036</td>\n",
       "      <td id=\"T_8f536_row11_col6\" class=\"data row11 col6\" >0.0033</td>\n",
       "      <td id=\"T_8f536_row11_col7\" class=\"data row11 col7\" >0.0026</td>\n",
       "      <td id=\"T_8f536_row11_col8\" class=\"data row11 col8\" >0.0011</td>\n",
       "      <td id=\"T_8f536_row11_col9\" class=\"data row11 col9\" >0.0049</td>\n",
       "      <td id=\"T_8f536_row11_col10\" class=\"data row11 col10\" >0.0016</td>\n",
       "    </tr>\n",
       "  </tbody>\n",
       "</table>\n"
      ],
      "text/plain": [
       "<pandas.io.formats.style.Styler at 0x294a6706f50>"
      ]
     },
     "metadata": {},
     "output_type": "display_data"
    },
    {
     "data": {
      "text/html": [],
      "text/plain": [
       "<IPython.core.display.HTML object>"
      ]
     },
     "metadata": {},
     "output_type": "display_data"
    },
    {
     "name": "stderr",
     "output_type": "stream",
     "text": [
      "2025/09/26 10:28:34 WARNING mlflow.models.model: Input example should be provided to infer model signature if the model signature is not provided when logging the model.\n"
     ]
    }
   ],
   "source": [
    "lightgbm = create_model('lightgbm')"
   ]
  },
  {
   "cell_type": "code",
   "execution_count": null,
   "id": "9639f68f-46f5-4854-b520-3fc11e40f3ab",
   "metadata": {},
   "outputs": [
    {
     "data": {
      "text/html": [
       "<div>\n",
       "<style scoped>\n",
       "    .dataframe tbody tr th:only-of-type {\n",
       "        vertical-align: middle;\n",
       "    }\n",
       "\n",
       "    .dataframe tbody tr th {\n",
       "        vertical-align: top;\n",
       "    }\n",
       "\n",
       "    .dataframe thead th {\n",
       "        text-align: right;\n",
       "    }\n",
       "</style>\n",
       "<table border=\"1\" class=\"dataframe\">\n",
       "  <thead>\n",
       "    <tr style=\"text-align: right;\">\n",
       "      <th></th>\n",
       "      <th></th>\n",
       "      <th></th>\n",
       "    </tr>\n",
       "    <tr>\n",
       "      <th></th>\n",
       "      <th></th>\n",
       "      <th></th>\n",
       "    </tr>\n",
       "  </thead>\n",
       "  <tbody>\n",
       "    <tr>\n",
       "      <th>Initiated</th>\n",
       "      <td>. . . . . . . . . . . . . . . . . .</td>\n",
       "      <td>10:28:34</td>\n",
       "    </tr>\n",
       "    <tr>\n",
       "      <th>Status</th>\n",
       "      <td>. . . . . . . . . . . . . . . . . .</td>\n",
       "      <td>Searching Hyperparameters</td>\n",
       "    </tr>\n",
       "    <tr>\n",
       "      <th>Estimator</th>\n",
       "      <td>. . . . . . . . . . . . . . . . . .</td>\n",
       "      <td>Light Gradient Boosting Machine</td>\n",
       "    </tr>\n",
       "  </tbody>\n",
       "</table>\n",
       "</div>"
      ],
      "text/plain": [
       "                                                \\\n",
       "                                                 \n",
       "Initiated  . . . . . . . . . . . . . . . . . .   \n",
       "Status     . . . . . . . . . . . . . . . . . .   \n",
       "Estimator  . . . . . . . . . . . . . . . . . .   \n",
       "\n",
       "                                            \n",
       "                                            \n",
       "Initiated                         10:28:34  \n",
       "Status           Searching Hyperparameters  \n",
       "Estimator  Light Gradient Boosting Machine  "
      ]
     },
     "metadata": {},
     "output_type": "display_data"
    },
    {
     "data": {
      "text/html": [],
      "text/plain": [
       "<IPython.core.display.HTML object>"
      ]
     },
     "metadata": {},
     "output_type": "display_data"
    },
    {
     "data": {
      "application/vnd.jupyter.widget-view+json": {
       "model_id": "6f6204ee8d974544a8ccea618ca02618",
       "version_major": 2,
       "version_minor": 0
      },
      "text/plain": [
       "Processing:   0%|          | 0/7 [00:00<?, ?it/s]"
      ]
     },
     "metadata": {},
     "output_type": "display_data"
    }
   ],
   "source": [
    "lightgbm_tuned_model, lightgbm_tuner = tune_model(lightgbm, search_library = 'optuna', return_tuner=True, n_iter=num_iterations_tuning, optimize=optimized_metric)"
   ]
  },
  {
   "cell_type": "code",
   "execution_count": null,
   "id": "c6de13ba-59cf-4048-8b12-75912f3fd0a6",
   "metadata": {},
   "outputs": [],
   "source": [
    "evaluate_model(lightgbm)"
   ]
  },
  {
   "cell_type": "code",
   "execution_count": null,
   "id": "31cadee3-f0e3-4f9d-89ba-517d8944a485",
   "metadata": {},
   "outputs": [],
   "source": [
    "lightgbm_top_features = get_feature_importance_df(lightgbm, features_df_training_normalized)\n",
    "lightgbm_top_features"
   ]
  },
  {
   "cell_type": "code",
   "execution_count": null,
   "id": "0ba6b509-625a-40ed-be97-3ff2178817cf",
   "metadata": {},
   "outputs": [],
   "source": [
    "predictions_lightgbm = predict_model(lightgbm, data = features_df_testing_normalized)"
   ]
  },
  {
   "cell_type": "code",
   "execution_count": null,
   "id": "34173f0e-3b07-47ec-9bc1-6a932d4a3f32",
   "metadata": {},
   "outputs": [],
   "source": [
    "predictions_lightgbm"
   ]
  },
  {
   "cell_type": "code",
   "execution_count": null,
   "id": "789da63d-eb26-4f36-9559-4f8dc35b2c6e",
   "metadata": {},
   "outputs": [],
   "source": [
    "get_incorrect_predictions(predictions_lightgbm)"
   ]
  },
  {
   "cell_type": "code",
   "execution_count": null,
   "id": "fc1c6b85-d9d7-4701-97ff-5630773cd328",
   "metadata": {
    "scrolled": true
   },
   "outputs": [],
   "source": [
    "plotPredictionHistograms(predictions_lightgbm, domain, normalization)"
   ]
  },
  {
   "cell_type": "markdown",
   "id": "f08d3df1-3151-4046-8abc-d66039145875",
   "metadata": {},
   "source": [
    "## Random Forest Classifier"
   ]
  },
  {
   "cell_type": "code",
   "execution_count": null,
   "id": "e6aa747c-a901-435f-b4ae-0e0cf24659a9",
   "metadata": {},
   "outputs": [],
   "source": [
    "rf = create_model('rf')"
   ]
  },
  {
   "cell_type": "code",
   "execution_count": null,
   "id": "7824407f-4b19-4413-aa1a-12494fe53e8c",
   "metadata": {},
   "outputs": [],
   "source": [
    "rf_tuned_model, rf_tuner = tune_model(rf, search_library = 'optuna', return_tuner=True, n_iter=num_iterations_tuning, optimize=optimized_metric)"
   ]
  },
  {
   "cell_type": "code",
   "execution_count": null,
   "id": "50123496-3039-4e57-9520-b92cc6865e85",
   "metadata": {},
   "outputs": [],
   "source": [
    "evaluate_model(rf)"
   ]
  },
  {
   "cell_type": "code",
   "execution_count": null,
   "id": "7a31be2f-b8c2-46e9-92bc-4ba605a72cc2",
   "metadata": {},
   "outputs": [],
   "source": [
    "rf_top_features = get_feature_importance_df(rf, features_df_training_normalized)\n",
    "rf_top_features"
   ]
  },
  {
   "cell_type": "code",
   "execution_count": null,
   "id": "b3e8fcdb-1e5a-4ef1-9c0f-538581f3f210",
   "metadata": {},
   "outputs": [],
   "source": [
    "predictions_rf = predict_model(rf, data = features_df_testing_normalized)"
   ]
  },
  {
   "cell_type": "code",
   "execution_count": null,
   "id": "fc2f4d83-272f-4b78-a3fa-f351cddf7020",
   "metadata": {},
   "outputs": [],
   "source": [
    "get_incorrect_predictions(predictions_rf)"
   ]
  },
  {
   "cell_type": "code",
   "execution_count": null,
   "id": "4f14fe8e-27de-410a-8a3e-e2529224f3c1",
   "metadata": {
    "scrolled": true
   },
   "outputs": [],
   "source": [
    "plotPredictionHistograms(predictions_rf, domain, normalization)"
   ]
  },
  {
   "cell_type": "markdown",
   "id": "ecdc359a-4de6-48f8-a573-41c6d084a7ca",
   "metadata": {},
   "source": [
    "## SVM"
   ]
  },
  {
   "cell_type": "code",
   "execution_count": null,
   "id": "811f8d9f-491d-4f38-9ce9-e06344b3ac41",
   "metadata": {},
   "outputs": [],
   "source": [
    "svm = create_model('svm')"
   ]
  },
  {
   "cell_type": "code",
   "execution_count": null,
   "id": "0fd446a9-4a12-4741-ba02-e0ca04b335d3",
   "metadata": {},
   "outputs": [],
   "source": [
    "svm_tuned_model, svm_tuner = tune_model(svm, search_library = 'optuna', return_tuner=True, n_iter=num_iterations_tuning, optimize=optimized_metric)"
   ]
  },
  {
   "cell_type": "code",
   "execution_count": null,
   "id": "459771ad-d31e-4e53-aedc-578b117a8958",
   "metadata": {},
   "outputs": [],
   "source": [
    "print(svm_tuned_model)"
   ]
  },
  {
   "cell_type": "code",
   "execution_count": null,
   "id": "2d6dd58a-03ef-438f-9194-e28dc7e12d6c",
   "metadata": {},
   "outputs": [],
   "source": [
    "evaluate_model(svm)"
   ]
  },
  {
   "cell_type": "code",
   "execution_count": null,
   "id": "c9ad3a02-579f-47c2-97b0-1dd8a2079bd9",
   "metadata": {},
   "outputs": [],
   "source": [
    "svm_top_features = get_svm_feature_importance_df(svm, features_df_training_normalized)\n",
    "svm_top_features"
   ]
  },
  {
   "cell_type": "code",
   "execution_count": null,
   "id": "049dda80-ba01-474f-b66d-250dcb0e8d63",
   "metadata": {},
   "outputs": [],
   "source": [
    "predictions_svm = predict_model(svm, data=features_df_testing_normalized)"
   ]
  },
  {
   "cell_type": "code",
   "execution_count": null,
   "id": "8d4e08c3-a8c6-4423-a289-1be18b4402e6",
   "metadata": {},
   "outputs": [],
   "source": [
    "get_incorrect_predictions(predictions_svm)"
   ]
  },
  {
   "cell_type": "code",
   "execution_count": null,
   "id": "9b4f976e-c841-4383-ab4d-8fb6e602bd94",
   "metadata": {
    "scrolled": true
   },
   "outputs": [],
   "source": [
    "plotPredictionHistograms(predictions_svm, domain, normalization)"
   ]
  },
  {
   "cell_type": "markdown",
   "id": "378342ee-8ffa-4f37-9937-a2051463887a",
   "metadata": {},
   "source": [
    "# Experiment Setup (DL)"
   ]
  },
  {
   "cell_type": "markdown",
   "id": "4c085121-3acd-4d2e-9fb4-5c19183fe186",
   "metadata": {},
   "source": [
    "## Configure Data"
   ]
  },
  {
   "cell_type": "code",
   "execution_count": null,
   "id": "fee3568a-b1fa-4505-bd7f-88819ba246fb",
   "metadata": {},
   "outputs": [],
   "source": [
    "train, test = train_test_split(features_df_training_normalized, test_size=0.2, random_state=42)\n",
    "train, val = train_test_split(train, test_size=0.2, random_state=42)\n",
    "print(f\"Train Shape: {train.shape} | Val Shape: {val.shape} | Test Shape: {test.shape}\")"
   ]
  },
  {
   "cell_type": "code",
   "execution_count": null,
   "id": "41773c3d-7a5e-43b7-8682-2aea065f0bb0",
   "metadata": {},
   "outputs": [],
   "source": [
    "target = \"Label\"\n",
    "\n",
    "categorical_cols = [\n",
    "    col\n",
    "    for col in features_df_training_normalized.select_dtypes(include=[\"object\",\"category\"]).columns\n",
    "    if col != target\n",
    "]\n",
    "\n",
    "continuous_cols = features_df_training_normalized.select_dtypes(include=[\"number\"]).columns.tolist()"
   ]
  },
  {
   "cell_type": "code",
   "execution_count": null,
   "id": "a28e6e44-1bea-4842-8482-9708cc2c1367",
   "metadata": {},
   "outputs": [],
   "source": [
    "print(\"Target:\", target)\n",
    "print(\"Categorical inputs:\", categorical_cols)  \n",
    "print(\"Continuous inputs:\", continuous_cols)    "
   ]
  },
  {
   "cell_type": "code",
   "execution_count": null,
   "id": "7f339072-98d8-491e-a93c-cdcce0517bd0",
   "metadata": {},
   "outputs": [],
   "source": [
    "data_config = DataConfig(\n",
    "    target=[target],\n",
    "    continuous_cols=continuous_cols,\n",
    "    categorical_cols=categorical_cols,\n",
    ")"
   ]
  },
  {
   "cell_type": "code",
   "execution_count": null,
   "id": "1c70fc27-0191-47e7-b183-e78605871c8e",
   "metadata": {},
   "outputs": [],
   "source": [
    "available_gpu=1 if torch.cuda.is_available() else 0\n",
    "print(f\"Available GPU: {'Yes' if available_gpu else 'No'}\")"
   ]
  },
  {
   "cell_type": "code",
   "execution_count": null,
   "id": "19a562ad-72cd-4216-8f77-36c195d0f974",
   "metadata": {},
   "outputs": [],
   "source": [
    "trainer_config = TrainerConfig(\n",
    "    auto_lr_find=True,\n",
    "    max_epochs=20,\n",
    "    accelerator='gpu' if torch.cuda.is_available() else 'cpu',\n",
    "    batch_size=256,\n",
    ")\n",
    "\n",
    "optimizer_config = OptimizerConfig()\n",
    "\n",
    "experiment_config = ExperimentConfig(\n",
    "        project_name=\"TEST\",\n",
    "        run_name=\"test\",\n",
    "        log_target=\"tensorboard\",\n",
    "    )"
   ]
  },
  {
   "cell_type": "code",
   "execution_count": null,
   "id": "c24af441-0171-4f3f-a221-95eedb193867",
   "metadata": {},
   "outputs": [],
   "source": [
    "n_trials = 20"
   ]
  },
  {
   "cell_type": "markdown",
   "id": "6feeb2f9-8fcd-45c6-99f4-566f19f8f14e",
   "metadata": {},
   "source": [
    "## Tabnet"
   ]
  },
  {
   "cell_type": "code",
   "execution_count": null,
   "id": "c76181c3-dfb9-4f2f-ae38-efd79cc13346",
   "metadata": {},
   "outputs": [],
   "source": [
    "def TabNet_Optimization(trial):\n",
    "    n_d     = trial.suggest_int(\"n_d\", 4, 64)\n",
    "    n_a     = trial.suggest_int(\"n_a\", 4, 64)\n",
    "    n_steps = trial.suggest_int(\"n_steps\", 3, 10)\n",
    "    gamma   = trial.suggest_float(\"gamma\", 1.0, 2.0)\n",
    "    embedding_dropout = trial.suggest_float(\"embedding_dropout\", 0, 1)\n",
    "    lr      = trial.suggest_loguniform(\"learning_rate\", 1e-5, 1e-1)\n",
    "    \n",
    "    tabnet_config = TabNetModelConfig(\n",
    "        task=\"classification\",\n",
    "        n_d=n_d,\n",
    "        n_a=n_a,\n",
    "        n_steps=n_steps,\n",
    "        gamma=gamma,\n",
    "        embedding_dropout=embedding_dropout,\n",
    "        learning_rate=lr,\n",
    "        n_independent=2,\n",
    "        metrics=[\n",
    "            \"auroc\",\n",
    "            \"recall\",\n",
    "            \"precision\",\n",
    "            \"f1_score\",\n",
    "            \"cohen_kappa\",\n",
    "            \"matthews_corrcoef\",\n",
    "            \"hamming_distance\",\n",
    "            \"jaccard_index\",\n",
    "        ],\n",
    "        metrics_prob_input=[\n",
    "            True,   # auroc\n",
    "            False,  # recall\n",
    "            False,  # precision\n",
    "            False,  # f1_score\n",
    "            False,  # cohen_kappa\n",
    "            False,  # matthews_corrcoef\n",
    "            False,  # hamming_distance\n",
    "            False,  # jaccard_index\n",
    "        ],\n",
    "        metrics_params=[\n",
    "            {\"average\": \"macro\", \"num_classes\": 2},  # auroc\n",
    "            {\"average\": \"macro\", \"num_classes\": 2},  # recall\n",
    "            {\"average\": \"macro\", \"num_classes\": 2},  # precision\n",
    "            {\"average\": \"macro\", \"num_classes\": 2},  # f1_score\n",
    "            {\"num_classes\": 2},                      # cohen_kappa\n",
    "            {},                                      # matthews_corrcoef\n",
    "            {},                                      # hamming_distance\n",
    "            {\"average\": \"macro\", \"num_classes\": 2},  # jaccard_index\n",
    "        ]\n",
    "    )\n",
    "    \n",
    "    tabnet_model = TabularModel(\n",
    "        data_config=data_config,\n",
    "        model_config=tabnet_config,\n",
    "        optimizer_config=optimizer_config,\n",
    "        trainer_config=trainer_config,\n",
    "        verbose=True\n",
    "    )\n",
    "    \n",
    "    tabnet_model.fit(train=train, validation=val)\n",
    "\n",
    "    preds_df = tabnet_model.predict(val)\n",
    "    y_pred = preds_df[\"Label_prediction\"].to_numpy()\n",
    "    y_true = val[\"Label\"].to_numpy()\n",
    "    return f1_score(y_true, y_pred, average=\"macro\")"
   ]
  },
  {
   "cell_type": "code",
   "execution_count": null,
   "id": "97f728e4-7cc5-4933-adfd-776aba50e437",
   "metadata": {
    "scrolled": true
   },
   "outputs": [],
   "source": [
    "tabnet_study = optuna.create_study(direction=\"maximize\")\n",
    "tabnet_study.optimize(TabNet_Optimization, n_trials=n_trials)"
   ]
  },
  {
   "cell_type": "code",
   "execution_count": null,
   "id": "b979953b-bebb-4b1f-90c2-ff9d4ed7d590",
   "metadata": {},
   "outputs": [],
   "source": [
    "print(\"Best params:\", tabnet_study.best_params)\n",
    "print(\"Best F1 score:\", tabnet_study.best_value)"
   ]
  },
  {
   "cell_type": "markdown",
   "id": "1f0a4748-8644-48c4-9cd9-0d63bc5cde54",
   "metadata": {},
   "source": [
    "## GANDALF"
   ]
  },
  {
   "cell_type": "code",
   "execution_count": null,
   "id": "26bfc5a2-13df-4eea-bf2c-d2a22cce451a",
   "metadata": {},
   "outputs": [],
   "source": [
    "def GANDALF_Optimization(trial):\n",
    "    gflu_stages               = trial.suggest_int(\"gflu_stages\", 1, 10)\n",
    "    gflu_dropout              = trial.suggest_float(\"gflu_dropout\", 0.0, 0.5)\n",
    "    gflu_feature_init_sparsity = trial.suggest_float(\"gflu_feature_init_sparsity\", 0.1, 0.9)\n",
    "    learnable_sparsity        = trial.suggest_categorical(\"learnable_sparsity\", [True, False])\n",
    "    embedding_dropout         = trial.suggest_float(\"embedding_dropout\", 0.0, 0.5)\n",
    "    batch_norm_continuous     = trial.suggest_categorical(\"batch_norm_continuous_input\", [True, False])\n",
    "    learning_rate             = trial.suggest_loguniform(\"learning_rate\", 1e-5, 1e-2)\n",
    "\n",
    "    # 2) build Gandalf config\n",
    "    gandalf_config = GANDALFConfig(\n",
    "        task=\"classification\",\n",
    "        gflu_stages=gflu_stages,\n",
    "        gflu_dropout=gflu_dropout,\n",
    "        gflu_feature_init_sparsity=gflu_feature_init_sparsity,\n",
    "        learnable_sparsity=learnable_sparsity,\n",
    "        embedding_dropout=embedding_dropout,\n",
    "        batch_norm_continuous_input=batch_norm_continuous,\n",
    "        learning_rate=learning_rate,\n",
    "        metrics=[\n",
    "            \"auroc\",\n",
    "            \"recall\",\n",
    "            \"precision\",\n",
    "            \"f1_score\",\n",
    "            \"cohen_kappa\",\n",
    "            \"matthews_corrcoef\",\n",
    "            \"hamming_distance\",\n",
    "            \"jaccard_index\",\n",
    "        ],\n",
    "        metrics_prob_input=[\n",
    "            True,   # auroc\n",
    "            False,  # recall\n",
    "            False,  # precision\n",
    "            False,  # f1_score\n",
    "            False,  # cohen_kappa\n",
    "            False,  # matthews_corrcoef\n",
    "            False,  # hamming_distance\n",
    "            False,  # jaccard_index\n",
    "        ],\n",
    "        metrics_params=[\n",
    "            {\"average\": \"macro\", \"num_classes\": 2},  # auroc\n",
    "            {\"average\": \"macro\", \"num_classes\": 2},  # recall\n",
    "            {\"average\": \"macro\", \"num_classes\": 2},  # precision\n",
    "            {\"average\": \"macro\", \"num_classes\": 2},  # f1_score\n",
    "            {\"num_classes\": 2},                      # cohen_kappa\n",
    "            {},                                      # matthews_corrcoef\n",
    "            {},                                      # hamming_distance\n",
    "            {\"average\": \"macro\", \"num_classes\": 2},  # jaccard_index\n",
    "        ]\n",
    "    )\n",
    "\n",
    "    # 3) instantiate & train\n",
    "    model = TabularModel(\n",
    "        data_config=data_config,\n",
    "        model_config=gandalf_config,\n",
    "        optimizer_config=optimizer_config,\n",
    "        trainer_config=trainer_config,\n",
    "        verbose=True\n",
    "    )\n",
    "    model.fit(train=train, validation=val)\n",
    "\n",
    "    # 4) predict & return macro-F1\n",
    "    preds = model.predict(val)\n",
    "    y_pred = preds[\"Label_prediction\"].to_numpy()\n",
    "    y_true = val[\"Label\"].to_numpy()\n",
    "    return f1_score(y_true, y_pred, average=\"macro\")"
   ]
  },
  {
   "cell_type": "code",
   "execution_count": null,
   "id": "8f7e9818-c3ab-4d02-90d7-8d845fb10055",
   "metadata": {
    "scrolled": true
   },
   "outputs": [],
   "source": [
    "gandalf_study = optuna.create_study(direction=\"maximize\")\n",
    "gandalf_study.optimize(GANDALF_Optimization, n_trials=n_trials)"
   ]
  },
  {
   "cell_type": "code",
   "execution_count": null,
   "id": "b78d45bc-c0e6-47bc-bb27-43fa402152d7",
   "metadata": {},
   "outputs": [],
   "source": [
    "print(\"Best params:\", gandalf_study.best_params)\n",
    "print(\"Best F1 score:\", gandalf_study.best_value)"
   ]
  },
  {
   "cell_type": "markdown",
   "id": "cff5a704-d99e-45d6-8a2a-1ba9b606363c",
   "metadata": {},
   "source": [
    "## FTTransformerModel"
   ]
  },
  {
   "cell_type": "code",
   "execution_count": null,
   "id": "6e4a6412-d127-4021-a23d-48ec0fe46d7a",
   "metadata": {},
   "outputs": [],
   "source": [
    "def FTTransformerModel_Optimization(trial):\n",
    "    input_embed_dim           = trial.suggest_int(\"input_embed_dim\", 32, 128, step=32)\n",
    "    embedding_initialization  = trial.suggest_categorical(\"embedding_initialization\", [\"kaiming_uniform\",\"kaiming_normal\"])\n",
    "    embedding_bias            = trial.suggest_categorical(\"embedding_bias\", [True, False])\n",
    "    share_embedding           = trial.suggest_categorical(\"share_embedding\", [True, False])\n",
    "    share_embedding_strategy  = trial.suggest_categorical(\"share_embedding_strategy\", [\"add\",\"fraction\"])\n",
    "    shared_embedding_fraction = trial.suggest_float(\"shared_embedding_fraction\", 0.1, 0.5)\n",
    "    attn_feature_importance   = trial.suggest_categorical(\"attn_feature_importance\", [True, False])\n",
    "    num_heads                 = num_heads = trial.suggest_categorical(\"num_heads\", [2,4,8,16])\n",
    "    num_attn_blocks           = trial.suggest_int(\"num_attn_blocks\", 1, 6)\n",
    "    transformer_head_dim      = trial.suggest_int(\"transformer_head_dim\", 32, 256, step=32)\n",
    "    attn_dropout              = trial.suggest_float(\"attn_dropout\", 0.0, 0.5)\n",
    "    add_norm_dropout          = trial.suggest_float(\"add_norm_dropout\", 0.0, 0.5)\n",
    "    ff_dropout                = trial.suggest_float(\"ff_dropout\", 0.0, 0.5)\n",
    "    ff_hidden_multiplier      = trial.suggest_int(\"ff_hidden_multiplier\", 1, 8)\n",
    "    transformer_activation    = trial.suggest_categorical(\n",
    "        \"transformer_activation\",\n",
    "        [\"ReLU\",\"LeakyReLU\",\"GEGLU\",\"ReGLU\",\"SwiGLU\"]\n",
    "    )\n",
    "    embedding_dropout         = trial.suggest_float(\"embedding_dropout\", 0.0, 0.5)\n",
    "    batch_norm_continuous     = trial.suggest_categorical(\"batch_norm_continuous_input\", [True, False])\n",
    "    learning_rate             = trial.suggest_loguniform(\"learning_rate\", 1e-5, 1e-2)\n",
    "\n",
    "    # — build FT-Transformer config —\n",
    "    ft_config = FTTransformerConfig(\n",
    "        task=\"classification\",\n",
    "        input_embed_dim=input_embed_dim,\n",
    "        embedding_initialization=embedding_initialization,\n",
    "        embedding_bias=embedding_bias,\n",
    "        share_embedding=share_embedding,\n",
    "        share_embedding_strategy=share_embedding_strategy,\n",
    "        shared_embedding_fraction=shared_embedding_fraction,\n",
    "        attn_feature_importance=attn_feature_importance,\n",
    "        num_heads=num_heads,\n",
    "        num_attn_blocks=num_attn_blocks,\n",
    "        transformer_head_dim=transformer_head_dim,\n",
    "        attn_dropout=attn_dropout,\n",
    "        add_norm_dropout=add_norm_dropout,\n",
    "        ff_dropout=ff_dropout,\n",
    "        ff_hidden_multiplier=ff_hidden_multiplier,\n",
    "        transformer_activation=transformer_activation,\n",
    "        embedding_dropout=embedding_dropout,\n",
    "        batch_norm_continuous_input=batch_norm_continuous,\n",
    "        learning_rate=learning_rate,\n",
    "        metrics=[\n",
    "            \"auroc\",\n",
    "            \"recall\",\n",
    "            \"precision\",\n",
    "            \"f1_score\",\n",
    "            \"cohen_kappa\",\n",
    "            \"matthews_corrcoef\",\n",
    "            \"hamming_distance\",\n",
    "            \"jaccard_index\",\n",
    "        ],\n",
    "        metrics_prob_input=[\n",
    "            True,   # auroc\n",
    "            False,  # recall\n",
    "            False,  # precision\n",
    "            False,  # f1_score\n",
    "            False,  # cohen_kappa\n",
    "            False,  # matthews_corrcoef\n",
    "            False,  # hamming_distance\n",
    "            False,  # jaccard_index\n",
    "        ],\n",
    "        metrics_params=[\n",
    "            {\"average\": \"macro\", \"num_classes\": 2},  # auroc\n",
    "            {\"average\": \"macro\", \"num_classes\": 2},  # recall\n",
    "            {\"average\": \"macro\", \"num_classes\": 2},  # precision\n",
    "            {\"average\": \"macro\", \"num_classes\": 2},  # f1_score\n",
    "            {\"num_classes\": 2},                      # cohen_kappa\n",
    "            {},                                      # matthews_corrcoef\n",
    "            {},                                      # hamming_distance\n",
    "            {\"average\": \"macro\", \"num_classes\": 2},  # jaccard_index\n",
    "        ],\n",
    "    )\n",
    "\n",
    "    model = TabularModel(\n",
    "        data_config=data_config,\n",
    "        model_config=ft_config,\n",
    "        optimizer_config=optimizer_config,\n",
    "        trainer_config=trainer_config,\n",
    "        verbose=True,\n",
    "    )\n",
    "    model.fit(train=train, validation=val)\n",
    "\n",
    "    # 4) predict & return macro-F1\n",
    "    preds = model.predict(val)\n",
    "    y_pred = preds[\"Label_prediction\"].to_numpy()\n",
    "    y_true = val[\"Label\"].to_numpy()\n",
    "    return f1_score(y_true, y_pred, average=\"macro\")"
   ]
  },
  {
   "cell_type": "code",
   "execution_count": null,
   "id": "0cfbb0b4-9344-47f7-a428-93ec5619b8d2",
   "metadata": {
    "scrolled": true
   },
   "outputs": [],
   "source": [
    "fft_study = optuna.create_study(direction=\"maximize\")\n",
    "fft_study.optimize(FTTransformerModel_Optimization, n_trials=n_trials)"
   ]
  },
  {
   "cell_type": "code",
   "execution_count": null,
   "id": "3c98a15a-3afe-401b-a1b4-b9c17c9bd9fd",
   "metadata": {},
   "outputs": [],
   "source": [
    "print(\"Best params:\", fft_study.best_params)\n",
    "print(\"Best F1 score:\", fft_study.best_value)"
   ]
  }
 ],
 "metadata": {
  "kernelspec": {
   "display_name": "Python 3 (ipykernel)",
   "language": "python",
   "name": "python3"
  },
  "language_info": {
   "codemirror_mode": {
    "name": "ipython",
    "version": 3
   },
   "file_extension": ".py",
   "mimetype": "text/x-python",
   "name": "python",
   "nbconvert_exporter": "python",
   "pygments_lexer": "ipython3",
   "version": "3.11.13"
  }
 },
 "nbformat": 4,
 "nbformat_minor": 5
}
